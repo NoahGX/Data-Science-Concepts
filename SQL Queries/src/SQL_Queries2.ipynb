{
  "cells": [
    {
      "cell_type": "markdown",
      "metadata": {},
      "source": [
        "# **Querying Data with SQLite (Pt. 2)**\n",
        "\n",
        "In this Jupyer Notebook, we demonstrate how to query an SQLite database using SQLAlchemy, process the results in Pandas, and visualize the data. We will query data from the `Dish` table, perform data grouping and aggregation, visualize the aggregated data using a bar plot, use Pandas to perform similar operations on the queried data, and query additional data from a `Scene` table.\n",
        "\n",
        "***\n",
        "\n",
        "## **1. Setup**\n",
        "\n",
        "### **1.1 ~ Import Libraries**"
      ]
    },
    {
      "cell_type": "code",
      "execution_count": 1,
      "metadata": {},
      "outputs": [],
      "source": [
        "# Import necessary libraries\n",
        "import pandas as pd\n",
        "import sqlalchemy as db\n",
        "import matplotlib.pyplot as plt"
      ]
    },
    {
      "cell_type": "markdown",
      "metadata": {},
      "source": [
        "### **1.2 ~ Connect to the SQLite database**"
      ]
    },
    {
      "cell_type": "code",
      "execution_count": 2,
      "metadata": {},
      "outputs": [],
      "source": [
        "# Create connection to the SQLite database\n",
        "engine = db.create_engine('sqlite:///../data/SQL_basic_examples.db')\n",
        "conn = engine.connect()"
      ]
    },
    {
      "cell_type": "markdown",
      "metadata": {},
      "source": [
        "***\n",
        "\n",
        "## **2. Querying Data from the 'Dish' Table**\n",
        "\n",
        "### **2.1 ~ Selecting All Rows from the 'Dish' Table**"
      ]
    },
    {
      "cell_type": "code",
      "execution_count": 3,
      "metadata": {},
      "outputs": [
        {
          "data": {
            "text/html": [
              "<div>\n",
              "<style scoped>\n",
              "    .dataframe tbody tr th:only-of-type {\n",
              "        vertical-align: middle;\n",
              "    }\n",
              "\n",
              "    .dataframe tbody tr th {\n",
              "        vertical-align: top;\n",
              "    }\n",
              "\n",
              "    .dataframe thead th {\n",
              "        text-align: right;\n",
              "    }\n",
              "</style>\n",
              "<table border=\"1\" class=\"dataframe\">\n",
              "  <thead>\n",
              "    <tr style=\"text-align: right;\">\n",
              "      <th></th>\n",
              "      <th>name</th>\n",
              "      <th>type</th>\n",
              "      <th>cost</th>\n",
              "    </tr>\n",
              "  </thead>\n",
              "  <tbody>\n",
              "    <tr>\n",
              "      <th>0</th>\n",
              "      <td>ravioli</td>\n",
              "      <td>entree</td>\n",
              "      <td>10</td>\n",
              "    </tr>\n",
              "    <tr>\n",
              "      <th>1</th>\n",
              "      <td>pork bun</td>\n",
              "      <td>entree</td>\n",
              "      <td>7</td>\n",
              "    </tr>\n",
              "    <tr>\n",
              "      <th>2</th>\n",
              "      <td>taco</td>\n",
              "      <td>entree</td>\n",
              "      <td>7</td>\n",
              "    </tr>\n",
              "    <tr>\n",
              "      <th>3</th>\n",
              "      <td>edamame</td>\n",
              "      <td>appetizer</td>\n",
              "      <td>4</td>\n",
              "    </tr>\n",
              "    <tr>\n",
              "      <th>4</th>\n",
              "      <td>fries</td>\n",
              "      <td>appetizer</td>\n",
              "      <td>4</td>\n",
              "    </tr>\n",
              "    <tr>\n",
              "      <th>5</th>\n",
              "      <td>potsticker</td>\n",
              "      <td>appetizer</td>\n",
              "      <td>4</td>\n",
              "    </tr>\n",
              "    <tr>\n",
              "      <th>6</th>\n",
              "      <td>ice cream</td>\n",
              "      <td>dessert</td>\n",
              "      <td>5</td>\n",
              "    </tr>\n",
              "  </tbody>\n",
              "</table>\n",
              "</div>"
            ],
            "text/plain": [
              "         name       type  cost\n",
              "0     ravioli     entree    10\n",
              "1    pork bun     entree     7\n",
              "2        taco     entree     7\n",
              "3     edamame  appetizer     4\n",
              "4       fries  appetizer     4\n",
              "5  potsticker  appetizer     4\n",
              "6   ice cream    dessert     5"
            ]
          },
          "metadata": {},
          "output_type": "display_data"
        }
      ],
      "source": [
        "# Querying all rows from 'Dish' table and storing result in DataFrame\n",
        "query = \"\"\"\n",
        "SELECT *\n",
        "FROM Dish;\n",
        "\"\"\"\n",
        "\n",
        "df = pd.read_sql(query, conn)\n",
        "display(df)"
      ]
    },
    {
      "cell_type": "markdown",
      "metadata": {},
      "source": [
        "***\n",
        "\n",
        "## **3. Grouping Data by Dish Type**\n",
        "\n",
        "### **3.1 ~ Querying the Maximum Cost per Dish Type**"
      ]
    },
    {
      "cell_type": "code",
      "execution_count": 4,
      "metadata": {},
      "outputs": [
        {
          "data": {
            "text/html": [
              "<div>\n",
              "<style scoped>\n",
              "    .dataframe tbody tr th:only-of-type {\n",
              "        vertical-align: middle;\n",
              "    }\n",
              "\n",
              "    .dataframe tbody tr th {\n",
              "        vertical-align: top;\n",
              "    }\n",
              "\n",
              "    .dataframe thead th {\n",
              "        text-align: right;\n",
              "    }\n",
              "</style>\n",
              "<table border=\"1\" class=\"dataframe\">\n",
              "  <thead>\n",
              "    <tr style=\"text-align: right;\">\n",
              "      <th></th>\n",
              "      <th>type</th>\n",
              "      <th>max_cost</th>\n",
              "    </tr>\n",
              "  </thead>\n",
              "  <tbody>\n",
              "    <tr>\n",
              "      <th>0</th>\n",
              "      <td>appetizer</td>\n",
              "      <td>4</td>\n",
              "    </tr>\n",
              "    <tr>\n",
              "      <th>1</th>\n",
              "      <td>dessert</td>\n",
              "      <td>5</td>\n",
              "    </tr>\n",
              "    <tr>\n",
              "      <th>2</th>\n",
              "      <td>entree</td>\n",
              "      <td>10</td>\n",
              "    </tr>\n",
              "  </tbody>\n",
              "</table>\n",
              "</div>"
            ],
            "text/plain": [
              "        type  max_cost\n",
              "0  appetizer         4\n",
              "1    dessert         5\n",
              "2     entree        10"
            ]
          },
          "metadata": {},
          "output_type": "display_data"
        }
      ],
      "source": [
        "# Querying max cost per dish type and storing it in new DataFrame\n",
        "query = \"\"\"\n",
        "SELECT type, MAX(cost) AS max_cost\n",
        "FROM Dish\n",
        "GROUP BY type;\n",
        "\"\"\"\n",
        "\n",
        "grouped = pd.read_sql(query, conn)\n",
        "display(grouped)"
      ]
    },
    {
      "cell_type": "markdown",
      "metadata": {},
      "source": [
        "***\n",
        "\n",
        "## **4. Visualizing the Aggregated Data**\n",
        "\n",
        "### **4.1 ~ Bar Plot of Maximum Cost by Dish Type**"
      ]
    },
    {
      "cell_type": "code",
      "execution_count": 5,
      "metadata": {},
      "outputs": [
        {
          "data": {
            "image/png": "[encoded data removed]",
            "text/plain": [
              "<Figure size 640x480 with 1 Axes>"
            ]
          },
          "metadata": {},
          "output_type": "display_data"
        }
      ],
      "source": [
        "# Visualizing the maximum cost by dish type using bar plot\n",
        "grouped.set_index('type', inplace=True)\n",
        "grouped.plot(kind=\"bar\", legend=False, title=\"Maximum Cost by Dish Type\")\n",
        "plt.ylabel(\"Max Cost\")\n",
        "plt.xlabel(\"Dish Type\")\n",
        "plt.xticks(rotation=45)\n",
        "plt.show()"
      ]
    },
    {
      "cell_type": "markdown",
      "metadata": {},
      "source": [
        "***\n",
        "\n",
        "## **5. Using Pandas for Grouping and Aggregation**\n",
        "\n",
        "### **5.1 ~ Performing the Group By Operation with Pandas**"
      ]
    },
    {
      "cell_type": "code",
      "execution_count": 6,
      "metadata": {},
      "outputs": [
        {
          "data": {
            "text/plain": [
              "type\n",
              "appetizer     4\n",
              "dessert       5\n",
              "entree       10\n",
              "Name: cost, dtype: int64"
            ]
          },
          "metadata": {},
          "output_type": "display_data"
        }
      ],
      "source": [
        "# Performing the same grouping and aggregation using pandas\n",
        "query = \"\"\"\n",
        "SELECT *\n",
        "FROM Dish;\n",
        "\"\"\"\n",
        "\n",
        "pandas_grouped = df.groupby(\"type\")[\"cost\"].agg(\"max\")\n",
        "display(pandas_grouped)"
      ]
    },
    {
      "cell_type": "markdown",
      "metadata": {},
      "source": [
        "***\n",
        "\n",
        "## **6. Querying the 'Scene' Table**\n",
        "\n",
        "### **6.1 ~ Selecting All Rows from the 'Scene' Table**"
      ]
    },
    {
      "cell_type": "code",
      "execution_count": 7,
      "metadata": {},
      "outputs": [
        {
          "data": {
            "text/html": [
              "<div>\n",
              "<style scoped>\n",
              "    .dataframe tbody tr th:only-of-type {\n",
              "        vertical-align: middle;\n",
              "    }\n",
              "\n",
              "    .dataframe tbody tr th {\n",
              "        vertical-align: top;\n",
              "    }\n",
              "\n",
              "    .dataframe thead th {\n",
              "        text-align: right;\n",
              "    }\n",
              "</style>\n",
              "<table border=\"1\" class=\"dataframe\">\n",
              "  <thead>\n",
              "    <tr style=\"text-align: right;\">\n",
              "      <th></th>\n",
              "      <th>id</th>\n",
              "      <th>biome</th>\n",
              "      <th>city</th>\n",
              "      <th>visitors</th>\n",
              "      <th>created_at</th>\n",
              "    </tr>\n",
              "  </thead>\n",
              "  <tbody>\n",
              "    <tr>\n",
              "      <th>0</th>\n",
              "      <td>1</td>\n",
              "      <td>desert</td>\n",
              "      <td>Las Vegas</td>\n",
              "      <td>100</td>\n",
              "      <td>2021-01-01</td>\n",
              "    </tr>\n",
              "    <tr>\n",
              "      <th>1</th>\n",
              "      <td>2</td>\n",
              "      <td>ocean</td>\n",
              "      <td>Hawaii</td>\n",
              "      <td>1000</td>\n",
              "      <td>2021-01-02</td>\n",
              "    </tr>\n",
              "    <tr>\n",
              "      <th>2</th>\n",
              "      <td>3</td>\n",
              "      <td>river</td>\n",
              "      <td>Paris</td>\n",
              "      <td>50</td>\n",
              "      <td>2021-01-05</td>\n",
              "    </tr>\n",
              "    <tr>\n",
              "      <th>3</th>\n",
              "      <td>4</td>\n",
              "      <td>hotel</td>\n",
              "      <td>Iceland</td>\n",
              "      <td>1</td>\n",
              "      <td>2021-01-07</td>\n",
              "    </tr>\n",
              "    <tr>\n",
              "      <th>4</th>\n",
              "      <td>5</td>\n",
              "      <td>desert</td>\n",
              "      <td>Austin</td>\n",
              "      <td>25</td>\n",
              "      <td>2021-01-12</td>\n",
              "    </tr>\n",
              "    <tr>\n",
              "      <th>5</th>\n",
              "      <td>6</td>\n",
              "      <td>hotel</td>\n",
              "      <td>Las Vegas</td>\n",
              "      <td>240</td>\n",
              "      <td>2021-01-15</td>\n",
              "    </tr>\n",
              "    <tr>\n",
              "      <th>6</th>\n",
              "      <td>7</td>\n",
              "      <td>hotel</td>\n",
              "      <td>Paris</td>\n",
              "      <td>100</td>\n",
              "      <td>2021-01-15</td>\n",
              "    </tr>\n",
              "  </tbody>\n",
              "</table>\n",
              "</div>"
            ],
            "text/plain": [
              "   id   biome       city  visitors  created_at\n",
              "0   1  desert  Las Vegas       100  2021-01-01\n",
              "1   2   ocean     Hawaii      1000  2021-01-02\n",
              "2   3   river      Paris        50  2021-01-05\n",
              "3   4   hotel    Iceland         1  2021-01-07\n",
              "4   5  desert     Austin        25  2021-01-12\n",
              "5   6   hotel  Las Vegas       240  2021-01-15\n",
              "6   7   hotel      Paris       100  2021-01-15"
            ]
          },
          "metadata": {},
          "output_type": "display_data"
        }
      ],
      "source": [
        "# Querying all rows from 'Scene' table and storing result in DataFrame\n",
        "query = \"\"\"\n",
        "SELECT *\n",
        "FROM Scene;\n",
        "\"\"\"\n",
        "\n",
        "df = pd.read_sql(query, conn)\n",
        "display(df)"
      ]
    }
  ],
  "metadata": {
    "colab": {
      "provenance": []
    },
    "kernelspec": {
      "display_name": "Python 3",
      "name": "python3"
    },
    "language_info": {
      "codemirror_mode": {
        "name": "ipython",
        "version": 3
      },
      "file_extension": ".py",
      "mimetype": "text/x-python",
      "name": "python",
      "nbconvert_exporter": "python",
      "pygments_lexer": "ipython3",
      "version": "3.12.2"
    }
  },
  "nbformat": 4,
  "nbformat_minor": 0
}
