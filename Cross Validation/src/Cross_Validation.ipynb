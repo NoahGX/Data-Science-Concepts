{
 "cells": [
  {
   "cell_type": "markdown",
   "metadata": {},
   "source": [
    "# **Cross-Validation**\n",
    "\n",
    "In this Jupyter Notebook, we explore the fundamental concepts of splitting data into training and testing sets and applying cross-validation to evaluate model performance. We will use the `seaborn mpg` dataset to build a Linear Regression model that predicts a car's fuel mileage based on its characteristics. Throughout the notebook, we will demonstrate both manual and Scikit-learn methods for data splitting, model building, and evaluation. Additionally, we will introduce Scikit-learn's `Pipeline` for streamlined workflow management and discuss best practices to avoid common pitfalls like data leakage.\n",
    "\n",
    "***\n",
    "\n",
    "## **1. Import Libraries**\n",
    "\n",
    "First, we import the necessary libraries for data manipulation, visualization, and modeling."
   ]
  },
  {
   "cell_type": "code",
   "execution_count": 1,
   "metadata": {},
   "outputs": [
    {
     "data": {
      "text/html": [
       "        <script type=\"text/javascript\">\n",
       "        window.PlotlyConfig = {MathJaxConfig: 'local'};\n",
       "        if (window.MathJax && window.MathJax.Hub && window.MathJax.Hub.Config) {window.MathJax.Hub.Config({SVG: {font: \"STIX-Web\"}});}\n",
       "        if (typeof require !== 'undefined') {\n",
       "        require.undef(\"plotly\");\n",
       "        requirejs.config({\n",
       "            paths: {\n",
       "                'plotly': ['https://cdn.plot.ly/plotly-2.32.0.min']\n",
       "            }\n",
       "        });\n",
       "        require(['plotly'], function(Plotly) {\n",
       "            window._Plotly = Plotly;\n",
       "        });\n",
       "        }\n",
       "        </script>\n",
       "        "
      ]
     },
     "metadata": {},
     "output_type": "display_data"
    },
    {
     "data": {
      "text/html": [
       "        <script type=\"text/javascript\">\n",
       "        window.PlotlyConfig = {MathJaxConfig: 'local'};\n",
       "        if (window.MathJax && window.MathJax.Hub && window.MathJax.Hub.Config) {window.MathJax.Hub.Config({SVG: {font: \"STIX-Web\"}});}\n",
       "        if (typeof require !== 'undefined') {\n",
       "        require.undef(\"plotly\");\n",
       "        requirejs.config({\n",
       "            paths: {\n",
       "                'plotly': ['https://cdn.plot.ly/plotly-2.32.0.min']\n",
       "            }\n",
       "        });\n",
       "        require(['plotly'], function(Plotly) {\n",
       "            window._Plotly = Plotly;\n",
       "        });\n",
       "        }\n",
       "        </script>\n",
       "        "
      ]
     },
     "metadata": {},
     "output_type": "display_data"
    }
   ],
   "source": [
    "# Import necessary libraries\n",
    "import numpy as np\n",
    "import pandas as pd\n",
    "import plotly.offline as py\n",
    "import plotly.express as px\n",
    "import plotly.graph_objects as go\n",
    "from plotly.subplots import make_subplots\n",
    "import plotly.figure_factory as ff\n",
    "import cufflinks as cf\n",
    "from sklearn.linear_model import LinearRegression\n",
    "from sklearn.model_selection import train_test_split, KFold\n",
    "from sklearn.base import clone\n",
    "from sklearn.pipeline import Pipeline\n",
    "from sklearn.compose import ColumnTransformer\n",
    "from sklearn.preprocessing import FunctionTransformer\n",
    "from sklearn.impute import SimpleImputer\n",
    "from sklearn.feature_extraction.text import CountVectorizer\n",
    "from seaborn import load_dataset\n",
    "# Configure Cufflinks for offline use with a ggplot theme\n",
    "cf.set_config_file(offline=True, sharing=False, theme='ggplot')"
   ]
  },
  {
   "cell_type": "markdown",
   "metadata": {},
   "source": [
    "***\n",
    "\n",
    "## **2. The Data**\n",
    "\n",
    "We will use the `mpg` dataset from `seaborn`, which provides information about the fuel mileage (`mpg`) of various cars along with their characteristics.\n",
    "\n",
    "Our objective is to build a model that predicts a car's fuel mileage based on these features."
   ]
  },
  {
   "cell_type": "code",
   "execution_count": 2,
   "metadata": {},
   "outputs": [
    {
     "data": {
      "text/html": [
       "<div>\n",
       "<style scoped>\n",
       "    .dataframe tbody tr th:only-of-type {\n",
       "        vertical-align: middle;\n",
       "    }\n",
       "\n",
       "    .dataframe tbody tr th {\n",
       "        vertical-align: top;\n",
       "    }\n",
       "\n",
       "    .dataframe thead th {\n",
       "        text-align: right;\n",
       "    }\n",
       "</style>\n",
       "<table border=\"1\" class=\"dataframe\">\n",
       "  <thead>\n",
       "    <tr style=\"text-align: right;\">\n",
       "      <th></th>\n",
       "      <th>mpg</th>\n",
       "      <th>cylinders</th>\n",
       "      <th>displacement</th>\n",
       "      <th>horsepower</th>\n",
       "      <th>weight</th>\n",
       "      <th>acceleration</th>\n",
       "      <th>model_year</th>\n",
       "      <th>origin</th>\n",
       "      <th>name</th>\n",
       "    </tr>\n",
       "  </thead>\n",
       "  <tbody>\n",
       "    <tr>\n",
       "      <th>0</th>\n",
       "      <td>18.0</td>\n",
       "      <td>8</td>\n",
       "      <td>307.0</td>\n",
       "      <td>130.0</td>\n",
       "      <td>3504</td>\n",
       "      <td>12.0</td>\n",
       "      <td>70</td>\n",
       "      <td>usa</td>\n",
       "      <td>chevrolet chevelle malibu</td>\n",
       "    </tr>\n",
       "    <tr>\n",
       "      <th>1</th>\n",
       "      <td>15.0</td>\n",
       "      <td>8</td>\n",
       "      <td>350.0</td>\n",
       "      <td>165.0</td>\n",
       "      <td>3693</td>\n",
       "      <td>11.5</td>\n",
       "      <td>70</td>\n",
       "      <td>usa</td>\n",
       "      <td>buick skylark 320</td>\n",
       "    </tr>\n",
       "    <tr>\n",
       "      <th>2</th>\n",
       "      <td>18.0</td>\n",
       "      <td>8</td>\n",
       "      <td>318.0</td>\n",
       "      <td>150.0</td>\n",
       "      <td>3436</td>\n",
       "      <td>11.0</td>\n",
       "      <td>70</td>\n",
       "      <td>usa</td>\n",
       "      <td>plymouth satellite</td>\n",
       "    </tr>\n",
       "    <tr>\n",
       "      <th>3</th>\n",
       "      <td>16.0</td>\n",
       "      <td>8</td>\n",
       "      <td>304.0</td>\n",
       "      <td>150.0</td>\n",
       "      <td>3433</td>\n",
       "      <td>12.0</td>\n",
       "      <td>70</td>\n",
       "      <td>usa</td>\n",
       "      <td>amc rebel sst</td>\n",
       "    </tr>\n",
       "    <tr>\n",
       "      <th>4</th>\n",
       "      <td>17.0</td>\n",
       "      <td>8</td>\n",
       "      <td>302.0</td>\n",
       "      <td>140.0</td>\n",
       "      <td>3449</td>\n",
       "      <td>10.5</td>\n",
       "      <td>70</td>\n",
       "      <td>usa</td>\n",
       "      <td>ford torino</td>\n",
       "    </tr>\n",
       "  </tbody>\n",
       "</table>\n",
       "</div>"
      ],
      "text/plain": [
       "    mpg  cylinders  displacement  horsepower  weight  acceleration  \\\n",
       "0  18.0          8         307.0       130.0    3504          12.0   \n",
       "1  15.0          8         350.0       165.0    3693          11.5   \n",
       "2  18.0          8         318.0       150.0    3436          11.0   \n",
       "3  16.0          8         304.0       150.0    3433          12.0   \n",
       "4  17.0          8         302.0       140.0    3449          10.5   \n",
       "\n",
       "   model_year origin                       name  \n",
       "0          70    usa  chevrolet chevelle malibu  \n",
       "1          70    usa          buick skylark 320  \n",
       "2          70    usa         plymouth satellite  \n",
       "3          70    usa              amc rebel sst  \n",
       "4          70    usa                ford torino  "
      ]
     },
     "execution_count": 2,
     "metadata": {},
     "output_type": "execute_result"
    }
   ],
   "source": [
    "# Load the mpg dataset\n",
    "data = load_dataset(\"mpg\")\n",
    "\n",
    "# Display the first few rows of the dataset\n",
    "data.head()"
   ]
  },
  {
   "cell_type": "markdown",
   "metadata": {},
   "source": [
    "***\n",
    "\n",
    "## **3. Train-Test Split**\n",
    "\n",
    "Splitting the dataset into training and testing sets is crucial for evaluating the performance and generalizability of our model.\n",
    "\n",
    "We will explore two methods to perform this split: using Pandas operations and Scikit-learn's `train_test_split` function.\n",
    "\n",
    "### **3.1 ~ Using Pandas Operations**\n",
    "\n",
    "We can manually shuffle the dataset and split it into training and testing sets."
   ]
  },
  {
   "cell_type": "code",
   "execution_count": 3,
   "metadata": {},
   "outputs": [
    {
     "data": {
      "text/html": [
       "<div>\n",
       "<style scoped>\n",
       "    .dataframe tbody tr th:only-of-type {\n",
       "        vertical-align: middle;\n",
       "    }\n",
       "\n",
       "    .dataframe tbody tr th {\n",
       "        vertical-align: top;\n",
       "    }\n",
       "\n",
       "    .dataframe thead th {\n",
       "        text-align: right;\n",
       "    }\n",
       "</style>\n",
       "<table border=\"1\" class=\"dataframe\">\n",
       "  <thead>\n",
       "    <tr style=\"text-align: right;\">\n",
       "      <th></th>\n",
       "      <th>mpg</th>\n",
       "      <th>cylinders</th>\n",
       "      <th>displacement</th>\n",
       "      <th>horsepower</th>\n",
       "      <th>weight</th>\n",
       "      <th>acceleration</th>\n",
       "      <th>model_year</th>\n",
       "      <th>origin</th>\n",
       "      <th>name</th>\n",
       "    </tr>\n",
       "  </thead>\n",
       "  <tbody>\n",
       "    <tr>\n",
       "      <th>0</th>\n",
       "      <td>33.0</td>\n",
       "      <td>4</td>\n",
       "      <td>91.0</td>\n",
       "      <td>53.0</td>\n",
       "      <td>1795</td>\n",
       "      <td>17.4</td>\n",
       "      <td>76</td>\n",
       "      <td>japan</td>\n",
       "      <td>honda civic</td>\n",
       "    </tr>\n",
       "    <tr>\n",
       "      <th>1</th>\n",
       "      <td>28.0</td>\n",
       "      <td>4</td>\n",
       "      <td>120.0</td>\n",
       "      <td>79.0</td>\n",
       "      <td>2625</td>\n",
       "      <td>18.6</td>\n",
       "      <td>82</td>\n",
       "      <td>usa</td>\n",
       "      <td>ford ranger</td>\n",
       "    </tr>\n",
       "    <tr>\n",
       "      <th>2</th>\n",
       "      <td>19.0</td>\n",
       "      <td>6</td>\n",
       "      <td>232.0</td>\n",
       "      <td>100.0</td>\n",
       "      <td>2634</td>\n",
       "      <td>13.0</td>\n",
       "      <td>71</td>\n",
       "      <td>usa</td>\n",
       "      <td>amc gremlin</td>\n",
       "    </tr>\n",
       "    <tr>\n",
       "      <th>3</th>\n",
       "      <td>13.0</td>\n",
       "      <td>8</td>\n",
       "      <td>318.0</td>\n",
       "      <td>150.0</td>\n",
       "      <td>3940</td>\n",
       "      <td>13.2</td>\n",
       "      <td>76</td>\n",
       "      <td>usa</td>\n",
       "      <td>plymouth volare premier v8</td>\n",
       "    </tr>\n",
       "    <tr>\n",
       "      <th>4</th>\n",
       "      <td>14.0</td>\n",
       "      <td>8</td>\n",
       "      <td>318.0</td>\n",
       "      <td>150.0</td>\n",
       "      <td>4237</td>\n",
       "      <td>14.5</td>\n",
       "      <td>73</td>\n",
       "      <td>usa</td>\n",
       "      <td>plymouth fury gran sedan</td>\n",
       "    </tr>\n",
       "  </tbody>\n",
       "</table>\n",
       "</div>"
      ],
      "text/plain": [
       "    mpg  cylinders  displacement  horsepower  weight  acceleration  \\\n",
       "0  33.0          4          91.0        53.0    1795          17.4   \n",
       "1  28.0          4         120.0        79.0    2625          18.6   \n",
       "2  19.0          6         232.0       100.0    2634          13.0   \n",
       "3  13.0          8         318.0       150.0    3940          13.2   \n",
       "4  14.0          8         318.0       150.0    4237          14.5   \n",
       "\n",
       "   model_year origin                        name  \n",
       "0          76  japan                 honda civic  \n",
       "1          82    usa                 ford ranger  \n",
       "2          71    usa                 amc gremlin  \n",
       "3          76    usa  plymouth volare premier v8  \n",
       "4          73    usa    plymouth fury gran sedan  "
      ]
     },
     "execution_count": 3,
     "metadata": {},
     "output_type": "execute_result"
    }
   ],
   "source": [
    "# Shuffle the dataset\n",
    "shuffled_data = data.sample(frac=1.0, random_state=42).reset_index(drop=True)\n",
    "\n",
    "# Display the shuffled data\n",
    "shuffled_data.head()"
   ]
  },
  {
   "cell_type": "code",
   "execution_count": 4,
   "metadata": {},
   "outputs": [
    {
     "data": {
      "text/plain": [
       "358"
      ]
     },
     "execution_count": 4,
     "metadata": {},
     "output_type": "execute_result"
    }
   ],
   "source": [
    "# Determine the split point (90% training, 10% testing)\n",
    "split_point = int(shuffled_data.shape[0] * 0.90)\n",
    "split_point"
   ]
  },
  {
   "cell_type": "code",
   "execution_count": 5,
   "metadata": {},
   "outputs": [
    {
     "name": "stdout",
     "output_type": "stream",
     "text": [
      "Training Set:\n"
     ]
    },
    {
     "data": {
      "text/html": [
       "<div>\n",
       "<style scoped>\n",
       "    .dataframe tbody tr th:only-of-type {\n",
       "        vertical-align: middle;\n",
       "    }\n",
       "\n",
       "    .dataframe tbody tr th {\n",
       "        vertical-align: top;\n",
       "    }\n",
       "\n",
       "    .dataframe thead th {\n",
       "        text-align: right;\n",
       "    }\n",
       "</style>\n",
       "<table border=\"1\" class=\"dataframe\">\n",
       "  <thead>\n",
       "    <tr style=\"text-align: right;\">\n",
       "      <th></th>\n",
       "      <th>mpg</th>\n",
       "      <th>cylinders</th>\n",
       "      <th>displacement</th>\n",
       "      <th>horsepower</th>\n",
       "      <th>weight</th>\n",
       "      <th>acceleration</th>\n",
       "      <th>model_year</th>\n",
       "      <th>origin</th>\n",
       "      <th>name</th>\n",
       "    </tr>\n",
       "  </thead>\n",
       "  <tbody>\n",
       "    <tr>\n",
       "      <th>0</th>\n",
       "      <td>33.0</td>\n",
       "      <td>4</td>\n",
       "      <td>91.0</td>\n",
       "      <td>53.0</td>\n",
       "      <td>1795</td>\n",
       "      <td>17.4</td>\n",
       "      <td>76</td>\n",
       "      <td>japan</td>\n",
       "      <td>honda civic</td>\n",
       "    </tr>\n",
       "    <tr>\n",
       "      <th>1</th>\n",
       "      <td>28.0</td>\n",
       "      <td>4</td>\n",
       "      <td>120.0</td>\n",
       "      <td>79.0</td>\n",
       "      <td>2625</td>\n",
       "      <td>18.6</td>\n",
       "      <td>82</td>\n",
       "      <td>usa</td>\n",
       "      <td>ford ranger</td>\n",
       "    </tr>\n",
       "    <tr>\n",
       "      <th>2</th>\n",
       "      <td>19.0</td>\n",
       "      <td>6</td>\n",
       "      <td>232.0</td>\n",
       "      <td>100.0</td>\n",
       "      <td>2634</td>\n",
       "      <td>13.0</td>\n",
       "      <td>71</td>\n",
       "      <td>usa</td>\n",
       "      <td>amc gremlin</td>\n",
       "    </tr>\n",
       "    <tr>\n",
       "      <th>3</th>\n",
       "      <td>13.0</td>\n",
       "      <td>8</td>\n",
       "      <td>318.0</td>\n",
       "      <td>150.0</td>\n",
       "      <td>3940</td>\n",
       "      <td>13.2</td>\n",
       "      <td>76</td>\n",
       "      <td>usa</td>\n",
       "      <td>plymouth volare premier v8</td>\n",
       "    </tr>\n",
       "    <tr>\n",
       "      <th>4</th>\n",
       "      <td>14.0</td>\n",
       "      <td>8</td>\n",
       "      <td>318.0</td>\n",
       "      <td>150.0</td>\n",
       "      <td>4237</td>\n",
       "      <td>14.5</td>\n",
       "      <td>73</td>\n",
       "      <td>usa</td>\n",
       "      <td>plymouth fury gran sedan</td>\n",
       "    </tr>\n",
       "  </tbody>\n",
       "</table>\n",
       "</div>"
      ],
      "text/plain": [
       "    mpg  cylinders  displacement  horsepower  weight  acceleration  \\\n",
       "0  33.0          4          91.0        53.0    1795          17.4   \n",
       "1  28.0          4         120.0        79.0    2625          18.6   \n",
       "2  19.0          6         232.0       100.0    2634          13.0   \n",
       "3  13.0          8         318.0       150.0    3940          13.2   \n",
       "4  14.0          8         318.0       150.0    4237          14.5   \n",
       "\n",
       "   model_year origin                        name  \n",
       "0          76  japan                 honda civic  \n",
       "1          82    usa                 ford ranger  \n",
       "2          71    usa                 amc gremlin  \n",
       "3          76    usa  plymouth volare premier v8  \n",
       "4          73    usa    plymouth fury gran sedan  "
      ]
     },
     "execution_count": 5,
     "metadata": {},
     "output_type": "execute_result"
    }
   ],
   "source": [
    "# Split the data\n",
    "tr = shuffled_data.iloc[:split_point]\n",
    "te = shuffled_data.iloc[split_point:]\n",
    "\n",
    "# Display the training sets\n",
    "print(\"Training Set:\")\n",
    "tr.head()"
   ]
  },
  {
   "cell_type": "code",
   "execution_count": 6,
   "metadata": {},
   "outputs": [
    {
     "name": "stdout",
     "output_type": "stream",
     "text": [
      "Testing Set:\n"
     ]
    },
    {
     "data": {
      "text/html": [
       "<div>\n",
       "<style scoped>\n",
       "    .dataframe tbody tr th:only-of-type {\n",
       "        vertical-align: middle;\n",
       "    }\n",
       "\n",
       "    .dataframe tbody tr th {\n",
       "        vertical-align: top;\n",
       "    }\n",
       "\n",
       "    .dataframe thead th {\n",
       "        text-align: right;\n",
       "    }\n",
       "</style>\n",
       "<table border=\"1\" class=\"dataframe\">\n",
       "  <thead>\n",
       "    <tr style=\"text-align: right;\">\n",
       "      <th></th>\n",
       "      <th>mpg</th>\n",
       "      <th>cylinders</th>\n",
       "      <th>displacement</th>\n",
       "      <th>horsepower</th>\n",
       "      <th>weight</th>\n",
       "      <th>acceleration</th>\n",
       "      <th>model_year</th>\n",
       "      <th>origin</th>\n",
       "      <th>name</th>\n",
       "    </tr>\n",
       "  </thead>\n",
       "  <tbody>\n",
       "    <tr>\n",
       "      <th>358</th>\n",
       "      <td>21.5</td>\n",
       "      <td>3</td>\n",
       "      <td>80.0</td>\n",
       "      <td>110.0</td>\n",
       "      <td>2720</td>\n",
       "      <td>13.5</td>\n",
       "      <td>77</td>\n",
       "      <td>japan</td>\n",
       "      <td>mazda rx-4</td>\n",
       "    </tr>\n",
       "    <tr>\n",
       "      <th>359</th>\n",
       "      <td>35.0</td>\n",
       "      <td>4</td>\n",
       "      <td>72.0</td>\n",
       "      <td>69.0</td>\n",
       "      <td>1613</td>\n",
       "      <td>18.0</td>\n",
       "      <td>71</td>\n",
       "      <td>japan</td>\n",
       "      <td>datsun 1200</td>\n",
       "    </tr>\n",
       "    <tr>\n",
       "      <th>360</th>\n",
       "      <td>28.0</td>\n",
       "      <td>4</td>\n",
       "      <td>116.0</td>\n",
       "      <td>90.0</td>\n",
       "      <td>2123</td>\n",
       "      <td>14.0</td>\n",
       "      <td>71</td>\n",
       "      <td>europe</td>\n",
       "      <td>opel 1900</td>\n",
       "    </tr>\n",
       "    <tr>\n",
       "      <th>361</th>\n",
       "      <td>18.0</td>\n",
       "      <td>6</td>\n",
       "      <td>171.0</td>\n",
       "      <td>97.0</td>\n",
       "      <td>2984</td>\n",
       "      <td>14.5</td>\n",
       "      <td>75</td>\n",
       "      <td>usa</td>\n",
       "      <td>ford pinto</td>\n",
       "    </tr>\n",
       "    <tr>\n",
       "      <th>362</th>\n",
       "      <td>15.5</td>\n",
       "      <td>8</td>\n",
       "      <td>304.0</td>\n",
       "      <td>120.0</td>\n",
       "      <td>3962</td>\n",
       "      <td>13.9</td>\n",
       "      <td>76</td>\n",
       "      <td>usa</td>\n",
       "      <td>amc matador</td>\n",
       "    </tr>\n",
       "  </tbody>\n",
       "</table>\n",
       "</div>"
      ],
      "text/plain": [
       "      mpg  cylinders  displacement  horsepower  weight  acceleration  \\\n",
       "358  21.5          3          80.0       110.0    2720          13.5   \n",
       "359  35.0          4          72.0        69.0    1613          18.0   \n",
       "360  28.0          4         116.0        90.0    2123          14.0   \n",
       "361  18.0          6         171.0        97.0    2984          14.5   \n",
       "362  15.5          8         304.0       120.0    3962          13.9   \n",
       "\n",
       "     model_year  origin         name  \n",
       "358          77   japan   mazda rx-4  \n",
       "359          71   japan  datsun 1200  \n",
       "360          71  europe    opel 1900  \n",
       "361          75     usa   ford pinto  \n",
       "362          76     usa  amc matador  "
      ]
     },
     "execution_count": 6,
     "metadata": {},
     "output_type": "execute_result"
    }
   ],
   "source": [
    "# Display the testing sets\n",
    "print(\"Testing Set:\")\n",
    "te.head()"
   ]
  },
  {
   "cell_type": "code",
   "execution_count": 7,
   "metadata": {},
   "outputs": [
    {
     "data": {
      "text/plain": [
       "True"
      ]
     },
     "execution_count": 7,
     "metadata": {},
     "output_type": "execute_result"
    }
   ],
   "source": [
    "# Verify that the split sizes add up to the original dataset\n",
    "len(tr) + len(te) == len(data)"
   ]
  },
  {
   "cell_type": "markdown",
   "metadata": {},
   "source": [
    "### **3.2 ~ Using Scikit-learn**\n",
    "\n",
    "Scikit-learn provides a convenient function, `train_test_split`, to perform the train-test split."
   ]
  },
  {
   "cell_type": "code",
   "execution_count": 8,
   "metadata": {},
   "outputs": [
    {
     "name": "stdout",
     "output_type": "stream",
     "text": [
      "Training Set:\n"
     ]
    },
    {
     "data": {
      "text/html": [
       "<div>\n",
       "<style scoped>\n",
       "    .dataframe tbody tr th:only-of-type {\n",
       "        vertical-align: middle;\n",
       "    }\n",
       "\n",
       "    .dataframe tbody tr th {\n",
       "        vertical-align: top;\n",
       "    }\n",
       "\n",
       "    .dataframe thead th {\n",
       "        text-align: right;\n",
       "    }\n",
       "</style>\n",
       "<table border=\"1\" class=\"dataframe\">\n",
       "  <thead>\n",
       "    <tr style=\"text-align: right;\">\n",
       "      <th></th>\n",
       "      <th>mpg</th>\n",
       "      <th>cylinders</th>\n",
       "      <th>displacement</th>\n",
       "      <th>horsepower</th>\n",
       "      <th>weight</th>\n",
       "      <th>acceleration</th>\n",
       "      <th>model_year</th>\n",
       "      <th>origin</th>\n",
       "      <th>name</th>\n",
       "    </tr>\n",
       "  </thead>\n",
       "  <tbody>\n",
       "    <tr>\n",
       "      <th>143</th>\n",
       "      <td>26.0</td>\n",
       "      <td>4</td>\n",
       "      <td>97.0</td>\n",
       "      <td>78.0</td>\n",
       "      <td>2300</td>\n",
       "      <td>14.5</td>\n",
       "      <td>74</td>\n",
       "      <td>europe</td>\n",
       "      <td>opel manta</td>\n",
       "    </tr>\n",
       "    <tr>\n",
       "      <th>391</th>\n",
       "      <td>36.0</td>\n",
       "      <td>4</td>\n",
       "      <td>135.0</td>\n",
       "      <td>84.0</td>\n",
       "      <td>2370</td>\n",
       "      <td>13.0</td>\n",
       "      <td>82</td>\n",
       "      <td>usa</td>\n",
       "      <td>dodge charger 2.2</td>\n",
       "    </tr>\n",
       "    <tr>\n",
       "      <th>182</th>\n",
       "      <td>28.0</td>\n",
       "      <td>4</td>\n",
       "      <td>107.0</td>\n",
       "      <td>86.0</td>\n",
       "      <td>2464</td>\n",
       "      <td>15.5</td>\n",
       "      <td>76</td>\n",
       "      <td>europe</td>\n",
       "      <td>fiat 131</td>\n",
       "    </tr>\n",
       "    <tr>\n",
       "      <th>63</th>\n",
       "      <td>14.0</td>\n",
       "      <td>8</td>\n",
       "      <td>400.0</td>\n",
       "      <td>175.0</td>\n",
       "      <td>4385</td>\n",
       "      <td>12.0</td>\n",
       "      <td>72</td>\n",
       "      <td>usa</td>\n",
       "      <td>pontiac catalina</td>\n",
       "    </tr>\n",
       "    <tr>\n",
       "      <th>52</th>\n",
       "      <td>30.0</td>\n",
       "      <td>4</td>\n",
       "      <td>88.0</td>\n",
       "      <td>76.0</td>\n",
       "      <td>2065</td>\n",
       "      <td>14.5</td>\n",
       "      <td>71</td>\n",
       "      <td>europe</td>\n",
       "      <td>fiat 124b</td>\n",
       "    </tr>\n",
       "  </tbody>\n",
       "</table>\n",
       "</div>"
      ],
      "text/plain": [
       "      mpg  cylinders  displacement  horsepower  weight  acceleration  \\\n",
       "143  26.0          4          97.0        78.0    2300          14.5   \n",
       "391  36.0          4         135.0        84.0    2370          13.0   \n",
       "182  28.0          4         107.0        86.0    2464          15.5   \n",
       "63   14.0          8         400.0       175.0    4385          12.0   \n",
       "52   30.0          4          88.0        76.0    2065          14.5   \n",
       "\n",
       "     model_year  origin               name  \n",
       "143          74  europe         opel manta  \n",
       "391          82     usa  dodge charger 2.2  \n",
       "182          76  europe           fiat 131  \n",
       "63           72     usa   pontiac catalina  \n",
       "52           71  europe          fiat 124b  "
      ]
     },
     "execution_count": 8,
     "metadata": {},
     "output_type": "execute_result"
    }
   ],
   "source": [
    "# Perform train-test split using Scikit-learn\n",
    "tr, te = train_test_split(data, test_size=0.1, random_state=83)\n",
    "\n",
    "# Display the training sets\n",
    "print(\"Training Set:\")\n",
    "tr.head()"
   ]
  },
  {
   "cell_type": "code",
   "execution_count": 9,
   "metadata": {},
   "outputs": [
    {
     "name": "stdout",
     "output_type": "stream",
     "text": [
      "Testing Set:\n"
     ]
    },
    {
     "data": {
      "text/html": [
       "<div>\n",
       "<style scoped>\n",
       "    .dataframe tbody tr th:only-of-type {\n",
       "        vertical-align: middle;\n",
       "    }\n",
       "\n",
       "    .dataframe tbody tr th {\n",
       "        vertical-align: top;\n",
       "    }\n",
       "\n",
       "    .dataframe thead th {\n",
       "        text-align: right;\n",
       "    }\n",
       "</style>\n",
       "<table border=\"1\" class=\"dataframe\">\n",
       "  <thead>\n",
       "    <tr style=\"text-align: right;\">\n",
       "      <th></th>\n",
       "      <th>mpg</th>\n",
       "      <th>cylinders</th>\n",
       "      <th>displacement</th>\n",
       "      <th>horsepower</th>\n",
       "      <th>weight</th>\n",
       "      <th>acceleration</th>\n",
       "      <th>model_year</th>\n",
       "      <th>origin</th>\n",
       "      <th>name</th>\n",
       "    </tr>\n",
       "  </thead>\n",
       "  <tbody>\n",
       "    <tr>\n",
       "      <th>232</th>\n",
       "      <td>16.0</td>\n",
       "      <td>8</td>\n",
       "      <td>351.0</td>\n",
       "      <td>149.0</td>\n",
       "      <td>4335</td>\n",
       "      <td>14.5</td>\n",
       "      <td>77</td>\n",
       "      <td>usa</td>\n",
       "      <td>ford thunderbird</td>\n",
       "    </tr>\n",
       "    <tr>\n",
       "      <th>365</th>\n",
       "      <td>20.2</td>\n",
       "      <td>6</td>\n",
       "      <td>200.0</td>\n",
       "      <td>88.0</td>\n",
       "      <td>3060</td>\n",
       "      <td>17.1</td>\n",
       "      <td>81</td>\n",
       "      <td>usa</td>\n",
       "      <td>ford granada gl</td>\n",
       "    </tr>\n",
       "    <tr>\n",
       "      <th>225</th>\n",
       "      <td>17.5</td>\n",
       "      <td>6</td>\n",
       "      <td>250.0</td>\n",
       "      <td>110.0</td>\n",
       "      <td>3520</td>\n",
       "      <td>16.4</td>\n",
       "      <td>77</td>\n",
       "      <td>usa</td>\n",
       "      <td>chevrolet concours</td>\n",
       "    </tr>\n",
       "    <tr>\n",
       "      <th>277</th>\n",
       "      <td>16.2</td>\n",
       "      <td>6</td>\n",
       "      <td>163.0</td>\n",
       "      <td>133.0</td>\n",
       "      <td>3410</td>\n",
       "      <td>15.8</td>\n",
       "      <td>78</td>\n",
       "      <td>europe</td>\n",
       "      <td>peugeot 604sl</td>\n",
       "    </tr>\n",
       "    <tr>\n",
       "      <th>115</th>\n",
       "      <td>15.0</td>\n",
       "      <td>8</td>\n",
       "      <td>350.0</td>\n",
       "      <td>145.0</td>\n",
       "      <td>4082</td>\n",
       "      <td>13.0</td>\n",
       "      <td>73</td>\n",
       "      <td>usa</td>\n",
       "      <td>chevrolet monte carlo s</td>\n",
       "    </tr>\n",
       "  </tbody>\n",
       "</table>\n",
       "</div>"
      ],
      "text/plain": [
       "      mpg  cylinders  displacement  horsepower  weight  acceleration  \\\n",
       "232  16.0          8         351.0       149.0    4335          14.5   \n",
       "365  20.2          6         200.0        88.0    3060          17.1   \n",
       "225  17.5          6         250.0       110.0    3520          16.4   \n",
       "277  16.2          6         163.0       133.0    3410          15.8   \n",
       "115  15.0          8         350.0       145.0    4082          13.0   \n",
       "\n",
       "     model_year  origin                     name  \n",
       "232          77     usa         ford thunderbird  \n",
       "365          81     usa          ford granada gl  \n",
       "225          77     usa       chevrolet concours  \n",
       "277          78  europe            peugeot 604sl  \n",
       "115          73     usa  chevrolet monte carlo s  "
      ]
     },
     "execution_count": 9,
     "metadata": {},
     "output_type": "execute_result"
    }
   ],
   "source": [
    "# Display the testing sets\n",
    "print(\"Testing Set:\")\n",
    "te.head()"
   ]
  },
  {
   "cell_type": "markdown",
   "metadata": {},
   "source": [
    "***\n",
    "\n",
    "## **4. Quick Visualization**\n",
    "\n",
    "Let's visualize the distribution of the `mpg` (miles per gallon) feature in both the training and testing sets.\n",
    "\n",
    "**Note:** In practice, it's best to avoid inspecting the test data to prevent data leakage."
   ]
  },
  {
   "cell_type": "code",
   "execution_count": 10,
   "metadata": {},
   "outputs": [
    {
     "data": {
      "application/vnd.plotly.v1+json": {
       "config": {
        "plotlyServerURL": "https://plot.ly"
       },
       "data": [
        {
         "autobinx": false,
         "histnorm": "probability density",
         "legendgroup": "Train MPG",
         "marker": {
          "color": "rgb(31, 119, 180)"
         },
         "name": "Train MPG",
         "opacity": 0.7,
         "type": "histogram",
         "x": [
          26,
          36,
          28,
          14,
          30,
          14,
          29,
          13,
          14,
          14,
          17,
          30,
          23,
          21,
          46.6,
          32,
          21,
          17,
          10,
          24,
          26,
          38,
          14,
          16.5,
          31.9,
          39.4,
          29.9,
          15,
          12,
          29.8,
          13,
          29,
          24,
          36.1,
          26.6,
          26,
          32.3,
          27.2,
          20.6,
          25,
          24,
          19,
          29,
          28.4,
          24,
          15,
          32.7,
          34.1,
          29,
          14,
          31,
          35,
          18,
          24.5,
          27,
          38,
          12,
          20,
          26,
          12,
          13,
          20,
          29,
          21,
          13,
          16,
          44.3,
          27.2,
          28,
          23,
          31,
          31.5,
          16,
          13,
          25,
          16,
          13,
          15.5,
          23,
          28.1,
          36.1,
          19,
          37,
          34,
          24,
          34,
          21,
          33.8,
          19.2,
          11,
          11,
          13,
          26,
          34.3,
          14.5,
          18,
          29,
          32,
          19,
          23.9,
          14,
          19,
          22,
          25,
          19,
          15,
          17.5,
          19,
          40.8,
          24.3,
          17.5,
          11,
          19,
          16,
          32,
          21.1,
          20,
          21,
          38,
          23,
          28,
          33,
          31,
          24,
          27,
          15.5,
          32.2,
          36,
          14,
          14,
          29.5,
          14,
          23.6,
          33,
          20.2,
          21,
          19,
          25,
          21.6,
          26.8,
          30,
          24,
          18,
          22,
          16,
          25.8,
          29,
          25,
          13,
          39,
          18,
          17.7,
          30.7,
          20.5,
          25,
          13,
          15,
          34.2,
          14,
          21.5,
          15,
          22,
          23,
          27.5,
          25,
          28,
          13,
          29,
          20,
          19.1,
          27,
          12,
          33.7,
          30,
          30,
          16,
          19.2,
          38.1,
          22,
          18,
          30.5,
          12,
          26,
          25.5,
          13,
          29.8,
          20,
          14,
          24,
          15,
          20,
          32,
          20.3,
          31,
          14,
          37.7,
          31,
          18,
          15,
          24,
          20,
          15,
          12,
          17.6,
          17.5,
          13,
          17,
          20.2,
          40.9,
          26,
          17.5,
          15,
          28,
          19,
          15,
          22,
          34.4,
          17,
          22.5,
          36,
          22.3,
          23.5,
          33,
          33.5,
          27,
          13,
          18.1,
          31.6,
          20.2,
          34.5,
          15.5,
          18.5,
          13,
          30.5,
          19.4,
          18.2,
          27,
          22,
          20,
          17.6,
          13,
          14,
          18,
          25.4,
          25,
          16,
          27,
          32,
          30,
          16.5,
          32,
          30,
          16.9,
          32.4,
          14,
          22,
          34.7,
          19,
          21.5,
          15,
          18.1,
          44.6,
          16,
          22,
          16,
          16.5,
          32.1,
          31.8,
          11,
          24,
          43.4,
          28,
          15,
          27,
          18,
          34.5,
          18,
          15,
          23,
          22.4,
          25,
          28,
          30.9,
          20.6,
          33.5,
          26,
          27,
          33.5,
          34.1,
          19.9,
          36,
          21,
          31.3,
          20,
          13,
          13,
          18,
          27.2,
          31,
          28,
          36,
          18,
          17,
          17,
          13,
          9,
          15,
          10,
          24.5,
          25.4,
          14,
          27.9,
          18,
          23.7,
          23,
          38,
          13,
          18.6,
          32.4,
          35,
          14,
          20.5,
          36,
          21,
          26,
          16,
          26,
          13,
          43.1,
          37.3,
          35.1,
          31,
          14,
          18.5,
          17,
          26,
          22,
          32.9,
          29.5,
          25,
          23.2,
          26,
          26.5,
          37,
          41.5,
          18,
          16,
          18.5,
          19.4,
          25.1,
          16,
          20.8,
          27.4,
          44,
          20.5,
          35.7,
          26,
          23
         ],
         "xaxis": "x",
         "xbins": {
          "end": 46.6,
          "size": 1,
          "start": 9
         },
         "yaxis": "y"
        },
        {
         "autobinx": false,
         "histnorm": "probability density",
         "legendgroup": "Test MPG",
         "marker": {
          "color": "rgb(255, 127, 14)"
         },
         "name": "Test MPG",
         "opacity": 0.7,
         "type": "histogram",
         "x": [
          16,
          20.2,
          17.5,
          16.2,
          15,
          26.4,
          25.5,
          19,
          37.2,
          28.8,
          21.5,
          18,
          18,
          18,
          27,
          23.9,
          19.8,
          19.2,
          26,
          37,
          31.5,
          23,
          18,
          39.1,
          24.2,
          36.4,
          23,
          28,
          32.8,
          25,
          15,
          15.5,
          28,
          14,
          22,
          26.6,
          23.8,
          24,
          19,
          15.5
         ],
         "xaxis": "x",
         "xbins": {
          "end": 39.1,
          "size": 1,
          "start": 14
         },
         "yaxis": "y"
        },
        {
         "legendgroup": "Train MPG",
         "marker": {
          "color": "rgb(31, 119, 180)"
         },
         "mode": "lines",
         "name": "Train MPG",
         "showlegend": false,
         "type": "scatter",
         "x": [
          9,
          9.0752,
          9.1504,
          9.2256,
          9.3008,
          9.376,
          9.4512,
          9.5264,
          9.6016,
          9.6768,
          9.752,
          9.8272,
          9.9024,
          9.9776,
          10.0528,
          10.128,
          10.2032,
          10.2784,
          10.3536,
          10.428799999999999,
          10.504,
          10.5792,
          10.6544,
          10.7296,
          10.8048,
          10.879999999999999,
          10.9552,
          11.0304,
          11.105599999999999,
          11.1808,
          11.256,
          11.3312,
          11.4064,
          11.4816,
          11.556799999999999,
          11.632,
          11.7072,
          11.782399999999999,
          11.8576,
          11.9328,
          12.008,
          12.0832,
          12.1584,
          12.2336,
          12.3088,
          12.384,
          12.4592,
          12.5344,
          12.6096,
          12.6848,
          12.76,
          12.8352,
          12.9104,
          12.9856,
          13.0608,
          13.136,
          13.2112,
          13.2864,
          13.3616,
          13.4368,
          13.512,
          13.5872,
          13.662400000000002,
          13.7376,
          13.8128,
          13.888,
          13.9632,
          14.0384,
          14.1136,
          14.1888,
          14.264,
          14.3392,
          14.4144,
          14.4896,
          14.5648,
          14.64,
          14.7152,
          14.790400000000002,
          14.8656,
          14.9408,
          15.016,
          15.0912,
          15.1664,
          15.2416,
          15.3168,
          15.392,
          15.4672,
          15.5424,
          15.6176,
          15.6928,
          15.768,
          15.8432,
          15.9184,
          15.9936,
          16.0688,
          16.144,
          16.2192,
          16.2944,
          16.3696,
          16.4448,
          16.52,
          16.595200000000002,
          16.6704,
          16.7456,
          16.8208,
          16.896,
          16.9712,
          17.0464,
          17.1216,
          17.196800000000003,
          17.272,
          17.3472,
          17.4224,
          17.4976,
          17.5728,
          17.648,
          17.7232,
          17.7984,
          17.8736,
          17.9488,
          18.024,
          18.099200000000003,
          18.1744,
          18.2496,
          18.324800000000003,
          18.4,
          18.4752,
          18.5504,
          18.6256,
          18.7008,
          18.776,
          18.8512,
          18.9264,
          19.0016,
          19.0768,
          19.152,
          19.2272,
          19.3024,
          19.3776,
          19.452800000000003,
          19.528,
          19.6032,
          19.6784,
          19.7536,
          19.8288,
          19.904,
          19.9792,
          20.0544,
          20.1296,
          20.2048,
          20.28,
          20.3552,
          20.4304,
          20.5056,
          20.580800000000004,
          20.656,
          20.7312,
          20.8064,
          20.8816,
          20.9568,
          21.032,
          21.1072,
          21.1824,
          21.2576,
          21.3328,
          21.408,
          21.4832,
          21.5584,
          21.6336,
          21.708800000000004,
          21.784,
          21.8592,
          21.9344,
          22.0096,
          22.0848,
          22.16,
          22.2352,
          22.3104,
          22.3856,
          22.4608,
          22.536,
          22.6112,
          22.6864,
          22.7616,
          22.8368,
          22.912,
          22.9872,
          23.0624,
          23.1376,
          23.2128,
          23.288,
          23.3632,
          23.4384,
          23.5136,
          23.5888,
          23.664,
          23.7392,
          23.8144,
          23.8896,
          23.9648,
          24.04,
          24.1152,
          24.190400000000004,
          24.2656,
          24.3408,
          24.416,
          24.4912,
          24.5664,
          24.6416,
          24.7168,
          24.792,
          24.8672,
          24.9424,
          25.0176,
          25.0928,
          25.168,
          25.2432,
          25.3184,
          25.393600000000003,
          25.468799999999998,
          25.544,
          25.6192,
          25.6944,
          25.7696,
          25.8448,
          25.92,
          25.9952,
          26.070400000000003,
          26.1456,
          26.2208,
          26.296,
          26.3712,
          26.4464,
          26.521600000000003,
          26.596799999999998,
          26.672,
          26.7472,
          26.822400000000002,
          26.8976,
          26.9728,
          27.048,
          27.1232,
          27.198400000000003,
          27.273600000000002,
          27.3488,
          27.424,
          27.499200000000002,
          27.5744,
          27.649600000000003,
          27.7248,
          27.8,
          27.8752,
          27.950400000000002,
          28.0256,
          28.1008,
          28.176,
          28.2512,
          28.326400000000003,
          28.401600000000002,
          28.4768,
          28.552,
          28.627200000000002,
          28.7024,
          28.777600000000003,
          28.8528,
          28.928,
          29.0032,
          29.078400000000002,
          29.1536,
          29.2288,
          29.304,
          29.3792,
          29.4544,
          29.529600000000002,
          29.6048,
          29.68,
          29.755200000000002,
          29.8304,
          29.905600000000003,
          29.9808,
          30.056,
          30.1312,
          30.206400000000002,
          30.2816,
          30.3568,
          30.432,
          30.5072,
          30.5824,
          30.657600000000002,
          30.7328,
          30.808,
          30.883200000000002,
          30.9584,
          31.033600000000003,
          31.1088,
          31.184,
          31.2592,
          31.334400000000002,
          31.4096,
          31.4848,
          31.56,
          31.6352,
          31.7104,
          31.785600000000002,
          31.860799999999998,
          31.936,
          32.0112,
          32.0864,
          32.16160000000001,
          32.2368,
          32.312,
          32.3872,
          32.4624,
          32.5376,
          32.6128,
          32.688,
          32.7632,
          32.8384,
          32.9136,
          32.9888,
          33.064,
          33.1392,
          33.2144,
          33.28960000000001,
          33.3648,
          33.44,
          33.5152,
          33.5904,
          33.6656,
          33.7408,
          33.816,
          33.8912,
          33.9664,
          34.0416,
          34.1168,
          34.192,
          34.2672,
          34.3424,
          34.41760000000001,
          34.4928,
          34.568,
          34.6432,
          34.7184,
          34.7936,
          34.8688,
          34.944,
          35.0192,
          35.0944,
          35.1696,
          35.2448,
          35.32,
          35.3952,
          35.4704,
          35.54560000000001,
          35.6208,
          35.696,
          35.7712,
          35.8464,
          35.9216,
          35.9968,
          36.072,
          36.1472,
          36.2224,
          36.2976,
          36.3728,
          36.448,
          36.5232,
          36.5984,
          36.6736,
          36.7488,
          36.824,
          36.8992,
          36.9744,
          37.0496,
          37.1248,
          37.2,
          37.2752,
          37.3504,
          37.4256,
          37.5008,
          37.576,
          37.6512,
          37.7264,
          37.8016,
          37.8768,
          37.952,
          38.0272,
          38.1024,
          38.1776,
          38.25280000000001,
          38.328,
          38.4032,
          38.4784,
          38.5536,
          38.6288,
          38.704,
          38.7792,
          38.8544,
          38.9296,
          39.0048,
          39.08,
          39.1552,
          39.2304,
          39.3056,
          39.38080000000001,
          39.456,
          39.5312,
          39.6064,
          39.6816,
          39.7568,
          39.832,
          39.9072,
          39.9824,
          40.0576,
          40.1328,
          40.208,
          40.2832,
          40.3584,
          40.4336,
          40.50880000000001,
          40.584,
          40.6592,
          40.7344,
          40.8096,
          40.8848,
          40.96,
          41.0352,
          41.1104,
          41.1856,
          41.2608,
          41.336,
          41.4112,
          41.4864,
          41.561600000000006,
          41.6368,
          41.712,
          41.787200000000006,
          41.8624,
          41.937599999999996,
          42.012800000000006,
          42.088,
          42.1632,
          42.2384,
          42.3136,
          42.3888,
          42.464,
          42.5392,
          42.6144,
          42.6896,
          42.7648,
          42.84,
          42.915200000000006,
          42.9904,
          43.065599999999996,
          43.140800000000006,
          43.216,
          43.2912,
          43.3664,
          43.4416,
          43.5168,
          43.592,
          43.6672,
          43.7424,
          43.8176,
          43.8928,
          43.968,
          44.043200000000006,
          44.1184,
          44.193599999999996,
          44.268800000000006,
          44.344,
          44.419200000000004,
          44.4944,
          44.5696,
          44.644800000000004,
          44.72,
          44.7952,
          44.870400000000004,
          44.9456,
          45.0208,
          45.096,
          45.171200000000006,
          45.2464,
          45.3216,
          45.396800000000006,
          45.472,
          45.547200000000004,
          45.6224,
          45.6976,
          45.772800000000004,
          45.848,
          45.9232,
          45.998400000000004,
          46.0736,
          46.1488,
          46.224,
          46.299200000000006,
          46.3744,
          46.4496,
          46.524800000000006
         ],
         "xaxis": "x",
         "y": [
          0.007833858316137587,
          0.008156824565563837,
          0.008488699961152644,
          0.008829492731440129,
          0.009179196748171865,
          0.009537790977452817,
          0.009905238959436817,
          0.010281488320338128,
          0.010666470320557597,
          0.011060099442698146,
          0.011462273023200973,
          0.011872870931261785,
          0.012291755298586214,
          0.012718770303411479,
          0.01315374201206394,
          0.013596478281129077,
          0.014046768723091801,
          0.01450438473805413,
          0.014969079613858977,
          0.01544058869664111,
          0.015918629633493164,
          0.01640290268857515,
          0.016893091133613893,
          0.01738886171333447,
          0.017889865185943054,
          0.01839573693834222,
          0.018906097675305576,
          0.019420554181377045,
          0.01993870015378894,
          0.020460117104219813,
          0.020984375326738695,
          0.02151103492881231,
          0.022039646921789998,
          0.022569754366828114,
          0.023100893571781893,
          0.023632595334173744,
          0.024164386224954752,
          0.024695789907408082,
          0.025226328485205736,
          0.025755523873327756,
          0.0262828991852847,
          0.026807980129859976,
          0.027330296410401148,
          0.02784938311955234,
          0.028364782122226297,
          0.028876043419570837,
          0.029382726486688413,
          0.029884401576927632,
          0.03038065098566902,
          0.030871070266688776,
          0.03135526939439241,
          0.031832873865470776,
          0.0323035257338369,
          0.03276688457306006,
          0.03322262836090994,
          0.0336704542810679,
          0.03411007943754268,
          0.03454124147784446,
          0.03496369912151997,
          0.035377232591231995,
          0.0357816439441626,
          0.03617675730214563,
          0.03656241897956757,
          0.03693849750872028,
          0.03730488356294481,
          0.03766148977854975,
          0.03800825047713945,
          0.03834512129062037,
          0.0386720786917737,
          0.03898911943388535,
          0.039296259903500094,
          0.03959353539091132,
          0.03988099928351587,
          0.04015872218763565,
          0.04042679098484524,
          0.04068530782923568,
          0.04093438909238752,
          0.041174164263120844,
          0.041404774809331545,
          0.04162637300941214,
          0.04183912076088873,
          0.04204318837398342,
          0.04223875335783461,
          0.04242599920707385,
          0.042605114196368955,
          0.04277629019040132,
          0.04293972147655054,
          0.043095603627314356,
          0.04324413239919785,
          0.04338550267446783,
          0.043519907451787236,
          0.0436475368913241,
          0.04376857741947441,
          0.04388321089785193,
          0.0439916138606838,
          0.04409395682421331,
          0.04419040367115777,
          0.04428111111269649,
          0.04436622822988813,
          0.04444589609583127,
          0.04452024747929478,
          0.04458940662996858,
          0.044653489144909894,
          0.04471260191519797,
          0.04476684315127171,
          0.04481630248489484,
          0.044861061145198715,
          0.04490119220577426,
          0.044936760899346534,
          0.044967824996150325,
          0.04499443524175255,
          0.04501663584972629,
          0.04503446504428332,
          0.04504795564770932,
          0.04505713570723011,
          0.04506202915575604,
          0.04506265650082061,
          0.045059035535930464,
          0.04505118206849872,
          0.04503911065851634,
          0.04502283536214876,
          0.04500237047451393,
          0.04497773126599976,
          0.044948934706623846,
          0.04491600017311109,
          0.044878950133572,
          0.044837810804901325,
          0.044792612778279076,
          0.044743391608445995,
          0.044690188362731746,
          0.04463305012614988,
          0.04457203045921281,
          0.04450718980548787,
          0.044438595846281556,
          0.044366323800223186,
          0.04429045666590709,
          0.04421108540613801,
          0.04412830907272342,
          0.044042234871140166,
          0.04395297816479496,
          0.043860662418975675,
          0.04376541908496698,
          0.04366738742516558,
          0.043566714280382786,
          0.043463553780862446,
          0.043358067002864646,
          0.04325042157297496,
          0.043140791222590014,
          0.043029355295299804,
          0.04291629821014447,
          0.04280180888394954,
          0.04268608011616002,
          0.04256930793978036,
          0.0424516909421941,
          0.04233342955978295,
          0.042214725350386784,
          0.04209578024774242,
          0.0419767958021169,
          0.04185797241140288,
          0.041739508546971706,
          0.04162159997858927,
          0.041504439002681685,
          0.04138821367820111,
          0.04127310707428335,
          0.04115929653380793,
          0.041046952956870844,
          0.04093624010806025,
          0.04082731395128457,
          0.040720322015747996,
          0.04061540279648863,
          0.040512685192708515,
          0.04041228798691445,
          0.0403143193676685,
          0.04021887649851338,
          0.04012604513539136,
          0.04003589929461754,
          0.039948500973202114,
          0.03986389992304067,
          0.03978213348020957,
          0.03970322645031601,
          0.039627191050559105,
          0.039554026908864406,
          0.03948372112015883,
          0.039416248359553256,
          0.03935157105191002,
          0.03928963959697746,
          0.03923039264898735,
          0.03917375744933024,
          0.039119650210647984,
          0.03906797655042047,
          0.03901863197186437,
          0.0389715023897207,
          0.03892646469827545,
          0.038883387378740815,
          0.038842131142920434,
          0.03880254960990045,
          0.038764490012330885,
          0.038727793928720194,
          0.03869229803802591,
          0.03865783489271615,
          0.038624233706382294,
          0.03859132115191132,
          0.03855892216617771,
          0.03852686075718285,
          0.03849496080956503,
          0.03846304688441592,
          0.03843094500937706,
          0.03839848345504523,
          0.038365493493797975,
          0.038331810137246826,
          0.03829727284864941,
          0.03826172622675002,
          0.03822502065767756,
          0.03818701293170869,
          0.03814756682189646,
          0.03810655362177934,
          0.038063852639608174,
          0.038019351646771136,
          0.03797294727834973,
          0.03792454538399986,
          0.03787406132763145,
          0.037821420234636235,
          0.037766557185704895,
          0.03770941735657073,
          0.037649956103309144,
          0.03758813899312586,
          0.03752394178086366,
          0.03745735033175509,
          0.037388360491242154,
          0.037316977902974516,
          0.03724321777637729,
          0.037167104605455664,
          0.03708867184076412,
          0.03700796151672401,
          0.03692502383670859,
          0.03683991671853943,
          0.036752705303248846,
          0.03666346143015133,
          0.036572263081440654,
          0.036479193799684256,
          0.0363843420817175,
          0.036287800752553195,
          0.03618966632301185,
          0.036090038334846426,
          0.03598901869717841,
          0.035886711018084945,
          0.035783219935175976,
          0.03567865044897323,
          0.035573107262857624,
          0.035466694133278985,
          0.03535951323383169,
          0.035251664536682784,
          0.035143245214706784,
          0.035034349067524354,
          0.03492506597446977,
          0.03481548137731997,
          0.034705675795410264,
          0.03459572437554062,
          0.034485696478838264,
          0.034375655306497596,
          0.03426565756605919,
          0.034155753179622814,
          0.03404598503512236,
          0.033936388781507155,
          0.03382699266840023,
          0.03371781743052287,
          0.03360887621689518,
          0.03350017456454911,
          0.03339171041621792,
          0.03328347418120491,
          0.03317544883837821,
          0.03306761007999482,
          0.032959926494822905,
          0.03285235978881615,
          0.03274486504138563,
          0.03263739099512965,
          0.032529880376710126,
          0.03242227024641208,
          0.03231449237378932,
          0.03220647363668536,
          0.032098136440826645,
          0.03198939915711178,
          0.031880176573668574,
          0.03177038035972141,
          0.03165991953829957,
          0.03154870096482966,
          0.03143662980868571,
          0.03132361003481883,
          0.031209544882660464,
          0.03109433733957721,
          0.030977890606260952,
          0.030860108551555743,
          0.030740896154358318,
          0.03062015993037559,
          0.03049780834168101,
          0.030373752187181566,
          0.030247904972285914,
          0.0301201832562471,
          0.02999050697584738,
          0.029858799744285562,
          0.02972498912432659,
          0.0295890068749689,
          0.02945078917108839,
          0.029310276795706327,
          0.02916741530472827,
          0.029022155164184184,
          0.028874451860182133,
          0.028724265981962715,
          0.028571563278607725,
          0.02841631469010958,
          0.028258496353657715,
          0.028098089586130106,
          0.027935080843902376,
          0.02776946166119626,
          0.027601228568288623,
          0.02743038299098622,
          0.02725693113284215,
          0.027080883841649174,
          0.026902256461790855,
          0.02672106867406079,
          0.026537344324581765,
          0.026351111244461448,
          0.02616240106181696,
          0.025971249007781295,
          0.025777693718079458,
          0.02558177703171965,
          0.02538354378830011,
          0.02518304162537262,
          0.024980320777239152,
          0.024775433876484402,
          0.024568435759469782,
          0.024359383276925897,
          0.024148335110693784,
          0.02393535159756981,
          0.023720494561111135,
          0.02350382715216076,
          0.02328541369874849,
          0.023065319565922577,
          0.02284361102596411,
          0.02262035513933581,
          0.02239561964661295,
          0.022169472871550036,
          0.021941983635335994,
          0.02171322118199963,
          0.02148325511483517,
          0.021252155343633287,
          0.021019992042418136,
          0.020786835617314457,
          0.02055275668409564,
          0.02031782605489621,
          0.02008211473350659,
          0.01984569391861606,
          0.019608635014312228,
          0.019371009647104812,
          0.01913288968869788,
          0.018894347283702657,
          0.01865545488145474,
          0.018416285271077158,
          0.01817691161891483,
          0.01793740750745591,
          0.0176978469748522,
          0.017458304554150646,
          0.017218855311357605,
          0.016979574881469194,
          0.016740539501619862,
          0.01650182604052623,
          0.016263512023430893,
          0.016025675651787162,
          0.015788395816962286,
          0.015551752107283108,
          0.015315824807793268,
          0.015080694892145679,
          0.01484644400610822,
          0.014613154442220536,
          0.0143809091052027,
          0.01414979146778117,
          0.013919885516666149,
          0.013691275688483603,
          0.0134640467955375,
          0.013238283941350508,
          0.013014072426004763,
          0.012791497641379199,
          0.012570644956453814,
          0.01235159959292439,
          0.01213444649144499,
          0.011919270168885769,
          0.011706154567064246,
          0.011495182893474202,
          0.011286437454602439,
          0.011079999482483055,
          0.010875948955198871,
          0.010674364412091715,
          0.010475322764494177,
          0.01027889910283982,
          0.01008516650104914,
          0.009894195819123531,
          0.009706055504909153,
          0.009520811396016142,
          0.009338526522897083,
          0.009159260914101035,
          0.008983071404724884,
          0.008810011449085227,
          0.008640130938627312,
          0.00847347602607613,
          0.00831008895681739,
          0.008150007908472466,
          0.007993266839602232,
          0.007839895348440946,
          0.007689918542521139,
          0.007543356920005774,
          0.007400226263495489,
          0.0072605375470242055,
          0.007124296856899202,
          0.00699150532698025,
          0.006862159088927787,
          0.006736249237881955,
          0.006613761813964505,
          0.006494677799922843,
          0.0063789731351608595,
          0.006266618746325561,
          0.006157580594542111,
          0.006051819739311039,
          0.005949292419005293,
          0.005849950147825803,
          0.005753739828997572,
          0.005660603883911774,
          0.005570480396844464,
          0.005483303274808487,
          0.005399002422023593,
          0.005317503928420563,
          0.005238730271527597,
          0.005162600531023458,
          0.0050890306151808295,
          0.0050179334983654926,
          0.0049492194687030585,
          0.004882796384975216,
          0.004818569941761299,
          0.0047564439417996825,
          0.004696320574506786,
          0.004638100699559487,
          0.004581684134419767,
          0.004526969944658652,
          0.004473856735920374,
          0.004422242946356336,
          0.004372027138353748,
          0.0043231082883835315,
          0.004275386073798818,
          0.0042287611554269015,
          0.0041831354548154415,
          0.004138412425016998,
          0.0040944973138256,
          0.004051297418413446,
          0.004008722330356639,
          0.003966684170084408,
          0.003925097809837326,
          0.003883881084275954,
          0.0038429549879417137,
          0.0038022438588372802,
          0.0037616755474621393,
          0.0037211815707122817,
          0.003680697250128617,
          0.0036401618340575134,
          0.0035995186033683925,
          0.0035587149604558543,
          0.0035177025013386973,
          0.003476437070753245,
          0.0034348788002239302,
          0.003392992129179583,
          0.0033507458092681087,
          0.0033081128921055676,
          0.003265070700776794,
          0.003221600785483158,
          0.003177688863809342,
          0.0031333247461525333,
          0.0030885022469262836,
          0.003043219082214639,
          0.0029974767546113177,
          0.0029512804260325262,
          0.002904638779339962,
          0.002857563869653153,
          0.0028100709662665577,
          0.0027621783861167233,
          0.0027139073197689437,
          0.002665281650909531,
          0.0026163277703411696,
          0.0025670743854828908,
          0.0025175523263742004,
          0.002467794349175027,
          0.0024178349381386616,
          0.002367710107015233,
          0.002317457200817623,
          0.002267114698851377,
          0.002216722019874815,
          0.002166319330215691,
          0.002115947355627252,
          0.0020656471976193327,
          0.0020154601549497073,
          0.0019654275509084352,
          0.0019155905669725934,
          0.0018659900833527783
         ],
         "yaxis": "y"
        },
        {
         "legendgroup": "Test MPG",
         "marker": {
          "color": "rgb(255, 127, 14)"
         },
         "mode": "lines",
         "name": "Test MPG",
         "showlegend": false,
         "type": "scatter",
         "x": [
          14,
          14.0502,
          14.1004,
          14.1506,
          14.2008,
          14.251,
          14.3012,
          14.3514,
          14.4016,
          14.4518,
          14.502,
          14.5522,
          14.6024,
          14.6526,
          14.7028,
          14.753,
          14.8032,
          14.8534,
          14.9036,
          14.9538,
          15.004,
          15.0542,
          15.1044,
          15.1546,
          15.2048,
          15.254999999999999,
          15.3052,
          15.3554,
          15.4056,
          15.4558,
          15.506,
          15.5562,
          15.6064,
          15.656600000000001,
          15.7068,
          15.757,
          15.8072,
          15.8574,
          15.9076,
          15.9578,
          16.008,
          16.0582,
          16.1084,
          16.1586,
          16.2088,
          16.259,
          16.3092,
          16.3594,
          16.4096,
          16.4598,
          16.509999999999998,
          16.560200000000002,
          16.6104,
          16.660600000000002,
          16.7108,
          16.761,
          16.8112,
          16.8614,
          16.9116,
          16.9618,
          17.012,
          17.0622,
          17.1124,
          17.1626,
          17.2128,
          17.262999999999998,
          17.313200000000002,
          17.3634,
          17.4136,
          17.4638,
          17.514,
          17.5642,
          17.6144,
          17.6646,
          17.7148,
          17.765,
          17.8152,
          17.8654,
          17.9156,
          17.9658,
          18.016,
          18.066200000000002,
          18.1164,
          18.166600000000003,
          18.2168,
          18.267,
          18.3172,
          18.3674,
          18.4176,
          18.4678,
          18.518,
          18.5682,
          18.6184,
          18.6686,
          18.7188,
          18.769,
          18.819200000000002,
          18.8694,
          18.9196,
          18.9698,
          19.02,
          19.0702,
          19.1204,
          19.1706,
          19.2208,
          19.271,
          19.3212,
          19.3714,
          19.4216,
          19.4718,
          19.522,
          19.572200000000002,
          19.6224,
          19.6726,
          19.7228,
          19.773,
          19.8232,
          19.8734,
          19.9236,
          19.9738,
          20.024,
          20.0742,
          20.1244,
          20.1746,
          20.224800000000002,
          20.275,
          20.325200000000002,
          20.3754,
          20.4256,
          20.4758,
          20.526,
          20.5762,
          20.6264,
          20.6766,
          20.7268,
          20.777,
          20.8272,
          20.8774,
          20.927599999999998,
          20.977800000000002,
          21.028,
          21.078200000000002,
          21.1284,
          21.1786,
          21.2288,
          21.279,
          21.3292,
          21.3794,
          21.4296,
          21.4798,
          21.53,
          21.5802,
          21.6304,
          21.6806,
          21.730800000000002,
          21.781,
          21.831200000000003,
          21.8814,
          21.9316,
          21.9818,
          22.032,
          22.0822,
          22.1324,
          22.1826,
          22.2328,
          22.283,
          22.3332,
          22.3834,
          22.4336,
          22.483800000000002,
          22.534,
          22.584200000000003,
          22.6344,
          22.6846,
          22.7348,
          22.785,
          22.8352,
          22.885399999999997,
          22.9356,
          22.9858,
          23.036,
          23.0862,
          23.136400000000002,
          23.1866,
          23.236800000000002,
          23.287,
          23.337200000000003,
          23.3874,
          23.4376,
          23.4878,
          23.538,
          23.5882,
          23.6384,
          23.6886,
          23.7388,
          23.789,
          23.839199999999998,
          23.889400000000002,
          23.9396,
          23.989800000000002,
          24.04,
          24.090200000000003,
          24.1404,
          24.1906,
          24.2408,
          24.291,
          24.3412,
          24.3914,
          24.4416,
          24.4918,
          24.542,
          24.5922,
          24.642400000000002,
          24.6926,
          24.742800000000003,
          24.793,
          24.843200000000003,
          24.8934,
          24.9436,
          24.9938,
          25.044,
          25.0942,
          25.1444,
          25.1946,
          25.2448,
          25.295,
          25.3452,
          25.395400000000002,
          25.4456,
          25.495800000000003,
          25.546,
          25.596200000000003,
          25.6464,
          25.6966,
          25.7468,
          25.797,
          25.8472,
          25.8974,
          25.9476,
          25.9978,
          26.048000000000002,
          26.0982,
          26.148400000000002,
          26.1986,
          26.248800000000003,
          26.299,
          26.349200000000003,
          26.3994,
          26.4496,
          26.4998,
          26.55,
          26.6002,
          26.6504,
          26.7006,
          26.7508,
          26.801000000000002,
          26.8512,
          26.901400000000002,
          26.9516,
          27.001800000000003,
          27.052,
          27.1022,
          27.1524,
          27.2026,
          27.2528,
          27.303,
          27.3532,
          27.4034,
          27.4536,
          27.503800000000002,
          27.554000000000002,
          27.6042,
          27.654400000000003,
          27.7046,
          27.754800000000003,
          27.805,
          27.8552,
          27.9054,
          27.9556,
          28.0058,
          28.055999999999997,
          28.1062,
          28.1564,
          28.2066,
          28.256800000000002,
          28.307000000000002,
          28.3572,
          28.407400000000003,
          28.4576,
          28.507800000000003,
          28.558,
          28.6082,
          28.6584,
          28.7086,
          28.7588,
          28.808999999999997,
          28.8592,
          28.9094,
          28.959600000000002,
          29.0098,
          29.060000000000002,
          29.1102,
          29.160400000000003,
          29.2106,
          29.260800000000003,
          29.311,
          29.3612,
          29.4114,
          29.4616,
          29.5118,
          29.561999999999998,
          29.6122,
          29.6624,
          29.712600000000002,
          29.7628,
          29.813000000000002,
          29.8632,
          29.913400000000003,
          29.9636,
          30.0138,
          30.064,
          30.1142,
          30.1644,
          30.2146,
          30.2648,
          30.315,
          30.3652,
          30.4154,
          30.465600000000002,
          30.5158,
          30.566,
          30.6162,
          30.666400000000003,
          30.716600000000003,
          30.7668,
          30.817,
          30.8672,
          30.9174,
          30.9676,
          31.017799999999998,
          31.068,
          31.1182,
          31.168400000000002,
          31.218600000000002,
          31.2688,
          31.319,
          31.3692,
          31.419400000000003,
          31.469600000000003,
          31.5198,
          31.57,
          31.6202,
          31.6704,
          31.7206,
          31.770799999999998,
          31.821,
          31.8712,
          31.921400000000002,
          31.971600000000002,
          32.0218,
          32.072,
          32.1222,
          32.1724,
          32.2226,
          32.272800000000004,
          32.323,
          32.3732,
          32.4234,
          32.473600000000005,
          32.523799999999994,
          32.574,
          32.6242,
          32.674400000000006,
          32.7246,
          32.7748,
          32.825,
          32.8752,
          32.925399999999996,
          32.9756,
          33.025800000000004,
          33.076,
          33.1262,
          33.1764,
          33.226600000000005,
          33.2768,
          33.327,
          33.3772,
          33.427400000000006,
          33.4776,
          33.5278,
          33.578,
          33.6282,
          33.678399999999996,
          33.7286,
          33.778800000000004,
          33.829,
          33.8792,
          33.9294,
          33.979600000000005,
          34.0298,
          34.08,
          34.1302,
          34.180400000000006,
          34.2306,
          34.2808,
          34.331,
          34.3812,
          34.4314,
          34.4816,
          34.531800000000004,
          34.582,
          34.6322,
          34.6824,
          34.732600000000005,
          34.7828,
          34.833,
          34.8832,
          34.933400000000006,
          34.9836,
          35.0338,
          35.084,
          35.1342,
          35.1844,
          35.2346,
          35.284800000000004,
          35.335,
          35.3852,
          35.4354,
          35.485600000000005,
          35.5358,
          35.586,
          35.6362,
          35.686400000000006,
          35.7366,
          35.7868,
          35.837,
          35.8872,
          35.9374,
          35.9876,
          36.037800000000004,
          36.088,
          36.1382,
          36.1884,
          36.238600000000005,
          36.2888,
          36.339,
          36.3892,
          36.439400000000006,
          36.4896,
          36.5398,
          36.59,
          36.6402,
          36.6904,
          36.7406,
          36.790800000000004,
          36.841,
          36.8912,
          36.9414,
          36.991600000000005,
          37.0418,
          37.092,
          37.1422,
          37.192400000000006,
          37.2426,
          37.2928,
          37.343,
          37.3932,
          37.4434,
          37.4936,
          37.543800000000005,
          37.594,
          37.6442,
          37.6944,
          37.744600000000005,
          37.7948,
          37.845,
          37.8952,
          37.94540000000001,
          37.9956,
          38.0458,
          38.096000000000004,
          38.1462,
          38.1964,
          38.2466,
          38.296800000000005,
          38.347,
          38.3972,
          38.4474,
          38.497600000000006,
          38.5478,
          38.598,
          38.6482,
          38.69840000000001,
          38.7486,
          38.7988,
          38.849000000000004,
          38.8992,
          38.9494,
          38.9996,
          39.049800000000005
         ],
         "xaxis": "x",
         "y": [
          0.03140177588551357,
          0.03178463542425452,
          0.032166913970171455,
          0.03254850034426201,
          0.03292928332650502,
          0.033309151737332544,
          0.03368799451952445,
          0.034065700820443835,
          0.034442160074529944,
          0.03481726208596487,
          0.03519089711143044,
          0.035562955942870116,
          0.035933329990171285,
          0.03630191136368224,
          0.036668592956478965,
          0.037033268526295286,
          0.03739583277703185,
          0.037756181439757334,
          0.0381142113531173,
          0.03846982054306541,
          0.0388229083018319,
          0.03917337526604576,
          0.039521123493925885,
          0.03986605654145907,
          0.04020807953748174,
          0.04054709925758362,
          0.040883024196753416,
          0.041215764640685514,
          0.04154523273567014,
          0.041871342556987996,
          0.04219401017573405,
          0.04251315372399486,
          0.0428286934583051,
          0.04314055182131196,
          0.043448653501575576,
          0.0437529254914368,
          0.044053297142884536,
          0.04434970022135669,
          0.044642068957410894,
          0.04493034009620268,
          0.04521445294471099,
          0.04549434941665302,
          0.04576997407503178,
          0.04604127417226338,
          0.04630819968783157,
          0.046570703363420514,
          0.046828740735478915,
          0.04708227016517078,
          0.04733125286567062,
          0.04757565292676395,
          0.04781543733671592,
          0.04805057600137362,
          0.04828104176047128,
          0.04850681040110884,
          0.04872786066837821,
          0.04894417427311491,
          0.04915573589675361,
          0.049362533193272176,
          0.04956455678820856,
          0.049761800274740906,
          0.049954260206821935,
          0.050141936089363764,
          0.05032483036547105,
          0.050502948400724355,
          0.05067629846451899,
          0.0508448917084673,
          0.05100874214187576,
          0.051167866604312606,
          0.051322284735283476,
          0.051472018941037076,
          0.051617094358525836,
          0.05175753881655043,
          0.051893382794119036,
          0.052024659376057755,
          0.05215140420590994,
          0.052273655436167125,
          0.05239145367587651,
          0.052504841935674236,
          0.0526138655702962,
          0.052718572218622334,
          0.05281901174131277,
          0.05291523615609814,
          0.053007299570789104,
          0.05309525811407384,
          0.05317916986417466,
          0.05325909477543864,
          0.053335094602939934,
          0.05340723282517416,
          0.05347557456492835,
          0.05354018650841292,
          0.053601136822744255,
          0.05365849507186987,
          0.05371233213102979,
          0.05376272009985123,
          0.05380973221417467,
          0.053853442756713346,
          0.05389392696664846,
          0.05393126094826554,
          0.05396552157873939,
          0.05399678641517538,
          0.05402513360101833,
          0.05405064177194037,
          0.054073389961320384,
          0.054093457505429994,
          0.05411092394844105,
          0.05412586894737031,
          0.05413837217707831,
          0.054148513235440204,
          0.05415637154880513,
          0.05416202627786293,
          0.05416555622403547,
          0.05416703973651045,
          0.054166554620035286,
          0.05416417804358722,
          0.05415998645003675,
          0.05415405546691904,
          0.05414645981842772,
          0.05413727323874443,
          0.05412656838681519,
          0.054114416762684366,
          0.05410088862549395,
          0.054086052913254946,
          0.05406997716449507,
          0.05405272744188466,
          0.05403436825794041,
          0.05401496250290434,
          0.053994571374891547,
          0.053973254312398286,
          0.05395106892925892,
          0.05392807095213617,
          0.053904314160626646,
          0.0538798503300595,
          0.0538547291770627,
          0.05382899830796763,
          0.05380270317011871,
          0.05377588700615048,
          0.05374859081129137,
          0.053720853293747685,
          0.05369271083821845,
          0.05366419747258662,
          0.05363534483782713,
          0.053606182161169476,
          0.05357673623254567,
          0.05354703138435125,
          0.05351708947454176,
          0.053486929873082525,
          0.05345656945176435,
          0.053426022577393414,
          0.053395301108358474,
          0.05336441439457386,
          0.0533333692807917,
          0.05330217011327217,
          0.05327081874979584,
          0.05323931457299657,
          0.053207654506990436,
          0.05317583303726945,
          0.05314384223382566,
          0.0531116717774661,
          0.05307930898927435,
          0.05304673886317093,
          0.05301394410151889,
          0.052980905153718734,
          0.052947600257730716,
          0.05291400548446025,
          0.05288009478493668,
          0.05284584004021324,
          0.052811211113911856,
          0.052776175907332364,
          0.05274070041704376,
          0.05270474879487008,
          0.0526682834101823,
          0.0526312649144031,
          0.05259365230762981,
          0.05255540300727758,
          0.052516472918642615,
          0.05247681650728308,
          0.05243638687311317,
          0.052395135826103945,
          0.05235301396348323,
          0.052309970748323865,
          0.05226595458941089,
          0.05222091292227395,
          0.05217479229127291,
          0.052127538432622064,
          0.05207909635823859,
          0.05202941044030011,
          0.05197842449639622,
          0.05192608187515828,
          0.051872325542252476,
          0.05181709816662079,
          0.051760342206855665,
          0.05170199999759381,
          0.0516420138358165,
          0.05158032606694357,
          0.05151687917061037,
          0.05145161584601712,
          0.05138447909674288,
          0.05131541231491642,
          0.051244359364639426,
          0.05117126466455789,
          0.05109607326948059,
          0.05101873095094547,
          0.050939184276636386,
          0.05085738068855556,
          0.05077326857985963,
          0.050686797370269245,
          0.05059791757996522,
          0.05050658090188711,
          0.05041274027235237,
          0.05031634993991795,
          0.050217365532408846,
          0.050115744122040735,
          0.05001144428856823,
          0.04990442618039216,
          0.04979465157356339,
          0.04968208392862411,
          0.04956668844522991,
          0.04944843211450119,
          0.0493272837690533,
          0.049203214130661525,
          0.04907619585551738,
          0.048946203577038286,
          0.04881321394619565,
          0.04867720566932941,
          0.04853815954342147,
          0.048396058488803344,
          0.04825088757927715,
          0.04810263406963263,
          0.04795128742054607,
          0.04779683932085093,
          0.04763928370717304,
          0.047478616780926686,
          0.04731483702267161,
          0.047147945203833745,
          0.046977944395796195,
          0.04680483997637022,
          0.04662863963365907,
          0.04644935336732998,
          0.046266993487314535,
          0.04608157460995826,
          0.04589311365164516,
          0.045701629819924997,
          0.04550714460217344,
          0.04530968175181952,
          0.045109267272175076,
          0.04490592939790643,
          0.04469969857418792,
          0.04449060743358227,
          0.04427869077069219,
          0.044063985514633114,
          0.04384653069937561,
          0.04362636743201124,
          0.04340353885899544,
          0.04317809013042386,
          0.042950068362400305,
          0.04271952259755593,
          0.04248650376378075,
          0.042251064631230704,
          0.04201325976767443,
          0.0417731454922446,
          0.041530779827661526,
          0.04128622245099619,
          0.04103953464304163,
          0.04079077923636247,
          0.04054002056209301,
          0.040287324395555296,
          0.0400327579007684,
          0.03977638957392193,
          0.03951828918588596,
          0.03925852772383007,
          0.038997177332025505,
          0.03873431125190285,
          0.0384700037614386,
          0.03820433011394418,
          0.03793736647632954,
          0.03766918986691474,
          0.0373998780928608,
          0.037129509687292374,
          0.03685816384618249,
          0.03658592036507064,
          0.036312859575682865,
          0.0360390622825235,
          0.035764609699505824,
          0.03548958338668866,
          0.035214065187184514,
          0.03493813716430368,
          0.03466188153899776,
          0.03438538062766423,
          0.034108716780372625,
          0.03383197231957111,
          0.03355522947933139,
          0.03327857034518688,
          0.033002076794619355,
          0.032725830438245306,
          0.032449912561753634,
          0.03217440406864279,
          0.0318993854238043,
          0.03162493659799825,
          0.03135113701326281,
          0.03107806548929935,
          0.030805800190872056,
          0.03053441857625895,
          0.030263997346788807,
          0.029994612397497077,
          0.029726338768931312,
          0.029459250600134497,
          0.029193421082832415,
          0.02892892241684973,
          0.028665825766776593,
          0.02840420121990539,
          0.02814411774545611,
          0.027885643155105427,
          0.027628844064833794,
          0.027373785858101057,
          0.027120532650361642,
          0.026869147254925133,
          0.02661969115016962,
          0.02637222444810974,
          0.026126805864322575,
          0.02588349268923039,
          0.025642340760738937,
          0.025403404438227535,
          0.02516673657788569,
          0.024932388509389242,
          0.024700410013907992,
          0.024470849303434735,
          0.02424375300142411,
          0.024019166124729263,
          0.023797132066821765,
          0.023577692582280187,
          0.023360887772530793,
          0.023146756072823346,
          0.02293533424042369,
          0.022726657344004156,
          0.022520758754211712,
          0.022317670135393708,
          0.022117421438459774,
          0.021920040894858106,
          0.021725555011644315,
          0.021533988567619854,
          0.021345364610517694,
          0.021159704455211984,
          0.020977027682928497,
          0.0207973521414329,
          0.020620693946173736,
          0.020447067482356612,
          0.020276485407927654,
          0.020108958657442663,
          0.01994449644680051,
          0.01978310627881838,
          0.01962479394962781,
          0.019469563555870515,
          0.019317417502673538,
          0.0191683565123843,
          0.019022379634046464,
          0.018879484253597974,
          0.01873966610477447,
          0.01860291928070047,
          0.018469236246153025,
          0.018338607850482566,
          0.018211023341176774,
          0.018086470378054262,
          0.017964935048075514,
          0.017846401880759904,
          0.017730853864198023,
          0.017618272461649986,
          0.017508637628720677,
          0.017401927831104565,
          0.017298120062892938,
          0.017197189865437727,
          0.0170991113467665,
          0.017003857201544893,
          0.016911398731582244,
          0.016821705866878197,
          0.016734747187207865,
          0.01665048994424449,
          0.016568900084218647,
          0.016489942271113674,
          0.016413579910398025,
          0.01633977517329501,
          0.0162684890215911,
          0.01619968123298449,
          0.016133310426975498,
          0.01606933409130094,
          0.016007708608914276,
          0.015948389285513877,
          0.015891330377621516,
          0.015836485121212985,
          0.015783805760902613,
          0.01573324357968343,
          0.015684748929224137,
          0.0156382712607237,
          0.01559375915632384,
          0.015551160361079544,
          0.01551042181548631,
          0.015471489688562962,
          0.015434309411487561,
          0.015398825711783243,
          0.015364982648049995,
          0.015332723645237243,
          0.015301991530451205,
          0.015272728569289804,
          0.015244876502696802,
          0.015218376584325613,
          0.015193169618401942,
          0.01516919599807317,
          0.015146395744231026,
          0.0151247085447927,
          0.015104073794424138,
          0.015084430634687862,
          0.015065717994596132,
          0.015047874631548849,
          0.01503083917263405,
          0.015014550156267403,
          0.014998946074145637,
          0.014983965413487102,
          0.014969546699531664,
          0.014955628538270052,
          0.01494214965937183,
          0.014929048959279457,
          0.014916265544434619,
          0.014903738774601544,
          0.014891408306250829,
          0.014879214135965957,
          0.01486709664383338,
          0.014854996636776098,
          0.014842855391789218,
          0.014830614699035346,
          0.014818216904756315,
          0.014805604953957087,
          0.014792722432816707,
          0.014779513610780606,
          0.014765923482287772,
          0.014751897808085652,
          0.014737383156085552,
          0.014722326941710414,
          0.014706677467687012,
          0.014690383963234148,
          0.014673396622598514,
          0.014655666642889831,
          0.014637146261166994,
          0.014617788790727301,
          0.014597548656551088,
          0.014576381429854532,
          0.014554243861704067,
          0.01453109391564639,
          0.01450689079930893,
          0.014481594994926421,
          0.014455168288750339,
          0.014427573799298888,
          0.01439877600440665,
          0.014368740767034066,
          0.014337435359798456,
          0.014304828488189782,
          0.014270890312435806,
          0.014235592467983194,
          0.014198908084562596,
          0.014160811803807825,
          0.01412127979540111,
          0.014080289771718161,
          0.014037821000949248,
          0.013993854318674372,
          0.013948372137872743,
          0.013901358457349283,
          0.013852798868562869,
          0.013802680560843652,
          0.013750992324988998,
          0.013697724555229938,
          0.01364286924956283,
          0.013586420008442991,
          0.013528372031839687,
          0.013468722114654594,
          0.01340746864050795,
          0.013344611573899528,
          0.013280152450753771,
          0.013214094367360986,
          0.01314644196772926,
          0.013077201429363748,
          0.01300638044749273,
          0.012933988217762182,
          0.012860035417422899,
          0.012784534185036644,
          0.01270749809872987,
          0.012628942153025936,
          0.012548882734288974,
          0.012467337594814294,
          0.01238432582560272,
          0.012299867827857787,
          0.012213985283247056,
          0.012126701122969905,
          0.01203803949567674,
          0.01194802573428552,
          0.01185668632174338,
          0.011764048855782402,
          0.011670142012719976,
          0.011574995510355748,
          0.011478640070017707,
          0.011381107377811499,
          0.011282430045127858,
          0.011182641568463993
         ],
         "yaxis": "y"
        },
        {
         "legendgroup": "Train MPG",
         "marker": {
          "color": "rgb(31, 119, 180)",
          "symbol": "line-ns-open"
         },
         "mode": "markers",
         "name": "Train MPG",
         "showlegend": false,
         "type": "scatter",
         "x": [
          26,
          36,
          28,
          14,
          30,
          14,
          29,
          13,
          14,
          14,
          17,
          30,
          23,
          21,
          46.6,
          32,
          21,
          17,
          10,
          24,
          26,
          38,
          14,
          16.5,
          31.9,
          39.4,
          29.9,
          15,
          12,
          29.8,
          13,
          29,
          24,
          36.1,
          26.6,
          26,
          32.3,
          27.2,
          20.6,
          25,
          24,
          19,
          29,
          28.4,
          24,
          15,
          32.7,
          34.1,
          29,
          14,
          31,
          35,
          18,
          24.5,
          27,
          38,
          12,
          20,
          26,
          12,
          13,
          20,
          29,
          21,
          13,
          16,
          44.3,
          27.2,
          28,
          23,
          31,
          31.5,
          16,
          13,
          25,
          16,
          13,
          15.5,
          23,
          28.1,
          36.1,
          19,
          37,
          34,
          24,
          34,
          21,
          33.8,
          19.2,
          11,
          11,
          13,
          26,
          34.3,
          14.5,
          18,
          29,
          32,
          19,
          23.9,
          14,
          19,
          22,
          25,
          19,
          15,
          17.5,
          19,
          40.8,
          24.3,
          17.5,
          11,
          19,
          16,
          32,
          21.1,
          20,
          21,
          38,
          23,
          28,
          33,
          31,
          24,
          27,
          15.5,
          32.2,
          36,
          14,
          14,
          29.5,
          14,
          23.6,
          33,
          20.2,
          21,
          19,
          25,
          21.6,
          26.8,
          30,
          24,
          18,
          22,
          16,
          25.8,
          29,
          25,
          13,
          39,
          18,
          17.7,
          30.7,
          20.5,
          25,
          13,
          15,
          34.2,
          14,
          21.5,
          15,
          22,
          23,
          27.5,
          25,
          28,
          13,
          29,
          20,
          19.1,
          27,
          12,
          33.7,
          30,
          30,
          16,
          19.2,
          38.1,
          22,
          18,
          30.5,
          12,
          26,
          25.5,
          13,
          29.8,
          20,
          14,
          24,
          15,
          20,
          32,
          20.3,
          31,
          14,
          37.7,
          31,
          18,
          15,
          24,
          20,
          15,
          12,
          17.6,
          17.5,
          13,
          17,
          20.2,
          40.9,
          26,
          17.5,
          15,
          28,
          19,
          15,
          22,
          34.4,
          17,
          22.5,
          36,
          22.3,
          23.5,
          33,
          33.5,
          27,
          13,
          18.1,
          31.6,
          20.2,
          34.5,
          15.5,
          18.5,
          13,
          30.5,
          19.4,
          18.2,
          27,
          22,
          20,
          17.6,
          13,
          14,
          18,
          25.4,
          25,
          16,
          27,
          32,
          30,
          16.5,
          32,
          30,
          16.9,
          32.4,
          14,
          22,
          34.7,
          19,
          21.5,
          15,
          18.1,
          44.6,
          16,
          22,
          16,
          16.5,
          32.1,
          31.8,
          11,
          24,
          43.4,
          28,
          15,
          27,
          18,
          34.5,
          18,
          15,
          23,
          22.4,
          25,
          28,
          30.9,
          20.6,
          33.5,
          26,
          27,
          33.5,
          34.1,
          19.9,
          36,
          21,
          31.3,
          20,
          13,
          13,
          18,
          27.2,
          31,
          28,
          36,
          18,
          17,
          17,
          13,
          9,
          15,
          10,
          24.5,
          25.4,
          14,
          27.9,
          18,
          23.7,
          23,
          38,
          13,
          18.6,
          32.4,
          35,
          14,
          20.5,
          36,
          21,
          26,
          16,
          26,
          13,
          43.1,
          37.3,
          35.1,
          31,
          14,
          18.5,
          17,
          26,
          22,
          32.9,
          29.5,
          25,
          23.2,
          26,
          26.5,
          37,
          41.5,
          18,
          16,
          18.5,
          19.4,
          25.1,
          16,
          20.8,
          27.4,
          44,
          20.5,
          35.7,
          26,
          23
         ],
         "xaxis": "x",
         "y": [
          "Train MPG",
          "Train MPG",
          "Train MPG",
          "Train MPG",
          "Train MPG",
          "Train MPG",
          "Train MPG",
          "Train MPG",
          "Train MPG",
          "Train MPG",
          "Train MPG",
          "Train MPG",
          "Train MPG",
          "Train MPG",
          "Train MPG",
          "Train MPG",
          "Train MPG",
          "Train MPG",
          "Train MPG",
          "Train MPG",
          "Train MPG",
          "Train MPG",
          "Train MPG",
          "Train MPG",
          "Train MPG",
          "Train MPG",
          "Train MPG",
          "Train MPG",
          "Train MPG",
          "Train MPG",
          "Train MPG",
          "Train MPG",
          "Train MPG",
          "Train MPG",
          "Train MPG",
          "Train MPG",
          "Train MPG",
          "Train MPG",
          "Train MPG",
          "Train MPG",
          "Train MPG",
          "Train MPG",
          "Train MPG",
          "Train MPG",
          "Train MPG",
          "Train MPG",
          "Train MPG",
          "Train MPG",
          "Train MPG",
          "Train MPG",
          "Train MPG",
          "Train MPG",
          "Train MPG",
          "Train MPG",
          "Train MPG",
          "Train MPG",
          "Train MPG",
          "Train MPG",
          "Train MPG",
          "Train MPG",
          "Train MPG",
          "Train MPG",
          "Train MPG",
          "Train MPG",
          "Train MPG",
          "Train MPG",
          "Train MPG",
          "Train MPG",
          "Train MPG",
          "Train MPG",
          "Train MPG",
          "Train MPG",
          "Train MPG",
          "Train MPG",
          "Train MPG",
          "Train MPG",
          "Train MPG",
          "Train MPG",
          "Train MPG",
          "Train MPG",
          "Train MPG",
          "Train MPG",
          "Train MPG",
          "Train MPG",
          "Train MPG",
          "Train MPG",
          "Train MPG",
          "Train MPG",
          "Train MPG",
          "Train MPG",
          "Train MPG",
          "Train MPG",
          "Train MPG",
          "Train MPG",
          "Train MPG",
          "Train MPG",
          "Train MPG",
          "Train MPG",
          "Train MPG",
          "Train MPG",
          "Train MPG",
          "Train MPG",
          "Train MPG",
          "Train MPG",
          "Train MPG",
          "Train MPG",
          "Train MPG",
          "Train MPG",
          "Train MPG",
          "Train MPG",
          "Train MPG",
          "Train MPG",
          "Train MPG",
          "Train MPG",
          "Train MPG",
          "Train MPG",
          "Train MPG",
          "Train MPG",
          "Train MPG",
          "Train MPG",
          "Train MPG",
          "Train MPG",
          "Train MPG",
          "Train MPG",
          "Train MPG",
          "Train MPG",
          "Train MPG",
          "Train MPG",
          "Train MPG",
          "Train MPG",
          "Train MPG",
          "Train MPG",
          "Train MPG",
          "Train MPG",
          "Train MPG",
          "Train MPG",
          "Train MPG",
          "Train MPG",
          "Train MPG",
          "Train MPG",
          "Train MPG",
          "Train MPG",
          "Train MPG",
          "Train MPG",
          "Train MPG",
          "Train MPG",
          "Train MPG",
          "Train MPG",
          "Train MPG",
          "Train MPG",
          "Train MPG",
          "Train MPG",
          "Train MPG",
          "Train MPG",
          "Train MPG",
          "Train MPG",
          "Train MPG",
          "Train MPG",
          "Train MPG",
          "Train MPG",
          "Train MPG",
          "Train MPG",
          "Train MPG",
          "Train MPG",
          "Train MPG",
          "Train MPG",
          "Train MPG",
          "Train MPG",
          "Train MPG",
          "Train MPG",
          "Train MPG",
          "Train MPG",
          "Train MPG",
          "Train MPG",
          "Train MPG",
          "Train MPG",
          "Train MPG",
          "Train MPG",
          "Train MPG",
          "Train MPG",
          "Train MPG",
          "Train MPG",
          "Train MPG",
          "Train MPG",
          "Train MPG",
          "Train MPG",
          "Train MPG",
          "Train MPG",
          "Train MPG",
          "Train MPG",
          "Train MPG",
          "Train MPG",
          "Train MPG",
          "Train MPG",
          "Train MPG",
          "Train MPG",
          "Train MPG",
          "Train MPG",
          "Train MPG",
          "Train MPG",
          "Train MPG",
          "Train MPG",
          "Train MPG",
          "Train MPG",
          "Train MPG",
          "Train MPG",
          "Train MPG",
          "Train MPG",
          "Train MPG",
          "Train MPG",
          "Train MPG",
          "Train MPG",
          "Train MPG",
          "Train MPG",
          "Train MPG",
          "Train MPG",
          "Train MPG",
          "Train MPG",
          "Train MPG",
          "Train MPG",
          "Train MPG",
          "Train MPG",
          "Train MPG",
          "Train MPG",
          "Train MPG",
          "Train MPG",
          "Train MPG",
          "Train MPG",
          "Train MPG",
          "Train MPG",
          "Train MPG",
          "Train MPG",
          "Train MPG",
          "Train MPG",
          "Train MPG",
          "Train MPG",
          "Train MPG",
          "Train MPG",
          "Train MPG",
          "Train MPG",
          "Train MPG",
          "Train MPG",
          "Train MPG",
          "Train MPG",
          "Train MPG",
          "Train MPG",
          "Train MPG",
          "Train MPG",
          "Train MPG",
          "Train MPG",
          "Train MPG",
          "Train MPG",
          "Train MPG",
          "Train MPG",
          "Train MPG",
          "Train MPG",
          "Train MPG",
          "Train MPG",
          "Train MPG",
          "Train MPG",
          "Train MPG",
          "Train MPG",
          "Train MPG",
          "Train MPG",
          "Train MPG",
          "Train MPG",
          "Train MPG",
          "Train MPG",
          "Train MPG",
          "Train MPG",
          "Train MPG",
          "Train MPG",
          "Train MPG",
          "Train MPG",
          "Train MPG",
          "Train MPG",
          "Train MPG",
          "Train MPG",
          "Train MPG",
          "Train MPG",
          "Train MPG",
          "Train MPG",
          "Train MPG",
          "Train MPG",
          "Train MPG",
          "Train MPG",
          "Train MPG",
          "Train MPG",
          "Train MPG",
          "Train MPG",
          "Train MPG",
          "Train MPG",
          "Train MPG",
          "Train MPG",
          "Train MPG",
          "Train MPG",
          "Train MPG",
          "Train MPG",
          "Train MPG",
          "Train MPG",
          "Train MPG",
          "Train MPG",
          "Train MPG",
          "Train MPG",
          "Train MPG",
          "Train MPG",
          "Train MPG",
          "Train MPG",
          "Train MPG",
          "Train MPG",
          "Train MPG",
          "Train MPG",
          "Train MPG",
          "Train MPG",
          "Train MPG",
          "Train MPG",
          "Train MPG",
          "Train MPG",
          "Train MPG",
          "Train MPG",
          "Train MPG",
          "Train MPG",
          "Train MPG",
          "Train MPG",
          "Train MPG",
          "Train MPG",
          "Train MPG",
          "Train MPG",
          "Train MPG",
          "Train MPG",
          "Train MPG",
          "Train MPG",
          "Train MPG",
          "Train MPG",
          "Train MPG",
          "Train MPG",
          "Train MPG",
          "Train MPG",
          "Train MPG",
          "Train MPG",
          "Train MPG",
          "Train MPG",
          "Train MPG",
          "Train MPG",
          "Train MPG",
          "Train MPG",
          "Train MPG",
          "Train MPG",
          "Train MPG",
          "Train MPG",
          "Train MPG",
          "Train MPG",
          "Train MPG",
          "Train MPG",
          "Train MPG",
          "Train MPG",
          "Train MPG",
          "Train MPG"
         ],
         "yaxis": "y2"
        },
        {
         "legendgroup": "Test MPG",
         "marker": {
          "color": "rgb(255, 127, 14)",
          "symbol": "line-ns-open"
         },
         "mode": "markers",
         "name": "Test MPG",
         "showlegend": false,
         "type": "scatter",
         "x": [
          16,
          20.2,
          17.5,
          16.2,
          15,
          26.4,
          25.5,
          19,
          37.2,
          28.8,
          21.5,
          18,
          18,
          18,
          27,
          23.9,
          19.8,
          19.2,
          26,
          37,
          31.5,
          23,
          18,
          39.1,
          24.2,
          36.4,
          23,
          28,
          32.8,
          25,
          15,
          15.5,
          28,
          14,
          22,
          26.6,
          23.8,
          24,
          19,
          15.5
         ],
         "xaxis": "x",
         "y": [
          "Test MPG",
          "Test MPG",
          "Test MPG",
          "Test MPG",
          "Test MPG",
          "Test MPG",
          "Test MPG",
          "Test MPG",
          "Test MPG",
          "Test MPG",
          "Test MPG",
          "Test MPG",
          "Test MPG",
          "Test MPG",
          "Test MPG",
          "Test MPG",
          "Test MPG",
          "Test MPG",
          "Test MPG",
          "Test MPG",
          "Test MPG",
          "Test MPG",
          "Test MPG",
          "Test MPG",
          "Test MPG",
          "Test MPG",
          "Test MPG",
          "Test MPG",
          "Test MPG",
          "Test MPG",
          "Test MPG",
          "Test MPG",
          "Test MPG",
          "Test MPG",
          "Test MPG",
          "Test MPG",
          "Test MPG",
          "Test MPG",
          "Test MPG",
          "Test MPG"
         ],
         "yaxis": "y2"
        }
       ],
       "layout": {
        "barmode": "overlay",
        "hovermode": "closest",
        "legend": {
         "traceorder": "reversed"
        },
        "template": {
         "data": {
          "bar": [
           {
            "error_x": {
             "color": "#2a3f5f"
            },
            "error_y": {
             "color": "#2a3f5f"
            },
            "marker": {
             "line": {
              "color": "#E5ECF6",
              "width": 0.5
             },
             "pattern": {
              "fillmode": "overlay",
              "size": 10,
              "solidity": 0.2
             }
            },
            "type": "bar"
           }
          ],
          "barpolar": [
           {
            "marker": {
             "line": {
              "color": "#E5ECF6",
              "width": 0.5
             },
             "pattern": {
              "fillmode": "overlay",
              "size": 10,
              "solidity": 0.2
             }
            },
            "type": "barpolar"
           }
          ],
          "carpet": [
           {
            "aaxis": {
             "endlinecolor": "#2a3f5f",
             "gridcolor": "white",
             "linecolor": "white",
             "minorgridcolor": "white",
             "startlinecolor": "#2a3f5f"
            },
            "baxis": {
             "endlinecolor": "#2a3f5f",
             "gridcolor": "white",
             "linecolor": "white",
             "minorgridcolor": "white",
             "startlinecolor": "#2a3f5f"
            },
            "type": "carpet"
           }
          ],
          "choropleth": [
           {
            "colorbar": {
             "outlinewidth": 0,
             "ticks": ""
            },
            "type": "choropleth"
           }
          ],
          "contour": [
           {
            "colorbar": {
             "outlinewidth": 0,
             "ticks": ""
            },
            "colorscale": [
             [
              0,
              "#0d0887"
             ],
             [
              0.1111111111111111,
              "#46039f"
             ],
             [
              0.2222222222222222,
              "#7201a8"
             ],
             [
              0.3333333333333333,
              "#9c179e"
             ],
             [
              0.4444444444444444,
              "#bd3786"
             ],
             [
              0.5555555555555556,
              "#d8576b"
             ],
             [
              0.6666666666666666,
              "#ed7953"
             ],
             [
              0.7777777777777778,
              "#fb9f3a"
             ],
             [
              0.8888888888888888,
              "#fdca26"
             ],
             [
              1,
              "#f0f921"
             ]
            ],
            "type": "contour"
           }
          ],
          "contourcarpet": [
           {
            "colorbar": {
             "outlinewidth": 0,
             "ticks": ""
            },
            "type": "contourcarpet"
           }
          ],
          "heatmap": [
           {
            "colorbar": {
             "outlinewidth": 0,
             "ticks": ""
            },
            "colorscale": [
             [
              0,
              "#0d0887"
             ],
             [
              0.1111111111111111,
              "#46039f"
             ],
             [
              0.2222222222222222,
              "#7201a8"
             ],
             [
              0.3333333333333333,
              "#9c179e"
             ],
             [
              0.4444444444444444,
              "#bd3786"
             ],
             [
              0.5555555555555556,
              "#d8576b"
             ],
             [
              0.6666666666666666,
              "#ed7953"
             ],
             [
              0.7777777777777778,
              "#fb9f3a"
             ],
             [
              0.8888888888888888,
              "#fdca26"
             ],
             [
              1,
              "#f0f921"
             ]
            ],
            "type": "heatmap"
           }
          ],
          "heatmapgl": [
           {
            "colorbar": {
             "outlinewidth": 0,
             "ticks": ""
            },
            "colorscale": [
             [
              0,
              "#0d0887"
             ],
             [
              0.1111111111111111,
              "#46039f"
             ],
             [
              0.2222222222222222,
              "#7201a8"
             ],
             [
              0.3333333333333333,
              "#9c179e"
             ],
             [
              0.4444444444444444,
              "#bd3786"
             ],
             [
              0.5555555555555556,
              "#d8576b"
             ],
             [
              0.6666666666666666,
              "#ed7953"
             ],
             [
              0.7777777777777778,
              "#fb9f3a"
             ],
             [
              0.8888888888888888,
              "#fdca26"
             ],
             [
              1,
              "#f0f921"
             ]
            ],
            "type": "heatmapgl"
           }
          ],
          "histogram": [
           {
            "marker": {
             "pattern": {
              "fillmode": "overlay",
              "size": 10,
              "solidity": 0.2
             }
            },
            "type": "histogram"
           }
          ],
          "histogram2d": [
           {
            "colorbar": {
             "outlinewidth": 0,
             "ticks": ""
            },
            "colorscale": [
             [
              0,
              "#0d0887"
             ],
             [
              0.1111111111111111,
              "#46039f"
             ],
             [
              0.2222222222222222,
              "#7201a8"
             ],
             [
              0.3333333333333333,
              "#9c179e"
             ],
             [
              0.4444444444444444,
              "#bd3786"
             ],
             [
              0.5555555555555556,
              "#d8576b"
             ],
             [
              0.6666666666666666,
              "#ed7953"
             ],
             [
              0.7777777777777778,
              "#fb9f3a"
             ],
             [
              0.8888888888888888,
              "#fdca26"
             ],
             [
              1,
              "#f0f921"
             ]
            ],
            "type": "histogram2d"
           }
          ],
          "histogram2dcontour": [
           {
            "colorbar": {
             "outlinewidth": 0,
             "ticks": ""
            },
            "colorscale": [
             [
              0,
              "#0d0887"
             ],
             [
              0.1111111111111111,
              "#46039f"
             ],
             [
              0.2222222222222222,
              "#7201a8"
             ],
             [
              0.3333333333333333,
              "#9c179e"
             ],
             [
              0.4444444444444444,
              "#bd3786"
             ],
             [
              0.5555555555555556,
              "#d8576b"
             ],
             [
              0.6666666666666666,
              "#ed7953"
             ],
             [
              0.7777777777777778,
              "#fb9f3a"
             ],
             [
              0.8888888888888888,
              "#fdca26"
             ],
             [
              1,
              "#f0f921"
             ]
            ],
            "type": "histogram2dcontour"
           }
          ],
          "mesh3d": [
           {
            "colorbar": {
             "outlinewidth": 0,
             "ticks": ""
            },
            "type": "mesh3d"
           }
          ],
          "parcoords": [
           {
            "line": {
             "colorbar": {
              "outlinewidth": 0,
              "ticks": ""
             }
            },
            "type": "parcoords"
           }
          ],
          "pie": [
           {
            "automargin": true,
            "type": "pie"
           }
          ],
          "scatter": [
           {
            "fillpattern": {
             "fillmode": "overlay",
             "size": 10,
             "solidity": 0.2
            },
            "type": "scatter"
           }
          ],
          "scatter3d": [
           {
            "line": {
             "colorbar": {
              "outlinewidth": 0,
              "ticks": ""
             }
            },
            "marker": {
             "colorbar": {
              "outlinewidth": 0,
              "ticks": ""
             }
            },
            "type": "scatter3d"
           }
          ],
          "scattercarpet": [
           {
            "marker": {
             "colorbar": {
              "outlinewidth": 0,
              "ticks": ""
             }
            },
            "type": "scattercarpet"
           }
          ],
          "scattergeo": [
           {
            "marker": {
             "colorbar": {
              "outlinewidth": 0,
              "ticks": ""
             }
            },
            "type": "scattergeo"
           }
          ],
          "scattergl": [
           {
            "marker": {
             "colorbar": {
              "outlinewidth": 0,
              "ticks": ""
             }
            },
            "type": "scattergl"
           }
          ],
          "scattermapbox": [
           {
            "marker": {
             "colorbar": {
              "outlinewidth": 0,
              "ticks": ""
             }
            },
            "type": "scattermapbox"
           }
          ],
          "scatterpolar": [
           {
            "marker": {
             "colorbar": {
              "outlinewidth": 0,
              "ticks": ""
             }
            },
            "type": "scatterpolar"
           }
          ],
          "scatterpolargl": [
           {
            "marker": {
             "colorbar": {
              "outlinewidth": 0,
              "ticks": ""
             }
            },
            "type": "scatterpolargl"
           }
          ],
          "scatterternary": [
           {
            "marker": {
             "colorbar": {
              "outlinewidth": 0,
              "ticks": ""
             }
            },
            "type": "scatterternary"
           }
          ],
          "surface": [
           {
            "colorbar": {
             "outlinewidth": 0,
             "ticks": ""
            },
            "colorscale": [
             [
              0,
              "#0d0887"
             ],
             [
              0.1111111111111111,
              "#46039f"
             ],
             [
              0.2222222222222222,
              "#7201a8"
             ],
             [
              0.3333333333333333,
              "#9c179e"
             ],
             [
              0.4444444444444444,
              "#bd3786"
             ],
             [
              0.5555555555555556,
              "#d8576b"
             ],
             [
              0.6666666666666666,
              "#ed7953"
             ],
             [
              0.7777777777777778,
              "#fb9f3a"
             ],
             [
              0.8888888888888888,
              "#fdca26"
             ],
             [
              1,
              "#f0f921"
             ]
            ],
            "type": "surface"
           }
          ],
          "table": [
           {
            "cells": {
             "fill": {
              "color": "#EBF0F8"
             },
             "line": {
              "color": "white"
             }
            },
            "header": {
             "fill": {
              "color": "#C8D4E3"
             },
             "line": {
              "color": "white"
             }
            },
            "type": "table"
           }
          ]
         },
         "layout": {
          "annotationdefaults": {
           "arrowcolor": "#2a3f5f",
           "arrowhead": 0,
           "arrowwidth": 1
          },
          "autotypenumbers": "strict",
          "coloraxis": {
           "colorbar": {
            "outlinewidth": 0,
            "ticks": ""
           }
          },
          "colorscale": {
           "diverging": [
            [
             0,
             "#8e0152"
            ],
            [
             0.1,
             "#c51b7d"
            ],
            [
             0.2,
             "#de77ae"
            ],
            [
             0.3,
             "#f1b6da"
            ],
            [
             0.4,
             "#fde0ef"
            ],
            [
             0.5,
             "#f7f7f7"
            ],
            [
             0.6,
             "#e6f5d0"
            ],
            [
             0.7,
             "#b8e186"
            ],
            [
             0.8,
             "#7fbc41"
            ],
            [
             0.9,
             "#4d9221"
            ],
            [
             1,
             "#276419"
            ]
           ],
           "sequential": [
            [
             0,
             "#0d0887"
            ],
            [
             0.1111111111111111,
             "#46039f"
            ],
            [
             0.2222222222222222,
             "#7201a8"
            ],
            [
             0.3333333333333333,
             "#9c179e"
            ],
            [
             0.4444444444444444,
             "#bd3786"
            ],
            [
             0.5555555555555556,
             "#d8576b"
            ],
            [
             0.6666666666666666,
             "#ed7953"
            ],
            [
             0.7777777777777778,
             "#fb9f3a"
            ],
            [
             0.8888888888888888,
             "#fdca26"
            ],
            [
             1,
             "#f0f921"
            ]
           ],
           "sequentialminus": [
            [
             0,
             "#0d0887"
            ],
            [
             0.1111111111111111,
             "#46039f"
            ],
            [
             0.2222222222222222,
             "#7201a8"
            ],
            [
             0.3333333333333333,
             "#9c179e"
            ],
            [
             0.4444444444444444,
             "#bd3786"
            ],
            [
             0.5555555555555556,
             "#d8576b"
            ],
            [
             0.6666666666666666,
             "#ed7953"
            ],
            [
             0.7777777777777778,
             "#fb9f3a"
            ],
            [
             0.8888888888888888,
             "#fdca26"
            ],
            [
             1,
             "#f0f921"
            ]
           ]
          },
          "colorway": [
           "#636efa",
           "#EF553B",
           "#00cc96",
           "#ab63fa",
           "#FFA15A",
           "#19d3f3",
           "#FF6692",
           "#B6E880",
           "#FF97FF",
           "#FECB52"
          ],
          "font": {
           "color": "#2a3f5f"
          },
          "geo": {
           "bgcolor": "white",
           "lakecolor": "white",
           "landcolor": "#E5ECF6",
           "showlakes": true,
           "showland": true,
           "subunitcolor": "white"
          },
          "hoverlabel": {
           "align": "left"
          },
          "hovermode": "closest",
          "mapbox": {
           "style": "light"
          },
          "paper_bgcolor": "white",
          "plot_bgcolor": "#E5ECF6",
          "polar": {
           "angularaxis": {
            "gridcolor": "white",
            "linecolor": "white",
            "ticks": ""
           },
           "bgcolor": "#E5ECF6",
           "radialaxis": {
            "gridcolor": "white",
            "linecolor": "white",
            "ticks": ""
           }
          },
          "scene": {
           "xaxis": {
            "backgroundcolor": "#E5ECF6",
            "gridcolor": "white",
            "gridwidth": 2,
            "linecolor": "white",
            "showbackground": true,
            "ticks": "",
            "zerolinecolor": "white"
           },
           "yaxis": {
            "backgroundcolor": "#E5ECF6",
            "gridcolor": "white",
            "gridwidth": 2,
            "linecolor": "white",
            "showbackground": true,
            "ticks": "",
            "zerolinecolor": "white"
           },
           "zaxis": {
            "backgroundcolor": "#E5ECF6",
            "gridcolor": "white",
            "gridwidth": 2,
            "linecolor": "white",
            "showbackground": true,
            "ticks": "",
            "zerolinecolor": "white"
           }
          },
          "shapedefaults": {
           "line": {
            "color": "#2a3f5f"
           }
          },
          "ternary": {
           "aaxis": {
            "gridcolor": "white",
            "linecolor": "white",
            "ticks": ""
           },
           "baxis": {
            "gridcolor": "white",
            "linecolor": "white",
            "ticks": ""
           },
           "bgcolor": "#E5ECF6",
           "caxis": {
            "gridcolor": "white",
            "linecolor": "white",
            "ticks": ""
           }
          },
          "title": {
           "x": 0.05
          },
          "xaxis": {
           "automargin": true,
           "gridcolor": "white",
           "linecolor": "white",
           "ticks": "",
           "title": {
            "standoff": 15
           },
           "zerolinecolor": "white",
           "zerolinewidth": 2
          },
          "yaxis": {
           "automargin": true,
           "gridcolor": "white",
           "linecolor": "white",
           "ticks": "",
           "title": {
            "standoff": 15
           },
           "zerolinecolor": "white",
           "zerolinewidth": 2
          }
         }
        },
        "xaxis": {
         "anchor": "y2",
         "domain": [
          0,
          1
         ],
         "zeroline": false
        },
        "yaxis": {
         "anchor": "free",
         "domain": [
          0.35,
          1
         ],
         "position": 0
        },
        "yaxis2": {
         "anchor": "x",
         "domain": [
          0,
          0.25
         ],
         "dtick": 1,
         "showticklabels": false
        }
       }
      },
      "text/html": [
       "<div>                            <div id=\"110a9c08-6fd3-4b12-af16-27dce2b78a38\" class=\"plotly-graph-div\" style=\"height:525px; width:100%;\"></div>            <script type=\"text/javascript\">                require([\"plotly\"], function(Plotly) {                    window.PLOTLYENV=window.PLOTLYENV || {};                                    if (document.getElementById(\"110a9c08-6fd3-4b12-af16-27dce2b78a38\")) {                    Plotly.newPlot(                        \"110a9c08-6fd3-4b12-af16-27dce2b78a38\",                        [{\"autobinx\":false,\"histnorm\":\"probability density\",\"legendgroup\":\"Train MPG\",\"marker\":{\"color\":\"rgb(31, 119, 180)\"},\"name\":\"Train MPG\",\"opacity\":0.7,\"x\":[26.0,36.0,28.0,14.0,30.0,14.0,29.0,13.0,14.0,14.0,17.0,30.0,23.0,21.0,46.6,32.0,21.0,17.0,10.0,24.0,26.0,38.0,14.0,16.5,31.9,39.4,29.9,15.0,12.0,29.8,13.0,29.0,24.0,36.1,26.6,26.0,32.3,27.2,20.6,25.0,24.0,19.0,29.0,28.4,24.0,15.0,32.7,34.1,29.0,14.0,31.0,35.0,18.0,24.5,27.0,38.0,12.0,20.0,26.0,12.0,13.0,20.0,29.0,21.0,13.0,16.0,44.3,27.2,28.0,23.0,31.0,31.5,16.0,13.0,25.0,16.0,13.0,15.5,23.0,28.1,36.1,19.0,37.0,34.0,24.0,34.0,21.0,33.8,19.2,11.0,11.0,13.0,26.0,34.3,14.5,18.0,29.0,32.0,19.0,23.9,14.0,19.0,22.0,25.0,19.0,15.0,17.5,19.0,40.8,24.3,17.5,11.0,19.0,16.0,32.0,21.1,20.0,21.0,38.0,23.0,28.0,33.0,31.0,24.0,27.0,15.5,32.2,36.0,14.0,14.0,29.5,14.0,23.6,33.0,20.2,21.0,19.0,25.0,21.6,26.8,30.0,24.0,18.0,22.0,16.0,25.8,29.0,25.0,13.0,39.0,18.0,17.7,30.7,20.5,25.0,13.0,15.0,34.2,14.0,21.5,15.0,22.0,23.0,27.5,25.0,28.0,13.0,29.0,20.0,19.1,27.0,12.0,33.7,30.0,30.0,16.0,19.2,38.1,22.0,18.0,30.5,12.0,26.0,25.5,13.0,29.8,20.0,14.0,24.0,15.0,20.0,32.0,20.3,31.0,14.0,37.7,31.0,18.0,15.0,24.0,20.0,15.0,12.0,17.6,17.5,13.0,17.0,20.2,40.9,26.0,17.5,15.0,28.0,19.0,15.0,22.0,34.4,17.0,22.5,36.0,22.3,23.5,33.0,33.5,27.0,13.0,18.1,31.6,20.2,34.5,15.5,18.5,13.0,30.5,19.4,18.2,27.0,22.0,20.0,17.6,13.0,14.0,18.0,25.4,25.0,16.0,27.0,32.0,30.0,16.5,32.0,30.0,16.9,32.4,14.0,22.0,34.7,19.0,21.5,15.0,18.1,44.6,16.0,22.0,16.0,16.5,32.1,31.8,11.0,24.0,43.4,28.0,15.0,27.0,18.0,34.5,18.0,15.0,23.0,22.4,25.0,28.0,30.9,20.6,33.5,26.0,27.0,33.5,34.1,19.9,36.0,21.0,31.3,20.0,13.0,13.0,18.0,27.2,31.0,28.0,36.0,18.0,17.0,17.0,13.0,9.0,15.0,10.0,24.5,25.4,14.0,27.9,18.0,23.7,23.0,38.0,13.0,18.6,32.4,35.0,14.0,20.5,36.0,21.0,26.0,16.0,26.0,13.0,43.1,37.3,35.1,31.0,14.0,18.5,17.0,26.0,22.0,32.9,29.5,25.0,23.2,26.0,26.5,37.0,41.5,18.0,16.0,18.5,19.4,25.1,16.0,20.8,27.4,44.0,20.5,35.7,26.0,23.0],\"xaxis\":\"x\",\"xbins\":{\"end\":46.6,\"size\":1,\"start\":9.0},\"yaxis\":\"y\",\"type\":\"histogram\"},{\"autobinx\":false,\"histnorm\":\"probability density\",\"legendgroup\":\"Test MPG\",\"marker\":{\"color\":\"rgb(255, 127, 14)\"},\"name\":\"Test MPG\",\"opacity\":0.7,\"x\":[16.0,20.2,17.5,16.2,15.0,26.4,25.5,19.0,37.2,28.8,21.5,18.0,18.0,18.0,27.0,23.9,19.8,19.2,26.0,37.0,31.5,23.0,18.0,39.1,24.2,36.4,23.0,28.0,32.8,25.0,15.0,15.5,28.0,14.0,22.0,26.6,23.8,24.0,19.0,15.5],\"xaxis\":\"x\",\"xbins\":{\"end\":39.1,\"size\":1,\"start\":14.0},\"yaxis\":\"y\",\"type\":\"histogram\"},{\"legendgroup\":\"Train MPG\",\"marker\":{\"color\":\"rgb(31, 119, 180)\"},\"mode\":\"lines\",\"name\":\"Train MPG\",\"showlegend\":false,\"x\":[9.0,9.0752,9.1504,9.2256,9.3008,9.376,9.4512,9.5264,9.6016,9.6768,9.752,9.8272,9.9024,9.9776,10.0528,10.128,10.2032,10.2784,10.3536,10.428799999999999,10.504,10.5792,10.6544,10.7296,10.8048,10.879999999999999,10.9552,11.0304,11.105599999999999,11.1808,11.256,11.3312,11.4064,11.4816,11.556799999999999,11.632,11.7072,11.782399999999999,11.8576,11.9328,12.008,12.0832,12.1584,12.2336,12.3088,12.384,12.4592,12.5344,12.6096,12.6848,12.76,12.8352,12.9104,12.9856,13.0608,13.136,13.2112,13.2864,13.3616,13.4368,13.512,13.5872,13.662400000000002,13.7376,13.8128,13.888,13.9632,14.0384,14.1136,14.1888,14.264,14.3392,14.4144,14.4896,14.5648,14.64,14.7152,14.790400000000002,14.8656,14.9408,15.016,15.0912,15.1664,15.2416,15.3168,15.392,15.4672,15.5424,15.6176,15.6928,15.768,15.8432,15.9184,15.9936,16.0688,16.144,16.2192,16.2944,16.3696,16.4448,16.52,16.595200000000002,16.6704,16.7456,16.8208,16.896,16.9712,17.0464,17.1216,17.196800000000003,17.272,17.3472,17.4224,17.4976,17.5728,17.648,17.7232,17.7984,17.8736,17.9488,18.024,18.099200000000003,18.1744,18.2496,18.324800000000003,18.4,18.4752,18.5504,18.6256,18.7008,18.776,18.8512,18.9264,19.0016,19.0768,19.152,19.2272,19.3024,19.3776,19.452800000000003,19.528,19.6032,19.6784,19.7536,19.8288,19.904,19.9792,20.0544,20.1296,20.2048,20.28,20.3552,20.4304,20.5056,20.580800000000004,20.656,20.7312,20.8064,20.8816,20.9568,21.032,21.1072,21.1824,21.2576,21.3328,21.408,21.4832,21.5584,21.6336,21.708800000000004,21.784,21.8592,21.9344,22.0096,22.0848,22.16,22.2352,22.3104,22.3856,22.4608,22.536,22.6112,22.6864,22.7616,22.8368,22.912,22.9872,23.0624,23.1376,23.2128,23.288,23.3632,23.4384,23.5136,23.5888,23.664,23.7392,23.8144,23.8896,23.9648,24.04,24.1152,24.190400000000004,24.2656,24.3408,24.416,24.4912,24.5664,24.6416,24.7168,24.792,24.8672,24.9424,25.0176,25.0928,25.168,25.2432,25.3184,25.393600000000003,25.468799999999998,25.544,25.6192,25.6944,25.7696,25.8448,25.92,25.9952,26.070400000000003,26.1456,26.2208,26.296,26.3712,26.4464,26.521600000000003,26.596799999999998,26.672,26.7472,26.822400000000002,26.8976,26.9728,27.048,27.1232,27.198400000000003,27.273600000000002,27.3488,27.424,27.499200000000002,27.5744,27.649600000000003,27.7248,27.8,27.8752,27.950400000000002,28.0256,28.1008,28.176,28.2512,28.326400000000003,28.401600000000002,28.4768,28.552,28.627200000000002,28.7024,28.777600000000003,28.8528,28.928,29.0032,29.078400000000002,29.1536,29.2288,29.304,29.3792,29.4544,29.529600000000002,29.6048,29.68,29.755200000000002,29.8304,29.905600000000003,29.9808,30.056,30.1312,30.206400000000002,30.2816,30.3568,30.432,30.5072,30.5824,30.657600000000002,30.7328,30.808,30.883200000000002,30.9584,31.033600000000003,31.1088,31.184,31.2592,31.334400000000002,31.4096,31.4848,31.56,31.6352,31.7104,31.785600000000002,31.860799999999998,31.936,32.0112,32.0864,32.16160000000001,32.2368,32.312,32.3872,32.4624,32.5376,32.6128,32.688,32.7632,32.8384,32.9136,32.9888,33.064,33.1392,33.2144,33.28960000000001,33.3648,33.44,33.5152,33.5904,33.6656,33.7408,33.816,33.8912,33.9664,34.0416,34.1168,34.192,34.2672,34.3424,34.41760000000001,34.4928,34.568,34.6432,34.7184,34.7936,34.8688,34.944,35.0192,35.0944,35.1696,35.2448,35.32,35.3952,35.4704,35.54560000000001,35.6208,35.696,35.7712,35.8464,35.9216,35.9968,36.072,36.1472,36.2224,36.2976,36.3728,36.448,36.5232,36.5984,36.6736,36.7488,36.824,36.8992,36.9744,37.0496,37.1248,37.2,37.2752,37.3504,37.4256,37.5008,37.576,37.6512,37.7264,37.8016,37.8768,37.952,38.0272,38.1024,38.1776,38.25280000000001,38.328,38.4032,38.4784,38.5536,38.6288,38.704,38.7792,38.8544,38.9296,39.0048,39.08,39.1552,39.2304,39.3056,39.38080000000001,39.456,39.5312,39.6064,39.6816,39.7568,39.832,39.9072,39.9824,40.0576,40.1328,40.208,40.2832,40.3584,40.4336,40.50880000000001,40.584,40.6592,40.7344,40.8096,40.8848,40.96,41.0352,41.1104,41.1856,41.2608,41.336,41.4112,41.4864,41.561600000000006,41.6368,41.712,41.787200000000006,41.8624,41.937599999999996,42.012800000000006,42.088,42.1632,42.2384,42.3136,42.3888,42.464,42.5392,42.6144,42.6896,42.7648,42.84,42.915200000000006,42.9904,43.065599999999996,43.140800000000006,43.216,43.2912,43.3664,43.4416,43.5168,43.592,43.6672,43.7424,43.8176,43.8928,43.968,44.043200000000006,44.1184,44.193599999999996,44.268800000000006,44.344,44.419200000000004,44.4944,44.5696,44.644800000000004,44.72,44.7952,44.870400000000004,44.9456,45.0208,45.096,45.171200000000006,45.2464,45.3216,45.396800000000006,45.472,45.547200000000004,45.6224,45.6976,45.772800000000004,45.848,45.9232,45.998400000000004,46.0736,46.1488,46.224,46.299200000000006,46.3744,46.4496,46.524800000000006],\"xaxis\":\"x\",\"y\":[0.007833858316137587,0.008156824565563837,0.008488699961152644,0.008829492731440129,0.009179196748171865,0.009537790977452817,0.009905238959436817,0.010281488320338128,0.010666470320557597,0.011060099442698146,0.011462273023200973,0.011872870931261785,0.012291755298586214,0.012718770303411479,0.01315374201206394,0.013596478281129077,0.014046768723091801,0.01450438473805413,0.014969079613858977,0.01544058869664111,0.015918629633493164,0.01640290268857515,0.016893091133613893,0.01738886171333447,0.017889865185943054,0.01839573693834222,0.018906097675305576,0.019420554181377045,0.01993870015378894,0.020460117104219813,0.020984375326738695,0.02151103492881231,0.022039646921789998,0.022569754366828114,0.023100893571781893,0.023632595334173744,0.024164386224954752,0.024695789907408082,0.025226328485205736,0.025755523873327756,0.0262828991852847,0.026807980129859976,0.027330296410401148,0.02784938311955234,0.028364782122226297,0.028876043419570837,0.029382726486688413,0.029884401576927632,0.03038065098566902,0.030871070266688776,0.03135526939439241,0.031832873865470776,0.0323035257338369,0.03276688457306006,0.03322262836090994,0.0336704542810679,0.03411007943754268,0.03454124147784446,0.03496369912151997,0.035377232591231995,0.0357816439441626,0.03617675730214563,0.03656241897956757,0.03693849750872028,0.03730488356294481,0.03766148977854975,0.03800825047713945,0.03834512129062037,0.0386720786917737,0.03898911943388535,0.039296259903500094,0.03959353539091132,0.03988099928351587,0.04015872218763565,0.04042679098484524,0.04068530782923568,0.04093438909238752,0.041174164263120844,0.041404774809331545,0.04162637300941214,0.04183912076088873,0.04204318837398342,0.04223875335783461,0.04242599920707385,0.042605114196368955,0.04277629019040132,0.04293972147655054,0.043095603627314356,0.04324413239919785,0.04338550267446783,0.043519907451787236,0.0436475368913241,0.04376857741947441,0.04388321089785193,0.0439916138606838,0.04409395682421331,0.04419040367115777,0.04428111111269649,0.04436622822988813,0.04444589609583127,0.04452024747929478,0.04458940662996858,0.044653489144909894,0.04471260191519797,0.04476684315127171,0.04481630248489484,0.044861061145198715,0.04490119220577426,0.044936760899346534,0.044967824996150325,0.04499443524175255,0.04501663584972629,0.04503446504428332,0.04504795564770932,0.04505713570723011,0.04506202915575604,0.04506265650082061,0.045059035535930464,0.04505118206849872,0.04503911065851634,0.04502283536214876,0.04500237047451393,0.04497773126599976,0.044948934706623846,0.04491600017311109,0.044878950133572,0.044837810804901325,0.044792612778279076,0.044743391608445995,0.044690188362731746,0.04463305012614988,0.04457203045921281,0.04450718980548787,0.044438595846281556,0.044366323800223186,0.04429045666590709,0.04421108540613801,0.04412830907272342,0.044042234871140166,0.04395297816479496,0.043860662418975675,0.04376541908496698,0.04366738742516558,0.043566714280382786,0.043463553780862446,0.043358067002864646,0.04325042157297496,0.043140791222590014,0.043029355295299804,0.04291629821014447,0.04280180888394954,0.04268608011616002,0.04256930793978036,0.0424516909421941,0.04233342955978295,0.042214725350386784,0.04209578024774242,0.0419767958021169,0.04185797241140288,0.041739508546971706,0.04162159997858927,0.041504439002681685,0.04138821367820111,0.04127310707428335,0.04115929653380793,0.041046952956870844,0.04093624010806025,0.04082731395128457,0.040720322015747996,0.04061540279648863,0.040512685192708515,0.04041228798691445,0.0403143193676685,0.04021887649851338,0.04012604513539136,0.04003589929461754,0.039948500973202114,0.03986389992304067,0.03978213348020957,0.03970322645031601,0.039627191050559105,0.039554026908864406,0.03948372112015883,0.039416248359553256,0.03935157105191002,0.03928963959697746,0.03923039264898735,0.03917375744933024,0.039119650210647984,0.03906797655042047,0.03901863197186437,0.0389715023897207,0.03892646469827545,0.038883387378740815,0.038842131142920434,0.03880254960990045,0.038764490012330885,0.038727793928720194,0.03869229803802591,0.03865783489271615,0.038624233706382294,0.03859132115191132,0.03855892216617771,0.03852686075718285,0.03849496080956503,0.03846304688441592,0.03843094500937706,0.03839848345504523,0.038365493493797975,0.038331810137246826,0.03829727284864941,0.03826172622675002,0.03822502065767756,0.03818701293170869,0.03814756682189646,0.03810655362177934,0.038063852639608174,0.038019351646771136,0.03797294727834973,0.03792454538399986,0.03787406132763145,0.037821420234636235,0.037766557185704895,0.03770941735657073,0.037649956103309144,0.03758813899312586,0.03752394178086366,0.03745735033175509,0.037388360491242154,0.037316977902974516,0.03724321777637729,0.037167104605455664,0.03708867184076412,0.03700796151672401,0.03692502383670859,0.03683991671853943,0.036752705303248846,0.03666346143015133,0.036572263081440654,0.036479193799684256,0.0363843420817175,0.036287800752553195,0.03618966632301185,0.036090038334846426,0.03598901869717841,0.035886711018084945,0.035783219935175976,0.03567865044897323,0.035573107262857624,0.035466694133278985,0.03535951323383169,0.035251664536682784,0.035143245214706784,0.035034349067524354,0.03492506597446977,0.03481548137731997,0.034705675795410264,0.03459572437554062,0.034485696478838264,0.034375655306497596,0.03426565756605919,0.034155753179622814,0.03404598503512236,0.033936388781507155,0.03382699266840023,0.03371781743052287,0.03360887621689518,0.03350017456454911,0.03339171041621792,0.03328347418120491,0.03317544883837821,0.03306761007999482,0.032959926494822905,0.03285235978881615,0.03274486504138563,0.03263739099512965,0.032529880376710126,0.03242227024641208,0.03231449237378932,0.03220647363668536,0.032098136440826645,0.03198939915711178,0.031880176573668574,0.03177038035972141,0.03165991953829957,0.03154870096482966,0.03143662980868571,0.03132361003481883,0.031209544882660464,0.03109433733957721,0.030977890606260952,0.030860108551555743,0.030740896154358318,0.03062015993037559,0.03049780834168101,0.030373752187181566,0.030247904972285914,0.0301201832562471,0.02999050697584738,0.029858799744285562,0.02972498912432659,0.0295890068749689,0.02945078917108839,0.029310276795706327,0.02916741530472827,0.029022155164184184,0.028874451860182133,0.028724265981962715,0.028571563278607725,0.02841631469010958,0.028258496353657715,0.028098089586130106,0.027935080843902376,0.02776946166119626,0.027601228568288623,0.02743038299098622,0.02725693113284215,0.027080883841649174,0.026902256461790855,0.02672106867406079,0.026537344324581765,0.026351111244461448,0.02616240106181696,0.025971249007781295,0.025777693718079458,0.02558177703171965,0.02538354378830011,0.02518304162537262,0.024980320777239152,0.024775433876484402,0.024568435759469782,0.024359383276925897,0.024148335110693784,0.02393535159756981,0.023720494561111135,0.02350382715216076,0.02328541369874849,0.023065319565922577,0.02284361102596411,0.02262035513933581,0.02239561964661295,0.022169472871550036,0.021941983635335994,0.02171322118199963,0.02148325511483517,0.021252155343633287,0.021019992042418136,0.020786835617314457,0.02055275668409564,0.02031782605489621,0.02008211473350659,0.01984569391861606,0.019608635014312228,0.019371009647104812,0.01913288968869788,0.018894347283702657,0.01865545488145474,0.018416285271077158,0.01817691161891483,0.01793740750745591,0.0176978469748522,0.017458304554150646,0.017218855311357605,0.016979574881469194,0.016740539501619862,0.01650182604052623,0.016263512023430893,0.016025675651787162,0.015788395816962286,0.015551752107283108,0.015315824807793268,0.015080694892145679,0.01484644400610822,0.014613154442220536,0.0143809091052027,0.01414979146778117,0.013919885516666149,0.013691275688483603,0.0134640467955375,0.013238283941350508,0.013014072426004763,0.012791497641379199,0.012570644956453814,0.01235159959292439,0.01213444649144499,0.011919270168885769,0.011706154567064246,0.011495182893474202,0.011286437454602439,0.011079999482483055,0.010875948955198871,0.010674364412091715,0.010475322764494177,0.01027889910283982,0.01008516650104914,0.009894195819123531,0.009706055504909153,0.009520811396016142,0.009338526522897083,0.009159260914101035,0.008983071404724884,0.008810011449085227,0.008640130938627312,0.00847347602607613,0.00831008895681739,0.008150007908472466,0.007993266839602232,0.007839895348440946,0.007689918542521139,0.007543356920005774,0.007400226263495489,0.0072605375470242055,0.007124296856899202,0.00699150532698025,0.006862159088927787,0.006736249237881955,0.006613761813964505,0.006494677799922843,0.0063789731351608595,0.006266618746325561,0.006157580594542111,0.006051819739311039,0.005949292419005293,0.005849950147825803,0.005753739828997572,0.005660603883911774,0.005570480396844464,0.005483303274808487,0.005399002422023593,0.005317503928420563,0.005238730271527597,0.005162600531023458,0.0050890306151808295,0.0050179334983654926,0.0049492194687030585,0.004882796384975216,0.004818569941761299,0.0047564439417996825,0.004696320574506786,0.004638100699559487,0.004581684134419767,0.004526969944658652,0.004473856735920374,0.004422242946356336,0.004372027138353748,0.0043231082883835315,0.004275386073798818,0.0042287611554269015,0.0041831354548154415,0.004138412425016998,0.0040944973138256,0.004051297418413446,0.004008722330356639,0.003966684170084408,0.003925097809837326,0.003883881084275954,0.0038429549879417137,0.0038022438588372802,0.0037616755474621393,0.0037211815707122817,0.003680697250128617,0.0036401618340575134,0.0035995186033683925,0.0035587149604558543,0.0035177025013386973,0.003476437070753245,0.0034348788002239302,0.003392992129179583,0.0033507458092681087,0.0033081128921055676,0.003265070700776794,0.003221600785483158,0.003177688863809342,0.0031333247461525333,0.0030885022469262836,0.003043219082214639,0.0029974767546113177,0.0029512804260325262,0.002904638779339962,0.002857563869653153,0.0028100709662665577,0.0027621783861167233,0.0027139073197689437,0.002665281650909531,0.0026163277703411696,0.0025670743854828908,0.0025175523263742004,0.002467794349175027,0.0024178349381386616,0.002367710107015233,0.002317457200817623,0.002267114698851377,0.002216722019874815,0.002166319330215691,0.002115947355627252,0.0020656471976193327,0.0020154601549497073,0.0019654275509084352,0.0019155905669725934,0.0018659900833527783],\"yaxis\":\"y\",\"type\":\"scatter\"},{\"legendgroup\":\"Test MPG\",\"marker\":{\"color\":\"rgb(255, 127, 14)\"},\"mode\":\"lines\",\"name\":\"Test MPG\",\"showlegend\":false,\"x\":[14.0,14.0502,14.1004,14.1506,14.2008,14.251,14.3012,14.3514,14.4016,14.4518,14.502,14.5522,14.6024,14.6526,14.7028,14.753,14.8032,14.8534,14.9036,14.9538,15.004,15.0542,15.1044,15.1546,15.2048,15.254999999999999,15.3052,15.3554,15.4056,15.4558,15.506,15.5562,15.6064,15.656600000000001,15.7068,15.757,15.8072,15.8574,15.9076,15.9578,16.008,16.0582,16.1084,16.1586,16.2088,16.259,16.3092,16.3594,16.4096,16.4598,16.509999999999998,16.560200000000002,16.6104,16.660600000000002,16.7108,16.761,16.8112,16.8614,16.9116,16.9618,17.012,17.0622,17.1124,17.1626,17.2128,17.262999999999998,17.313200000000002,17.3634,17.4136,17.4638,17.514,17.5642,17.6144,17.6646,17.7148,17.765,17.8152,17.8654,17.9156,17.9658,18.016,18.066200000000002,18.1164,18.166600000000003,18.2168,18.267,18.3172,18.3674,18.4176,18.4678,18.518,18.5682,18.6184,18.6686,18.7188,18.769,18.819200000000002,18.8694,18.9196,18.9698,19.02,19.0702,19.1204,19.1706,19.2208,19.271,19.3212,19.3714,19.4216,19.4718,19.522,19.572200000000002,19.6224,19.6726,19.7228,19.773,19.8232,19.8734,19.9236,19.9738,20.024,20.0742,20.1244,20.1746,20.224800000000002,20.275,20.325200000000002,20.3754,20.4256,20.4758,20.526,20.5762,20.6264,20.6766,20.7268,20.777,20.8272,20.8774,20.927599999999998,20.977800000000002,21.028,21.078200000000002,21.1284,21.1786,21.2288,21.279,21.3292,21.3794,21.4296,21.4798,21.53,21.5802,21.6304,21.6806,21.730800000000002,21.781,21.831200000000003,21.8814,21.9316,21.9818,22.032,22.0822,22.1324,22.1826,22.2328,22.283,22.3332,22.3834,22.4336,22.483800000000002,22.534,22.584200000000003,22.6344,22.6846,22.7348,22.785,22.8352,22.885399999999997,22.9356,22.9858,23.036,23.0862,23.136400000000002,23.1866,23.236800000000002,23.287,23.337200000000003,23.3874,23.4376,23.4878,23.538,23.5882,23.6384,23.6886,23.7388,23.789,23.839199999999998,23.889400000000002,23.9396,23.989800000000002,24.04,24.090200000000003,24.1404,24.1906,24.2408,24.291,24.3412,24.3914,24.4416,24.4918,24.542,24.5922,24.642400000000002,24.6926,24.742800000000003,24.793,24.843200000000003,24.8934,24.9436,24.9938,25.044,25.0942,25.1444,25.1946,25.2448,25.295,25.3452,25.395400000000002,25.4456,25.495800000000003,25.546,25.596200000000003,25.6464,25.6966,25.7468,25.797,25.8472,25.8974,25.9476,25.9978,26.048000000000002,26.0982,26.148400000000002,26.1986,26.248800000000003,26.299,26.349200000000003,26.3994,26.4496,26.4998,26.55,26.6002,26.6504,26.7006,26.7508,26.801000000000002,26.8512,26.901400000000002,26.9516,27.001800000000003,27.052,27.1022,27.1524,27.2026,27.2528,27.303,27.3532,27.4034,27.4536,27.503800000000002,27.554000000000002,27.6042,27.654400000000003,27.7046,27.754800000000003,27.805,27.8552,27.9054,27.9556,28.0058,28.055999999999997,28.1062,28.1564,28.2066,28.256800000000002,28.307000000000002,28.3572,28.407400000000003,28.4576,28.507800000000003,28.558,28.6082,28.6584,28.7086,28.7588,28.808999999999997,28.8592,28.9094,28.959600000000002,29.0098,29.060000000000002,29.1102,29.160400000000003,29.2106,29.260800000000003,29.311,29.3612,29.4114,29.4616,29.5118,29.561999999999998,29.6122,29.6624,29.712600000000002,29.7628,29.813000000000002,29.8632,29.913400000000003,29.9636,30.0138,30.064,30.1142,30.1644,30.2146,30.2648,30.315,30.3652,30.4154,30.465600000000002,30.5158,30.566,30.6162,30.666400000000003,30.716600000000003,30.7668,30.817,30.8672,30.9174,30.9676,31.017799999999998,31.068,31.1182,31.168400000000002,31.218600000000002,31.2688,31.319,31.3692,31.419400000000003,31.469600000000003,31.5198,31.57,31.6202,31.6704,31.7206,31.770799999999998,31.821,31.8712,31.921400000000002,31.971600000000002,32.0218,32.072,32.1222,32.1724,32.2226,32.272800000000004,32.323,32.3732,32.4234,32.473600000000005,32.523799999999994,32.574,32.6242,32.674400000000006,32.7246,32.7748,32.825,32.8752,32.925399999999996,32.9756,33.025800000000004,33.076,33.1262,33.1764,33.226600000000005,33.2768,33.327,33.3772,33.427400000000006,33.4776,33.5278,33.578,33.6282,33.678399999999996,33.7286,33.778800000000004,33.829,33.8792,33.9294,33.979600000000005,34.0298,34.08,34.1302,34.180400000000006,34.2306,34.2808,34.331,34.3812,34.4314,34.4816,34.531800000000004,34.582,34.6322,34.6824,34.732600000000005,34.7828,34.833,34.8832,34.933400000000006,34.9836,35.0338,35.084,35.1342,35.1844,35.2346,35.284800000000004,35.335,35.3852,35.4354,35.485600000000005,35.5358,35.586,35.6362,35.686400000000006,35.7366,35.7868,35.837,35.8872,35.9374,35.9876,36.037800000000004,36.088,36.1382,36.1884,36.238600000000005,36.2888,36.339,36.3892,36.439400000000006,36.4896,36.5398,36.59,36.6402,36.6904,36.7406,36.790800000000004,36.841,36.8912,36.9414,36.991600000000005,37.0418,37.092,37.1422,37.192400000000006,37.2426,37.2928,37.343,37.3932,37.4434,37.4936,37.543800000000005,37.594,37.6442,37.6944,37.744600000000005,37.7948,37.845,37.8952,37.94540000000001,37.9956,38.0458,38.096000000000004,38.1462,38.1964,38.2466,38.296800000000005,38.347,38.3972,38.4474,38.497600000000006,38.5478,38.598,38.6482,38.69840000000001,38.7486,38.7988,38.849000000000004,38.8992,38.9494,38.9996,39.049800000000005],\"xaxis\":\"x\",\"y\":[0.03140177588551357,0.03178463542425452,0.032166913970171455,0.03254850034426201,0.03292928332650502,0.033309151737332544,0.03368799451952445,0.034065700820443835,0.034442160074529944,0.03481726208596487,0.03519089711143044,0.035562955942870116,0.035933329990171285,0.03630191136368224,0.036668592956478965,0.037033268526295286,0.03739583277703185,0.037756181439757334,0.0381142113531173,0.03846982054306541,0.0388229083018319,0.03917337526604576,0.039521123493925885,0.03986605654145907,0.04020807953748174,0.04054709925758362,0.040883024196753416,0.041215764640685514,0.04154523273567014,0.041871342556987996,0.04219401017573405,0.04251315372399486,0.0428286934583051,0.04314055182131196,0.043448653501575576,0.0437529254914368,0.044053297142884536,0.04434970022135669,0.044642068957410894,0.04493034009620268,0.04521445294471099,0.04549434941665302,0.04576997407503178,0.04604127417226338,0.04630819968783157,0.046570703363420514,0.046828740735478915,0.04708227016517078,0.04733125286567062,0.04757565292676395,0.04781543733671592,0.04805057600137362,0.04828104176047128,0.04850681040110884,0.04872786066837821,0.04894417427311491,0.04915573589675361,0.049362533193272176,0.04956455678820856,0.049761800274740906,0.049954260206821935,0.050141936089363764,0.05032483036547105,0.050502948400724355,0.05067629846451899,0.0508448917084673,0.05100874214187576,0.051167866604312606,0.051322284735283476,0.051472018941037076,0.051617094358525836,0.05175753881655043,0.051893382794119036,0.052024659376057755,0.05215140420590994,0.052273655436167125,0.05239145367587651,0.052504841935674236,0.0526138655702962,0.052718572218622334,0.05281901174131277,0.05291523615609814,0.053007299570789104,0.05309525811407384,0.05317916986417466,0.05325909477543864,0.053335094602939934,0.05340723282517416,0.05347557456492835,0.05354018650841292,0.053601136822744255,0.05365849507186987,0.05371233213102979,0.05376272009985123,0.05380973221417467,0.053853442756713346,0.05389392696664846,0.05393126094826554,0.05396552157873939,0.05399678641517538,0.05402513360101833,0.05405064177194037,0.054073389961320384,0.054093457505429994,0.05411092394844105,0.05412586894737031,0.05413837217707831,0.054148513235440204,0.05415637154880513,0.05416202627786293,0.05416555622403547,0.05416703973651045,0.054166554620035286,0.05416417804358722,0.05415998645003675,0.05415405546691904,0.05414645981842772,0.05413727323874443,0.05412656838681519,0.054114416762684366,0.05410088862549395,0.054086052913254946,0.05406997716449507,0.05405272744188466,0.05403436825794041,0.05401496250290434,0.053994571374891547,0.053973254312398286,0.05395106892925892,0.05392807095213617,0.053904314160626646,0.0538798503300595,0.0538547291770627,0.05382899830796763,0.05380270317011871,0.05377588700615048,0.05374859081129137,0.053720853293747685,0.05369271083821845,0.05366419747258662,0.05363534483782713,0.053606182161169476,0.05357673623254567,0.05354703138435125,0.05351708947454176,0.053486929873082525,0.05345656945176435,0.053426022577393414,0.053395301108358474,0.05336441439457386,0.0533333692807917,0.05330217011327217,0.05327081874979584,0.05323931457299657,0.053207654506990436,0.05317583303726945,0.05314384223382566,0.0531116717774661,0.05307930898927435,0.05304673886317093,0.05301394410151889,0.052980905153718734,0.052947600257730716,0.05291400548446025,0.05288009478493668,0.05284584004021324,0.052811211113911856,0.052776175907332364,0.05274070041704376,0.05270474879487008,0.0526682834101823,0.0526312649144031,0.05259365230762981,0.05255540300727758,0.052516472918642615,0.05247681650728308,0.05243638687311317,0.052395135826103945,0.05235301396348323,0.052309970748323865,0.05226595458941089,0.05222091292227395,0.05217479229127291,0.052127538432622064,0.05207909635823859,0.05202941044030011,0.05197842449639622,0.05192608187515828,0.051872325542252476,0.05181709816662079,0.051760342206855665,0.05170199999759381,0.0516420138358165,0.05158032606694357,0.05151687917061037,0.05145161584601712,0.05138447909674288,0.05131541231491642,0.051244359364639426,0.05117126466455789,0.05109607326948059,0.05101873095094547,0.050939184276636386,0.05085738068855556,0.05077326857985963,0.050686797370269245,0.05059791757996522,0.05050658090188711,0.05041274027235237,0.05031634993991795,0.050217365532408846,0.050115744122040735,0.05001144428856823,0.04990442618039216,0.04979465157356339,0.04968208392862411,0.04956668844522991,0.04944843211450119,0.0493272837690533,0.049203214130661525,0.04907619585551738,0.048946203577038286,0.04881321394619565,0.04867720566932941,0.04853815954342147,0.048396058488803344,0.04825088757927715,0.04810263406963263,0.04795128742054607,0.04779683932085093,0.04763928370717304,0.047478616780926686,0.04731483702267161,0.047147945203833745,0.046977944395796195,0.04680483997637022,0.04662863963365907,0.04644935336732998,0.046266993487314535,0.04608157460995826,0.04589311365164516,0.045701629819924997,0.04550714460217344,0.04530968175181952,0.045109267272175076,0.04490592939790643,0.04469969857418792,0.04449060743358227,0.04427869077069219,0.044063985514633114,0.04384653069937561,0.04362636743201124,0.04340353885899544,0.04317809013042386,0.042950068362400305,0.04271952259755593,0.04248650376378075,0.042251064631230704,0.04201325976767443,0.0417731454922446,0.041530779827661526,0.04128622245099619,0.04103953464304163,0.04079077923636247,0.04054002056209301,0.040287324395555296,0.0400327579007684,0.03977638957392193,0.03951828918588596,0.03925852772383007,0.038997177332025505,0.03873431125190285,0.0384700037614386,0.03820433011394418,0.03793736647632954,0.03766918986691474,0.0373998780928608,0.037129509687292374,0.03685816384618249,0.03658592036507064,0.036312859575682865,0.0360390622825235,0.035764609699505824,0.03548958338668866,0.035214065187184514,0.03493813716430368,0.03466188153899776,0.03438538062766423,0.034108716780372625,0.03383197231957111,0.03355522947933139,0.03327857034518688,0.033002076794619355,0.032725830438245306,0.032449912561753634,0.03217440406864279,0.0318993854238043,0.03162493659799825,0.03135113701326281,0.03107806548929935,0.030805800190872056,0.03053441857625895,0.030263997346788807,0.029994612397497077,0.029726338768931312,0.029459250600134497,0.029193421082832415,0.02892892241684973,0.028665825766776593,0.02840420121990539,0.02814411774545611,0.027885643155105427,0.027628844064833794,0.027373785858101057,0.027120532650361642,0.026869147254925133,0.02661969115016962,0.02637222444810974,0.026126805864322575,0.02588349268923039,0.025642340760738937,0.025403404438227535,0.02516673657788569,0.024932388509389242,0.024700410013907992,0.024470849303434735,0.02424375300142411,0.024019166124729263,0.023797132066821765,0.023577692582280187,0.023360887772530793,0.023146756072823346,0.02293533424042369,0.022726657344004156,0.022520758754211712,0.022317670135393708,0.022117421438459774,0.021920040894858106,0.021725555011644315,0.021533988567619854,0.021345364610517694,0.021159704455211984,0.020977027682928497,0.0207973521414329,0.020620693946173736,0.020447067482356612,0.020276485407927654,0.020108958657442663,0.01994449644680051,0.01978310627881838,0.01962479394962781,0.019469563555870515,0.019317417502673538,0.0191683565123843,0.019022379634046464,0.018879484253597974,0.01873966610477447,0.01860291928070047,0.018469236246153025,0.018338607850482566,0.018211023341176774,0.018086470378054262,0.017964935048075514,0.017846401880759904,0.017730853864198023,0.017618272461649986,0.017508637628720677,0.017401927831104565,0.017298120062892938,0.017197189865437727,0.0170991113467665,0.017003857201544893,0.016911398731582244,0.016821705866878197,0.016734747187207865,0.01665048994424449,0.016568900084218647,0.016489942271113674,0.016413579910398025,0.01633977517329501,0.0162684890215911,0.01619968123298449,0.016133310426975498,0.01606933409130094,0.016007708608914276,0.015948389285513877,0.015891330377621516,0.015836485121212985,0.015783805760902613,0.01573324357968343,0.015684748929224137,0.0156382712607237,0.01559375915632384,0.015551160361079544,0.01551042181548631,0.015471489688562962,0.015434309411487561,0.015398825711783243,0.015364982648049995,0.015332723645237243,0.015301991530451205,0.015272728569289804,0.015244876502696802,0.015218376584325613,0.015193169618401942,0.01516919599807317,0.015146395744231026,0.0151247085447927,0.015104073794424138,0.015084430634687862,0.015065717994596132,0.015047874631548849,0.01503083917263405,0.015014550156267403,0.014998946074145637,0.014983965413487102,0.014969546699531664,0.014955628538270052,0.01494214965937183,0.014929048959279457,0.014916265544434619,0.014903738774601544,0.014891408306250829,0.014879214135965957,0.01486709664383338,0.014854996636776098,0.014842855391789218,0.014830614699035346,0.014818216904756315,0.014805604953957087,0.014792722432816707,0.014779513610780606,0.014765923482287772,0.014751897808085652,0.014737383156085552,0.014722326941710414,0.014706677467687012,0.014690383963234148,0.014673396622598514,0.014655666642889831,0.014637146261166994,0.014617788790727301,0.014597548656551088,0.014576381429854532,0.014554243861704067,0.01453109391564639,0.01450689079930893,0.014481594994926421,0.014455168288750339,0.014427573799298888,0.01439877600440665,0.014368740767034066,0.014337435359798456,0.014304828488189782,0.014270890312435806,0.014235592467983194,0.014198908084562596,0.014160811803807825,0.01412127979540111,0.014080289771718161,0.014037821000949248,0.013993854318674372,0.013948372137872743,0.013901358457349283,0.013852798868562869,0.013802680560843652,0.013750992324988998,0.013697724555229938,0.01364286924956283,0.013586420008442991,0.013528372031839687,0.013468722114654594,0.01340746864050795,0.013344611573899528,0.013280152450753771,0.013214094367360986,0.01314644196772926,0.013077201429363748,0.01300638044749273,0.012933988217762182,0.012860035417422899,0.012784534185036644,0.01270749809872987,0.012628942153025936,0.012548882734288974,0.012467337594814294,0.01238432582560272,0.012299867827857787,0.012213985283247056,0.012126701122969905,0.01203803949567674,0.01194802573428552,0.01185668632174338,0.011764048855782402,0.011670142012719976,0.011574995510355748,0.011478640070017707,0.011381107377811499,0.011282430045127858,0.011182641568463993],\"yaxis\":\"y\",\"type\":\"scatter\"},{\"legendgroup\":\"Train MPG\",\"marker\":{\"color\":\"rgb(31, 119, 180)\",\"symbol\":\"line-ns-open\"},\"mode\":\"markers\",\"name\":\"Train MPG\",\"showlegend\":false,\"x\":[26.0,36.0,28.0,14.0,30.0,14.0,29.0,13.0,14.0,14.0,17.0,30.0,23.0,21.0,46.6,32.0,21.0,17.0,10.0,24.0,26.0,38.0,14.0,16.5,31.9,39.4,29.9,15.0,12.0,29.8,13.0,29.0,24.0,36.1,26.6,26.0,32.3,27.2,20.6,25.0,24.0,19.0,29.0,28.4,24.0,15.0,32.7,34.1,29.0,14.0,31.0,35.0,18.0,24.5,27.0,38.0,12.0,20.0,26.0,12.0,13.0,20.0,29.0,21.0,13.0,16.0,44.3,27.2,28.0,23.0,31.0,31.5,16.0,13.0,25.0,16.0,13.0,15.5,23.0,28.1,36.1,19.0,37.0,34.0,24.0,34.0,21.0,33.8,19.2,11.0,11.0,13.0,26.0,34.3,14.5,18.0,29.0,32.0,19.0,23.9,14.0,19.0,22.0,25.0,19.0,15.0,17.5,19.0,40.8,24.3,17.5,11.0,19.0,16.0,32.0,21.1,20.0,21.0,38.0,23.0,28.0,33.0,31.0,24.0,27.0,15.5,32.2,36.0,14.0,14.0,29.5,14.0,23.6,33.0,20.2,21.0,19.0,25.0,21.6,26.8,30.0,24.0,18.0,22.0,16.0,25.8,29.0,25.0,13.0,39.0,18.0,17.7,30.7,20.5,25.0,13.0,15.0,34.2,14.0,21.5,15.0,22.0,23.0,27.5,25.0,28.0,13.0,29.0,20.0,19.1,27.0,12.0,33.7,30.0,30.0,16.0,19.2,38.1,22.0,18.0,30.5,12.0,26.0,25.5,13.0,29.8,20.0,14.0,24.0,15.0,20.0,32.0,20.3,31.0,14.0,37.7,31.0,18.0,15.0,24.0,20.0,15.0,12.0,17.6,17.5,13.0,17.0,20.2,40.9,26.0,17.5,15.0,28.0,19.0,15.0,22.0,34.4,17.0,22.5,36.0,22.3,23.5,33.0,33.5,27.0,13.0,18.1,31.6,20.2,34.5,15.5,18.5,13.0,30.5,19.4,18.2,27.0,22.0,20.0,17.6,13.0,14.0,18.0,25.4,25.0,16.0,27.0,32.0,30.0,16.5,32.0,30.0,16.9,32.4,14.0,22.0,34.7,19.0,21.5,15.0,18.1,44.6,16.0,22.0,16.0,16.5,32.1,31.8,11.0,24.0,43.4,28.0,15.0,27.0,18.0,34.5,18.0,15.0,23.0,22.4,25.0,28.0,30.9,20.6,33.5,26.0,27.0,33.5,34.1,19.9,36.0,21.0,31.3,20.0,13.0,13.0,18.0,27.2,31.0,28.0,36.0,18.0,17.0,17.0,13.0,9.0,15.0,10.0,24.5,25.4,14.0,27.9,18.0,23.7,23.0,38.0,13.0,18.6,32.4,35.0,14.0,20.5,36.0,21.0,26.0,16.0,26.0,13.0,43.1,37.3,35.1,31.0,14.0,18.5,17.0,26.0,22.0,32.9,29.5,25.0,23.2,26.0,26.5,37.0,41.5,18.0,16.0,18.5,19.4,25.1,16.0,20.8,27.4,44.0,20.5,35.7,26.0,23.0],\"xaxis\":\"x\",\"y\":[\"Train MPG\",\"Train MPG\",\"Train MPG\",\"Train MPG\",\"Train MPG\",\"Train MPG\",\"Train MPG\",\"Train MPG\",\"Train MPG\",\"Train MPG\",\"Train MPG\",\"Train MPG\",\"Train MPG\",\"Train MPG\",\"Train MPG\",\"Train MPG\",\"Train MPG\",\"Train MPG\",\"Train MPG\",\"Train MPG\",\"Train MPG\",\"Train MPG\",\"Train MPG\",\"Train MPG\",\"Train MPG\",\"Train MPG\",\"Train MPG\",\"Train MPG\",\"Train MPG\",\"Train MPG\",\"Train MPG\",\"Train MPG\",\"Train MPG\",\"Train MPG\",\"Train MPG\",\"Train MPG\",\"Train MPG\",\"Train MPG\",\"Train MPG\",\"Train MPG\",\"Train MPG\",\"Train MPG\",\"Train MPG\",\"Train MPG\",\"Train MPG\",\"Train MPG\",\"Train MPG\",\"Train MPG\",\"Train MPG\",\"Train MPG\",\"Train MPG\",\"Train MPG\",\"Train MPG\",\"Train MPG\",\"Train MPG\",\"Train MPG\",\"Train MPG\",\"Train MPG\",\"Train MPG\",\"Train MPG\",\"Train MPG\",\"Train MPG\",\"Train MPG\",\"Train MPG\",\"Train MPG\",\"Train MPG\",\"Train MPG\",\"Train MPG\",\"Train MPG\",\"Train MPG\",\"Train MPG\",\"Train MPG\",\"Train MPG\",\"Train MPG\",\"Train MPG\",\"Train MPG\",\"Train MPG\",\"Train MPG\",\"Train MPG\",\"Train MPG\",\"Train MPG\",\"Train MPG\",\"Train MPG\",\"Train MPG\",\"Train MPG\",\"Train MPG\",\"Train MPG\",\"Train MPG\",\"Train MPG\",\"Train MPG\",\"Train MPG\",\"Train MPG\",\"Train MPG\",\"Train MPG\",\"Train MPG\",\"Train MPG\",\"Train MPG\",\"Train MPG\",\"Train MPG\",\"Train MPG\",\"Train MPG\",\"Train MPG\",\"Train MPG\",\"Train MPG\",\"Train MPG\",\"Train MPG\",\"Train MPG\",\"Train MPG\",\"Train MPG\",\"Train MPG\",\"Train MPG\",\"Train MPG\",\"Train MPG\",\"Train MPG\",\"Train MPG\",\"Train MPG\",\"Train MPG\",\"Train MPG\",\"Train MPG\",\"Train MPG\",\"Train MPG\",\"Train MPG\",\"Train MPG\",\"Train MPG\",\"Train MPG\",\"Train MPG\",\"Train MPG\",\"Train MPG\",\"Train MPG\",\"Train MPG\",\"Train MPG\",\"Train MPG\",\"Train MPG\",\"Train MPG\",\"Train MPG\",\"Train MPG\",\"Train MPG\",\"Train MPG\",\"Train MPG\",\"Train MPG\",\"Train MPG\",\"Train MPG\",\"Train MPG\",\"Train MPG\",\"Train MPG\",\"Train MPG\",\"Train MPG\",\"Train MPG\",\"Train MPG\",\"Train MPG\",\"Train MPG\",\"Train MPG\",\"Train MPG\",\"Train MPG\",\"Train MPG\",\"Train MPG\",\"Train MPG\",\"Train MPG\",\"Train MPG\",\"Train MPG\",\"Train MPG\",\"Train MPG\",\"Train MPG\",\"Train MPG\",\"Train MPG\",\"Train MPG\",\"Train MPG\",\"Train MPG\",\"Train MPG\",\"Train MPG\",\"Train MPG\",\"Train MPG\",\"Train MPG\",\"Train MPG\",\"Train MPG\",\"Train MPG\",\"Train MPG\",\"Train MPG\",\"Train MPG\",\"Train MPG\",\"Train MPG\",\"Train MPG\",\"Train MPG\",\"Train MPG\",\"Train MPG\",\"Train MPG\",\"Train MPG\",\"Train MPG\",\"Train MPG\",\"Train MPG\",\"Train MPG\",\"Train MPG\",\"Train MPG\",\"Train MPG\",\"Train MPG\",\"Train MPG\",\"Train MPG\",\"Train MPG\",\"Train MPG\",\"Train MPG\",\"Train MPG\",\"Train MPG\",\"Train MPG\",\"Train MPG\",\"Train MPG\",\"Train MPG\",\"Train MPG\",\"Train MPG\",\"Train MPG\",\"Train MPG\",\"Train MPG\",\"Train MPG\",\"Train MPG\",\"Train MPG\",\"Train MPG\",\"Train MPG\",\"Train MPG\",\"Train MPG\",\"Train MPG\",\"Train MPG\",\"Train MPG\",\"Train MPG\",\"Train MPG\",\"Train MPG\",\"Train MPG\",\"Train MPG\",\"Train MPG\",\"Train MPG\",\"Train MPG\",\"Train MPG\",\"Train MPG\",\"Train MPG\",\"Train MPG\",\"Train MPG\",\"Train MPG\",\"Train MPG\",\"Train MPG\",\"Train MPG\",\"Train MPG\",\"Train MPG\",\"Train MPG\",\"Train MPG\",\"Train MPG\",\"Train MPG\",\"Train MPG\",\"Train MPG\",\"Train MPG\",\"Train MPG\",\"Train MPG\",\"Train MPG\",\"Train MPG\",\"Train MPG\",\"Train MPG\",\"Train MPG\",\"Train MPG\",\"Train MPG\",\"Train MPG\",\"Train MPG\",\"Train MPG\",\"Train MPG\",\"Train MPG\",\"Train MPG\",\"Train MPG\",\"Train MPG\",\"Train MPG\",\"Train MPG\",\"Train MPG\",\"Train MPG\",\"Train MPG\",\"Train MPG\",\"Train MPG\",\"Train MPG\",\"Train MPG\",\"Train MPG\",\"Train MPG\",\"Train MPG\",\"Train MPG\",\"Train MPG\",\"Train MPG\",\"Train MPG\",\"Train MPG\",\"Train MPG\",\"Train MPG\",\"Train MPG\",\"Train MPG\",\"Train MPG\",\"Train MPG\",\"Train MPG\",\"Train MPG\",\"Train MPG\",\"Train MPG\",\"Train MPG\",\"Train MPG\",\"Train MPG\",\"Train MPG\",\"Train MPG\",\"Train MPG\",\"Train MPG\",\"Train MPG\",\"Train MPG\",\"Train MPG\",\"Train MPG\",\"Train MPG\",\"Train MPG\",\"Train MPG\",\"Train MPG\",\"Train MPG\",\"Train MPG\",\"Train MPG\",\"Train MPG\",\"Train MPG\",\"Train MPG\",\"Train MPG\",\"Train MPG\",\"Train MPG\",\"Train MPG\",\"Train MPG\",\"Train MPG\",\"Train MPG\",\"Train MPG\",\"Train MPG\",\"Train MPG\",\"Train MPG\",\"Train MPG\",\"Train MPG\",\"Train MPG\",\"Train MPG\",\"Train MPG\",\"Train MPG\",\"Train MPG\",\"Train MPG\",\"Train MPG\",\"Train MPG\",\"Train MPG\",\"Train MPG\",\"Train MPG\",\"Train MPG\",\"Train MPG\",\"Train MPG\",\"Train MPG\",\"Train MPG\",\"Train MPG\",\"Train MPG\",\"Train MPG\",\"Train MPG\",\"Train MPG\",\"Train MPG\",\"Train MPG\",\"Train MPG\",\"Train MPG\",\"Train MPG\",\"Train MPG\",\"Train MPG\",\"Train MPG\",\"Train MPG\",\"Train MPG\",\"Train MPG\",\"Train MPG\"],\"yaxis\":\"y2\",\"type\":\"scatter\"},{\"legendgroup\":\"Test MPG\",\"marker\":{\"color\":\"rgb(255, 127, 14)\",\"symbol\":\"line-ns-open\"},\"mode\":\"markers\",\"name\":\"Test MPG\",\"showlegend\":false,\"x\":[16.0,20.2,17.5,16.2,15.0,26.4,25.5,19.0,37.2,28.8,21.5,18.0,18.0,18.0,27.0,23.9,19.8,19.2,26.0,37.0,31.5,23.0,18.0,39.1,24.2,36.4,23.0,28.0,32.8,25.0,15.0,15.5,28.0,14.0,22.0,26.6,23.8,24.0,19.0,15.5],\"xaxis\":\"x\",\"y\":[\"Test MPG\",\"Test MPG\",\"Test MPG\",\"Test MPG\",\"Test MPG\",\"Test MPG\",\"Test MPG\",\"Test MPG\",\"Test MPG\",\"Test MPG\",\"Test MPG\",\"Test MPG\",\"Test MPG\",\"Test MPG\",\"Test MPG\",\"Test MPG\",\"Test MPG\",\"Test MPG\",\"Test MPG\",\"Test MPG\",\"Test MPG\",\"Test MPG\",\"Test MPG\",\"Test MPG\",\"Test MPG\",\"Test MPG\",\"Test MPG\",\"Test MPG\",\"Test MPG\",\"Test MPG\",\"Test MPG\",\"Test MPG\",\"Test MPG\",\"Test MPG\",\"Test MPG\",\"Test MPG\",\"Test MPG\",\"Test MPG\",\"Test MPG\",\"Test MPG\"],\"yaxis\":\"y2\",\"type\":\"scatter\"}],                        {\"barmode\":\"overlay\",\"hovermode\":\"closest\",\"legend\":{\"traceorder\":\"reversed\"},\"xaxis\":{\"anchor\":\"y2\",\"domain\":[0.0,1.0],\"zeroline\":false},\"yaxis\":{\"anchor\":\"free\",\"domain\":[0.35,1],\"position\":0.0},\"yaxis2\":{\"anchor\":\"x\",\"domain\":[0,0.25],\"dtick\":1,\"showticklabels\":false},\"template\":{\"data\":{\"histogram2dcontour\":[{\"type\":\"histogram2dcontour\",\"colorbar\":{\"outlinewidth\":0,\"ticks\":\"\"},\"colorscale\":[[0.0,\"#0d0887\"],[0.1111111111111111,\"#46039f\"],[0.2222222222222222,\"#7201a8\"],[0.3333333333333333,\"#9c179e\"],[0.4444444444444444,\"#bd3786\"],[0.5555555555555556,\"#d8576b\"],[0.6666666666666666,\"#ed7953\"],[0.7777777777777778,\"#fb9f3a\"],[0.8888888888888888,\"#fdca26\"],[1.0,\"#f0f921\"]]}],\"choropleth\":[{\"type\":\"choropleth\",\"colorbar\":{\"outlinewidth\":0,\"ticks\":\"\"}}],\"histogram2d\":[{\"type\":\"histogram2d\",\"colorbar\":{\"outlinewidth\":0,\"ticks\":\"\"},\"colorscale\":[[0.0,\"#0d0887\"],[0.1111111111111111,\"#46039f\"],[0.2222222222222222,\"#7201a8\"],[0.3333333333333333,\"#9c179e\"],[0.4444444444444444,\"#bd3786\"],[0.5555555555555556,\"#d8576b\"],[0.6666666666666666,\"#ed7953\"],[0.7777777777777778,\"#fb9f3a\"],[0.8888888888888888,\"#fdca26\"],[1.0,\"#f0f921\"]]}],\"heatmap\":[{\"type\":\"heatmap\",\"colorbar\":{\"outlinewidth\":0,\"ticks\":\"\"},\"colorscale\":[[0.0,\"#0d0887\"],[0.1111111111111111,\"#46039f\"],[0.2222222222222222,\"#7201a8\"],[0.3333333333333333,\"#9c179e\"],[0.4444444444444444,\"#bd3786\"],[0.5555555555555556,\"#d8576b\"],[0.6666666666666666,\"#ed7953\"],[0.7777777777777778,\"#fb9f3a\"],[0.8888888888888888,\"#fdca26\"],[1.0,\"#f0f921\"]]}],\"heatmapgl\":[{\"type\":\"heatmapgl\",\"colorbar\":{\"outlinewidth\":0,\"ticks\":\"\"},\"colorscale\":[[0.0,\"#0d0887\"],[0.1111111111111111,\"#46039f\"],[0.2222222222222222,\"#7201a8\"],[0.3333333333333333,\"#9c179e\"],[0.4444444444444444,\"#bd3786\"],[0.5555555555555556,\"#d8576b\"],[0.6666666666666666,\"#ed7953\"],[0.7777777777777778,\"#fb9f3a\"],[0.8888888888888888,\"#fdca26\"],[1.0,\"#f0f921\"]]}],\"contourcarpet\":[{\"type\":\"contourcarpet\",\"colorbar\":{\"outlinewidth\":0,\"ticks\":\"\"}}],\"contour\":[{\"type\":\"contour\",\"colorbar\":{\"outlinewidth\":0,\"ticks\":\"\"},\"colorscale\":[[0.0,\"#0d0887\"],[0.1111111111111111,\"#46039f\"],[0.2222222222222222,\"#7201a8\"],[0.3333333333333333,\"#9c179e\"],[0.4444444444444444,\"#bd3786\"],[0.5555555555555556,\"#d8576b\"],[0.6666666666666666,\"#ed7953\"],[0.7777777777777778,\"#fb9f3a\"],[0.8888888888888888,\"#fdca26\"],[1.0,\"#f0f921\"]]}],\"surface\":[{\"type\":\"surface\",\"colorbar\":{\"outlinewidth\":0,\"ticks\":\"\"},\"colorscale\":[[0.0,\"#0d0887\"],[0.1111111111111111,\"#46039f\"],[0.2222222222222222,\"#7201a8\"],[0.3333333333333333,\"#9c179e\"],[0.4444444444444444,\"#bd3786\"],[0.5555555555555556,\"#d8576b\"],[0.6666666666666666,\"#ed7953\"],[0.7777777777777778,\"#fb9f3a\"],[0.8888888888888888,\"#fdca26\"],[1.0,\"#f0f921\"]]}],\"mesh3d\":[{\"type\":\"mesh3d\",\"colorbar\":{\"outlinewidth\":0,\"ticks\":\"\"}}],\"scatter\":[{\"fillpattern\":{\"fillmode\":\"overlay\",\"size\":10,\"solidity\":0.2},\"type\":\"scatter\"}],\"parcoords\":[{\"type\":\"parcoords\",\"line\":{\"colorbar\":{\"outlinewidth\":0,\"ticks\":\"\"}}}],\"scatterpolargl\":[{\"type\":\"scatterpolargl\",\"marker\":{\"colorbar\":{\"outlinewidth\":0,\"ticks\":\"\"}}}],\"bar\":[{\"error_x\":{\"color\":\"#2a3f5f\"},\"error_y\":{\"color\":\"#2a3f5f\"},\"marker\":{\"line\":{\"color\":\"#E5ECF6\",\"width\":0.5},\"pattern\":{\"fillmode\":\"overlay\",\"size\":10,\"solidity\":0.2}},\"type\":\"bar\"}],\"scattergeo\":[{\"type\":\"scattergeo\",\"marker\":{\"colorbar\":{\"outlinewidth\":0,\"ticks\":\"\"}}}],\"scatterpolar\":[{\"type\":\"scatterpolar\",\"marker\":{\"colorbar\":{\"outlinewidth\":0,\"ticks\":\"\"}}}],\"histogram\":[{\"marker\":{\"pattern\":{\"fillmode\":\"overlay\",\"size\":10,\"solidity\":0.2}},\"type\":\"histogram\"}],\"scattergl\":[{\"type\":\"scattergl\",\"marker\":{\"colorbar\":{\"outlinewidth\":0,\"ticks\":\"\"}}}],\"scatter3d\":[{\"type\":\"scatter3d\",\"line\":{\"colorbar\":{\"outlinewidth\":0,\"ticks\":\"\"}},\"marker\":{\"colorbar\":{\"outlinewidth\":0,\"ticks\":\"\"}}}],\"scattermapbox\":[{\"type\":\"scattermapbox\",\"marker\":{\"colorbar\":{\"outlinewidth\":0,\"ticks\":\"\"}}}],\"scatterternary\":[{\"type\":\"scatterternary\",\"marker\":{\"colorbar\":{\"outlinewidth\":0,\"ticks\":\"\"}}}],\"scattercarpet\":[{\"type\":\"scattercarpet\",\"marker\":{\"colorbar\":{\"outlinewidth\":0,\"ticks\":\"\"}}}],\"carpet\":[{\"aaxis\":{\"endlinecolor\":\"#2a3f5f\",\"gridcolor\":\"white\",\"linecolor\":\"white\",\"minorgridcolor\":\"white\",\"startlinecolor\":\"#2a3f5f\"},\"baxis\":{\"endlinecolor\":\"#2a3f5f\",\"gridcolor\":\"white\",\"linecolor\":\"white\",\"minorgridcolor\":\"white\",\"startlinecolor\":\"#2a3f5f\"},\"type\":\"carpet\"}],\"table\":[{\"cells\":{\"fill\":{\"color\":\"#EBF0F8\"},\"line\":{\"color\":\"white\"}},\"header\":{\"fill\":{\"color\":\"#C8D4E3\"},\"line\":{\"color\":\"white\"}},\"type\":\"table\"}],\"barpolar\":[{\"marker\":{\"line\":{\"color\":\"#E5ECF6\",\"width\":0.5},\"pattern\":{\"fillmode\":\"overlay\",\"size\":10,\"solidity\":0.2}},\"type\":\"barpolar\"}],\"pie\":[{\"automargin\":true,\"type\":\"pie\"}]},\"layout\":{\"autotypenumbers\":\"strict\",\"colorway\":[\"#636efa\",\"#EF553B\",\"#00cc96\",\"#ab63fa\",\"#FFA15A\",\"#19d3f3\",\"#FF6692\",\"#B6E880\",\"#FF97FF\",\"#FECB52\"],\"font\":{\"color\":\"#2a3f5f\"},\"hovermode\":\"closest\",\"hoverlabel\":{\"align\":\"left\"},\"paper_bgcolor\":\"white\",\"plot_bgcolor\":\"#E5ECF6\",\"polar\":{\"bgcolor\":\"#E5ECF6\",\"angularaxis\":{\"gridcolor\":\"white\",\"linecolor\":\"white\",\"ticks\":\"\"},\"radialaxis\":{\"gridcolor\":\"white\",\"linecolor\":\"white\",\"ticks\":\"\"}},\"ternary\":{\"bgcolor\":\"#E5ECF6\",\"aaxis\":{\"gridcolor\":\"white\",\"linecolor\":\"white\",\"ticks\":\"\"},\"baxis\":{\"gridcolor\":\"white\",\"linecolor\":\"white\",\"ticks\":\"\"},\"caxis\":{\"gridcolor\":\"white\",\"linecolor\":\"white\",\"ticks\":\"\"}},\"coloraxis\":{\"colorbar\":{\"outlinewidth\":0,\"ticks\":\"\"}},\"colorscale\":{\"sequential\":[[0.0,\"#0d0887\"],[0.1111111111111111,\"#46039f\"],[0.2222222222222222,\"#7201a8\"],[0.3333333333333333,\"#9c179e\"],[0.4444444444444444,\"#bd3786\"],[0.5555555555555556,\"#d8576b\"],[0.6666666666666666,\"#ed7953\"],[0.7777777777777778,\"#fb9f3a\"],[0.8888888888888888,\"#fdca26\"],[1.0,\"#f0f921\"]],\"sequentialminus\":[[0.0,\"#0d0887\"],[0.1111111111111111,\"#46039f\"],[0.2222222222222222,\"#7201a8\"],[0.3333333333333333,\"#9c179e\"],[0.4444444444444444,\"#bd3786\"],[0.5555555555555556,\"#d8576b\"],[0.6666666666666666,\"#ed7953\"],[0.7777777777777778,\"#fb9f3a\"],[0.8888888888888888,\"#fdca26\"],[1.0,\"#f0f921\"]],\"diverging\":[[0,\"#8e0152\"],[0.1,\"#c51b7d\"],[0.2,\"#de77ae\"],[0.3,\"#f1b6da\"],[0.4,\"#fde0ef\"],[0.5,\"#f7f7f7\"],[0.6,\"#e6f5d0\"],[0.7,\"#b8e186\"],[0.8,\"#7fbc41\"],[0.9,\"#4d9221\"],[1,\"#276419\"]]},\"xaxis\":{\"gridcolor\":\"white\",\"linecolor\":\"white\",\"ticks\":\"\",\"title\":{\"standoff\":15},\"zerolinecolor\":\"white\",\"automargin\":true,\"zerolinewidth\":2},\"yaxis\":{\"gridcolor\":\"white\",\"linecolor\":\"white\",\"ticks\":\"\",\"title\":{\"standoff\":15},\"zerolinecolor\":\"white\",\"automargin\":true,\"zerolinewidth\":2},\"scene\":{\"xaxis\":{\"backgroundcolor\":\"#E5ECF6\",\"gridcolor\":\"white\",\"linecolor\":\"white\",\"showbackground\":true,\"ticks\":\"\",\"zerolinecolor\":\"white\",\"gridwidth\":2},\"yaxis\":{\"backgroundcolor\":\"#E5ECF6\",\"gridcolor\":\"white\",\"linecolor\":\"white\",\"showbackground\":true,\"ticks\":\"\",\"zerolinecolor\":\"white\",\"gridwidth\":2},\"zaxis\":{\"backgroundcolor\":\"#E5ECF6\",\"gridcolor\":\"white\",\"linecolor\":\"white\",\"showbackground\":true,\"ticks\":\"\",\"zerolinecolor\":\"white\",\"gridwidth\":2}},\"shapedefaults\":{\"line\":{\"color\":\"#2a3f5f\"}},\"annotationdefaults\":{\"arrowcolor\":\"#2a3f5f\",\"arrowhead\":0,\"arrowwidth\":1},\"geo\":{\"bgcolor\":\"white\",\"landcolor\":\"#E5ECF6\",\"subunitcolor\":\"white\",\"showland\":true,\"showlakes\":true,\"lakecolor\":\"white\"},\"title\":{\"x\":0.05},\"mapbox\":{\"style\":\"light\"}}}},                        {\"responsive\": true}                    ).then(function(){\n",
       "                            \n",
       "var gd = document.getElementById('110a9c08-6fd3-4b12-af16-27dce2b78a38');\n",
       "var x = new MutationObserver(function (mutations, observer) {{\n",
       "        var display = window.getComputedStyle(gd).display;\n",
       "        if (!display || display === 'none') {{\n",
       "            console.log([gd, 'removed!']);\n",
       "            Plotly.purge(gd);\n",
       "            observer.disconnect();\n",
       "        }}\n",
       "}});\n",
       "\n",
       "// Listen for the removal of the full notebook cells\n",
       "var notebookContainer = gd.closest('#notebook-container');\n",
       "if (notebookContainer) {{\n",
       "    x.observe(notebookContainer, {childList: true});\n",
       "}}\n",
       "\n",
       "// Listen for the clearing of the current output cell\n",
       "var outputEl = gd.closest('.output');\n",
       "if (outputEl) {{\n",
       "    x.observe(outputEl, {childList: true});\n",
       "}}\n",
       "\n",
       "                        })                };                });            </script>        </div>"
      ]
     },
     "metadata": {},
     "output_type": "display_data"
    }
   ],
   "source": [
    "# Create a distribution plot for mpg in training and testing sets\n",
    "fig = ff.create_distplot(\n",
    "    [tr['mpg'].dropna(), te['mpg'].dropna()], \n",
    "    ['Train MPG', 'Test MPG'],\n",
    "    bin_size=1\n",
    ")\n",
    "fig.show()"
   ]
  },
  {
   "cell_type": "markdown",
   "metadata": {},
   "source": [
    "***\n",
    "\n",
    "## **5. Building a Basic Model**\n",
    "\n",
    "We will build a simple Linear Regression model using engine characteristics such as \"cylinders\" and \"displacement\" to predict `mpg`.\n",
    "\n",
    "### **5.1 ~ Feature Extraction**\n",
    "\n",
    "Define a function to extract the relevant features from the dataset."
   ]
  },
  {
   "cell_type": "code",
   "execution_count": 11,
   "metadata": {},
   "outputs": [],
   "source": [
    "def phi(df):\n",
    "    \"\"\"\n",
    "    Extracts the 'cylinders' and 'displacement' features from the dataframe.\n",
    "    \n",
    "    Parameters:\n",
    "        df (pd.DataFrame): The input dataframe.\n",
    "        \n",
    "    Returns:\n",
    "        pd.DataFrame: Dataframe containing only the selected features.\n",
    "    \"\"\"\n",
    "    return df[[\"cylinders\", \"displacement\"]]"
   ]
  },
  {
   "cell_type": "markdown",
   "metadata": {},
   "source": [
    "### **5.2 ~ Training the Model**\n",
    "\n",
    "Fit a Linear Regression model using the extracted features."
   ]
  },
  {
   "cell_type": "code",
   "execution_count": 12,
   "metadata": {},
   "outputs": [
    {
     "data": {
      "text/html": [
       "<style>#sk-container-id-1 {\n",
       "  /* Definition of color scheme common for light and dark mode */\n",
       "  --sklearn-color-text: black;\n",
       "  --sklearn-color-line: gray;\n",
       "  /* Definition of color scheme for unfitted estimators */\n",
       "  --sklearn-color-unfitted-level-0: #fff5e6;\n",
       "  --sklearn-color-unfitted-level-1: #f6e4d2;\n",
       "  --sklearn-color-unfitted-level-2: #ffe0b3;\n",
       "  --sklearn-color-unfitted-level-3: chocolate;\n",
       "  /* Definition of color scheme for fitted estimators */\n",
       "  --sklearn-color-fitted-level-0: #f0f8ff;\n",
       "  --sklearn-color-fitted-level-1: #d4ebff;\n",
       "  --sklearn-color-fitted-level-2: #b3dbfd;\n",
       "  --sklearn-color-fitted-level-3: cornflowerblue;\n",
       "\n",
       "  /* Specific color for light theme */\n",
       "  --sklearn-color-text-on-default-background: var(--sg-text-color, var(--theme-code-foreground, var(--jp-content-font-color1, black)));\n",
       "  --sklearn-color-background: var(--sg-background-color, var(--theme-background, var(--jp-layout-color0, white)));\n",
       "  --sklearn-color-border-box: var(--sg-text-color, var(--theme-code-foreground, var(--jp-content-font-color1, black)));\n",
       "  --sklearn-color-icon: #696969;\n",
       "\n",
       "  @media (prefers-color-scheme: dark) {\n",
       "    /* Redefinition of color scheme for dark theme */\n",
       "    --sklearn-color-text-on-default-background: var(--sg-text-color, var(--theme-code-foreground, var(--jp-content-font-color1, white)));\n",
       "    --sklearn-color-background: var(--sg-background-color, var(--theme-background, var(--jp-layout-color0, #111)));\n",
       "    --sklearn-color-border-box: var(--sg-text-color, var(--theme-code-foreground, var(--jp-content-font-color1, white)));\n",
       "    --sklearn-color-icon: #878787;\n",
       "  }\n",
       "}\n",
       "\n",
       "#sk-container-id-1 {\n",
       "  color: var(--sklearn-color-text);\n",
       "}\n",
       "\n",
       "#sk-container-id-1 pre {\n",
       "  padding: 0;\n",
       "}\n",
       "\n",
       "#sk-container-id-1 input.sk-hidden--visually {\n",
       "  border: 0;\n",
       "  clip: rect(1px 1px 1px 1px);\n",
       "  clip: rect(1px, 1px, 1px, 1px);\n",
       "  height: 1px;\n",
       "  margin: -1px;\n",
       "  overflow: hidden;\n",
       "  padding: 0;\n",
       "  position: absolute;\n",
       "  width: 1px;\n",
       "}\n",
       "\n",
       "#sk-container-id-1 div.sk-dashed-wrapped {\n",
       "  border: 1px dashed var(--sklearn-color-line);\n",
       "  margin: 0 0.4em 0.5em 0.4em;\n",
       "  box-sizing: border-box;\n",
       "  padding-bottom: 0.4em;\n",
       "  background-color: var(--sklearn-color-background);\n",
       "}\n",
       "\n",
       "#sk-container-id-1 div.sk-container {\n",
       "  /* jupyter's `normalize.less` sets `[hidden] { display: none; }`\n",
       "     but bootstrap.min.css set `[hidden] { display: none !important; }`\n",
       "     so we also need the `!important` here to be able to override the\n",
       "     default hidden behavior on the sphinx rendered scikit-learn.org.\n",
       "     See: https://github.com/scikit-learn/scikit-learn/issues/21755 */\n",
       "  display: inline-block !important;\n",
       "  position: relative;\n",
       "}\n",
       "\n",
       "#sk-container-id-1 div.sk-text-repr-fallback {\n",
       "  display: none;\n",
       "}\n",
       "\n",
       "div.sk-parallel-item,\n",
       "div.sk-serial,\n",
       "div.sk-item {\n",
       "  /* draw centered vertical line to link estimators */\n",
       "  background-image: linear-gradient(var(--sklearn-color-text-on-default-background), var(--sklearn-color-text-on-default-background));\n",
       "  background-size: 2px 100%;\n",
       "  background-repeat: no-repeat;\n",
       "  background-position: center center;\n",
       "}\n",
       "\n",
       "/* Parallel-specific style estimator block */\n",
       "\n",
       "#sk-container-id-1 div.sk-parallel-item::after {\n",
       "  content: \"\";\n",
       "  width: 100%;\n",
       "  border-bottom: 2px solid var(--sklearn-color-text-on-default-background);\n",
       "  flex-grow: 1;\n",
       "}\n",
       "\n",
       "#sk-container-id-1 div.sk-parallel {\n",
       "  display: flex;\n",
       "  align-items: stretch;\n",
       "  justify-content: center;\n",
       "  background-color: var(--sklearn-color-background);\n",
       "  position: relative;\n",
       "}\n",
       "\n",
       "#sk-container-id-1 div.sk-parallel-item {\n",
       "  display: flex;\n",
       "  flex-direction: column;\n",
       "}\n",
       "\n",
       "#sk-container-id-1 div.sk-parallel-item:first-child::after {\n",
       "  align-self: flex-end;\n",
       "  width: 50%;\n",
       "}\n",
       "\n",
       "#sk-container-id-1 div.sk-parallel-item:last-child::after {\n",
       "  align-self: flex-start;\n",
       "  width: 50%;\n",
       "}\n",
       "\n",
       "#sk-container-id-1 div.sk-parallel-item:only-child::after {\n",
       "  width: 0;\n",
       "}\n",
       "\n",
       "/* Serial-specific style estimator block */\n",
       "\n",
       "#sk-container-id-1 div.sk-serial {\n",
       "  display: flex;\n",
       "  flex-direction: column;\n",
       "  align-items: center;\n",
       "  background-color: var(--sklearn-color-background);\n",
       "  padding-right: 1em;\n",
       "  padding-left: 1em;\n",
       "}\n",
       "\n",
       "\n",
       "/* Toggleable style: style used for estimator/Pipeline/ColumnTransformer box that is\n",
       "clickable and can be expanded/collapsed.\n",
       "- Pipeline and ColumnTransformer use this feature and define the default style\n",
       "- Estimators will overwrite some part of the style using the `sk-estimator` class\n",
       "*/\n",
       "\n",
       "/* Pipeline and ColumnTransformer style (default) */\n",
       "\n",
       "#sk-container-id-1 div.sk-toggleable {\n",
       "  /* Default theme specific background. It is overwritten whether we have a\n",
       "  specific estimator or a Pipeline/ColumnTransformer */\n",
       "  background-color: var(--sklearn-color-background);\n",
       "}\n",
       "\n",
       "/* Toggleable label */\n",
       "#sk-container-id-1 label.sk-toggleable__label {\n",
       "  cursor: pointer;\n",
       "  display: block;\n",
       "  width: 100%;\n",
       "  margin-bottom: 0;\n",
       "  padding: 0.5em;\n",
       "  box-sizing: border-box;\n",
       "  text-align: center;\n",
       "}\n",
       "\n",
       "#sk-container-id-1 label.sk-toggleable__label-arrow:before {\n",
       "  /* Arrow on the left of the label */\n",
       "  content: \"▸\";\n",
       "  float: left;\n",
       "  margin-right: 0.25em;\n",
       "  color: var(--sklearn-color-icon);\n",
       "}\n",
       "\n",
       "#sk-container-id-1 label.sk-toggleable__label-arrow:hover:before {\n",
       "  color: var(--sklearn-color-text);\n",
       "}\n",
       "\n",
       "/* Toggleable content - dropdown */\n",
       "\n",
       "#sk-container-id-1 div.sk-toggleable__content {\n",
       "  max-height: 0;\n",
       "  max-width: 0;\n",
       "  overflow: hidden;\n",
       "  text-align: left;\n",
       "  /* unfitted */\n",
       "  background-color: var(--sklearn-color-unfitted-level-0);\n",
       "}\n",
       "\n",
       "#sk-container-id-1 div.sk-toggleable__content.fitted {\n",
       "  /* fitted */\n",
       "  background-color: var(--sklearn-color-fitted-level-0);\n",
       "}\n",
       "\n",
       "#sk-container-id-1 div.sk-toggleable__content pre {\n",
       "  margin: 0.2em;\n",
       "  border-radius: 0.25em;\n",
       "  color: var(--sklearn-color-text);\n",
       "  /* unfitted */\n",
       "  background-color: var(--sklearn-color-unfitted-level-0);\n",
       "}\n",
       "\n",
       "#sk-container-id-1 div.sk-toggleable__content.fitted pre {\n",
       "  /* unfitted */\n",
       "  background-color: var(--sklearn-color-fitted-level-0);\n",
       "}\n",
       "\n",
       "#sk-container-id-1 input.sk-toggleable__control:checked~div.sk-toggleable__content {\n",
       "  /* Expand drop-down */\n",
       "  max-height: 200px;\n",
       "  max-width: 100%;\n",
       "  overflow: auto;\n",
       "}\n",
       "\n",
       "#sk-container-id-1 input.sk-toggleable__control:checked~label.sk-toggleable__label-arrow:before {\n",
       "  content: \"▾\";\n",
       "}\n",
       "\n",
       "/* Pipeline/ColumnTransformer-specific style */\n",
       "\n",
       "#sk-container-id-1 div.sk-label input.sk-toggleable__control:checked~label.sk-toggleable__label {\n",
       "  color: var(--sklearn-color-text);\n",
       "  background-color: var(--sklearn-color-unfitted-level-2);\n",
       "}\n",
       "\n",
       "#sk-container-id-1 div.sk-label.fitted input.sk-toggleable__control:checked~label.sk-toggleable__label {\n",
       "  background-color: var(--sklearn-color-fitted-level-2);\n",
       "}\n",
       "\n",
       "/* Estimator-specific style */\n",
       "\n",
       "/* Colorize estimator box */\n",
       "#sk-container-id-1 div.sk-estimator input.sk-toggleable__control:checked~label.sk-toggleable__label {\n",
       "  /* unfitted */\n",
       "  background-color: var(--sklearn-color-unfitted-level-2);\n",
       "}\n",
       "\n",
       "#sk-container-id-1 div.sk-estimator.fitted input.sk-toggleable__control:checked~label.sk-toggleable__label {\n",
       "  /* fitted */\n",
       "  background-color: var(--sklearn-color-fitted-level-2);\n",
       "}\n",
       "\n",
       "#sk-container-id-1 div.sk-label label.sk-toggleable__label,\n",
       "#sk-container-id-1 div.sk-label label {\n",
       "  /* The background is the default theme color */\n",
       "  color: var(--sklearn-color-text-on-default-background);\n",
       "}\n",
       "\n",
       "/* On hover, darken the color of the background */\n",
       "#sk-container-id-1 div.sk-label:hover label.sk-toggleable__label {\n",
       "  color: var(--sklearn-color-text);\n",
       "  background-color: var(--sklearn-color-unfitted-level-2);\n",
       "}\n",
       "\n",
       "/* Label box, darken color on hover, fitted */\n",
       "#sk-container-id-1 div.sk-label.fitted:hover label.sk-toggleable__label.fitted {\n",
       "  color: var(--sklearn-color-text);\n",
       "  background-color: var(--sklearn-color-fitted-level-2);\n",
       "}\n",
       "\n",
       "/* Estimator label */\n",
       "\n",
       "#sk-container-id-1 div.sk-label label {\n",
       "  font-family: monospace;\n",
       "  font-weight: bold;\n",
       "  display: inline-block;\n",
       "  line-height: 1.2em;\n",
       "}\n",
       "\n",
       "#sk-container-id-1 div.sk-label-container {\n",
       "  text-align: center;\n",
       "}\n",
       "\n",
       "/* Estimator-specific */\n",
       "#sk-container-id-1 div.sk-estimator {\n",
       "  font-family: monospace;\n",
       "  border: 1px dotted var(--sklearn-color-border-box);\n",
       "  border-radius: 0.25em;\n",
       "  box-sizing: border-box;\n",
       "  margin-bottom: 0.5em;\n",
       "  /* unfitted */\n",
       "  background-color: var(--sklearn-color-unfitted-level-0);\n",
       "}\n",
       "\n",
       "#sk-container-id-1 div.sk-estimator.fitted {\n",
       "  /* fitted */\n",
       "  background-color: var(--sklearn-color-fitted-level-0);\n",
       "}\n",
       "\n",
       "/* on hover */\n",
       "#sk-container-id-1 div.sk-estimator:hover {\n",
       "  /* unfitted */\n",
       "  background-color: var(--sklearn-color-unfitted-level-2);\n",
       "}\n",
       "\n",
       "#sk-container-id-1 div.sk-estimator.fitted:hover {\n",
       "  /* fitted */\n",
       "  background-color: var(--sklearn-color-fitted-level-2);\n",
       "}\n",
       "\n",
       "/* Specification for estimator info (e.g. \"i\" and \"?\") */\n",
       "\n",
       "/* Common style for \"i\" and \"?\" */\n",
       "\n",
       ".sk-estimator-doc-link,\n",
       "a:link.sk-estimator-doc-link,\n",
       "a:visited.sk-estimator-doc-link {\n",
       "  float: right;\n",
       "  font-size: smaller;\n",
       "  line-height: 1em;\n",
       "  font-family: monospace;\n",
       "  background-color: var(--sklearn-color-background);\n",
       "  border-radius: 1em;\n",
       "  height: 1em;\n",
       "  width: 1em;\n",
       "  text-decoration: none !important;\n",
       "  margin-left: 1ex;\n",
       "  /* unfitted */\n",
       "  border: var(--sklearn-color-unfitted-level-1) 1pt solid;\n",
       "  color: var(--sklearn-color-unfitted-level-1);\n",
       "}\n",
       "\n",
       ".sk-estimator-doc-link.fitted,\n",
       "a:link.sk-estimator-doc-link.fitted,\n",
       "a:visited.sk-estimator-doc-link.fitted {\n",
       "  /* fitted */\n",
       "  border: var(--sklearn-color-fitted-level-1) 1pt solid;\n",
       "  color: var(--sklearn-color-fitted-level-1);\n",
       "}\n",
       "\n",
       "/* On hover */\n",
       "div.sk-estimator:hover .sk-estimator-doc-link:hover,\n",
       ".sk-estimator-doc-link:hover,\n",
       "div.sk-label-container:hover .sk-estimator-doc-link:hover,\n",
       ".sk-estimator-doc-link:hover {\n",
       "  /* unfitted */\n",
       "  background-color: var(--sklearn-color-unfitted-level-3);\n",
       "  color: var(--sklearn-color-background);\n",
       "  text-decoration: none;\n",
       "}\n",
       "\n",
       "div.sk-estimator.fitted:hover .sk-estimator-doc-link.fitted:hover,\n",
       ".sk-estimator-doc-link.fitted:hover,\n",
       "div.sk-label-container:hover .sk-estimator-doc-link.fitted:hover,\n",
       ".sk-estimator-doc-link.fitted:hover {\n",
       "  /* fitted */\n",
       "  background-color: var(--sklearn-color-fitted-level-3);\n",
       "  color: var(--sklearn-color-background);\n",
       "  text-decoration: none;\n",
       "}\n",
       "\n",
       "/* Span, style for the box shown on hovering the info icon */\n",
       ".sk-estimator-doc-link span {\n",
       "  display: none;\n",
       "  z-index: 9999;\n",
       "  position: relative;\n",
       "  font-weight: normal;\n",
       "  right: .2ex;\n",
       "  padding: .5ex;\n",
       "  margin: .5ex;\n",
       "  width: min-content;\n",
       "  min-width: 20ex;\n",
       "  max-width: 50ex;\n",
       "  color: var(--sklearn-color-text);\n",
       "  box-shadow: 2pt 2pt 4pt #999;\n",
       "  /* unfitted */\n",
       "  background: var(--sklearn-color-unfitted-level-0);\n",
       "  border: .5pt solid var(--sklearn-color-unfitted-level-3);\n",
       "}\n",
       "\n",
       ".sk-estimator-doc-link.fitted span {\n",
       "  /* fitted */\n",
       "  background: var(--sklearn-color-fitted-level-0);\n",
       "  border: var(--sklearn-color-fitted-level-3);\n",
       "}\n",
       "\n",
       ".sk-estimator-doc-link:hover span {\n",
       "  display: block;\n",
       "}\n",
       "\n",
       "/* \"?\"-specific style due to the `<a>` HTML tag */\n",
       "\n",
       "#sk-container-id-1 a.estimator_doc_link {\n",
       "  float: right;\n",
       "  font-size: 1rem;\n",
       "  line-height: 1em;\n",
       "  font-family: monospace;\n",
       "  background-color: var(--sklearn-color-background);\n",
       "  border-radius: 1rem;\n",
       "  height: 1rem;\n",
       "  width: 1rem;\n",
       "  text-decoration: none;\n",
       "  /* unfitted */\n",
       "  color: var(--sklearn-color-unfitted-level-1);\n",
       "  border: var(--sklearn-color-unfitted-level-1) 1pt solid;\n",
       "}\n",
       "\n",
       "#sk-container-id-1 a.estimator_doc_link.fitted {\n",
       "  /* fitted */\n",
       "  border: var(--sklearn-color-fitted-level-1) 1pt solid;\n",
       "  color: var(--sklearn-color-fitted-level-1);\n",
       "}\n",
       "\n",
       "/* On hover */\n",
       "#sk-container-id-1 a.estimator_doc_link:hover {\n",
       "  /* unfitted */\n",
       "  background-color: var(--sklearn-color-unfitted-level-3);\n",
       "  color: var(--sklearn-color-background);\n",
       "  text-decoration: none;\n",
       "}\n",
       "\n",
       "#sk-container-id-1 a.estimator_doc_link.fitted:hover {\n",
       "  /* fitted */\n",
       "  background-color: var(--sklearn-color-fitted-level-3);\n",
       "}\n",
       "</style><div id=\"sk-container-id-1\" class=\"sk-top-container\"><div class=\"sk-text-repr-fallback\"><pre>LinearRegression()</pre><b>In a Jupyter environment, please rerun this cell to show the HTML representation or trust the notebook. <br />On GitHub, the HTML representation is unable to render, please try loading this page with nbviewer.org.</b></div><div class=\"sk-container\" hidden><div class=\"sk-item\"><div class=\"sk-estimator fitted sk-toggleable\"><input class=\"sk-toggleable__control sk-hidden--visually\" id=\"sk-estimator-id-1\" type=\"checkbox\" checked><label for=\"sk-estimator-id-1\" class=\"sk-toggleable__label fitted sk-toggleable__label-arrow fitted\">&nbsp;&nbsp;LinearRegression<a class=\"sk-estimator-doc-link fitted\" rel=\"noreferrer\" target=\"_blank\" href=\"https://scikit-learn.org/1.4/modules/generated/sklearn.linear_model.LinearRegression.html\">?<span>Documentation for LinearRegression</span></a><span class=\"sk-estimator-doc-link fitted\">i<span>Fitted</span></span></label><div class=\"sk-toggleable__content fitted\"><pre>LinearRegression()</pre></div> </div></div></div></div>"
      ],
      "text/plain": [
       "LinearRegression()"
      ]
     },
     "execution_count": 12,
     "metadata": {},
     "output_type": "execute_result"
    }
   ],
   "source": [
    "# Initialize the Linear Regression model\n",
    "model = LinearRegression()\n",
    "\n",
    "# Fit the model on the training data\n",
    "model.fit(phi(tr), tr['mpg'])"
   ]
  },
  {
   "cell_type": "markdown",
   "metadata": {},
   "source": [
    "### **5.3 ~ Evaluating the Model**\n",
    "\n",
    "We will use the **Root Mean Squared Error (RMSE)** to evaluate the model's performance.\n",
    "\n",
    "RMSE provides an error metric in the same units as the target variable (`mpg`)."
   ]
  },
  {
   "cell_type": "code",
   "execution_count": 13,
   "metadata": {},
   "outputs": [],
   "source": [
    "def rmse(y, yhat):\n",
    "    \"\"\"\n",
    "    Computes the Root Mean Squared Error between actual and predicted values.\n",
    "    \n",
    "    Parameters:\n",
    "        y (pd.Series or np.array): Actual values.\n",
    "        yhat (pd.Series or np.array): Predicted values.\n",
    "        \n",
    "    Returns:\n",
    "        float: The RMSE value.\n",
    "    \"\"\"\n",
    "    return np.sqrt(np.mean((y - yhat) ** 2))"
   ]
  },
  {
   "cell_type": "code",
   "execution_count": 14,
   "metadata": {},
   "outputs": [
    {
     "name": "stdout",
     "output_type": "stream",
     "text": [
      "Training Error (RMSE): 4.589009902639974\n"
     ]
    }
   ],
   "source": [
    "# Calculate training predictions and RMSE\n",
    "Y_hat_tr = model.predict(phi(tr))\n",
    "Y_tr = tr['mpg']\n",
    "print(\"Training Error (RMSE):\", rmse(Y_tr, Y_hat_tr))"
   ]
  },
  {
   "cell_type": "markdown",
   "metadata": {},
   "source": [
    "### **5.4 ~ Avoiding Data Leakage**\n",
    "\n",
    "It's tempting to evaluate the model on the test set immediately, but this can lead to data leakage. Here's an example of what **not** to do:"
   ]
  },
  {
   "cell_type": "code",
   "execution_count": 15,
   "metadata": {},
   "outputs": [
    {
     "name": "stdout",
     "output_type": "stream",
     "text": [
      "Test Error (RMSE): 5.0340093039091744\n"
     ]
    }
   ],
   "source": [
    "# Calculate test predictions and RMSE (Not Recommended)\n",
    "Y_hat_te = model.predict(phi(te))\n",
    "Y_te = te['mpg']\n",
    "print(\"Test Error (RMSE):\", rmse(Y_te, Y_hat_te))"
   ]
  },
  {
   "cell_type": "markdown",
   "metadata": {},
   "source": [
    "**Notice:** The test error is slightly higher than the training error, which is typical as the model may not generalize perfectly to unseen data.\n",
    "\n",
    "***\n",
    "\n",
    "## **6. Scikit-Learn Pipelines**\n",
    "\n",
    "Scikit-learn's `Pipeline` allows us to streamline the workflow by chaining together preprocessing steps and the model.\n",
    "\n",
    "This ensures that the same transformations are applied consistently during training and testing.\n",
    "\n",
    "### **6.1 ~ Creating Pipelines**\n",
    "\n",
    "Create a pipeline that selects specific columns and applies the Linear Regression model."
   ]
  },
  {
   "cell_type": "code",
   "execution_count": 16,
   "metadata": {},
   "outputs": [
    {
     "data": {
      "text/html": [
       "<style>#sk-container-id-2 {\n",
       "  /* Definition of color scheme common for light and dark mode */\n",
       "  --sklearn-color-text: black;\n",
       "  --sklearn-color-line: gray;\n",
       "  /* Definition of color scheme for unfitted estimators */\n",
       "  --sklearn-color-unfitted-level-0: #fff5e6;\n",
       "  --sklearn-color-unfitted-level-1: #f6e4d2;\n",
       "  --sklearn-color-unfitted-level-2: #ffe0b3;\n",
       "  --sklearn-color-unfitted-level-3: chocolate;\n",
       "  /* Definition of color scheme for fitted estimators */\n",
       "  --sklearn-color-fitted-level-0: #f0f8ff;\n",
       "  --sklearn-color-fitted-level-1: #d4ebff;\n",
       "  --sklearn-color-fitted-level-2: #b3dbfd;\n",
       "  --sklearn-color-fitted-level-3: cornflowerblue;\n",
       "\n",
       "  /* Specific color for light theme */\n",
       "  --sklearn-color-text-on-default-background: var(--sg-text-color, var(--theme-code-foreground, var(--jp-content-font-color1, black)));\n",
       "  --sklearn-color-background: var(--sg-background-color, var(--theme-background, var(--jp-layout-color0, white)));\n",
       "  --sklearn-color-border-box: var(--sg-text-color, var(--theme-code-foreground, var(--jp-content-font-color1, black)));\n",
       "  --sklearn-color-icon: #696969;\n",
       "\n",
       "  @media (prefers-color-scheme: dark) {\n",
       "    /* Redefinition of color scheme for dark theme */\n",
       "    --sklearn-color-text-on-default-background: var(--sg-text-color, var(--theme-code-foreground, var(--jp-content-font-color1, white)));\n",
       "    --sklearn-color-background: var(--sg-background-color, var(--theme-background, var(--jp-layout-color0, #111)));\n",
       "    --sklearn-color-border-box: var(--sg-text-color, var(--theme-code-foreground, var(--jp-content-font-color1, white)));\n",
       "    --sklearn-color-icon: #878787;\n",
       "  }\n",
       "}\n",
       "\n",
       "#sk-container-id-2 {\n",
       "  color: var(--sklearn-color-text);\n",
       "}\n",
       "\n",
       "#sk-container-id-2 pre {\n",
       "  padding: 0;\n",
       "}\n",
       "\n",
       "#sk-container-id-2 input.sk-hidden--visually {\n",
       "  border: 0;\n",
       "  clip: rect(1px 1px 1px 1px);\n",
       "  clip: rect(1px, 1px, 1px, 1px);\n",
       "  height: 1px;\n",
       "  margin: -1px;\n",
       "  overflow: hidden;\n",
       "  padding: 0;\n",
       "  position: absolute;\n",
       "  width: 1px;\n",
       "}\n",
       "\n",
       "#sk-container-id-2 div.sk-dashed-wrapped {\n",
       "  border: 1px dashed var(--sklearn-color-line);\n",
       "  margin: 0 0.4em 0.5em 0.4em;\n",
       "  box-sizing: border-box;\n",
       "  padding-bottom: 0.4em;\n",
       "  background-color: var(--sklearn-color-background);\n",
       "}\n",
       "\n",
       "#sk-container-id-2 div.sk-container {\n",
       "  /* jupyter's `normalize.less` sets `[hidden] { display: none; }`\n",
       "     but bootstrap.min.css set `[hidden] { display: none !important; }`\n",
       "     so we also need the `!important` here to be able to override the\n",
       "     default hidden behavior on the sphinx rendered scikit-learn.org.\n",
       "     See: https://github.com/scikit-learn/scikit-learn/issues/21755 */\n",
       "  display: inline-block !important;\n",
       "  position: relative;\n",
       "}\n",
       "\n",
       "#sk-container-id-2 div.sk-text-repr-fallback {\n",
       "  display: none;\n",
       "}\n",
       "\n",
       "div.sk-parallel-item,\n",
       "div.sk-serial,\n",
       "div.sk-item {\n",
       "  /* draw centered vertical line to link estimators */\n",
       "  background-image: linear-gradient(var(--sklearn-color-text-on-default-background), var(--sklearn-color-text-on-default-background));\n",
       "  background-size: 2px 100%;\n",
       "  background-repeat: no-repeat;\n",
       "  background-position: center center;\n",
       "}\n",
       "\n",
       "/* Parallel-specific style estimator block */\n",
       "\n",
       "#sk-container-id-2 div.sk-parallel-item::after {\n",
       "  content: \"\";\n",
       "  width: 100%;\n",
       "  border-bottom: 2px solid var(--sklearn-color-text-on-default-background);\n",
       "  flex-grow: 1;\n",
       "}\n",
       "\n",
       "#sk-container-id-2 div.sk-parallel {\n",
       "  display: flex;\n",
       "  align-items: stretch;\n",
       "  justify-content: center;\n",
       "  background-color: var(--sklearn-color-background);\n",
       "  position: relative;\n",
       "}\n",
       "\n",
       "#sk-container-id-2 div.sk-parallel-item {\n",
       "  display: flex;\n",
       "  flex-direction: column;\n",
       "}\n",
       "\n",
       "#sk-container-id-2 div.sk-parallel-item:first-child::after {\n",
       "  align-self: flex-end;\n",
       "  width: 50%;\n",
       "}\n",
       "\n",
       "#sk-container-id-2 div.sk-parallel-item:last-child::after {\n",
       "  align-self: flex-start;\n",
       "  width: 50%;\n",
       "}\n",
       "\n",
       "#sk-container-id-2 div.sk-parallel-item:only-child::after {\n",
       "  width: 0;\n",
       "}\n",
       "\n",
       "/* Serial-specific style estimator block */\n",
       "\n",
       "#sk-container-id-2 div.sk-serial {\n",
       "  display: flex;\n",
       "  flex-direction: column;\n",
       "  align-items: center;\n",
       "  background-color: var(--sklearn-color-background);\n",
       "  padding-right: 1em;\n",
       "  padding-left: 1em;\n",
       "}\n",
       "\n",
       "\n",
       "/* Toggleable style: style used for estimator/Pipeline/ColumnTransformer box that is\n",
       "clickable and can be expanded/collapsed.\n",
       "- Pipeline and ColumnTransformer use this feature and define the default style\n",
       "- Estimators will overwrite some part of the style using the `sk-estimator` class\n",
       "*/\n",
       "\n",
       "/* Pipeline and ColumnTransformer style (default) */\n",
       "\n",
       "#sk-container-id-2 div.sk-toggleable {\n",
       "  /* Default theme specific background. It is overwritten whether we have a\n",
       "  specific estimator or a Pipeline/ColumnTransformer */\n",
       "  background-color: var(--sklearn-color-background);\n",
       "}\n",
       "\n",
       "/* Toggleable label */\n",
       "#sk-container-id-2 label.sk-toggleable__label {\n",
       "  cursor: pointer;\n",
       "  display: block;\n",
       "  width: 100%;\n",
       "  margin-bottom: 0;\n",
       "  padding: 0.5em;\n",
       "  box-sizing: border-box;\n",
       "  text-align: center;\n",
       "}\n",
       "\n",
       "#sk-container-id-2 label.sk-toggleable__label-arrow:before {\n",
       "  /* Arrow on the left of the label */\n",
       "  content: \"▸\";\n",
       "  float: left;\n",
       "  margin-right: 0.25em;\n",
       "  color: var(--sklearn-color-icon);\n",
       "}\n",
       "\n",
       "#sk-container-id-2 label.sk-toggleable__label-arrow:hover:before {\n",
       "  color: var(--sklearn-color-text);\n",
       "}\n",
       "\n",
       "/* Toggleable content - dropdown */\n",
       "\n",
       "#sk-container-id-2 div.sk-toggleable__content {\n",
       "  max-height: 0;\n",
       "  max-width: 0;\n",
       "  overflow: hidden;\n",
       "  text-align: left;\n",
       "  /* unfitted */\n",
       "  background-color: var(--sklearn-color-unfitted-level-0);\n",
       "}\n",
       "\n",
       "#sk-container-id-2 div.sk-toggleable__content.fitted {\n",
       "  /* fitted */\n",
       "  background-color: var(--sklearn-color-fitted-level-0);\n",
       "}\n",
       "\n",
       "#sk-container-id-2 div.sk-toggleable__content pre {\n",
       "  margin: 0.2em;\n",
       "  border-radius: 0.25em;\n",
       "  color: var(--sklearn-color-text);\n",
       "  /* unfitted */\n",
       "  background-color: var(--sklearn-color-unfitted-level-0);\n",
       "}\n",
       "\n",
       "#sk-container-id-2 div.sk-toggleable__content.fitted pre {\n",
       "  /* unfitted */\n",
       "  background-color: var(--sklearn-color-fitted-level-0);\n",
       "}\n",
       "\n",
       "#sk-container-id-2 input.sk-toggleable__control:checked~div.sk-toggleable__content {\n",
       "  /* Expand drop-down */\n",
       "  max-height: 200px;\n",
       "  max-width: 100%;\n",
       "  overflow: auto;\n",
       "}\n",
       "\n",
       "#sk-container-id-2 input.sk-toggleable__control:checked~label.sk-toggleable__label-arrow:before {\n",
       "  content: \"▾\";\n",
       "}\n",
       "\n",
       "/* Pipeline/ColumnTransformer-specific style */\n",
       "\n",
       "#sk-container-id-2 div.sk-label input.sk-toggleable__control:checked~label.sk-toggleable__label {\n",
       "  color: var(--sklearn-color-text);\n",
       "  background-color: var(--sklearn-color-unfitted-level-2);\n",
       "}\n",
       "\n",
       "#sk-container-id-2 div.sk-label.fitted input.sk-toggleable__control:checked~label.sk-toggleable__label {\n",
       "  background-color: var(--sklearn-color-fitted-level-2);\n",
       "}\n",
       "\n",
       "/* Estimator-specific style */\n",
       "\n",
       "/* Colorize estimator box */\n",
       "#sk-container-id-2 div.sk-estimator input.sk-toggleable__control:checked~label.sk-toggleable__label {\n",
       "  /* unfitted */\n",
       "  background-color: var(--sklearn-color-unfitted-level-2);\n",
       "}\n",
       "\n",
       "#sk-container-id-2 div.sk-estimator.fitted input.sk-toggleable__control:checked~label.sk-toggleable__label {\n",
       "  /* fitted */\n",
       "  background-color: var(--sklearn-color-fitted-level-2);\n",
       "}\n",
       "\n",
       "#sk-container-id-2 div.sk-label label.sk-toggleable__label,\n",
       "#sk-container-id-2 div.sk-label label {\n",
       "  /* The background is the default theme color */\n",
       "  color: var(--sklearn-color-text-on-default-background);\n",
       "}\n",
       "\n",
       "/* On hover, darken the color of the background */\n",
       "#sk-container-id-2 div.sk-label:hover label.sk-toggleable__label {\n",
       "  color: var(--sklearn-color-text);\n",
       "  background-color: var(--sklearn-color-unfitted-level-2);\n",
       "}\n",
       "\n",
       "/* Label box, darken color on hover, fitted */\n",
       "#sk-container-id-2 div.sk-label.fitted:hover label.sk-toggleable__label.fitted {\n",
       "  color: var(--sklearn-color-text);\n",
       "  background-color: var(--sklearn-color-fitted-level-2);\n",
       "}\n",
       "\n",
       "/* Estimator label */\n",
       "\n",
       "#sk-container-id-2 div.sk-label label {\n",
       "  font-family: monospace;\n",
       "  font-weight: bold;\n",
       "  display: inline-block;\n",
       "  line-height: 1.2em;\n",
       "}\n",
       "\n",
       "#sk-container-id-2 div.sk-label-container {\n",
       "  text-align: center;\n",
       "}\n",
       "\n",
       "/* Estimator-specific */\n",
       "#sk-container-id-2 div.sk-estimator {\n",
       "  font-family: monospace;\n",
       "  border: 1px dotted var(--sklearn-color-border-box);\n",
       "  border-radius: 0.25em;\n",
       "  box-sizing: border-box;\n",
       "  margin-bottom: 0.5em;\n",
       "  /* unfitted */\n",
       "  background-color: var(--sklearn-color-unfitted-level-0);\n",
       "}\n",
       "\n",
       "#sk-container-id-2 div.sk-estimator.fitted {\n",
       "  /* fitted */\n",
       "  background-color: var(--sklearn-color-fitted-level-0);\n",
       "}\n",
       "\n",
       "/* on hover */\n",
       "#sk-container-id-2 div.sk-estimator:hover {\n",
       "  /* unfitted */\n",
       "  background-color: var(--sklearn-color-unfitted-level-2);\n",
       "}\n",
       "\n",
       "#sk-container-id-2 div.sk-estimator.fitted:hover {\n",
       "  /* fitted */\n",
       "  background-color: var(--sklearn-color-fitted-level-2);\n",
       "}\n",
       "\n",
       "/* Specification for estimator info (e.g. \"i\" and \"?\") */\n",
       "\n",
       "/* Common style for \"i\" and \"?\" */\n",
       "\n",
       ".sk-estimator-doc-link,\n",
       "a:link.sk-estimator-doc-link,\n",
       "a:visited.sk-estimator-doc-link {\n",
       "  float: right;\n",
       "  font-size: smaller;\n",
       "  line-height: 1em;\n",
       "  font-family: monospace;\n",
       "  background-color: var(--sklearn-color-background);\n",
       "  border-radius: 1em;\n",
       "  height: 1em;\n",
       "  width: 1em;\n",
       "  text-decoration: none !important;\n",
       "  margin-left: 1ex;\n",
       "  /* unfitted */\n",
       "  border: var(--sklearn-color-unfitted-level-1) 1pt solid;\n",
       "  color: var(--sklearn-color-unfitted-level-1);\n",
       "}\n",
       "\n",
       ".sk-estimator-doc-link.fitted,\n",
       "a:link.sk-estimator-doc-link.fitted,\n",
       "a:visited.sk-estimator-doc-link.fitted {\n",
       "  /* fitted */\n",
       "  border: var(--sklearn-color-fitted-level-1) 1pt solid;\n",
       "  color: var(--sklearn-color-fitted-level-1);\n",
       "}\n",
       "\n",
       "/* On hover */\n",
       "div.sk-estimator:hover .sk-estimator-doc-link:hover,\n",
       ".sk-estimator-doc-link:hover,\n",
       "div.sk-label-container:hover .sk-estimator-doc-link:hover,\n",
       ".sk-estimator-doc-link:hover {\n",
       "  /* unfitted */\n",
       "  background-color: var(--sklearn-color-unfitted-level-3);\n",
       "  color: var(--sklearn-color-background);\n",
       "  text-decoration: none;\n",
       "}\n",
       "\n",
       "div.sk-estimator.fitted:hover .sk-estimator-doc-link.fitted:hover,\n",
       ".sk-estimator-doc-link.fitted:hover,\n",
       "div.sk-label-container:hover .sk-estimator-doc-link.fitted:hover,\n",
       ".sk-estimator-doc-link.fitted:hover {\n",
       "  /* fitted */\n",
       "  background-color: var(--sklearn-color-fitted-level-3);\n",
       "  color: var(--sklearn-color-background);\n",
       "  text-decoration: none;\n",
       "}\n",
       "\n",
       "/* Span, style for the box shown on hovering the info icon */\n",
       ".sk-estimator-doc-link span {\n",
       "  display: none;\n",
       "  z-index: 9999;\n",
       "  position: relative;\n",
       "  font-weight: normal;\n",
       "  right: .2ex;\n",
       "  padding: .5ex;\n",
       "  margin: .5ex;\n",
       "  width: min-content;\n",
       "  min-width: 20ex;\n",
       "  max-width: 50ex;\n",
       "  color: var(--sklearn-color-text);\n",
       "  box-shadow: 2pt 2pt 4pt #999;\n",
       "  /* unfitted */\n",
       "  background: var(--sklearn-color-unfitted-level-0);\n",
       "  border: .5pt solid var(--sklearn-color-unfitted-level-3);\n",
       "}\n",
       "\n",
       ".sk-estimator-doc-link.fitted span {\n",
       "  /* fitted */\n",
       "  background: var(--sklearn-color-fitted-level-0);\n",
       "  border: var(--sklearn-color-fitted-level-3);\n",
       "}\n",
       "\n",
       ".sk-estimator-doc-link:hover span {\n",
       "  display: block;\n",
       "}\n",
       "\n",
       "/* \"?\"-specific style due to the `<a>` HTML tag */\n",
       "\n",
       "#sk-container-id-2 a.estimator_doc_link {\n",
       "  float: right;\n",
       "  font-size: 1rem;\n",
       "  line-height: 1em;\n",
       "  font-family: monospace;\n",
       "  background-color: var(--sklearn-color-background);\n",
       "  border-radius: 1rem;\n",
       "  height: 1rem;\n",
       "  width: 1rem;\n",
       "  text-decoration: none;\n",
       "  /* unfitted */\n",
       "  color: var(--sklearn-color-unfitted-level-1);\n",
       "  border: var(--sklearn-color-unfitted-level-1) 1pt solid;\n",
       "}\n",
       "\n",
       "#sk-container-id-2 a.estimator_doc_link.fitted {\n",
       "  /* fitted */\n",
       "  border: var(--sklearn-color-fitted-level-1) 1pt solid;\n",
       "  color: var(--sklearn-color-fitted-level-1);\n",
       "}\n",
       "\n",
       "/* On hover */\n",
       "#sk-container-id-2 a.estimator_doc_link:hover {\n",
       "  /* unfitted */\n",
       "  background-color: var(--sklearn-color-unfitted-level-3);\n",
       "  color: var(--sklearn-color-background);\n",
       "  text-decoration: none;\n",
       "}\n",
       "\n",
       "#sk-container-id-2 a.estimator_doc_link.fitted:hover {\n",
       "  /* fitted */\n",
       "  background-color: var(--sklearn-color-fitted-level-3);\n",
       "}\n",
       "</style><div id=\"sk-container-id-2\" class=\"sk-top-container\"><div class=\"sk-text-repr-fallback\"><pre>Pipeline(steps=[(&#x27;SelectColumns&#x27;,\n",
       "                 ColumnTransformer(transformers=[(&#x27;keep&#x27;, &#x27;passthrough&#x27;,\n",
       "                                                  [&#x27;cylinders&#x27;,\n",
       "                                                   &#x27;displacement&#x27;])])),\n",
       "                (&#x27;LinearModel&#x27;, LinearRegression())])</pre><b>In a Jupyter environment, please rerun this cell to show the HTML representation or trust the notebook. <br />On GitHub, the HTML representation is unable to render, please try loading this page with nbviewer.org.</b></div><div class=\"sk-container\" hidden><div class=\"sk-item sk-dashed-wrapped\"><div class=\"sk-label-container\"><div class=\"sk-label fitted sk-toggleable\"><input class=\"sk-toggleable__control sk-hidden--visually\" id=\"sk-estimator-id-2\" type=\"checkbox\" ><label for=\"sk-estimator-id-2\" class=\"sk-toggleable__label fitted sk-toggleable__label-arrow fitted\">&nbsp;&nbsp;Pipeline<a class=\"sk-estimator-doc-link fitted\" rel=\"noreferrer\" target=\"_blank\" href=\"https://scikit-learn.org/1.4/modules/generated/sklearn.pipeline.Pipeline.html\">?<span>Documentation for Pipeline</span></a><span class=\"sk-estimator-doc-link fitted\">i<span>Fitted</span></span></label><div class=\"sk-toggleable__content fitted\"><pre>Pipeline(steps=[(&#x27;SelectColumns&#x27;,\n",
       "                 ColumnTransformer(transformers=[(&#x27;keep&#x27;, &#x27;passthrough&#x27;,\n",
       "                                                  [&#x27;cylinders&#x27;,\n",
       "                                                   &#x27;displacement&#x27;])])),\n",
       "                (&#x27;LinearModel&#x27;, LinearRegression())])</pre></div> </div></div><div class=\"sk-serial\"><div class=\"sk-item sk-dashed-wrapped\"><div class=\"sk-label-container\"><div class=\"sk-label fitted sk-toggleable\"><input class=\"sk-toggleable__control sk-hidden--visually\" id=\"sk-estimator-id-3\" type=\"checkbox\" ><label for=\"sk-estimator-id-3\" class=\"sk-toggleable__label fitted sk-toggleable__label-arrow fitted\">&nbsp;SelectColumns: ColumnTransformer<a class=\"sk-estimator-doc-link fitted\" rel=\"noreferrer\" target=\"_blank\" href=\"https://scikit-learn.org/1.4/modules/generated/sklearn.compose.ColumnTransformer.html\">?<span>Documentation for SelectColumns: ColumnTransformer</span></a></label><div class=\"sk-toggleable__content fitted\"><pre>ColumnTransformer(transformers=[(&#x27;keep&#x27;, &#x27;passthrough&#x27;,\n",
       "                                 [&#x27;cylinders&#x27;, &#x27;displacement&#x27;])])</pre></div> </div></div><div class=\"sk-parallel\"><div class=\"sk-parallel-item\"><div class=\"sk-item\"><div class=\"sk-label-container\"><div class=\"sk-label fitted sk-toggleable\"><input class=\"sk-toggleable__control sk-hidden--visually\" id=\"sk-estimator-id-4\" type=\"checkbox\" ><label for=\"sk-estimator-id-4\" class=\"sk-toggleable__label fitted sk-toggleable__label-arrow fitted\">keep</label><div class=\"sk-toggleable__content fitted\"><pre>[&#x27;cylinders&#x27;, &#x27;displacement&#x27;]</pre></div> </div></div><div class=\"sk-serial\"><div class=\"sk-item\"><div class=\"sk-estimator fitted sk-toggleable\"><input class=\"sk-toggleable__control sk-hidden--visually\" id=\"sk-estimator-id-5\" type=\"checkbox\" ><label for=\"sk-estimator-id-5\" class=\"sk-toggleable__label fitted sk-toggleable__label-arrow fitted\">passthrough</label><div class=\"sk-toggleable__content fitted\"><pre>passthrough</pre></div> </div></div></div></div></div></div></div><div class=\"sk-item\"><div class=\"sk-estimator fitted sk-toggleable\"><input class=\"sk-toggleable__control sk-hidden--visually\" id=\"sk-estimator-id-6\" type=\"checkbox\" ><label for=\"sk-estimator-id-6\" class=\"sk-toggleable__label fitted sk-toggleable__label-arrow fitted\">&nbsp;LinearRegression<a class=\"sk-estimator-doc-link fitted\" rel=\"noreferrer\" target=\"_blank\" href=\"https://scikit-learn.org/1.4/modules/generated/sklearn.linear_model.LinearRegression.html\">?<span>Documentation for LinearRegression</span></a></label><div class=\"sk-toggleable__content fitted\"><pre>LinearRegression()</pre></div> </div></div></div></div></div></div>"
      ],
      "text/plain": [
       "Pipeline(steps=[('SelectColumns',\n",
       "                 ColumnTransformer(transformers=[('keep', 'passthrough',\n",
       "                                                  ['cylinders',\n",
       "                                                   'displacement'])])),\n",
       "                ('LinearModel', LinearRegression())])"
      ]
     },
     "execution_count": 16,
     "metadata": {},
     "output_type": "execute_result"
    }
   ],
   "source": [
    "# Define the pipeline\n",
    "pipeline = Pipeline([\n",
    "    (\"SelectColumns\", ColumnTransformer([\n",
    "        (\"keep\", \"passthrough\", [\"cylinders\", \"displacement\"])\n",
    "    ])),\n",
    "    (\"LinearModel\", LinearRegression())\n",
    "])\n",
    "\n",
    "# Fit the pipeline on the training data\n",
    "pipeline.fit(tr, tr['mpg'])"
   ]
  },
  {
   "cell_type": "markdown",
   "metadata": {},
   "source": [
    "### **6.2 ~ Tracking Multiple Models**\n",
    "\n",
    "To compare different models, we can store them in a dictionary with descriptive names."
   ]
  },
  {
   "cell_type": "code",
   "execution_count": 17,
   "metadata": {},
   "outputs": [],
   "source": [
    "# Initialize a dictionary to store models\n",
    "models = {\"cylinders_displacement\": pipeline}"
   ]
  },
  {
   "cell_type": "markdown",
   "metadata": {},
   "source": [
    "### **6.3 ~ Advanced Feature Transformations**\n",
    "\n",
    "Enhance the model by adding a new feature: displacement per cylinder."
   ]
  },
  {
   "cell_type": "code",
   "execution_count": 18,
   "metadata": {},
   "outputs": [],
   "source": [
    "# Define a function to compute displacement per cylinder\n",
    "def compute_volume(X):\n",
    "    \"\"\"\n",
    "    Computes displacement per cylinder.\n",
    "    \n",
    "    Parameters:\n",
    "        X (np.array): Array containing 'cylinders' and 'displacement'.\n",
    "        \n",
    "    Returns:\n",
    "        np.array: Array of displacement per cylinder.\n",
    "    \"\"\"\n",
    "    return np.expand_dims(X[:, 1] / X[:, 0], axis=1)\n",
    "\n",
    "# Create a FunctionTransformer for the new feature\n",
    "volume_transformer = FunctionTransformer(compute_volume, validate=True)"
   ]
  },
  {
   "cell_type": "code",
   "execution_count": 19,
   "metadata": {},
   "outputs": [],
   "source": [
    "# Update the pipeline to include the new feature\n",
    "pipeline = Pipeline([\n",
    "    (\"SelectColumns\", ColumnTransformer([\n",
    "        (\"keep\", \"passthrough\", [\"cylinders\", \"displacement\"]),\n",
    "        (\"displacement_per_cylinder\", volume_transformer, [\"cylinders\", \"displacement\"])\n",
    "    ])),\n",
    "    (\"LinearModel\", LinearRegression())\n",
    "])\n",
    "\n",
    "# Fit the updated pipeline\n",
    "pipeline.fit(tr, tr['mpg'])\n",
    "\n",
    "# Add the updated model to the dictionary\n",
    "models[\"cylinders_displacement_per_cylinder\"] = pipeline"
   ]
  },
  {
   "cell_type": "code",
   "execution_count": 20,
   "metadata": {},
   "outputs": [
    {
     "name": "stdout",
     "output_type": "stream",
     "text": [
      "Training Error (RMSE): 4.318799994795116\n"
     ]
    }
   ],
   "source": [
    "# Evaluate the updated model on the training data\n",
    "Y_hat_tr = pipeline.predict(tr)\n",
    "print(\"Training Error (RMSE):\", rmse(tr['mpg'], Y_hat_tr))"
   ]
  },
  {
   "cell_type": "markdown",
   "metadata": {},
   "source": [
    "### **6.4 ~ Handling Missing Values**\n",
    "\n",
    "The dataset contains missing values, particularly in the `horsepower` column.\n",
    "\n",
    "We will handle these by imputing missing values with the mean of the respective columns."
   ]
  },
  {
   "cell_type": "code",
   "execution_count": 21,
   "metadata": {},
   "outputs": [],
   "source": [
    "# Define quantitative features\n",
    "quantitative_features = [\"cylinders\", \"displacement\", \"horsepower\", \"weight\", \"acceleration\"]"
   ]
  },
  {
   "cell_type": "code",
   "execution_count": 22,
   "metadata": {},
   "outputs": [],
   "source": [
    "# Update the pipeline to include more features and handle missing values\n",
    "pipeline = Pipeline([\n",
    "    (\"SelectColumns\", ColumnTransformer([\n",
    "        (\"keep\", \"passthrough\", quantitative_features),\n",
    "        (\"displacement_per_cylinder\", volume_transformer, [\"cylinders\", \"displacement\"])\n",
    "    ])),\n",
    "    (\"Imputation\", SimpleImputer()),\n",
    "    (\"LinearModel\", LinearRegression())\n",
    "])\n",
    "\n",
    "# Attempt to fit the pipeline (expected to raise an error due to missing values)\n",
    "try:\n",
    "    pipeline.fit(tr, tr['mpg'])\n",
    "except ValueError as err:\n",
    "    print(\"Error:\", err)"
   ]
  },
  {
   "cell_type": "code",
   "execution_count": 23,
   "metadata": {},
   "outputs": [
    {
     "name": "stdout",
     "output_type": "stream",
     "text": [
      "Training Error (RMSE): 4.025034093127813\n"
     ]
    }
   ],
   "source": [
    "# Fit the pipeline with imputation\n",
    "pipeline.fit(tr, tr['mpg'])\n",
    "\n",
    "# Add the model with imputation to the dictionary\n",
    "models['cylinders_horsepower_weight_acceleration'] = pipeline\n",
    "\n",
    "# Evaluate the updated model on the training data\n",
    "Y_hat_tr = pipeline.predict(tr)\n",
    "print(\"Training Error (RMSE):\", rmse(tr['mpg'], Y_hat_tr))"
   ]
  },
  {
   "cell_type": "markdown",
   "metadata": {},
   "source": [
    "***\n",
    "\n",
    "## **7. Cross-Validation**\n",
    "\n",
    "Cross-validation provides a more robust evaluation of the model's performance by training and validating it on different subsets of the data.\n",
    "\n",
    "### **7.1 ~ Implementing Cross-Validation**\n",
    "\n",
    "Define a function to perform K-Fold cross-validation and compute the average RMSE."
   ]
  },
  {
   "cell_type": "code",
   "execution_count": 24,
   "metadata": {},
   "outputs": [],
   "source": [
    "def cross_validate_rmse(model, X, y, n_splits=5):\n",
    "    \"\"\"\n",
    "    Performs K-Fold cross-validation and computes the average RMSE.\n",
    "    \n",
    "    Parameters:\n",
    "        model (sklearn Pipeline): The model pipeline to evaluate.\n",
    "        X (pd.DataFrame): Features.\n",
    "        y (pd.Series): Target variable.\n",
    "        n_splits (int): Number of folds.\n",
    "        \n",
    "    Returns:\n",
    "        float: Average RMSE across folds.\n",
    "    \"\"\"\n",
    "    model = clone(model)\n",
    "    kfold = KFold(n_splits=n_splits, shuffle=True, random_state=42)\n",
    "    rmse_values = []\n",
    "    \n",
    "    for tr_ind, va_ind in kfold.split(X):\n",
    "        X_train, X_val = X.iloc[tr_ind], X.iloc[va_ind]\n",
    "        y_train, y_val = y.iloc[tr_ind], y.iloc[va_ind]\n",
    "        \n",
    "        model.fit(X_train, y_train)\n",
    "        y_pred = model.predict(X_val)\n",
    "        rmse_values.append(rmse(y_val, y_pred))\n",
    "    \n",
    "    return np.mean(rmse_values)"
   ]
  },
  {
   "cell_type": "code",
   "execution_count": 25,
   "metadata": {},
   "outputs": [
    {
     "name": "stdout",
     "output_type": "stream",
     "text": [
      "Cross-Validation RMSE: 4.139401940486051\n"
     ]
    }
   ],
   "source": [
    "# Validate the latest model using cross-validation\n",
    "cv_rmse = cross_validate_rmse(pipeline, tr, tr['mpg'])\n",
    "print(\"Cross-Validation RMSE:\", cv_rmse)"
   ]
  },
  {
   "cell_type": "markdown",
   "metadata": {},
   "source": [
    "### **7.2 ~ Comparing Models**\n",
    "\n",
    "Define a helper function to compare all models stored in the `models` dictionary."
   ]
  },
  {
   "cell_type": "code",
   "execution_count": 26,
   "metadata": {},
   "outputs": [],
   "source": [
    "def compare_models(models, tr, te):\n",
    "    \"\"\"\n",
    "    Compares multiple models by computing their training RMSE, cross-validation RMSE, and test RMSE.\n",
    "    \n",
    "    Parameters:\n",
    "        models (dict): Dictionary of models with their names as keys.\n",
    "        tr (pd.DataFrame): Training dataset.\n",
    "        te (pd.DataFrame): Testing dataset.\n",
    "        \n",
    "    Returns:\n",
    "        plotly.graph_objects.Figure: A bar chart comparing RMSEs.\n",
    "    \"\"\"\n",
    "    training_rmse = [rmse(tr['mpg'], model.predict(tr)) for model in models.values()]\n",
    "    validation_rmse = [cross_validate_rmse(model, tr, tr['mpg']) for model in models.values()]\n",
    "    test_rmse = [rmse(te['mpg'], model.predict(te)) for model in models.values()]\n",
    "    names = list(models.keys())\n",
    "    \n",
    "    fig = go.Figure([\n",
    "        go.Bar(x=names, y=training_rmse, name=\"Training RMSE\"),\n",
    "        go.Bar(x=names, y=validation_rmse, name=\"Cross-Validation RMSE\"),\n",
    "        go.Bar(x=names, y=test_rmse, name=\"Test RMSE\", opacity=0.6)\n",
    "    ])\n",
    "    \n",
    "    fig.update_layout(\n",
    "        title=\"Model RMSE Comparison\",\n",
    "        yaxis_title=\"RMSE\",\n",
    "        barmode='group'\n",
    "    )\n",
    "    return fig"
   ]
  },
  {
   "cell_type": "code",
   "execution_count": 27,
   "metadata": {},
   "outputs": [
    {
     "data": {
      "application/vnd.plotly.v1+json": {
       "config": {
        "plotlyServerURL": "https://plot.ly"
       },
       "data": [
        {
         "name": "Training RMSE",
         "type": "bar",
         "x": [
          "cylinders_displacement",
          "cylinders_displacement_per_cylinder",
          "cylinders_horsepower_weight_acceleration"
         ],
         "y": [
          4.589009902639974,
          4.318799994795116,
          4.025034093127813
         ]
        },
        {
         "name": "Cross-Validation RMSE",
         "type": "bar",
         "x": [
          "cylinders_displacement",
          "cylinders_displacement_per_cylinder",
          "cylinders_horsepower_weight_acceleration"
         ],
         "y": [
          4.622403364179425,
          4.3987918490253985,
          4.139401940486051
         ]
        },
        {
         "name": "Test RMSE",
         "opacity": 0.6,
         "type": "bar",
         "x": [
          "cylinders_displacement",
          "cylinders_displacement_per_cylinder",
          "cylinders_horsepower_weight_acceleration"
         ],
         "y": [
          5.0340093039091744,
          4.775542810683128,
          4.063052136131592
         ]
        }
       ],
       "layout": {
        "barmode": "group",
        "template": {
         "data": {
          "bar": [
           {
            "error_x": {
             "color": "#2a3f5f"
            },
            "error_y": {
             "color": "#2a3f5f"
            },
            "marker": {
             "line": {
              "color": "#E5ECF6",
              "width": 0.5
             },
             "pattern": {
              "fillmode": "overlay",
              "size": 10,
              "solidity": 0.2
             }
            },
            "type": "bar"
           }
          ],
          "barpolar": [
           {
            "marker": {
             "line": {
              "color": "#E5ECF6",
              "width": 0.5
             },
             "pattern": {
              "fillmode": "overlay",
              "size": 10,
              "solidity": 0.2
             }
            },
            "type": "barpolar"
           }
          ],
          "carpet": [
           {
            "aaxis": {
             "endlinecolor": "#2a3f5f",
             "gridcolor": "white",
             "linecolor": "white",
             "minorgridcolor": "white",
             "startlinecolor": "#2a3f5f"
            },
            "baxis": {
             "endlinecolor": "#2a3f5f",
             "gridcolor": "white",
             "linecolor": "white",
             "minorgridcolor": "white",
             "startlinecolor": "#2a3f5f"
            },
            "type": "carpet"
           }
          ],
          "choropleth": [
           {
            "colorbar": {
             "outlinewidth": 0,
             "ticks": ""
            },
            "type": "choropleth"
           }
          ],
          "contour": [
           {
            "colorbar": {
             "outlinewidth": 0,
             "ticks": ""
            },
            "colorscale": [
             [
              0,
              "#0d0887"
             ],
             [
              0.1111111111111111,
              "#46039f"
             ],
             [
              0.2222222222222222,
              "#7201a8"
             ],
             [
              0.3333333333333333,
              "#9c179e"
             ],
             [
              0.4444444444444444,
              "#bd3786"
             ],
             [
              0.5555555555555556,
              "#d8576b"
             ],
             [
              0.6666666666666666,
              "#ed7953"
             ],
             [
              0.7777777777777778,
              "#fb9f3a"
             ],
             [
              0.8888888888888888,
              "#fdca26"
             ],
             [
              1,
              "#f0f921"
             ]
            ],
            "type": "contour"
           }
          ],
          "contourcarpet": [
           {
            "colorbar": {
             "outlinewidth": 0,
             "ticks": ""
            },
            "type": "contourcarpet"
           }
          ],
          "heatmap": [
           {
            "colorbar": {
             "outlinewidth": 0,
             "ticks": ""
            },
            "colorscale": [
             [
              0,
              "#0d0887"
             ],
             [
              0.1111111111111111,
              "#46039f"
             ],
             [
              0.2222222222222222,
              "#7201a8"
             ],
             [
              0.3333333333333333,
              "#9c179e"
             ],
             [
              0.4444444444444444,
              "#bd3786"
             ],
             [
              0.5555555555555556,
              "#d8576b"
             ],
             [
              0.6666666666666666,
              "#ed7953"
             ],
             [
              0.7777777777777778,
              "#fb9f3a"
             ],
             [
              0.8888888888888888,
              "#fdca26"
             ],
             [
              1,
              "#f0f921"
             ]
            ],
            "type": "heatmap"
           }
          ],
          "heatmapgl": [
           {
            "colorbar": {
             "outlinewidth": 0,
             "ticks": ""
            },
            "colorscale": [
             [
              0,
              "#0d0887"
             ],
             [
              0.1111111111111111,
              "#46039f"
             ],
             [
              0.2222222222222222,
              "#7201a8"
             ],
             [
              0.3333333333333333,
              "#9c179e"
             ],
             [
              0.4444444444444444,
              "#bd3786"
             ],
             [
              0.5555555555555556,
              "#d8576b"
             ],
             [
              0.6666666666666666,
              "#ed7953"
             ],
             [
              0.7777777777777778,
              "#fb9f3a"
             ],
             [
              0.8888888888888888,
              "#fdca26"
             ],
             [
              1,
              "#f0f921"
             ]
            ],
            "type": "heatmapgl"
           }
          ],
          "histogram": [
           {
            "marker": {
             "pattern": {
              "fillmode": "overlay",
              "size": 10,
              "solidity": 0.2
             }
            },
            "type": "histogram"
           }
          ],
          "histogram2d": [
           {
            "colorbar": {
             "outlinewidth": 0,
             "ticks": ""
            },
            "colorscale": [
             [
              0,
              "#0d0887"
             ],
             [
              0.1111111111111111,
              "#46039f"
             ],
             [
              0.2222222222222222,
              "#7201a8"
             ],
             [
              0.3333333333333333,
              "#9c179e"
             ],
             [
              0.4444444444444444,
              "#bd3786"
             ],
             [
              0.5555555555555556,
              "#d8576b"
             ],
             [
              0.6666666666666666,
              "#ed7953"
             ],
             [
              0.7777777777777778,
              "#fb9f3a"
             ],
             [
              0.8888888888888888,
              "#fdca26"
             ],
             [
              1,
              "#f0f921"
             ]
            ],
            "type": "histogram2d"
           }
          ],
          "histogram2dcontour": [
           {
            "colorbar": {
             "outlinewidth": 0,
             "ticks": ""
            },
            "colorscale": [
             [
              0,
              "#0d0887"
             ],
             [
              0.1111111111111111,
              "#46039f"
             ],
             [
              0.2222222222222222,
              "#7201a8"
             ],
             [
              0.3333333333333333,
              "#9c179e"
             ],
             [
              0.4444444444444444,
              "#bd3786"
             ],
             [
              0.5555555555555556,
              "#d8576b"
             ],
             [
              0.6666666666666666,
              "#ed7953"
             ],
             [
              0.7777777777777778,
              "#fb9f3a"
             ],
             [
              0.8888888888888888,
              "#fdca26"
             ],
             [
              1,
              "#f0f921"
             ]
            ],
            "type": "histogram2dcontour"
           }
          ],
          "mesh3d": [
           {
            "colorbar": {
             "outlinewidth": 0,
             "ticks": ""
            },
            "type": "mesh3d"
           }
          ],
          "parcoords": [
           {
            "line": {
             "colorbar": {
              "outlinewidth": 0,
              "ticks": ""
             }
            },
            "type": "parcoords"
           }
          ],
          "pie": [
           {
            "automargin": true,
            "type": "pie"
           }
          ],
          "scatter": [
           {
            "fillpattern": {
             "fillmode": "overlay",
             "size": 10,
             "solidity": 0.2
            },
            "type": "scatter"
           }
          ],
          "scatter3d": [
           {
            "line": {
             "colorbar": {
              "outlinewidth": 0,
              "ticks": ""
             }
            },
            "marker": {
             "colorbar": {
              "outlinewidth": 0,
              "ticks": ""
             }
            },
            "type": "scatter3d"
           }
          ],
          "scattercarpet": [
           {
            "marker": {
             "colorbar": {
              "outlinewidth": 0,
              "ticks": ""
             }
            },
            "type": "scattercarpet"
           }
          ],
          "scattergeo": [
           {
            "marker": {
             "colorbar": {
              "outlinewidth": 0,
              "ticks": ""
             }
            },
            "type": "scattergeo"
           }
          ],
          "scattergl": [
           {
            "marker": {
             "colorbar": {
              "outlinewidth": 0,
              "ticks": ""
             }
            },
            "type": "scattergl"
           }
          ],
          "scattermapbox": [
           {
            "marker": {
             "colorbar": {
              "outlinewidth": 0,
              "ticks": ""
             }
            },
            "type": "scattermapbox"
           }
          ],
          "scatterpolar": [
           {
            "marker": {
             "colorbar": {
              "outlinewidth": 0,
              "ticks": ""
             }
            },
            "type": "scatterpolar"
           }
          ],
          "scatterpolargl": [
           {
            "marker": {
             "colorbar": {
              "outlinewidth": 0,
              "ticks": ""
             }
            },
            "type": "scatterpolargl"
           }
          ],
          "scatterternary": [
           {
            "marker": {
             "colorbar": {
              "outlinewidth": 0,
              "ticks": ""
             }
            },
            "type": "scatterternary"
           }
          ],
          "surface": [
           {
            "colorbar": {
             "outlinewidth": 0,
             "ticks": ""
            },
            "colorscale": [
             [
              0,
              "#0d0887"
             ],
             [
              0.1111111111111111,
              "#46039f"
             ],
             [
              0.2222222222222222,
              "#7201a8"
             ],
             [
              0.3333333333333333,
              "#9c179e"
             ],
             [
              0.4444444444444444,
              "#bd3786"
             ],
             [
              0.5555555555555556,
              "#d8576b"
             ],
             [
              0.6666666666666666,
              "#ed7953"
             ],
             [
              0.7777777777777778,
              "#fb9f3a"
             ],
             [
              0.8888888888888888,
              "#fdca26"
             ],
             [
              1,
              "#f0f921"
             ]
            ],
            "type": "surface"
           }
          ],
          "table": [
           {
            "cells": {
             "fill": {
              "color": "#EBF0F8"
             },
             "line": {
              "color": "white"
             }
            },
            "header": {
             "fill": {
              "color": "#C8D4E3"
             },
             "line": {
              "color": "white"
             }
            },
            "type": "table"
           }
          ]
         },
         "layout": {
          "annotationdefaults": {
           "arrowcolor": "#2a3f5f",
           "arrowhead": 0,
           "arrowwidth": 1
          },
          "autotypenumbers": "strict",
          "coloraxis": {
           "colorbar": {
            "outlinewidth": 0,
            "ticks": ""
           }
          },
          "colorscale": {
           "diverging": [
            [
             0,
             "#8e0152"
            ],
            [
             0.1,
             "#c51b7d"
            ],
            [
             0.2,
             "#de77ae"
            ],
            [
             0.3,
             "#f1b6da"
            ],
            [
             0.4,
             "#fde0ef"
            ],
            [
             0.5,
             "#f7f7f7"
            ],
            [
             0.6,
             "#e6f5d0"
            ],
            [
             0.7,
             "#b8e186"
            ],
            [
             0.8,
             "#7fbc41"
            ],
            [
             0.9,
             "#4d9221"
            ],
            [
             1,
             "#276419"
            ]
           ],
           "sequential": [
            [
             0,
             "#0d0887"
            ],
            [
             0.1111111111111111,
             "#46039f"
            ],
            [
             0.2222222222222222,
             "#7201a8"
            ],
            [
             0.3333333333333333,
             "#9c179e"
            ],
            [
             0.4444444444444444,
             "#bd3786"
            ],
            [
             0.5555555555555556,
             "#d8576b"
            ],
            [
             0.6666666666666666,
             "#ed7953"
            ],
            [
             0.7777777777777778,
             "#fb9f3a"
            ],
            [
             0.8888888888888888,
             "#fdca26"
            ],
            [
             1,
             "#f0f921"
            ]
           ],
           "sequentialminus": [
            [
             0,
             "#0d0887"
            ],
            [
             0.1111111111111111,
             "#46039f"
            ],
            [
             0.2222222222222222,
             "#7201a8"
            ],
            [
             0.3333333333333333,
             "#9c179e"
            ],
            [
             0.4444444444444444,
             "#bd3786"
            ],
            [
             0.5555555555555556,
             "#d8576b"
            ],
            [
             0.6666666666666666,
             "#ed7953"
            ],
            [
             0.7777777777777778,
             "#fb9f3a"
            ],
            [
             0.8888888888888888,
             "#fdca26"
            ],
            [
             1,
             "#f0f921"
            ]
           ]
          },
          "colorway": [
           "#636efa",
           "#EF553B",
           "#00cc96",
           "#ab63fa",
           "#FFA15A",
           "#19d3f3",
           "#FF6692",
           "#B6E880",
           "#FF97FF",
           "#FECB52"
          ],
          "font": {
           "color": "#2a3f5f"
          },
          "geo": {
           "bgcolor": "white",
           "lakecolor": "white",
           "landcolor": "#E5ECF6",
           "showlakes": true,
           "showland": true,
           "subunitcolor": "white"
          },
          "hoverlabel": {
           "align": "left"
          },
          "hovermode": "closest",
          "mapbox": {
           "style": "light"
          },
          "paper_bgcolor": "white",
          "plot_bgcolor": "#E5ECF6",
          "polar": {
           "angularaxis": {
            "gridcolor": "white",
            "linecolor": "white",
            "ticks": ""
           },
           "bgcolor": "#E5ECF6",
           "radialaxis": {
            "gridcolor": "white",
            "linecolor": "white",
            "ticks": ""
           }
          },
          "scene": {
           "xaxis": {
            "backgroundcolor": "#E5ECF6",
            "gridcolor": "white",
            "gridwidth": 2,
            "linecolor": "white",
            "showbackground": true,
            "ticks": "",
            "zerolinecolor": "white"
           },
           "yaxis": {
            "backgroundcolor": "#E5ECF6",
            "gridcolor": "white",
            "gridwidth": 2,
            "linecolor": "white",
            "showbackground": true,
            "ticks": "",
            "zerolinecolor": "white"
           },
           "zaxis": {
            "backgroundcolor": "#E5ECF6",
            "gridcolor": "white",
            "gridwidth": 2,
            "linecolor": "white",
            "showbackground": true,
            "ticks": "",
            "zerolinecolor": "white"
           }
          },
          "shapedefaults": {
           "line": {
            "color": "#2a3f5f"
           }
          },
          "ternary": {
           "aaxis": {
            "gridcolor": "white",
            "linecolor": "white",
            "ticks": ""
           },
           "baxis": {
            "gridcolor": "white",
            "linecolor": "white",
            "ticks": ""
           },
           "bgcolor": "#E5ECF6",
           "caxis": {
            "gridcolor": "white",
            "linecolor": "white",
            "ticks": ""
           }
          },
          "title": {
           "x": 0.05
          },
          "xaxis": {
           "automargin": true,
           "gridcolor": "white",
           "linecolor": "white",
           "ticks": "",
           "title": {
            "standoff": 15
           },
           "zerolinecolor": "white",
           "zerolinewidth": 2
          },
          "yaxis": {
           "automargin": true,
           "gridcolor": "white",
           "linecolor": "white",
           "ticks": "",
           "title": {
            "standoff": 15
           },
           "zerolinecolor": "white",
           "zerolinewidth": 2
          }
         }
        },
        "title": {
         "text": "Model RMSE Comparison"
        },
        "yaxis": {
         "range": [
          0,
          10
         ],
         "title": {
          "text": "RMSE"
         }
        }
       }
      },
      "text/html": [
       "<div>                            <div id=\"3da8301c-c024-4e9f-a57f-7a8653ff342d\" class=\"plotly-graph-div\" style=\"height:525px; width:100%;\"></div>            <script type=\"text/javascript\">                require([\"plotly\"], function(Plotly) {                    window.PLOTLYENV=window.PLOTLYENV || {};                                    if (document.getElementById(\"3da8301c-c024-4e9f-a57f-7a8653ff342d\")) {                    Plotly.newPlot(                        \"3da8301c-c024-4e9f-a57f-7a8653ff342d\",                        [{\"name\":\"Training RMSE\",\"x\":[\"cylinders_displacement\",\"cylinders_displacement_per_cylinder\",\"cylinders_horsepower_weight_acceleration\"],\"y\":[4.589009902639974,4.318799994795116,4.025034093127813],\"type\":\"bar\"},{\"name\":\"Cross-Validation RMSE\",\"x\":[\"cylinders_displacement\",\"cylinders_displacement_per_cylinder\",\"cylinders_horsepower_weight_acceleration\"],\"y\":[4.622403364179425,4.3987918490253985,4.139401940486051],\"type\":\"bar\"},{\"name\":\"Test RMSE\",\"opacity\":0.6,\"x\":[\"cylinders_displacement\",\"cylinders_displacement_per_cylinder\",\"cylinders_horsepower_weight_acceleration\"],\"y\":[5.0340093039091744,4.775542810683128,4.063052136131592],\"type\":\"bar\"}],                        {\"template\":{\"data\":{\"histogram2dcontour\":[{\"type\":\"histogram2dcontour\",\"colorbar\":{\"outlinewidth\":0,\"ticks\":\"\"},\"colorscale\":[[0.0,\"#0d0887\"],[0.1111111111111111,\"#46039f\"],[0.2222222222222222,\"#7201a8\"],[0.3333333333333333,\"#9c179e\"],[0.4444444444444444,\"#bd3786\"],[0.5555555555555556,\"#d8576b\"],[0.6666666666666666,\"#ed7953\"],[0.7777777777777778,\"#fb9f3a\"],[0.8888888888888888,\"#fdca26\"],[1.0,\"#f0f921\"]]}],\"choropleth\":[{\"type\":\"choropleth\",\"colorbar\":{\"outlinewidth\":0,\"ticks\":\"\"}}],\"histogram2d\":[{\"type\":\"histogram2d\",\"colorbar\":{\"outlinewidth\":0,\"ticks\":\"\"},\"colorscale\":[[0.0,\"#0d0887\"],[0.1111111111111111,\"#46039f\"],[0.2222222222222222,\"#7201a8\"],[0.3333333333333333,\"#9c179e\"],[0.4444444444444444,\"#bd3786\"],[0.5555555555555556,\"#d8576b\"],[0.6666666666666666,\"#ed7953\"],[0.7777777777777778,\"#fb9f3a\"],[0.8888888888888888,\"#fdca26\"],[1.0,\"#f0f921\"]]}],\"heatmap\":[{\"type\":\"heatmap\",\"colorbar\":{\"outlinewidth\":0,\"ticks\":\"\"},\"colorscale\":[[0.0,\"#0d0887\"],[0.1111111111111111,\"#46039f\"],[0.2222222222222222,\"#7201a8\"],[0.3333333333333333,\"#9c179e\"],[0.4444444444444444,\"#bd3786\"],[0.5555555555555556,\"#d8576b\"],[0.6666666666666666,\"#ed7953\"],[0.7777777777777778,\"#fb9f3a\"],[0.8888888888888888,\"#fdca26\"],[1.0,\"#f0f921\"]]}],\"heatmapgl\":[{\"type\":\"heatmapgl\",\"colorbar\":{\"outlinewidth\":0,\"ticks\":\"\"},\"colorscale\":[[0.0,\"#0d0887\"],[0.1111111111111111,\"#46039f\"],[0.2222222222222222,\"#7201a8\"],[0.3333333333333333,\"#9c179e\"],[0.4444444444444444,\"#bd3786\"],[0.5555555555555556,\"#d8576b\"],[0.6666666666666666,\"#ed7953\"],[0.7777777777777778,\"#fb9f3a\"],[0.8888888888888888,\"#fdca26\"],[1.0,\"#f0f921\"]]}],\"contourcarpet\":[{\"type\":\"contourcarpet\",\"colorbar\":{\"outlinewidth\":0,\"ticks\":\"\"}}],\"contour\":[{\"type\":\"contour\",\"colorbar\":{\"outlinewidth\":0,\"ticks\":\"\"},\"colorscale\":[[0.0,\"#0d0887\"],[0.1111111111111111,\"#46039f\"],[0.2222222222222222,\"#7201a8\"],[0.3333333333333333,\"#9c179e\"],[0.4444444444444444,\"#bd3786\"],[0.5555555555555556,\"#d8576b\"],[0.6666666666666666,\"#ed7953\"],[0.7777777777777778,\"#fb9f3a\"],[0.8888888888888888,\"#fdca26\"],[1.0,\"#f0f921\"]]}],\"surface\":[{\"type\":\"surface\",\"colorbar\":{\"outlinewidth\":0,\"ticks\":\"\"},\"colorscale\":[[0.0,\"#0d0887\"],[0.1111111111111111,\"#46039f\"],[0.2222222222222222,\"#7201a8\"],[0.3333333333333333,\"#9c179e\"],[0.4444444444444444,\"#bd3786\"],[0.5555555555555556,\"#d8576b\"],[0.6666666666666666,\"#ed7953\"],[0.7777777777777778,\"#fb9f3a\"],[0.8888888888888888,\"#fdca26\"],[1.0,\"#f0f921\"]]}],\"mesh3d\":[{\"type\":\"mesh3d\",\"colorbar\":{\"outlinewidth\":0,\"ticks\":\"\"}}],\"scatter\":[{\"fillpattern\":{\"fillmode\":\"overlay\",\"size\":10,\"solidity\":0.2},\"type\":\"scatter\"}],\"parcoords\":[{\"type\":\"parcoords\",\"line\":{\"colorbar\":{\"outlinewidth\":0,\"ticks\":\"\"}}}],\"scatterpolargl\":[{\"type\":\"scatterpolargl\",\"marker\":{\"colorbar\":{\"outlinewidth\":0,\"ticks\":\"\"}}}],\"bar\":[{\"error_x\":{\"color\":\"#2a3f5f\"},\"error_y\":{\"color\":\"#2a3f5f\"},\"marker\":{\"line\":{\"color\":\"#E5ECF6\",\"width\":0.5},\"pattern\":{\"fillmode\":\"overlay\",\"size\":10,\"solidity\":0.2}},\"type\":\"bar\"}],\"scattergeo\":[{\"type\":\"scattergeo\",\"marker\":{\"colorbar\":{\"outlinewidth\":0,\"ticks\":\"\"}}}],\"scatterpolar\":[{\"type\":\"scatterpolar\",\"marker\":{\"colorbar\":{\"outlinewidth\":0,\"ticks\":\"\"}}}],\"histogram\":[{\"marker\":{\"pattern\":{\"fillmode\":\"overlay\",\"size\":10,\"solidity\":0.2}},\"type\":\"histogram\"}],\"scattergl\":[{\"type\":\"scattergl\",\"marker\":{\"colorbar\":{\"outlinewidth\":0,\"ticks\":\"\"}}}],\"scatter3d\":[{\"type\":\"scatter3d\",\"line\":{\"colorbar\":{\"outlinewidth\":0,\"ticks\":\"\"}},\"marker\":{\"colorbar\":{\"outlinewidth\":0,\"ticks\":\"\"}}}],\"scattermapbox\":[{\"type\":\"scattermapbox\",\"marker\":{\"colorbar\":{\"outlinewidth\":0,\"ticks\":\"\"}}}],\"scatterternary\":[{\"type\":\"scatterternary\",\"marker\":{\"colorbar\":{\"outlinewidth\":0,\"ticks\":\"\"}}}],\"scattercarpet\":[{\"type\":\"scattercarpet\",\"marker\":{\"colorbar\":{\"outlinewidth\":0,\"ticks\":\"\"}}}],\"carpet\":[{\"aaxis\":{\"endlinecolor\":\"#2a3f5f\",\"gridcolor\":\"white\",\"linecolor\":\"white\",\"minorgridcolor\":\"white\",\"startlinecolor\":\"#2a3f5f\"},\"baxis\":{\"endlinecolor\":\"#2a3f5f\",\"gridcolor\":\"white\",\"linecolor\":\"white\",\"minorgridcolor\":\"white\",\"startlinecolor\":\"#2a3f5f\"},\"type\":\"carpet\"}],\"table\":[{\"cells\":{\"fill\":{\"color\":\"#EBF0F8\"},\"line\":{\"color\":\"white\"}},\"header\":{\"fill\":{\"color\":\"#C8D4E3\"},\"line\":{\"color\":\"white\"}},\"type\":\"table\"}],\"barpolar\":[{\"marker\":{\"line\":{\"color\":\"#E5ECF6\",\"width\":0.5},\"pattern\":{\"fillmode\":\"overlay\",\"size\":10,\"solidity\":0.2}},\"type\":\"barpolar\"}],\"pie\":[{\"automargin\":true,\"type\":\"pie\"}]},\"layout\":{\"autotypenumbers\":\"strict\",\"colorway\":[\"#636efa\",\"#EF553B\",\"#00cc96\",\"#ab63fa\",\"#FFA15A\",\"#19d3f3\",\"#FF6692\",\"#B6E880\",\"#FF97FF\",\"#FECB52\"],\"font\":{\"color\":\"#2a3f5f\"},\"hovermode\":\"closest\",\"hoverlabel\":{\"align\":\"left\"},\"paper_bgcolor\":\"white\",\"plot_bgcolor\":\"#E5ECF6\",\"polar\":{\"bgcolor\":\"#E5ECF6\",\"angularaxis\":{\"gridcolor\":\"white\",\"linecolor\":\"white\",\"ticks\":\"\"},\"radialaxis\":{\"gridcolor\":\"white\",\"linecolor\":\"white\",\"ticks\":\"\"}},\"ternary\":{\"bgcolor\":\"#E5ECF6\",\"aaxis\":{\"gridcolor\":\"white\",\"linecolor\":\"white\",\"ticks\":\"\"},\"baxis\":{\"gridcolor\":\"white\",\"linecolor\":\"white\",\"ticks\":\"\"},\"caxis\":{\"gridcolor\":\"white\",\"linecolor\":\"white\",\"ticks\":\"\"}},\"coloraxis\":{\"colorbar\":{\"outlinewidth\":0,\"ticks\":\"\"}},\"colorscale\":{\"sequential\":[[0.0,\"#0d0887\"],[0.1111111111111111,\"#46039f\"],[0.2222222222222222,\"#7201a8\"],[0.3333333333333333,\"#9c179e\"],[0.4444444444444444,\"#bd3786\"],[0.5555555555555556,\"#d8576b\"],[0.6666666666666666,\"#ed7953\"],[0.7777777777777778,\"#fb9f3a\"],[0.8888888888888888,\"#fdca26\"],[1.0,\"#f0f921\"]],\"sequentialminus\":[[0.0,\"#0d0887\"],[0.1111111111111111,\"#46039f\"],[0.2222222222222222,\"#7201a8\"],[0.3333333333333333,\"#9c179e\"],[0.4444444444444444,\"#bd3786\"],[0.5555555555555556,\"#d8576b\"],[0.6666666666666666,\"#ed7953\"],[0.7777777777777778,\"#fb9f3a\"],[0.8888888888888888,\"#fdca26\"],[1.0,\"#f0f921\"]],\"diverging\":[[0,\"#8e0152\"],[0.1,\"#c51b7d\"],[0.2,\"#de77ae\"],[0.3,\"#f1b6da\"],[0.4,\"#fde0ef\"],[0.5,\"#f7f7f7\"],[0.6,\"#e6f5d0\"],[0.7,\"#b8e186\"],[0.8,\"#7fbc41\"],[0.9,\"#4d9221\"],[1,\"#276419\"]]},\"xaxis\":{\"gridcolor\":\"white\",\"linecolor\":\"white\",\"ticks\":\"\",\"title\":{\"standoff\":15},\"zerolinecolor\":\"white\",\"automargin\":true,\"zerolinewidth\":2},\"yaxis\":{\"gridcolor\":\"white\",\"linecolor\":\"white\",\"ticks\":\"\",\"title\":{\"standoff\":15},\"zerolinecolor\":\"white\",\"automargin\":true,\"zerolinewidth\":2},\"scene\":{\"xaxis\":{\"backgroundcolor\":\"#E5ECF6\",\"gridcolor\":\"white\",\"linecolor\":\"white\",\"showbackground\":true,\"ticks\":\"\",\"zerolinecolor\":\"white\",\"gridwidth\":2},\"yaxis\":{\"backgroundcolor\":\"#E5ECF6\",\"gridcolor\":\"white\",\"linecolor\":\"white\",\"showbackground\":true,\"ticks\":\"\",\"zerolinecolor\":\"white\",\"gridwidth\":2},\"zaxis\":{\"backgroundcolor\":\"#E5ECF6\",\"gridcolor\":\"white\",\"linecolor\":\"white\",\"showbackground\":true,\"ticks\":\"\",\"zerolinecolor\":\"white\",\"gridwidth\":2}},\"shapedefaults\":{\"line\":{\"color\":\"#2a3f5f\"}},\"annotationdefaults\":{\"arrowcolor\":\"#2a3f5f\",\"arrowhead\":0,\"arrowwidth\":1},\"geo\":{\"bgcolor\":\"white\",\"landcolor\":\"#E5ECF6\",\"subunitcolor\":\"white\",\"showland\":true,\"showlakes\":true,\"lakecolor\":\"white\"},\"title\":{\"x\":0.05},\"mapbox\":{\"style\":\"light\"}}},\"title\":{\"text\":\"Model RMSE Comparison\"},\"yaxis\":{\"title\":{\"text\":\"RMSE\"},\"range\":[0,10]},\"barmode\":\"group\"},                        {\"responsive\": true}                    ).then(function(){\n",
       "                            \n",
       "var gd = document.getElementById('3da8301c-c024-4e9f-a57f-7a8653ff342d');\n",
       "var x = new MutationObserver(function (mutations, observer) {{\n",
       "        var display = window.getComputedStyle(gd).display;\n",
       "        if (!display || display === 'none') {{\n",
       "            console.log([gd, 'removed!']);\n",
       "            Plotly.purge(gd);\n",
       "            observer.disconnect();\n",
       "        }}\n",
       "}});\n",
       "\n",
       "// Listen for the removal of the full notebook cells\n",
       "var notebookContainer = gd.closest('#notebook-container');\n",
       "if (notebookContainer) {{\n",
       "    x.observe(notebookContainer, {childList: true});\n",
       "}}\n",
       "\n",
       "// Listen for the clearing of the current output cell\n",
       "var outputEl = gd.closest('.output');\n",
       "if (outputEl) {{\n",
       "    x.observe(outputEl, {childList: true});\n",
       "}}\n",
       "\n",
       "                        })                };                });            </script>        </div>"
      ]
     },
     "metadata": {},
     "output_type": "display_data"
    }
   ],
   "source": [
    "# Generate a comparison plot for all models\n",
    "fig = compare_models(models, tr, te)\n",
    "fig.update_yaxes(range=[0, 10], title=\"RMSE\")\n",
    "fig.show()"
   ]
  },
  {
   "cell_type": "markdown",
   "metadata": {},
   "source": [
    "**Note:** The test RMSE is plotted with reduced opacity to discourage reliance on it before final model evaluation.\n",
    "\n",
    "***\n",
    "\n",
    "## **8. Enhancing the Model**\n",
    "\n",
    "Let's further improve the model by adding the `model_year` feature."
   ]
  },
  {
   "cell_type": "code",
   "execution_count": 28,
   "metadata": {},
   "outputs": [],
   "source": [
    "# Update the list of quantitative features to include 'model_year'\n",
    "quantitative_features = [\"cylinders\", \"displacement\", \"horsepower\", \"weight\", \"acceleration\", \"model_year\"]"
   ]
  },
  {
   "cell_type": "code",
   "execution_count": 29,
   "metadata": {},
   "outputs": [],
   "source": [
    "# Update the pipeline to include 'model_year'\n",
    "pipeline = Pipeline([\n",
    "    (\"SelectColumns\", ColumnTransformer([\n",
    "        (\"keep\", \"passthrough\", quantitative_features),\n",
    "        (\"displacement_per_cylinder\", volume_transformer, [\"cylinders\", \"displacement\"])\n",
    "    ])),\n",
    "    (\"Imputation\", SimpleImputer()),\n",
    "    (\"LinearModel\", LinearRegression())\n",
    "])\n",
    "\n",
    "# Fit the updated pipeline\n",
    "pipeline.fit(tr, tr['mpg'])\n",
    "\n",
    "# Add the enhanced model to the dictionary\n",
    "models['cylinders_model_year'] = pipeline"
   ]
  },
  {
   "cell_type": "code",
   "execution_count": 30,
   "metadata": {},
   "outputs": [
    {
     "data": {
      "application/vnd.plotly.v1+json": {
       "config": {
        "plotlyServerURL": "https://plot.ly"
       },
       "data": [
        {
         "name": "Training RMSE",
         "type": "bar",
         "x": [
          "cylinders_displacement",
          "cylinders_displacement_per_cylinder",
          "cylinders_horsepower_weight_acceleration",
          "cylinders_model_year"
         ],
         "y": [
          4.589009902639974,
          4.318799994795116,
          4.025034093127813,
          3.0423012736161676
         ]
        },
        {
         "name": "Cross-Validation RMSE",
         "type": "bar",
         "x": [
          "cylinders_displacement",
          "cylinders_displacement_per_cylinder",
          "cylinders_horsepower_weight_acceleration",
          "cylinders_model_year"
         ],
         "y": [
          4.622403364179425,
          4.3987918490253985,
          4.139401940486051,
          3.1353066185776397
         ]
        },
        {
         "name": "Test RMSE",
         "opacity": 0.6,
         "type": "bar",
         "x": [
          "cylinders_displacement",
          "cylinders_displacement_per_cylinder",
          "cylinders_horsepower_weight_acceleration",
          "cylinders_model_year"
         ],
         "y": [
          5.0340093039091744,
          4.775542810683128,
          4.063052136131592,
          2.8671668927957965
         ]
        }
       ],
       "layout": {
        "barmode": "group",
        "template": {
         "data": {
          "bar": [
           {
            "error_x": {
             "color": "#2a3f5f"
            },
            "error_y": {
             "color": "#2a3f5f"
            },
            "marker": {
             "line": {
              "color": "#E5ECF6",
              "width": 0.5
             },
             "pattern": {
              "fillmode": "overlay",
              "size": 10,
              "solidity": 0.2
             }
            },
            "type": "bar"
           }
          ],
          "barpolar": [
           {
            "marker": {
             "line": {
              "color": "#E5ECF6",
              "width": 0.5
             },
             "pattern": {
              "fillmode": "overlay",
              "size": 10,
              "solidity": 0.2
             }
            },
            "type": "barpolar"
           }
          ],
          "carpet": [
           {
            "aaxis": {
             "endlinecolor": "#2a3f5f",
             "gridcolor": "white",
             "linecolor": "white",
             "minorgridcolor": "white",
             "startlinecolor": "#2a3f5f"
            },
            "baxis": {
             "endlinecolor": "#2a3f5f",
             "gridcolor": "white",
             "linecolor": "white",
             "minorgridcolor": "white",
             "startlinecolor": "#2a3f5f"
            },
            "type": "carpet"
           }
          ],
          "choropleth": [
           {
            "colorbar": {
             "outlinewidth": 0,
             "ticks": ""
            },
            "type": "choropleth"
           }
          ],
          "contour": [
           {
            "colorbar": {
             "outlinewidth": 0,
             "ticks": ""
            },
            "colorscale": [
             [
              0,
              "#0d0887"
             ],
             [
              0.1111111111111111,
              "#46039f"
             ],
             [
              0.2222222222222222,
              "#7201a8"
             ],
             [
              0.3333333333333333,
              "#9c179e"
             ],
             [
              0.4444444444444444,
              "#bd3786"
             ],
             [
              0.5555555555555556,
              "#d8576b"
             ],
             [
              0.6666666666666666,
              "#ed7953"
             ],
             [
              0.7777777777777778,
              "#fb9f3a"
             ],
             [
              0.8888888888888888,
              "#fdca26"
             ],
             [
              1,
              "#f0f921"
             ]
            ],
            "type": "contour"
           }
          ],
          "contourcarpet": [
           {
            "colorbar": {
             "outlinewidth": 0,
             "ticks": ""
            },
            "type": "contourcarpet"
           }
          ],
          "heatmap": [
           {
            "colorbar": {
             "outlinewidth": 0,
             "ticks": ""
            },
            "colorscale": [
             [
              0,
              "#0d0887"
             ],
             [
              0.1111111111111111,
              "#46039f"
             ],
             [
              0.2222222222222222,
              "#7201a8"
             ],
             [
              0.3333333333333333,
              "#9c179e"
             ],
             [
              0.4444444444444444,
              "#bd3786"
             ],
             [
              0.5555555555555556,
              "#d8576b"
             ],
             [
              0.6666666666666666,
              "#ed7953"
             ],
             [
              0.7777777777777778,
              "#fb9f3a"
             ],
             [
              0.8888888888888888,
              "#fdca26"
             ],
             [
              1,
              "#f0f921"
             ]
            ],
            "type": "heatmap"
           }
          ],
          "heatmapgl": [
           {
            "colorbar": {
             "outlinewidth": 0,
             "ticks": ""
            },
            "colorscale": [
             [
              0,
              "#0d0887"
             ],
             [
              0.1111111111111111,
              "#46039f"
             ],
             [
              0.2222222222222222,
              "#7201a8"
             ],
             [
              0.3333333333333333,
              "#9c179e"
             ],
             [
              0.4444444444444444,
              "#bd3786"
             ],
             [
              0.5555555555555556,
              "#d8576b"
             ],
             [
              0.6666666666666666,
              "#ed7953"
             ],
             [
              0.7777777777777778,
              "#fb9f3a"
             ],
             [
              0.8888888888888888,
              "#fdca26"
             ],
             [
              1,
              "#f0f921"
             ]
            ],
            "type": "heatmapgl"
           }
          ],
          "histogram": [
           {
            "marker": {
             "pattern": {
              "fillmode": "overlay",
              "size": 10,
              "solidity": 0.2
             }
            },
            "type": "histogram"
           }
          ],
          "histogram2d": [
           {
            "colorbar": {
             "outlinewidth": 0,
             "ticks": ""
            },
            "colorscale": [
             [
              0,
              "#0d0887"
             ],
             [
              0.1111111111111111,
              "#46039f"
             ],
             [
              0.2222222222222222,
              "#7201a8"
             ],
             [
              0.3333333333333333,
              "#9c179e"
             ],
             [
              0.4444444444444444,
              "#bd3786"
             ],
             [
              0.5555555555555556,
              "#d8576b"
             ],
             [
              0.6666666666666666,
              "#ed7953"
             ],
             [
              0.7777777777777778,
              "#fb9f3a"
             ],
             [
              0.8888888888888888,
              "#fdca26"
             ],
             [
              1,
              "#f0f921"
             ]
            ],
            "type": "histogram2d"
           }
          ],
          "histogram2dcontour": [
           {
            "colorbar": {
             "outlinewidth": 0,
             "ticks": ""
            },
            "colorscale": [
             [
              0,
              "#0d0887"
             ],
             [
              0.1111111111111111,
              "#46039f"
             ],
             [
              0.2222222222222222,
              "#7201a8"
             ],
             [
              0.3333333333333333,
              "#9c179e"
             ],
             [
              0.4444444444444444,
              "#bd3786"
             ],
             [
              0.5555555555555556,
              "#d8576b"
             ],
             [
              0.6666666666666666,
              "#ed7953"
             ],
             [
              0.7777777777777778,
              "#fb9f3a"
             ],
             [
              0.8888888888888888,
              "#fdca26"
             ],
             [
              1,
              "#f0f921"
             ]
            ],
            "type": "histogram2dcontour"
           }
          ],
          "mesh3d": [
           {
            "colorbar": {
             "outlinewidth": 0,
             "ticks": ""
            },
            "type": "mesh3d"
           }
          ],
          "parcoords": [
           {
            "line": {
             "colorbar": {
              "outlinewidth": 0,
              "ticks": ""
             }
            },
            "type": "parcoords"
           }
          ],
          "pie": [
           {
            "automargin": true,
            "type": "pie"
           }
          ],
          "scatter": [
           {
            "fillpattern": {
             "fillmode": "overlay",
             "size": 10,
             "solidity": 0.2
            },
            "type": "scatter"
           }
          ],
          "scatter3d": [
           {
            "line": {
             "colorbar": {
              "outlinewidth": 0,
              "ticks": ""
             }
            },
            "marker": {
             "colorbar": {
              "outlinewidth": 0,
              "ticks": ""
             }
            },
            "type": "scatter3d"
           }
          ],
          "scattercarpet": [
           {
            "marker": {
             "colorbar": {
              "outlinewidth": 0,
              "ticks": ""
             }
            },
            "type": "scattercarpet"
           }
          ],
          "scattergeo": [
           {
            "marker": {
             "colorbar": {
              "outlinewidth": 0,
              "ticks": ""
             }
            },
            "type": "scattergeo"
           }
          ],
          "scattergl": [
           {
            "marker": {
             "colorbar": {
              "outlinewidth": 0,
              "ticks": ""
             }
            },
            "type": "scattergl"
           }
          ],
          "scattermapbox": [
           {
            "marker": {
             "colorbar": {
              "outlinewidth": 0,
              "ticks": ""
             }
            },
            "type": "scattermapbox"
           }
          ],
          "scatterpolar": [
           {
            "marker": {
             "colorbar": {
              "outlinewidth": 0,
              "ticks": ""
             }
            },
            "type": "scatterpolar"
           }
          ],
          "scatterpolargl": [
           {
            "marker": {
             "colorbar": {
              "outlinewidth": 0,
              "ticks": ""
             }
            },
            "type": "scatterpolargl"
           }
          ],
          "scatterternary": [
           {
            "marker": {
             "colorbar": {
              "outlinewidth": 0,
              "ticks": ""
             }
            },
            "type": "scatterternary"
           }
          ],
          "surface": [
           {
            "colorbar": {
             "outlinewidth": 0,
             "ticks": ""
            },
            "colorscale": [
             [
              0,
              "#0d0887"
             ],
             [
              0.1111111111111111,
              "#46039f"
             ],
             [
              0.2222222222222222,
              "#7201a8"
             ],
             [
              0.3333333333333333,
              "#9c179e"
             ],
             [
              0.4444444444444444,
              "#bd3786"
             ],
             [
              0.5555555555555556,
              "#d8576b"
             ],
             [
              0.6666666666666666,
              "#ed7953"
             ],
             [
              0.7777777777777778,
              "#fb9f3a"
             ],
             [
              0.8888888888888888,
              "#fdca26"
             ],
             [
              1,
              "#f0f921"
             ]
            ],
            "type": "surface"
           }
          ],
          "table": [
           {
            "cells": {
             "fill": {
              "color": "#EBF0F8"
             },
             "line": {
              "color": "white"
             }
            },
            "header": {
             "fill": {
              "color": "#C8D4E3"
             },
             "line": {
              "color": "white"
             }
            },
            "type": "table"
           }
          ]
         },
         "layout": {
          "annotationdefaults": {
           "arrowcolor": "#2a3f5f",
           "arrowhead": 0,
           "arrowwidth": 1
          },
          "autotypenumbers": "strict",
          "coloraxis": {
           "colorbar": {
            "outlinewidth": 0,
            "ticks": ""
           }
          },
          "colorscale": {
           "diverging": [
            [
             0,
             "#8e0152"
            ],
            [
             0.1,
             "#c51b7d"
            ],
            [
             0.2,
             "#de77ae"
            ],
            [
             0.3,
             "#f1b6da"
            ],
            [
             0.4,
             "#fde0ef"
            ],
            [
             0.5,
             "#f7f7f7"
            ],
            [
             0.6,
             "#e6f5d0"
            ],
            [
             0.7,
             "#b8e186"
            ],
            [
             0.8,
             "#7fbc41"
            ],
            [
             0.9,
             "#4d9221"
            ],
            [
             1,
             "#276419"
            ]
           ],
           "sequential": [
            [
             0,
             "#0d0887"
            ],
            [
             0.1111111111111111,
             "#46039f"
            ],
            [
             0.2222222222222222,
             "#7201a8"
            ],
            [
             0.3333333333333333,
             "#9c179e"
            ],
            [
             0.4444444444444444,
             "#bd3786"
            ],
            [
             0.5555555555555556,
             "#d8576b"
            ],
            [
             0.6666666666666666,
             "#ed7953"
            ],
            [
             0.7777777777777778,
             "#fb9f3a"
            ],
            [
             0.8888888888888888,
             "#fdca26"
            ],
            [
             1,
             "#f0f921"
            ]
           ],
           "sequentialminus": [
            [
             0,
             "#0d0887"
            ],
            [
             0.1111111111111111,
             "#46039f"
            ],
            [
             0.2222222222222222,
             "#7201a8"
            ],
            [
             0.3333333333333333,
             "#9c179e"
            ],
            [
             0.4444444444444444,
             "#bd3786"
            ],
            [
             0.5555555555555556,
             "#d8576b"
            ],
            [
             0.6666666666666666,
             "#ed7953"
            ],
            [
             0.7777777777777778,
             "#fb9f3a"
            ],
            [
             0.8888888888888888,
             "#fdca26"
            ],
            [
             1,
             "#f0f921"
            ]
           ]
          },
          "colorway": [
           "#636efa",
           "#EF553B",
           "#00cc96",
           "#ab63fa",
           "#FFA15A",
           "#19d3f3",
           "#FF6692",
           "#B6E880",
           "#FF97FF",
           "#FECB52"
          ],
          "font": {
           "color": "#2a3f5f"
          },
          "geo": {
           "bgcolor": "white",
           "lakecolor": "white",
           "landcolor": "#E5ECF6",
           "showlakes": true,
           "showland": true,
           "subunitcolor": "white"
          },
          "hoverlabel": {
           "align": "left"
          },
          "hovermode": "closest",
          "mapbox": {
           "style": "light"
          },
          "paper_bgcolor": "white",
          "plot_bgcolor": "#E5ECF6",
          "polar": {
           "angularaxis": {
            "gridcolor": "white",
            "linecolor": "white",
            "ticks": ""
           },
           "bgcolor": "#E5ECF6",
           "radialaxis": {
            "gridcolor": "white",
            "linecolor": "white",
            "ticks": ""
           }
          },
          "scene": {
           "xaxis": {
            "backgroundcolor": "#E5ECF6",
            "gridcolor": "white",
            "gridwidth": 2,
            "linecolor": "white",
            "showbackground": true,
            "ticks": "",
            "zerolinecolor": "white"
           },
           "yaxis": {
            "backgroundcolor": "#E5ECF6",
            "gridcolor": "white",
            "gridwidth": 2,
            "linecolor": "white",
            "showbackground": true,
            "ticks": "",
            "zerolinecolor": "white"
           },
           "zaxis": {
            "backgroundcolor": "#E5ECF6",
            "gridcolor": "white",
            "gridwidth": 2,
            "linecolor": "white",
            "showbackground": true,
            "ticks": "",
            "zerolinecolor": "white"
           }
          },
          "shapedefaults": {
           "line": {
            "color": "#2a3f5f"
           }
          },
          "ternary": {
           "aaxis": {
            "gridcolor": "white",
            "linecolor": "white",
            "ticks": ""
           },
           "baxis": {
            "gridcolor": "white",
            "linecolor": "white",
            "ticks": ""
           },
           "bgcolor": "#E5ECF6",
           "caxis": {
            "gridcolor": "white",
            "linecolor": "white",
            "ticks": ""
           }
          },
          "title": {
           "x": 0.05
          },
          "xaxis": {
           "automargin": true,
           "gridcolor": "white",
           "linecolor": "white",
           "ticks": "",
           "title": {
            "standoff": 15
           },
           "zerolinecolor": "white",
           "zerolinewidth": 2
          },
          "yaxis": {
           "automargin": true,
           "gridcolor": "white",
           "linecolor": "white",
           "ticks": "",
           "title": {
            "standoff": 15
           },
           "zerolinecolor": "white",
           "zerolinewidth": 2
          }
         }
        },
        "title": {
         "text": "Model RMSE Comparison"
        },
        "yaxis": {
         "range": [
          0,
          10
         ],
         "title": {
          "text": "RMSE"
         }
        }
       }
      },
      "text/html": [
       "<div>                            <div id=\"a50e030f-cb1c-464b-b6cc-5cab4f753ee9\" class=\"plotly-graph-div\" style=\"height:525px; width:100%;\"></div>            <script type=\"text/javascript\">                require([\"plotly\"], function(Plotly) {                    window.PLOTLYENV=window.PLOTLYENV || {};                                    if (document.getElementById(\"a50e030f-cb1c-464b-b6cc-5cab4f753ee9\")) {                    Plotly.newPlot(                        \"a50e030f-cb1c-464b-b6cc-5cab4f753ee9\",                        [{\"name\":\"Training RMSE\",\"x\":[\"cylinders_displacement\",\"cylinders_displacement_per_cylinder\",\"cylinders_horsepower_weight_acceleration\",\"cylinders_model_year\"],\"y\":[4.589009902639974,4.318799994795116,4.025034093127813,3.0423012736161676],\"type\":\"bar\"},{\"name\":\"Cross-Validation RMSE\",\"x\":[\"cylinders_displacement\",\"cylinders_displacement_per_cylinder\",\"cylinders_horsepower_weight_acceleration\",\"cylinders_model_year\"],\"y\":[4.622403364179425,4.3987918490253985,4.139401940486051,3.1353066185776397],\"type\":\"bar\"},{\"name\":\"Test RMSE\",\"opacity\":0.6,\"x\":[\"cylinders_displacement\",\"cylinders_displacement_per_cylinder\",\"cylinders_horsepower_weight_acceleration\",\"cylinders_model_year\"],\"y\":[5.0340093039091744,4.775542810683128,4.063052136131592,2.8671668927957965],\"type\":\"bar\"}],                        {\"template\":{\"data\":{\"histogram2dcontour\":[{\"type\":\"histogram2dcontour\",\"colorbar\":{\"outlinewidth\":0,\"ticks\":\"\"},\"colorscale\":[[0.0,\"#0d0887\"],[0.1111111111111111,\"#46039f\"],[0.2222222222222222,\"#7201a8\"],[0.3333333333333333,\"#9c179e\"],[0.4444444444444444,\"#bd3786\"],[0.5555555555555556,\"#d8576b\"],[0.6666666666666666,\"#ed7953\"],[0.7777777777777778,\"#fb9f3a\"],[0.8888888888888888,\"#fdca26\"],[1.0,\"#f0f921\"]]}],\"choropleth\":[{\"type\":\"choropleth\",\"colorbar\":{\"outlinewidth\":0,\"ticks\":\"\"}}],\"histogram2d\":[{\"type\":\"histogram2d\",\"colorbar\":{\"outlinewidth\":0,\"ticks\":\"\"},\"colorscale\":[[0.0,\"#0d0887\"],[0.1111111111111111,\"#46039f\"],[0.2222222222222222,\"#7201a8\"],[0.3333333333333333,\"#9c179e\"],[0.4444444444444444,\"#bd3786\"],[0.5555555555555556,\"#d8576b\"],[0.6666666666666666,\"#ed7953\"],[0.7777777777777778,\"#fb9f3a\"],[0.8888888888888888,\"#fdca26\"],[1.0,\"#f0f921\"]]}],\"heatmap\":[{\"type\":\"heatmap\",\"colorbar\":{\"outlinewidth\":0,\"ticks\":\"\"},\"colorscale\":[[0.0,\"#0d0887\"],[0.1111111111111111,\"#46039f\"],[0.2222222222222222,\"#7201a8\"],[0.3333333333333333,\"#9c179e\"],[0.4444444444444444,\"#bd3786\"],[0.5555555555555556,\"#d8576b\"],[0.6666666666666666,\"#ed7953\"],[0.7777777777777778,\"#fb9f3a\"],[0.8888888888888888,\"#fdca26\"],[1.0,\"#f0f921\"]]}],\"heatmapgl\":[{\"type\":\"heatmapgl\",\"colorbar\":{\"outlinewidth\":0,\"ticks\":\"\"},\"colorscale\":[[0.0,\"#0d0887\"],[0.1111111111111111,\"#46039f\"],[0.2222222222222222,\"#7201a8\"],[0.3333333333333333,\"#9c179e\"],[0.4444444444444444,\"#bd3786\"],[0.5555555555555556,\"#d8576b\"],[0.6666666666666666,\"#ed7953\"],[0.7777777777777778,\"#fb9f3a\"],[0.8888888888888888,\"#fdca26\"],[1.0,\"#f0f921\"]]}],\"contourcarpet\":[{\"type\":\"contourcarpet\",\"colorbar\":{\"outlinewidth\":0,\"ticks\":\"\"}}],\"contour\":[{\"type\":\"contour\",\"colorbar\":{\"outlinewidth\":0,\"ticks\":\"\"},\"colorscale\":[[0.0,\"#0d0887\"],[0.1111111111111111,\"#46039f\"],[0.2222222222222222,\"#7201a8\"],[0.3333333333333333,\"#9c179e\"],[0.4444444444444444,\"#bd3786\"],[0.5555555555555556,\"#d8576b\"],[0.6666666666666666,\"#ed7953\"],[0.7777777777777778,\"#fb9f3a\"],[0.8888888888888888,\"#fdca26\"],[1.0,\"#f0f921\"]]}],\"surface\":[{\"type\":\"surface\",\"colorbar\":{\"outlinewidth\":0,\"ticks\":\"\"},\"colorscale\":[[0.0,\"#0d0887\"],[0.1111111111111111,\"#46039f\"],[0.2222222222222222,\"#7201a8\"],[0.3333333333333333,\"#9c179e\"],[0.4444444444444444,\"#bd3786\"],[0.5555555555555556,\"#d8576b\"],[0.6666666666666666,\"#ed7953\"],[0.7777777777777778,\"#fb9f3a\"],[0.8888888888888888,\"#fdca26\"],[1.0,\"#f0f921\"]]}],\"mesh3d\":[{\"type\":\"mesh3d\",\"colorbar\":{\"outlinewidth\":0,\"ticks\":\"\"}}],\"scatter\":[{\"fillpattern\":{\"fillmode\":\"overlay\",\"size\":10,\"solidity\":0.2},\"type\":\"scatter\"}],\"parcoords\":[{\"type\":\"parcoords\",\"line\":{\"colorbar\":{\"outlinewidth\":0,\"ticks\":\"\"}}}],\"scatterpolargl\":[{\"type\":\"scatterpolargl\",\"marker\":{\"colorbar\":{\"outlinewidth\":0,\"ticks\":\"\"}}}],\"bar\":[{\"error_x\":{\"color\":\"#2a3f5f\"},\"error_y\":{\"color\":\"#2a3f5f\"},\"marker\":{\"line\":{\"color\":\"#E5ECF6\",\"width\":0.5},\"pattern\":{\"fillmode\":\"overlay\",\"size\":10,\"solidity\":0.2}},\"type\":\"bar\"}],\"scattergeo\":[{\"type\":\"scattergeo\",\"marker\":{\"colorbar\":{\"outlinewidth\":0,\"ticks\":\"\"}}}],\"scatterpolar\":[{\"type\":\"scatterpolar\",\"marker\":{\"colorbar\":{\"outlinewidth\":0,\"ticks\":\"\"}}}],\"histogram\":[{\"marker\":{\"pattern\":{\"fillmode\":\"overlay\",\"size\":10,\"solidity\":0.2}},\"type\":\"histogram\"}],\"scattergl\":[{\"type\":\"scattergl\",\"marker\":{\"colorbar\":{\"outlinewidth\":0,\"ticks\":\"\"}}}],\"scatter3d\":[{\"type\":\"scatter3d\",\"line\":{\"colorbar\":{\"outlinewidth\":0,\"ticks\":\"\"}},\"marker\":{\"colorbar\":{\"outlinewidth\":0,\"ticks\":\"\"}}}],\"scattermapbox\":[{\"type\":\"scattermapbox\",\"marker\":{\"colorbar\":{\"outlinewidth\":0,\"ticks\":\"\"}}}],\"scatterternary\":[{\"type\":\"scatterternary\",\"marker\":{\"colorbar\":{\"outlinewidth\":0,\"ticks\":\"\"}}}],\"scattercarpet\":[{\"type\":\"scattercarpet\",\"marker\":{\"colorbar\":{\"outlinewidth\":0,\"ticks\":\"\"}}}],\"carpet\":[{\"aaxis\":{\"endlinecolor\":\"#2a3f5f\",\"gridcolor\":\"white\",\"linecolor\":\"white\",\"minorgridcolor\":\"white\",\"startlinecolor\":\"#2a3f5f\"},\"baxis\":{\"endlinecolor\":\"#2a3f5f\",\"gridcolor\":\"white\",\"linecolor\":\"white\",\"minorgridcolor\":\"white\",\"startlinecolor\":\"#2a3f5f\"},\"type\":\"carpet\"}],\"table\":[{\"cells\":{\"fill\":{\"color\":\"#EBF0F8\"},\"line\":{\"color\":\"white\"}},\"header\":{\"fill\":{\"color\":\"#C8D4E3\"},\"line\":{\"color\":\"white\"}},\"type\":\"table\"}],\"barpolar\":[{\"marker\":{\"line\":{\"color\":\"#E5ECF6\",\"width\":0.5},\"pattern\":{\"fillmode\":\"overlay\",\"size\":10,\"solidity\":0.2}},\"type\":\"barpolar\"}],\"pie\":[{\"automargin\":true,\"type\":\"pie\"}]},\"layout\":{\"autotypenumbers\":\"strict\",\"colorway\":[\"#636efa\",\"#EF553B\",\"#00cc96\",\"#ab63fa\",\"#FFA15A\",\"#19d3f3\",\"#FF6692\",\"#B6E880\",\"#FF97FF\",\"#FECB52\"],\"font\":{\"color\":\"#2a3f5f\"},\"hovermode\":\"closest\",\"hoverlabel\":{\"align\":\"left\"},\"paper_bgcolor\":\"white\",\"plot_bgcolor\":\"#E5ECF6\",\"polar\":{\"bgcolor\":\"#E5ECF6\",\"angularaxis\":{\"gridcolor\":\"white\",\"linecolor\":\"white\",\"ticks\":\"\"},\"radialaxis\":{\"gridcolor\":\"white\",\"linecolor\":\"white\",\"ticks\":\"\"}},\"ternary\":{\"bgcolor\":\"#E5ECF6\",\"aaxis\":{\"gridcolor\":\"white\",\"linecolor\":\"white\",\"ticks\":\"\"},\"baxis\":{\"gridcolor\":\"white\",\"linecolor\":\"white\",\"ticks\":\"\"},\"caxis\":{\"gridcolor\":\"white\",\"linecolor\":\"white\",\"ticks\":\"\"}},\"coloraxis\":{\"colorbar\":{\"outlinewidth\":0,\"ticks\":\"\"}},\"colorscale\":{\"sequential\":[[0.0,\"#0d0887\"],[0.1111111111111111,\"#46039f\"],[0.2222222222222222,\"#7201a8\"],[0.3333333333333333,\"#9c179e\"],[0.4444444444444444,\"#bd3786\"],[0.5555555555555556,\"#d8576b\"],[0.6666666666666666,\"#ed7953\"],[0.7777777777777778,\"#fb9f3a\"],[0.8888888888888888,\"#fdca26\"],[1.0,\"#f0f921\"]],\"sequentialminus\":[[0.0,\"#0d0887\"],[0.1111111111111111,\"#46039f\"],[0.2222222222222222,\"#7201a8\"],[0.3333333333333333,\"#9c179e\"],[0.4444444444444444,\"#bd3786\"],[0.5555555555555556,\"#d8576b\"],[0.6666666666666666,\"#ed7953\"],[0.7777777777777778,\"#fb9f3a\"],[0.8888888888888888,\"#fdca26\"],[1.0,\"#f0f921\"]],\"diverging\":[[0,\"#8e0152\"],[0.1,\"#c51b7d\"],[0.2,\"#de77ae\"],[0.3,\"#f1b6da\"],[0.4,\"#fde0ef\"],[0.5,\"#f7f7f7\"],[0.6,\"#e6f5d0\"],[0.7,\"#b8e186\"],[0.8,\"#7fbc41\"],[0.9,\"#4d9221\"],[1,\"#276419\"]]},\"xaxis\":{\"gridcolor\":\"white\",\"linecolor\":\"white\",\"ticks\":\"\",\"title\":{\"standoff\":15},\"zerolinecolor\":\"white\",\"automargin\":true,\"zerolinewidth\":2},\"yaxis\":{\"gridcolor\":\"white\",\"linecolor\":\"white\",\"ticks\":\"\",\"title\":{\"standoff\":15},\"zerolinecolor\":\"white\",\"automargin\":true,\"zerolinewidth\":2},\"scene\":{\"xaxis\":{\"backgroundcolor\":\"#E5ECF6\",\"gridcolor\":\"white\",\"linecolor\":\"white\",\"showbackground\":true,\"ticks\":\"\",\"zerolinecolor\":\"white\",\"gridwidth\":2},\"yaxis\":{\"backgroundcolor\":\"#E5ECF6\",\"gridcolor\":\"white\",\"linecolor\":\"white\",\"showbackground\":true,\"ticks\":\"\",\"zerolinecolor\":\"white\",\"gridwidth\":2},\"zaxis\":{\"backgroundcolor\":\"#E5ECF6\",\"gridcolor\":\"white\",\"linecolor\":\"white\",\"showbackground\":true,\"ticks\":\"\",\"zerolinecolor\":\"white\",\"gridwidth\":2}},\"shapedefaults\":{\"line\":{\"color\":\"#2a3f5f\"}},\"annotationdefaults\":{\"arrowcolor\":\"#2a3f5f\",\"arrowhead\":0,\"arrowwidth\":1},\"geo\":{\"bgcolor\":\"white\",\"landcolor\":\"#E5ECF6\",\"subunitcolor\":\"white\",\"showland\":true,\"showlakes\":true,\"lakecolor\":\"white\"},\"title\":{\"x\":0.05},\"mapbox\":{\"style\":\"light\"}}},\"title\":{\"text\":\"Model RMSE Comparison\"},\"yaxis\":{\"title\":{\"text\":\"RMSE\"},\"range\":[0,10]},\"barmode\":\"group\"},                        {\"responsive\": true}                    ).then(function(){\n",
       "                            \n",
       "var gd = document.getElementById('a50e030f-cb1c-464b-b6cc-5cab4f753ee9');\n",
       "var x = new MutationObserver(function (mutations, observer) {{\n",
       "        var display = window.getComputedStyle(gd).display;\n",
       "        if (!display || display === 'none') {{\n",
       "            console.log([gd, 'removed!']);\n",
       "            Plotly.purge(gd);\n",
       "            observer.disconnect();\n",
       "        }}\n",
       "}});\n",
       "\n",
       "// Listen for the removal of the full notebook cells\n",
       "var notebookContainer = gd.closest('#notebook-container');\n",
       "if (notebookContainer) {{\n",
       "    x.observe(notebookContainer, {childList: true});\n",
       "}}\n",
       "\n",
       "// Listen for the clearing of the current output cell\n",
       "var outputEl = gd.closest('.output');\n",
       "if (outputEl) {{\n",
       "    x.observe(outputEl, {childList: true});\n",
       "}}\n",
       "\n",
       "                        })                };                });            </script>        </div>"
      ]
     },
     "metadata": {},
     "output_type": "display_data"
    }
   ],
   "source": [
    "# Compare all models after adding 'model_year'\n",
    "fig = compare_models(models, tr, te)\n",
    "fig.update_yaxes(range=[0, 10], title=\"RMSE\")\n",
    "fig.show()"
   ]
  },
  {
   "cell_type": "markdown",
   "metadata": {},
   "source": [
    "**Observation:** Adding `model_year` has improved both training and cross-validation RMSE, indicating better model performance and generalization.\n",
    "\n",
    "***\n",
    "\n",
    "## **9. Potential Overfitting**\n",
    "\n",
    "Can we push the model further by using the car's name to predict `mpg`? While incorporating textual data like the car's name might introduce useful features (e.g., manufacturer), it can also lead to overfitting due to high dimensionality and specific information not present in the training set."
   ]
  },
  {
   "cell_type": "code",
   "execution_count": 31,
   "metadata": {},
   "outputs": [],
   "source": [
    "# Define the pipeline with text features\n",
    "pipeline_with_text = Pipeline([\n",
    "    (\"SelectColumns\", ColumnTransformer([\n",
    "        (\"keep\", \"passthrough\", quantitative_features),\n",
    "        (\"displacement_per_cylinder\", volume_transformer, [\"cylinders\", \"displacement\"]),\n",
    "        (\"car_name\", CountVectorizer(), \"name\")\n",
    "    ])),\n",
    "    (\"Imputation\", SimpleImputer(strategy='mean')),\n",
    "    (\"LinearModel\", LinearRegression())\n",
    "])\n",
    "\n",
    "# Fit the pipeline with text features\n",
    "pipeline_with_text.fit(tr, tr['mpg'])\n",
    "\n",
    "# Add the overextended model to the dictionary\n",
    "models['cylinders_overextended'] = pipeline_with_text"
   ]
  },
  {
   "cell_type": "code",
   "execution_count": 32,
   "metadata": {},
   "outputs": [
    {
     "data": {
      "application/vnd.plotly.v1+json": {
       "config": {
        "plotlyServerURL": "https://plot.ly"
       },
       "data": [
        {
         "name": "Training RMSE",
         "type": "bar",
         "x": [
          "cylinders_displacement",
          "cylinders_displacement_per_cylinder",
          "cylinders_horsepower_weight_acceleration",
          "cylinders_model_year",
          "cylinders_overextended"
         ],
         "y": [
          4.589009902639974,
          4.318799994795116,
          4.025034093127813,
          3.0423012736161676,
          1.3340327963265441
         ]
        },
        {
         "name": "Cross-Validation RMSE",
         "type": "bar",
         "x": [
          "cylinders_displacement",
          "cylinders_displacement_per_cylinder",
          "cylinders_horsepower_weight_acceleration",
          "cylinders_model_year",
          "cylinders_overextended"
         ],
         "y": [
          4.622403364179425,
          4.3987918490253985,
          4.139401940486051,
          3.1353066185776397,
          3.6074896622648494
         ]
        },
        {
         "name": "Test RMSE",
         "opacity": 0.6,
         "type": "bar",
         "x": [
          "cylinders_displacement",
          "cylinders_displacement_per_cylinder",
          "cylinders_horsepower_weight_acceleration",
          "cylinders_model_year",
          "cylinders_overextended"
         ],
         "y": [
          5.0340093039091744,
          4.775542810683128,
          4.063052136131592,
          2.8671668927957965,
          3.397832030714863
         ]
        }
       ],
       "layout": {
        "barmode": "group",
        "template": {
         "data": {
          "bar": [
           {
            "error_x": {
             "color": "#2a3f5f"
            },
            "error_y": {
             "color": "#2a3f5f"
            },
            "marker": {
             "line": {
              "color": "#E5ECF6",
              "width": 0.5
             },
             "pattern": {
              "fillmode": "overlay",
              "size": 10,
              "solidity": 0.2
             }
            },
            "type": "bar"
           }
          ],
          "barpolar": [
           {
            "marker": {
             "line": {
              "color": "#E5ECF6",
              "width": 0.5
             },
             "pattern": {
              "fillmode": "overlay",
              "size": 10,
              "solidity": 0.2
             }
            },
            "type": "barpolar"
           }
          ],
          "carpet": [
           {
            "aaxis": {
             "endlinecolor": "#2a3f5f",
             "gridcolor": "white",
             "linecolor": "white",
             "minorgridcolor": "white",
             "startlinecolor": "#2a3f5f"
            },
            "baxis": {
             "endlinecolor": "#2a3f5f",
             "gridcolor": "white",
             "linecolor": "white",
             "minorgridcolor": "white",
             "startlinecolor": "#2a3f5f"
            },
            "type": "carpet"
           }
          ],
          "choropleth": [
           {
            "colorbar": {
             "outlinewidth": 0,
             "ticks": ""
            },
            "type": "choropleth"
           }
          ],
          "contour": [
           {
            "colorbar": {
             "outlinewidth": 0,
             "ticks": ""
            },
            "colorscale": [
             [
              0,
              "#0d0887"
             ],
             [
              0.1111111111111111,
              "#46039f"
             ],
             [
              0.2222222222222222,
              "#7201a8"
             ],
             [
              0.3333333333333333,
              "#9c179e"
             ],
             [
              0.4444444444444444,
              "#bd3786"
             ],
             [
              0.5555555555555556,
              "#d8576b"
             ],
             [
              0.6666666666666666,
              "#ed7953"
             ],
             [
              0.7777777777777778,
              "#fb9f3a"
             ],
             [
              0.8888888888888888,
              "#fdca26"
             ],
             [
              1,
              "#f0f921"
             ]
            ],
            "type": "contour"
           }
          ],
          "contourcarpet": [
           {
            "colorbar": {
             "outlinewidth": 0,
             "ticks": ""
            },
            "type": "contourcarpet"
           }
          ],
          "heatmap": [
           {
            "colorbar": {
             "outlinewidth": 0,
             "ticks": ""
            },
            "colorscale": [
             [
              0,
              "#0d0887"
             ],
             [
              0.1111111111111111,
              "#46039f"
             ],
             [
              0.2222222222222222,
              "#7201a8"
             ],
             [
              0.3333333333333333,
              "#9c179e"
             ],
             [
              0.4444444444444444,
              "#bd3786"
             ],
             [
              0.5555555555555556,
              "#d8576b"
             ],
             [
              0.6666666666666666,
              "#ed7953"
             ],
             [
              0.7777777777777778,
              "#fb9f3a"
             ],
             [
              0.8888888888888888,
              "#fdca26"
             ],
             [
              1,
              "#f0f921"
             ]
            ],
            "type": "heatmap"
           }
          ],
          "heatmapgl": [
           {
            "colorbar": {
             "outlinewidth": 0,
             "ticks": ""
            },
            "colorscale": [
             [
              0,
              "#0d0887"
             ],
             [
              0.1111111111111111,
              "#46039f"
             ],
             [
              0.2222222222222222,
              "#7201a8"
             ],
             [
              0.3333333333333333,
              "#9c179e"
             ],
             [
              0.4444444444444444,
              "#bd3786"
             ],
             [
              0.5555555555555556,
              "#d8576b"
             ],
             [
              0.6666666666666666,
              "#ed7953"
             ],
             [
              0.7777777777777778,
              "#fb9f3a"
             ],
             [
              0.8888888888888888,
              "#fdca26"
             ],
             [
              1,
              "#f0f921"
             ]
            ],
            "type": "heatmapgl"
           }
          ],
          "histogram": [
           {
            "marker": {
             "pattern": {
              "fillmode": "overlay",
              "size": 10,
              "solidity": 0.2
             }
            },
            "type": "histogram"
           }
          ],
          "histogram2d": [
           {
            "colorbar": {
             "outlinewidth": 0,
             "ticks": ""
            },
            "colorscale": [
             [
              0,
              "#0d0887"
             ],
             [
              0.1111111111111111,
              "#46039f"
             ],
             [
              0.2222222222222222,
              "#7201a8"
             ],
             [
              0.3333333333333333,
              "#9c179e"
             ],
             [
              0.4444444444444444,
              "#bd3786"
             ],
             [
              0.5555555555555556,
              "#d8576b"
             ],
             [
              0.6666666666666666,
              "#ed7953"
             ],
             [
              0.7777777777777778,
              "#fb9f3a"
             ],
             [
              0.8888888888888888,
              "#fdca26"
             ],
             [
              1,
              "#f0f921"
             ]
            ],
            "type": "histogram2d"
           }
          ],
          "histogram2dcontour": [
           {
            "colorbar": {
             "outlinewidth": 0,
             "ticks": ""
            },
            "colorscale": [
             [
              0,
              "#0d0887"
             ],
             [
              0.1111111111111111,
              "#46039f"
             ],
             [
              0.2222222222222222,
              "#7201a8"
             ],
             [
              0.3333333333333333,
              "#9c179e"
             ],
             [
              0.4444444444444444,
              "#bd3786"
             ],
             [
              0.5555555555555556,
              "#d8576b"
             ],
             [
              0.6666666666666666,
              "#ed7953"
             ],
             [
              0.7777777777777778,
              "#fb9f3a"
             ],
             [
              0.8888888888888888,
              "#fdca26"
             ],
             [
              1,
              "#f0f921"
             ]
            ],
            "type": "histogram2dcontour"
           }
          ],
          "mesh3d": [
           {
            "colorbar": {
             "outlinewidth": 0,
             "ticks": ""
            },
            "type": "mesh3d"
           }
          ],
          "parcoords": [
           {
            "line": {
             "colorbar": {
              "outlinewidth": 0,
              "ticks": ""
             }
            },
            "type": "parcoords"
           }
          ],
          "pie": [
           {
            "automargin": true,
            "type": "pie"
           }
          ],
          "scatter": [
           {
            "fillpattern": {
             "fillmode": "overlay",
             "size": 10,
             "solidity": 0.2
            },
            "type": "scatter"
           }
          ],
          "scatter3d": [
           {
            "line": {
             "colorbar": {
              "outlinewidth": 0,
              "ticks": ""
             }
            },
            "marker": {
             "colorbar": {
              "outlinewidth": 0,
              "ticks": ""
             }
            },
            "type": "scatter3d"
           }
          ],
          "scattercarpet": [
           {
            "marker": {
             "colorbar": {
              "outlinewidth": 0,
              "ticks": ""
             }
            },
            "type": "scattercarpet"
           }
          ],
          "scattergeo": [
           {
            "marker": {
             "colorbar": {
              "outlinewidth": 0,
              "ticks": ""
             }
            },
            "type": "scattergeo"
           }
          ],
          "scattergl": [
           {
            "marker": {
             "colorbar": {
              "outlinewidth": 0,
              "ticks": ""
             }
            },
            "type": "scattergl"
           }
          ],
          "scattermapbox": [
           {
            "marker": {
             "colorbar": {
              "outlinewidth": 0,
              "ticks": ""
             }
            },
            "type": "scattermapbox"
           }
          ],
          "scatterpolar": [
           {
            "marker": {
             "colorbar": {
              "outlinewidth": 0,
              "ticks": ""
             }
            },
            "type": "scatterpolar"
           }
          ],
          "scatterpolargl": [
           {
            "marker": {
             "colorbar": {
              "outlinewidth": 0,
              "ticks": ""
             }
            },
            "type": "scatterpolargl"
           }
          ],
          "scatterternary": [
           {
            "marker": {
             "colorbar": {
              "outlinewidth": 0,
              "ticks": ""
             }
            },
            "type": "scatterternary"
           }
          ],
          "surface": [
           {
            "colorbar": {
             "outlinewidth": 0,
             "ticks": ""
            },
            "colorscale": [
             [
              0,
              "#0d0887"
             ],
             [
              0.1111111111111111,
              "#46039f"
             ],
             [
              0.2222222222222222,
              "#7201a8"
             ],
             [
              0.3333333333333333,
              "#9c179e"
             ],
             [
              0.4444444444444444,
              "#bd3786"
             ],
             [
              0.5555555555555556,
              "#d8576b"
             ],
             [
              0.6666666666666666,
              "#ed7953"
             ],
             [
              0.7777777777777778,
              "#fb9f3a"
             ],
             [
              0.8888888888888888,
              "#fdca26"
             ],
             [
              1,
              "#f0f921"
             ]
            ],
            "type": "surface"
           }
          ],
          "table": [
           {
            "cells": {
             "fill": {
              "color": "#EBF0F8"
             },
             "line": {
              "color": "white"
             }
            },
            "header": {
             "fill": {
              "color": "#C8D4E3"
             },
             "line": {
              "color": "white"
             }
            },
            "type": "table"
           }
          ]
         },
         "layout": {
          "annotationdefaults": {
           "arrowcolor": "#2a3f5f",
           "arrowhead": 0,
           "arrowwidth": 1
          },
          "autotypenumbers": "strict",
          "coloraxis": {
           "colorbar": {
            "outlinewidth": 0,
            "ticks": ""
           }
          },
          "colorscale": {
           "diverging": [
            [
             0,
             "#8e0152"
            ],
            [
             0.1,
             "#c51b7d"
            ],
            [
             0.2,
             "#de77ae"
            ],
            [
             0.3,
             "#f1b6da"
            ],
            [
             0.4,
             "#fde0ef"
            ],
            [
             0.5,
             "#f7f7f7"
            ],
            [
             0.6,
             "#e6f5d0"
            ],
            [
             0.7,
             "#b8e186"
            ],
            [
             0.8,
             "#7fbc41"
            ],
            [
             0.9,
             "#4d9221"
            ],
            [
             1,
             "#276419"
            ]
           ],
           "sequential": [
            [
             0,
             "#0d0887"
            ],
            [
             0.1111111111111111,
             "#46039f"
            ],
            [
             0.2222222222222222,
             "#7201a8"
            ],
            [
             0.3333333333333333,
             "#9c179e"
            ],
            [
             0.4444444444444444,
             "#bd3786"
            ],
            [
             0.5555555555555556,
             "#d8576b"
            ],
            [
             0.6666666666666666,
             "#ed7953"
            ],
            [
             0.7777777777777778,
             "#fb9f3a"
            ],
            [
             0.8888888888888888,
             "#fdca26"
            ],
            [
             1,
             "#f0f921"
            ]
           ],
           "sequentialminus": [
            [
             0,
             "#0d0887"
            ],
            [
             0.1111111111111111,
             "#46039f"
            ],
            [
             0.2222222222222222,
             "#7201a8"
            ],
            [
             0.3333333333333333,
             "#9c179e"
            ],
            [
             0.4444444444444444,
             "#bd3786"
            ],
            [
             0.5555555555555556,
             "#d8576b"
            ],
            [
             0.6666666666666666,
             "#ed7953"
            ],
            [
             0.7777777777777778,
             "#fb9f3a"
            ],
            [
             0.8888888888888888,
             "#fdca26"
            ],
            [
             1,
             "#f0f921"
            ]
           ]
          },
          "colorway": [
           "#636efa",
           "#EF553B",
           "#00cc96",
           "#ab63fa",
           "#FFA15A",
           "#19d3f3",
           "#FF6692",
           "#B6E880",
           "#FF97FF",
           "#FECB52"
          ],
          "font": {
           "color": "#2a3f5f"
          },
          "geo": {
           "bgcolor": "white",
           "lakecolor": "white",
           "landcolor": "#E5ECF6",
           "showlakes": true,
           "showland": true,
           "subunitcolor": "white"
          },
          "hoverlabel": {
           "align": "left"
          },
          "hovermode": "closest",
          "mapbox": {
           "style": "light"
          },
          "paper_bgcolor": "white",
          "plot_bgcolor": "#E5ECF6",
          "polar": {
           "angularaxis": {
            "gridcolor": "white",
            "linecolor": "white",
            "ticks": ""
           },
           "bgcolor": "#E5ECF6",
           "radialaxis": {
            "gridcolor": "white",
            "linecolor": "white",
            "ticks": ""
           }
          },
          "scene": {
           "xaxis": {
            "backgroundcolor": "#E5ECF6",
            "gridcolor": "white",
            "gridwidth": 2,
            "linecolor": "white",
            "showbackground": true,
            "ticks": "",
            "zerolinecolor": "white"
           },
           "yaxis": {
            "backgroundcolor": "#E5ECF6",
            "gridcolor": "white",
            "gridwidth": 2,
            "linecolor": "white",
            "showbackground": true,
            "ticks": "",
            "zerolinecolor": "white"
           },
           "zaxis": {
            "backgroundcolor": "#E5ECF6",
            "gridcolor": "white",
            "gridwidth": 2,
            "linecolor": "white",
            "showbackground": true,
            "ticks": "",
            "zerolinecolor": "white"
           }
          },
          "shapedefaults": {
           "line": {
            "color": "#2a3f5f"
           }
          },
          "ternary": {
           "aaxis": {
            "gridcolor": "white",
            "linecolor": "white",
            "ticks": ""
           },
           "baxis": {
            "gridcolor": "white",
            "linecolor": "white",
            "ticks": ""
           },
           "bgcolor": "#E5ECF6",
           "caxis": {
            "gridcolor": "white",
            "linecolor": "white",
            "ticks": ""
           }
          },
          "title": {
           "x": 0.05
          },
          "xaxis": {
           "automargin": true,
           "gridcolor": "white",
           "linecolor": "white",
           "ticks": "",
           "title": {
            "standoff": 15
           },
           "zerolinecolor": "white",
           "zerolinewidth": 2
          },
          "yaxis": {
           "automargin": true,
           "gridcolor": "white",
           "linecolor": "white",
           "ticks": "",
           "title": {
            "standoff": 15
           },
           "zerolinecolor": "white",
           "zerolinewidth": 2
          }
         }
        },
        "title": {
         "text": "Model RMSE Comparison"
        },
        "yaxis": {
         "range": [
          0,
          20
         ],
         "title": {
          "text": "RMSE"
         }
        }
       }
      },
      "text/html": [
       "<div>                            <div id=\"54b2333b-1cdd-47b9-8c56-afcc73d27da3\" class=\"plotly-graph-div\" style=\"height:525px; width:100%;\"></div>            <script type=\"text/javascript\">                require([\"plotly\"], function(Plotly) {                    window.PLOTLYENV=window.PLOTLYENV || {};                                    if (document.getElementById(\"54b2333b-1cdd-47b9-8c56-afcc73d27da3\")) {                    Plotly.newPlot(                        \"54b2333b-1cdd-47b9-8c56-afcc73d27da3\",                        [{\"name\":\"Training RMSE\",\"x\":[\"cylinders_displacement\",\"cylinders_displacement_per_cylinder\",\"cylinders_horsepower_weight_acceleration\",\"cylinders_model_year\",\"cylinders_overextended\"],\"y\":[4.589009902639974,4.318799994795116,4.025034093127813,3.0423012736161676,1.3340327963265441],\"type\":\"bar\"},{\"name\":\"Cross-Validation RMSE\",\"x\":[\"cylinders_displacement\",\"cylinders_displacement_per_cylinder\",\"cylinders_horsepower_weight_acceleration\",\"cylinders_model_year\",\"cylinders_overextended\"],\"y\":[4.622403364179425,4.3987918490253985,4.139401940486051,3.1353066185776397,3.6074896622648494],\"type\":\"bar\"},{\"name\":\"Test RMSE\",\"opacity\":0.6,\"x\":[\"cylinders_displacement\",\"cylinders_displacement_per_cylinder\",\"cylinders_horsepower_weight_acceleration\",\"cylinders_model_year\",\"cylinders_overextended\"],\"y\":[5.0340093039091744,4.775542810683128,4.063052136131592,2.8671668927957965,3.397832030714863],\"type\":\"bar\"}],                        {\"template\":{\"data\":{\"histogram2dcontour\":[{\"type\":\"histogram2dcontour\",\"colorbar\":{\"outlinewidth\":0,\"ticks\":\"\"},\"colorscale\":[[0.0,\"#0d0887\"],[0.1111111111111111,\"#46039f\"],[0.2222222222222222,\"#7201a8\"],[0.3333333333333333,\"#9c179e\"],[0.4444444444444444,\"#bd3786\"],[0.5555555555555556,\"#d8576b\"],[0.6666666666666666,\"#ed7953\"],[0.7777777777777778,\"#fb9f3a\"],[0.8888888888888888,\"#fdca26\"],[1.0,\"#f0f921\"]]}],\"choropleth\":[{\"type\":\"choropleth\",\"colorbar\":{\"outlinewidth\":0,\"ticks\":\"\"}}],\"histogram2d\":[{\"type\":\"histogram2d\",\"colorbar\":{\"outlinewidth\":0,\"ticks\":\"\"},\"colorscale\":[[0.0,\"#0d0887\"],[0.1111111111111111,\"#46039f\"],[0.2222222222222222,\"#7201a8\"],[0.3333333333333333,\"#9c179e\"],[0.4444444444444444,\"#bd3786\"],[0.5555555555555556,\"#d8576b\"],[0.6666666666666666,\"#ed7953\"],[0.7777777777777778,\"#fb9f3a\"],[0.8888888888888888,\"#fdca26\"],[1.0,\"#f0f921\"]]}],\"heatmap\":[{\"type\":\"heatmap\",\"colorbar\":{\"outlinewidth\":0,\"ticks\":\"\"},\"colorscale\":[[0.0,\"#0d0887\"],[0.1111111111111111,\"#46039f\"],[0.2222222222222222,\"#7201a8\"],[0.3333333333333333,\"#9c179e\"],[0.4444444444444444,\"#bd3786\"],[0.5555555555555556,\"#d8576b\"],[0.6666666666666666,\"#ed7953\"],[0.7777777777777778,\"#fb9f3a\"],[0.8888888888888888,\"#fdca26\"],[1.0,\"#f0f921\"]]}],\"heatmapgl\":[{\"type\":\"heatmapgl\",\"colorbar\":{\"outlinewidth\":0,\"ticks\":\"\"},\"colorscale\":[[0.0,\"#0d0887\"],[0.1111111111111111,\"#46039f\"],[0.2222222222222222,\"#7201a8\"],[0.3333333333333333,\"#9c179e\"],[0.4444444444444444,\"#bd3786\"],[0.5555555555555556,\"#d8576b\"],[0.6666666666666666,\"#ed7953\"],[0.7777777777777778,\"#fb9f3a\"],[0.8888888888888888,\"#fdca26\"],[1.0,\"#f0f921\"]]}],\"contourcarpet\":[{\"type\":\"contourcarpet\",\"colorbar\":{\"outlinewidth\":0,\"ticks\":\"\"}}],\"contour\":[{\"type\":\"contour\",\"colorbar\":{\"outlinewidth\":0,\"ticks\":\"\"},\"colorscale\":[[0.0,\"#0d0887\"],[0.1111111111111111,\"#46039f\"],[0.2222222222222222,\"#7201a8\"],[0.3333333333333333,\"#9c179e\"],[0.4444444444444444,\"#bd3786\"],[0.5555555555555556,\"#d8576b\"],[0.6666666666666666,\"#ed7953\"],[0.7777777777777778,\"#fb9f3a\"],[0.8888888888888888,\"#fdca26\"],[1.0,\"#f0f921\"]]}],\"surface\":[{\"type\":\"surface\",\"colorbar\":{\"outlinewidth\":0,\"ticks\":\"\"},\"colorscale\":[[0.0,\"#0d0887\"],[0.1111111111111111,\"#46039f\"],[0.2222222222222222,\"#7201a8\"],[0.3333333333333333,\"#9c179e\"],[0.4444444444444444,\"#bd3786\"],[0.5555555555555556,\"#d8576b\"],[0.6666666666666666,\"#ed7953\"],[0.7777777777777778,\"#fb9f3a\"],[0.8888888888888888,\"#fdca26\"],[1.0,\"#f0f921\"]]}],\"mesh3d\":[{\"type\":\"mesh3d\",\"colorbar\":{\"outlinewidth\":0,\"ticks\":\"\"}}],\"scatter\":[{\"fillpattern\":{\"fillmode\":\"overlay\",\"size\":10,\"solidity\":0.2},\"type\":\"scatter\"}],\"parcoords\":[{\"type\":\"parcoords\",\"line\":{\"colorbar\":{\"outlinewidth\":0,\"ticks\":\"\"}}}],\"scatterpolargl\":[{\"type\":\"scatterpolargl\",\"marker\":{\"colorbar\":{\"outlinewidth\":0,\"ticks\":\"\"}}}],\"bar\":[{\"error_x\":{\"color\":\"#2a3f5f\"},\"error_y\":{\"color\":\"#2a3f5f\"},\"marker\":{\"line\":{\"color\":\"#E5ECF6\",\"width\":0.5},\"pattern\":{\"fillmode\":\"overlay\",\"size\":10,\"solidity\":0.2}},\"type\":\"bar\"}],\"scattergeo\":[{\"type\":\"scattergeo\",\"marker\":{\"colorbar\":{\"outlinewidth\":0,\"ticks\":\"\"}}}],\"scatterpolar\":[{\"type\":\"scatterpolar\",\"marker\":{\"colorbar\":{\"outlinewidth\":0,\"ticks\":\"\"}}}],\"histogram\":[{\"marker\":{\"pattern\":{\"fillmode\":\"overlay\",\"size\":10,\"solidity\":0.2}},\"type\":\"histogram\"}],\"scattergl\":[{\"type\":\"scattergl\",\"marker\":{\"colorbar\":{\"outlinewidth\":0,\"ticks\":\"\"}}}],\"scatter3d\":[{\"type\":\"scatter3d\",\"line\":{\"colorbar\":{\"outlinewidth\":0,\"ticks\":\"\"}},\"marker\":{\"colorbar\":{\"outlinewidth\":0,\"ticks\":\"\"}}}],\"scattermapbox\":[{\"type\":\"scattermapbox\",\"marker\":{\"colorbar\":{\"outlinewidth\":0,\"ticks\":\"\"}}}],\"scatterternary\":[{\"type\":\"scatterternary\",\"marker\":{\"colorbar\":{\"outlinewidth\":0,\"ticks\":\"\"}}}],\"scattercarpet\":[{\"type\":\"scattercarpet\",\"marker\":{\"colorbar\":{\"outlinewidth\":0,\"ticks\":\"\"}}}],\"carpet\":[{\"aaxis\":{\"endlinecolor\":\"#2a3f5f\",\"gridcolor\":\"white\",\"linecolor\":\"white\",\"minorgridcolor\":\"white\",\"startlinecolor\":\"#2a3f5f\"},\"baxis\":{\"endlinecolor\":\"#2a3f5f\",\"gridcolor\":\"white\",\"linecolor\":\"white\",\"minorgridcolor\":\"white\",\"startlinecolor\":\"#2a3f5f\"},\"type\":\"carpet\"}],\"table\":[{\"cells\":{\"fill\":{\"color\":\"#EBF0F8\"},\"line\":{\"color\":\"white\"}},\"header\":{\"fill\":{\"color\":\"#C8D4E3\"},\"line\":{\"color\":\"white\"}},\"type\":\"table\"}],\"barpolar\":[{\"marker\":{\"line\":{\"color\":\"#E5ECF6\",\"width\":0.5},\"pattern\":{\"fillmode\":\"overlay\",\"size\":10,\"solidity\":0.2}},\"type\":\"barpolar\"}],\"pie\":[{\"automargin\":true,\"type\":\"pie\"}]},\"layout\":{\"autotypenumbers\":\"strict\",\"colorway\":[\"#636efa\",\"#EF553B\",\"#00cc96\",\"#ab63fa\",\"#FFA15A\",\"#19d3f3\",\"#FF6692\",\"#B6E880\",\"#FF97FF\",\"#FECB52\"],\"font\":{\"color\":\"#2a3f5f\"},\"hovermode\":\"closest\",\"hoverlabel\":{\"align\":\"left\"},\"paper_bgcolor\":\"white\",\"plot_bgcolor\":\"#E5ECF6\",\"polar\":{\"bgcolor\":\"#E5ECF6\",\"angularaxis\":{\"gridcolor\":\"white\",\"linecolor\":\"white\",\"ticks\":\"\"},\"radialaxis\":{\"gridcolor\":\"white\",\"linecolor\":\"white\",\"ticks\":\"\"}},\"ternary\":{\"bgcolor\":\"#E5ECF6\",\"aaxis\":{\"gridcolor\":\"white\",\"linecolor\":\"white\",\"ticks\":\"\"},\"baxis\":{\"gridcolor\":\"white\",\"linecolor\":\"white\",\"ticks\":\"\"},\"caxis\":{\"gridcolor\":\"white\",\"linecolor\":\"white\",\"ticks\":\"\"}},\"coloraxis\":{\"colorbar\":{\"outlinewidth\":0,\"ticks\":\"\"}},\"colorscale\":{\"sequential\":[[0.0,\"#0d0887\"],[0.1111111111111111,\"#46039f\"],[0.2222222222222222,\"#7201a8\"],[0.3333333333333333,\"#9c179e\"],[0.4444444444444444,\"#bd3786\"],[0.5555555555555556,\"#d8576b\"],[0.6666666666666666,\"#ed7953\"],[0.7777777777777778,\"#fb9f3a\"],[0.8888888888888888,\"#fdca26\"],[1.0,\"#f0f921\"]],\"sequentialminus\":[[0.0,\"#0d0887\"],[0.1111111111111111,\"#46039f\"],[0.2222222222222222,\"#7201a8\"],[0.3333333333333333,\"#9c179e\"],[0.4444444444444444,\"#bd3786\"],[0.5555555555555556,\"#d8576b\"],[0.6666666666666666,\"#ed7953\"],[0.7777777777777778,\"#fb9f3a\"],[0.8888888888888888,\"#fdca26\"],[1.0,\"#f0f921\"]],\"diverging\":[[0,\"#8e0152\"],[0.1,\"#c51b7d\"],[0.2,\"#de77ae\"],[0.3,\"#f1b6da\"],[0.4,\"#fde0ef\"],[0.5,\"#f7f7f7\"],[0.6,\"#e6f5d0\"],[0.7,\"#b8e186\"],[0.8,\"#7fbc41\"],[0.9,\"#4d9221\"],[1,\"#276419\"]]},\"xaxis\":{\"gridcolor\":\"white\",\"linecolor\":\"white\",\"ticks\":\"\",\"title\":{\"standoff\":15},\"zerolinecolor\":\"white\",\"automargin\":true,\"zerolinewidth\":2},\"yaxis\":{\"gridcolor\":\"white\",\"linecolor\":\"white\",\"ticks\":\"\",\"title\":{\"standoff\":15},\"zerolinecolor\":\"white\",\"automargin\":true,\"zerolinewidth\":2},\"scene\":{\"xaxis\":{\"backgroundcolor\":\"#E5ECF6\",\"gridcolor\":\"white\",\"linecolor\":\"white\",\"showbackground\":true,\"ticks\":\"\",\"zerolinecolor\":\"white\",\"gridwidth\":2},\"yaxis\":{\"backgroundcolor\":\"#E5ECF6\",\"gridcolor\":\"white\",\"linecolor\":\"white\",\"showbackground\":true,\"ticks\":\"\",\"zerolinecolor\":\"white\",\"gridwidth\":2},\"zaxis\":{\"backgroundcolor\":\"#E5ECF6\",\"gridcolor\":\"white\",\"linecolor\":\"white\",\"showbackground\":true,\"ticks\":\"\",\"zerolinecolor\":\"white\",\"gridwidth\":2}},\"shapedefaults\":{\"line\":{\"color\":\"#2a3f5f\"}},\"annotationdefaults\":{\"arrowcolor\":\"#2a3f5f\",\"arrowhead\":0,\"arrowwidth\":1},\"geo\":{\"bgcolor\":\"white\",\"landcolor\":\"#E5ECF6\",\"subunitcolor\":\"white\",\"showland\":true,\"showlakes\":true,\"lakecolor\":\"white\"},\"title\":{\"x\":0.05},\"mapbox\":{\"style\":\"light\"}}},\"title\":{\"text\":\"Model RMSE Comparison\"},\"yaxis\":{\"title\":{\"text\":\"RMSE\"},\"range\":[0,20]},\"barmode\":\"group\"},                        {\"responsive\": true}                    ).then(function(){\n",
       "                            \n",
       "var gd = document.getElementById('54b2333b-1cdd-47b9-8c56-afcc73d27da3');\n",
       "var x = new MutationObserver(function (mutations, observer) {{\n",
       "        var display = window.getComputedStyle(gd).display;\n",
       "        if (!display || display === 'none') {{\n",
       "            console.log([gd, 'removed!']);\n",
       "            Plotly.purge(gd);\n",
       "            observer.disconnect();\n",
       "        }}\n",
       "}});\n",
       "\n",
       "// Listen for the removal of the full notebook cells\n",
       "var notebookContainer = gd.closest('#notebook-container');\n",
       "if (notebookContainer) {{\n",
       "    x.observe(notebookContainer, {childList: true});\n",
       "}}\n",
       "\n",
       "// Listen for the clearing of the current output cell\n",
       "var outputEl = gd.closest('.output');\n",
       "if (outputEl) {{\n",
       "    x.observe(outputEl, {childList: true});\n",
       "}}\n",
       "\n",
       "                        })                };                });            </script>        </div>"
      ]
     },
     "metadata": {},
     "output_type": "display_data"
    }
   ],
   "source": [
    "# Compare all models including the overextended one\n",
    "fig = compare_models(models, tr, te)\n",
    "fig.update_yaxes(range=[0, 20], title=\"RMSE\")\n",
    "fig.show()"
   ]
  },
  {
   "cell_type": "markdown",
   "metadata": {},
   "source": [
    "**Result:** Including the car's name significantly reduces training RMSE but increases cross-validation and test RMSE, indicating overfitting."
   ]
  }
 ],
 "metadata": {
  "kernelspec": {
   "display_name": "Python 3",
   "language": "python",
   "name": "python3"
  },
  "language_info": {
   "codemirror_mode": {
    "name": "ipython",
    "version": 3
   },
   "file_extension": ".py",
   "mimetype": "text/x-python",
   "name": "python",
   "nbconvert_exporter": "python",
   "pygments_lexer": "ipython3",
   "version": "3.12.2"
  }
 },
 "nbformat": 4,
 "nbformat_minor": 4
}
