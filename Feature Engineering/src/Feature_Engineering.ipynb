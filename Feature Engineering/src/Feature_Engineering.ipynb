{
  "cells": [
    {
      "cell_type": "markdown",
      "metadata": {},
      "source": [
        "# **Feature Engineering**\n",
        "\n",
        "In this Jupyter Notebook, we explore the process of building a predictive model for fuel mileage (miles per gallon) using the Seaborn `mpg` dataset. We will perform feature engineering, handle missing data, and evaluate multiple linear regression models with different sets of features. The goal is to understand how various feature transformations and encoding techniques impact the model's performance.\n",
        "\n",
        "***\n",
        "\n",
        "## **1. Import Libraries**\n",
        "\n",
        "First, we import the necessary libraries for data manipulation, visualization, and modeling."
      ]
    },
    {
      "cell_type": "code",
      "execution_count": 1,
      "metadata": {},
      "outputs": [],
      "source": [
        "# Import necessary libraries\n",
        "import numpy as np\n",
        "import pandas as pd\n",
        "import seaborn as sns\n",
        "import plotly.graph_objects as go\n",
        "import plotly.express as px\n",
        "from plotly.subplots import make_subplots\n",
        "from sklearn.linear_model import LinearRegression\n",
        "from sklearn.metrics import mean_squared_error, mean_absolute_error\n",
        "from sklearn.preprocessing import OneHotEncoder"
      ]
    },
    {
      "cell_type": "markdown",
      "metadata": {},
      "source": [
        "***\n",
        "\n",
        "## **2. Loading and Exploring the Data**\n",
        "\n",
        "We will use Seaborn's `mpg` dataset, which contains information about various cars, including their fuel mileage and other characteristics.\n",
        "\n",
        "### *2.1 ~ The Data*\n",
        "\n",
        "**Note:** The dataset contains some missing values, which we will handle in the next section."
      ]
    },
    {
      "cell_type": "code",
      "execution_count": 2,
      "metadata": {},
      "outputs": [
        {
          "data": {
            "text/html": [
              "<div>\n",
              "<style scoped>\n",
              "    .dataframe tbody tr th:only-of-type {\n",
              "        vertical-align: middle;\n",
              "    }\n",
              "\n",
              "    .dataframe tbody tr th {\n",
              "        vertical-align: top;\n",
              "    }\n",
              "\n",
              "    .dataframe thead th {\n",
              "        text-align: right;\n",
              "    }\n",
              "</style>\n",
              "<table border=\"1\" class=\"dataframe\">\n",
              "  <thead>\n",
              "    <tr style=\"text-align: right;\">\n",
              "      <th></th>\n",
              "      <th>mpg</th>\n",
              "      <th>cylinders</th>\n",
              "      <th>displacement</th>\n",
              "      <th>horsepower</th>\n",
              "      <th>weight</th>\n",
              "      <th>acceleration</th>\n",
              "      <th>model_year</th>\n",
              "      <th>origin</th>\n",
              "      <th>name</th>\n",
              "    </tr>\n",
              "  </thead>\n",
              "  <tbody>\n",
              "    <tr>\n",
              "      <th>0</th>\n",
              "      <td>18.0</td>\n",
              "      <td>8</td>\n",
              "      <td>307.0</td>\n",
              "      <td>130.0</td>\n",
              "      <td>3504</td>\n",
              "      <td>12.0</td>\n",
              "      <td>70</td>\n",
              "      <td>usa</td>\n",
              "      <td>chevrolet chevelle malibu</td>\n",
              "    </tr>\n",
              "    <tr>\n",
              "      <th>1</th>\n",
              "      <td>15.0</td>\n",
              "      <td>8</td>\n",
              "      <td>350.0</td>\n",
              "      <td>165.0</td>\n",
              "      <td>3693</td>\n",
              "      <td>11.5</td>\n",
              "      <td>70</td>\n",
              "      <td>usa</td>\n",
              "      <td>buick skylark 320</td>\n",
              "    </tr>\n",
              "    <tr>\n",
              "      <th>2</th>\n",
              "      <td>18.0</td>\n",
              "      <td>8</td>\n",
              "      <td>318.0</td>\n",
              "      <td>150.0</td>\n",
              "      <td>3436</td>\n",
              "      <td>11.0</td>\n",
              "      <td>70</td>\n",
              "      <td>usa</td>\n",
              "      <td>plymouth satellite</td>\n",
              "    </tr>\n",
              "    <tr>\n",
              "      <th>3</th>\n",
              "      <td>16.0</td>\n",
              "      <td>8</td>\n",
              "      <td>304.0</td>\n",
              "      <td>150.0</td>\n",
              "      <td>3433</td>\n",
              "      <td>12.0</td>\n",
              "      <td>70</td>\n",
              "      <td>usa</td>\n",
              "      <td>amc rebel sst</td>\n",
              "    </tr>\n",
              "    <tr>\n",
              "      <th>4</th>\n",
              "      <td>17.0</td>\n",
              "      <td>8</td>\n",
              "      <td>302.0</td>\n",
              "      <td>140.0</td>\n",
              "      <td>3449</td>\n",
              "      <td>10.5</td>\n",
              "      <td>70</td>\n",
              "      <td>usa</td>\n",
              "      <td>ford torino</td>\n",
              "    </tr>\n",
              "  </tbody>\n",
              "</table>\n",
              "</div>"
            ],
            "text/plain": [
              "    mpg  cylinders  displacement  horsepower  weight  acceleration  \\\n",
              "0  18.0          8         307.0       130.0    3504          12.0   \n",
              "1  15.0          8         350.0       165.0    3693          11.5   \n",
              "2  18.0          8         318.0       150.0    3436          11.0   \n",
              "3  16.0          8         304.0       150.0    3433          12.0   \n",
              "4  17.0          8         302.0       140.0    3449          10.5   \n",
              "\n",
              "   model_year origin                       name  \n",
              "0          70    usa  chevrolet chevelle malibu  \n",
              "1          70    usa          buick skylark 320  \n",
              "2          70    usa         plymouth satellite  \n",
              "3          70    usa              amc rebel sst  \n",
              "4          70    usa                ford torino  "
            ]
          },
          "execution_count": 2,
          "metadata": {},
          "output_type": "execute_result"
        }
      ],
      "source": [
        "# Load the mpg dataset\n",
        "df = sns.load_dataset(\"mpg\")\n",
        "\n",
        "# Display the first few rows of the dataset\n",
        "df.head()"
      ]
    },
    {
      "cell_type": "code",
      "execution_count": 3,
      "metadata": {},
      "outputs": [
        {
          "data": {
            "text/html": [
              "<div>\n",
              "<style scoped>\n",
              "    .dataframe tbody tr th:only-of-type {\n",
              "        vertical-align: middle;\n",
              "    }\n",
              "\n",
              "    .dataframe tbody tr th {\n",
              "        vertical-align: top;\n",
              "    }\n",
              "\n",
              "    .dataframe thead th {\n",
              "        text-align: right;\n",
              "    }\n",
              "</style>\n",
              "<table border=\"1\" class=\"dataframe\">\n",
              "  <thead>\n",
              "    <tr style=\"text-align: right;\">\n",
              "      <th></th>\n",
              "      <th>mpg</th>\n",
              "      <th>cylinders</th>\n",
              "      <th>displacement</th>\n",
              "      <th>horsepower</th>\n",
              "      <th>weight</th>\n",
              "      <th>acceleration</th>\n",
              "      <th>model_year</th>\n",
              "      <th>origin</th>\n",
              "      <th>name</th>\n",
              "    </tr>\n",
              "  </thead>\n",
              "  <tbody>\n",
              "    <tr>\n",
              "      <th>0</th>\n",
              "      <td>18.0</td>\n",
              "      <td>8</td>\n",
              "      <td>307.0</td>\n",
              "      <td>130.0</td>\n",
              "      <td>3504</td>\n",
              "      <td>12.0</td>\n",
              "      <td>70</td>\n",
              "      <td>usa</td>\n",
              "      <td>chevrolet chevelle malibu</td>\n",
              "    </tr>\n",
              "    <tr>\n",
              "      <th>1</th>\n",
              "      <td>15.0</td>\n",
              "      <td>8</td>\n",
              "      <td>350.0</td>\n",
              "      <td>165.0</td>\n",
              "      <td>3693</td>\n",
              "      <td>11.5</td>\n",
              "      <td>70</td>\n",
              "      <td>usa</td>\n",
              "      <td>buick skylark 320</td>\n",
              "    </tr>\n",
              "    <tr>\n",
              "      <th>2</th>\n",
              "      <td>18.0</td>\n",
              "      <td>8</td>\n",
              "      <td>318.0</td>\n",
              "      <td>150.0</td>\n",
              "      <td>3436</td>\n",
              "      <td>11.0</td>\n",
              "      <td>70</td>\n",
              "      <td>usa</td>\n",
              "      <td>plymouth satellite</td>\n",
              "    </tr>\n",
              "    <tr>\n",
              "      <th>3</th>\n",
              "      <td>16.0</td>\n",
              "      <td>8</td>\n",
              "      <td>304.0</td>\n",
              "      <td>150.0</td>\n",
              "      <td>3433</td>\n",
              "      <td>12.0</td>\n",
              "      <td>70</td>\n",
              "      <td>usa</td>\n",
              "      <td>amc rebel sst</td>\n",
              "    </tr>\n",
              "    <tr>\n",
              "      <th>4</th>\n",
              "      <td>17.0</td>\n",
              "      <td>8</td>\n",
              "      <td>302.0</td>\n",
              "      <td>140.0</td>\n",
              "      <td>3449</td>\n",
              "      <td>10.5</td>\n",
              "      <td>70</td>\n",
              "      <td>usa</td>\n",
              "      <td>ford torino</td>\n",
              "    </tr>\n",
              "    <tr>\n",
              "      <th>...</th>\n",
              "      <td>...</td>\n",
              "      <td>...</td>\n",
              "      <td>...</td>\n",
              "      <td>...</td>\n",
              "      <td>...</td>\n",
              "      <td>...</td>\n",
              "      <td>...</td>\n",
              "      <td>...</td>\n",
              "      <td>...</td>\n",
              "    </tr>\n",
              "    <tr>\n",
              "      <th>393</th>\n",
              "      <td>27.0</td>\n",
              "      <td>4</td>\n",
              "      <td>140.0</td>\n",
              "      <td>86.0</td>\n",
              "      <td>2790</td>\n",
              "      <td>15.6</td>\n",
              "      <td>82</td>\n",
              "      <td>usa</td>\n",
              "      <td>ford mustang gl</td>\n",
              "    </tr>\n",
              "    <tr>\n",
              "      <th>394</th>\n",
              "      <td>44.0</td>\n",
              "      <td>4</td>\n",
              "      <td>97.0</td>\n",
              "      <td>52.0</td>\n",
              "      <td>2130</td>\n",
              "      <td>24.6</td>\n",
              "      <td>82</td>\n",
              "      <td>europe</td>\n",
              "      <td>vw pickup</td>\n",
              "    </tr>\n",
              "    <tr>\n",
              "      <th>395</th>\n",
              "      <td>32.0</td>\n",
              "      <td>4</td>\n",
              "      <td>135.0</td>\n",
              "      <td>84.0</td>\n",
              "      <td>2295</td>\n",
              "      <td>11.6</td>\n",
              "      <td>82</td>\n",
              "      <td>usa</td>\n",
              "      <td>dodge rampage</td>\n",
              "    </tr>\n",
              "    <tr>\n",
              "      <th>396</th>\n",
              "      <td>28.0</td>\n",
              "      <td>4</td>\n",
              "      <td>120.0</td>\n",
              "      <td>79.0</td>\n",
              "      <td>2625</td>\n",
              "      <td>18.6</td>\n",
              "      <td>82</td>\n",
              "      <td>usa</td>\n",
              "      <td>ford ranger</td>\n",
              "    </tr>\n",
              "    <tr>\n",
              "      <th>397</th>\n",
              "      <td>31.0</td>\n",
              "      <td>4</td>\n",
              "      <td>119.0</td>\n",
              "      <td>82.0</td>\n",
              "      <td>2720</td>\n",
              "      <td>19.4</td>\n",
              "      <td>82</td>\n",
              "      <td>usa</td>\n",
              "      <td>chevy s-10</td>\n",
              "    </tr>\n",
              "  </tbody>\n",
              "</table>\n",
              "<p>398 rows × 9 columns</p>\n",
              "</div>"
            ],
            "text/plain": [
              "      mpg  cylinders  displacement  horsepower  weight  acceleration  \\\n",
              "0    18.0          8         307.0       130.0    3504          12.0   \n",
              "1    15.0          8         350.0       165.0    3693          11.5   \n",
              "2    18.0          8         318.0       150.0    3436          11.0   \n",
              "3    16.0          8         304.0       150.0    3433          12.0   \n",
              "4    17.0          8         302.0       140.0    3449          10.5   \n",
              "..    ...        ...           ...         ...     ...           ...   \n",
              "393  27.0          4         140.0        86.0    2790          15.6   \n",
              "394  44.0          4          97.0        52.0    2130          24.6   \n",
              "395  32.0          4         135.0        84.0    2295          11.6   \n",
              "396  28.0          4         120.0        79.0    2625          18.6   \n",
              "397  31.0          4         119.0        82.0    2720          19.4   \n",
              "\n",
              "     model_year  origin                       name  \n",
              "0            70     usa  chevrolet chevelle malibu  \n",
              "1            70     usa          buick skylark 320  \n",
              "2            70     usa         plymouth satellite  \n",
              "3            70     usa              amc rebel sst  \n",
              "4            70     usa                ford torino  \n",
              "..          ...     ...                        ...  \n",
              "393          82     usa            ford mustang gl  \n",
              "394          82  europe                  vw pickup  \n",
              "395          82     usa              dodge rampage  \n",
              "396          82     usa                ford ranger  \n",
              "397          82     usa                 chevy s-10  \n",
              "\n",
              "[398 rows x 9 columns]"
            ]
          },
          "execution_count": 3,
          "metadata": {},
          "output_type": "execute_result"
        }
      ],
      "source": [
        "# Display the entire dataset\n",
        "df"
      ]
    },
    {
      "cell_type": "markdown",
      "metadata": {},
      "source": [
        "***\n",
        "\n",
        "## **3. Handling Missing Values**\n",
        "\n",
        "Before building our models, it's crucial to address any missing data to ensure the quality and reliability of our predictions."
      ]
    },
    {
      "cell_type": "code",
      "execution_count": 4,
      "metadata": {},
      "outputs": [
        {
          "name": "stdout",
          "output_type": "stream",
          "text": [
            "Original data shape: (398, 9)\n",
            "Data shape after dropping missing values: (392, 9)\n"
          ]
        }
      ],
      "source": [
        "# Identify and remove rows with any missing values\n",
        "data = df.dropna().copy()\n",
        "\n",
        "# Display the number of rows before and after dropping missing values\n",
        "print(f\"Original data shape: {df.shape}\")\n",
        "print(f\"Data shape after dropping missing values: {data.shape}\")"
      ]
    },
    {
      "cell_type": "markdown",
      "metadata": {},
      "source": [
        "***\n",
        "\n",
        "## **4. Feature Engineering**\n",
        "\n",
        "Feature engineering involves creating new features or modifying existing ones to improve the performance of machine learning models.\n",
        "\n",
        "### *4.1 ~ Basic Design Matrix*\n",
        "\n",
        "We start by selecting the quantitative features that will serve as predictors in our initial model."
      ]
    },
    {
      "cell_type": "code",
      "execution_count": 5,
      "metadata": {},
      "outputs": [
        {
          "data": {
            "text/html": [
              "<div>\n",
              "<style scoped>\n",
              "    .dataframe tbody tr th:only-of-type {\n",
              "        vertical-align: middle;\n",
              "    }\n",
              "\n",
              "    .dataframe tbody tr th {\n",
              "        vertical-align: top;\n",
              "    }\n",
              "\n",
              "    .dataframe thead th {\n",
              "        text-align: right;\n",
              "    }\n",
              "</style>\n",
              "<table border=\"1\" class=\"dataframe\">\n",
              "  <thead>\n",
              "    <tr style=\"text-align: right;\">\n",
              "      <th></th>\n",
              "      <th>cylinders</th>\n",
              "      <th>displacement</th>\n",
              "      <th>horsepower</th>\n",
              "      <th>weight</th>\n",
              "      <th>acceleration</th>\n",
              "      <th>model_year</th>\n",
              "    </tr>\n",
              "  </thead>\n",
              "  <tbody>\n",
              "    <tr>\n",
              "      <th>0</th>\n",
              "      <td>8</td>\n",
              "      <td>307.0</td>\n",
              "      <td>130.0</td>\n",
              "      <td>3504</td>\n",
              "      <td>12.0</td>\n",
              "      <td>70</td>\n",
              "    </tr>\n",
              "    <tr>\n",
              "      <th>1</th>\n",
              "      <td>8</td>\n",
              "      <td>350.0</td>\n",
              "      <td>165.0</td>\n",
              "      <td>3693</td>\n",
              "      <td>11.5</td>\n",
              "      <td>70</td>\n",
              "    </tr>\n",
              "    <tr>\n",
              "      <th>2</th>\n",
              "      <td>8</td>\n",
              "      <td>318.0</td>\n",
              "      <td>150.0</td>\n",
              "      <td>3436</td>\n",
              "      <td>11.0</td>\n",
              "      <td>70</td>\n",
              "    </tr>\n",
              "    <tr>\n",
              "      <th>3</th>\n",
              "      <td>8</td>\n",
              "      <td>304.0</td>\n",
              "      <td>150.0</td>\n",
              "      <td>3433</td>\n",
              "      <td>12.0</td>\n",
              "      <td>70</td>\n",
              "    </tr>\n",
              "    <tr>\n",
              "      <th>4</th>\n",
              "      <td>8</td>\n",
              "      <td>302.0</td>\n",
              "      <td>140.0</td>\n",
              "      <td>3449</td>\n",
              "      <td>10.5</td>\n",
              "      <td>70</td>\n",
              "    </tr>\n",
              "  </tbody>\n",
              "</table>\n",
              "</div>"
            ],
            "text/plain": [
              "   cylinders  displacement  horsepower  weight  acceleration  model_year\n",
              "0          8         307.0       130.0    3504          12.0          70\n",
              "1          8         350.0       165.0    3693          11.5          70\n",
              "2          8         318.0       150.0    3436          11.0          70\n",
              "3          8         304.0       150.0    3433          12.0          70\n",
              "4          8         302.0       140.0    3449          10.5          70"
            ]
          },
          "execution_count": 5,
          "metadata": {},
          "output_type": "execute_result"
        }
      ],
      "source": [
        "def basic_design_matrix(df):\n",
        "    \"\"\"\n",
        "    Creates a design matrix with selected quantitative features.\n",
        "    \n",
        "    Parameters:\n",
        "    df (pd.DataFrame): The input dataframe.\n",
        "    \n",
        "    Returns:\n",
        "    pd.DataFrame: Design matrix with selected features.\n",
        "    \"\"\"\n",
        "    X = df[[\"cylinders\", \"displacement\", \"horsepower\", \"weight\", \"acceleration\", \"model_year\"]]\n",
        "    return X\n",
        "\n",
        "# Display the first few rows of the basic design matrix\n",
        "basic_design_matrix(data).head()"
      ]
    },
    {
      "cell_type": "markdown",
      "metadata": {},
      "source": [
        "### *4.2 ~ Nonlinear Transformations*\n",
        "\n",
        "Enhancing the model by adding nonlinear transformations of the quantitative features can capture more complex relationships.\n",
        "\n",
        "**Note:** We replace zeros with ones before applying the logarithm to avoid mathematical errors."
      ]
    },
    {
      "cell_type": "code",
      "execution_count": 6,
      "metadata": {},
      "outputs": [
        {
          "data": {
            "text/html": [
              "<div>\n",
              "<style scoped>\n",
              "    .dataframe tbody tr th:only-of-type {\n",
              "        vertical-align: middle;\n",
              "    }\n",
              "\n",
              "    .dataframe tbody tr th {\n",
              "        vertical-align: top;\n",
              "    }\n",
              "\n",
              "    .dataframe thead th {\n",
              "        text-align: right;\n",
              "    }\n",
              "</style>\n",
              "<table border=\"1\" class=\"dataframe\">\n",
              "  <thead>\n",
              "    <tr style=\"text-align: right;\">\n",
              "      <th></th>\n",
              "      <th>cylinders</th>\n",
              "      <th>displacement</th>\n",
              "      <th>horsepower</th>\n",
              "      <th>weight</th>\n",
              "      <th>acceleration</th>\n",
              "      <th>model_year</th>\n",
              "      <th>cylinders^2</th>\n",
              "      <th>cylinders^3</th>\n",
              "      <th>log_cylinders</th>\n",
              "      <th>sin_cylinders</th>\n",
              "      <th>...</th>\n",
              "      <th>log_weight</th>\n",
              "      <th>sin_weight</th>\n",
              "      <th>acceleration^2</th>\n",
              "      <th>acceleration^3</th>\n",
              "      <th>log_acceleration</th>\n",
              "      <th>sin_acceleration</th>\n",
              "      <th>model_year^2</th>\n",
              "      <th>model_year^3</th>\n",
              "      <th>log_model_year</th>\n",
              "      <th>sin_model_year</th>\n",
              "    </tr>\n",
              "  </thead>\n",
              "  <tbody>\n",
              "    <tr>\n",
              "      <th>0</th>\n",
              "      <td>8</td>\n",
              "      <td>307.0</td>\n",
              "      <td>130.0</td>\n",
              "      <td>3504</td>\n",
              "      <td>12.0</td>\n",
              "      <td>70</td>\n",
              "      <td>64</td>\n",
              "      <td>512</td>\n",
              "      <td>2.079442</td>\n",
              "      <td>0.989358</td>\n",
              "      <td>...</td>\n",
              "      <td>8.161660</td>\n",
              "      <td>-0.901919</td>\n",
              "      <td>144.00</td>\n",
              "      <td>1728.000</td>\n",
              "      <td>2.484907</td>\n",
              "      <td>-0.536573</td>\n",
              "      <td>4900</td>\n",
              "      <td>343000</td>\n",
              "      <td>4.248495</td>\n",
              "      <td>0.773891</td>\n",
              "    </tr>\n",
              "    <tr>\n",
              "      <th>1</th>\n",
              "      <td>8</td>\n",
              "      <td>350.0</td>\n",
              "      <td>165.0</td>\n",
              "      <td>3693</td>\n",
              "      <td>11.5</td>\n",
              "      <td>70</td>\n",
              "      <td>64</td>\n",
              "      <td>512</td>\n",
              "      <td>2.079442</td>\n",
              "      <td>0.989358</td>\n",
              "      <td>...</td>\n",
              "      <td>8.214194</td>\n",
              "      <td>-0.998328</td>\n",
              "      <td>132.25</td>\n",
              "      <td>1520.875</td>\n",
              "      <td>2.442347</td>\n",
              "      <td>-0.875452</td>\n",
              "      <td>4900</td>\n",
              "      <td>343000</td>\n",
              "      <td>4.248495</td>\n",
              "      <td>0.773891</td>\n",
              "    </tr>\n",
              "    <tr>\n",
              "      <th>2</th>\n",
              "      <td>8</td>\n",
              "      <td>318.0</td>\n",
              "      <td>150.0</td>\n",
              "      <td>3436</td>\n",
              "      <td>11.0</td>\n",
              "      <td>70</td>\n",
              "      <td>64</td>\n",
              "      <td>512</td>\n",
              "      <td>2.079442</td>\n",
              "      <td>0.989358</td>\n",
              "      <td>...</td>\n",
              "      <td>8.142063</td>\n",
              "      <td>-0.784794</td>\n",
              "      <td>121.00</td>\n",
              "      <td>1331.000</td>\n",
              "      <td>2.397895</td>\n",
              "      <td>-0.999990</td>\n",
              "      <td>4900</td>\n",
              "      <td>343000</td>\n",
              "      <td>4.248495</td>\n",
              "      <td>0.773891</td>\n",
              "    </tr>\n",
              "    <tr>\n",
              "      <th>3</th>\n",
              "      <td>8</td>\n",
              "      <td>304.0</td>\n",
              "      <td>150.0</td>\n",
              "      <td>3433</td>\n",
              "      <td>12.0</td>\n",
              "      <td>70</td>\n",
              "      <td>64</td>\n",
              "      <td>512</td>\n",
              "      <td>2.079442</td>\n",
              "      <td>0.989358</td>\n",
              "      <td>...</td>\n",
              "      <td>8.141190</td>\n",
              "      <td>0.689480</td>\n",
              "      <td>144.00</td>\n",
              "      <td>1728.000</td>\n",
              "      <td>2.484907</td>\n",
              "      <td>-0.536573</td>\n",
              "      <td>4900</td>\n",
              "      <td>343000</td>\n",
              "      <td>4.248495</td>\n",
              "      <td>0.773891</td>\n",
              "    </tr>\n",
              "    <tr>\n",
              "      <th>4</th>\n",
              "      <td>8</td>\n",
              "      <td>302.0</td>\n",
              "      <td>140.0</td>\n",
              "      <td>3449</td>\n",
              "      <td>10.5</td>\n",
              "      <td>70</td>\n",
              "      <td>64</td>\n",
              "      <td>512</td>\n",
              "      <td>2.079442</td>\n",
              "      <td>0.989358</td>\n",
              "      <td>...</td>\n",
              "      <td>8.145840</td>\n",
              "      <td>-0.451757</td>\n",
              "      <td>110.25</td>\n",
              "      <td>1157.625</td>\n",
              "      <td>2.351375</td>\n",
              "      <td>-0.879696</td>\n",
              "      <td>4900</td>\n",
              "      <td>343000</td>\n",
              "      <td>4.248495</td>\n",
              "      <td>0.773891</td>\n",
              "    </tr>\n",
              "  </tbody>\n",
              "</table>\n",
              "<p>5 rows × 30 columns</p>\n",
              "</div>"
            ],
            "text/plain": [
              "   cylinders  displacement  horsepower  weight  acceleration  model_year  \\\n",
              "0          8         307.0       130.0    3504          12.0          70   \n",
              "1          8         350.0       165.0    3693          11.5          70   \n",
              "2          8         318.0       150.0    3436          11.0          70   \n",
              "3          8         304.0       150.0    3433          12.0          70   \n",
              "4          8         302.0       140.0    3449          10.5          70   \n",
              "\n",
              "   cylinders^2  cylinders^3  log_cylinders  sin_cylinders  ...  log_weight  \\\n",
              "0           64          512       2.079442       0.989358  ...    8.161660   \n",
              "1           64          512       2.079442       0.989358  ...    8.214194   \n",
              "2           64          512       2.079442       0.989358  ...    8.142063   \n",
              "3           64          512       2.079442       0.989358  ...    8.141190   \n",
              "4           64          512       2.079442       0.989358  ...    8.145840   \n",
              "\n",
              "   sin_weight  acceleration^2  acceleration^3  log_acceleration  \\\n",
              "0   -0.901919          144.00        1728.000          2.484907   \n",
              "1   -0.998328          132.25        1520.875          2.442347   \n",
              "2   -0.784794          121.00        1331.000          2.397895   \n",
              "3    0.689480          144.00        1728.000          2.484907   \n",
              "4   -0.451757          110.25        1157.625          2.351375   \n",
              "\n",
              "   sin_acceleration  model_year^2  model_year^3  log_model_year  \\\n",
              "0         -0.536573          4900        343000        4.248495   \n",
              "1         -0.875452          4900        343000        4.248495   \n",
              "2         -0.999990          4900        343000        4.248495   \n",
              "3         -0.536573          4900        343000        4.248495   \n",
              "4         -0.879696          4900        343000        4.248495   \n",
              "\n",
              "   sin_model_year  \n",
              "0        0.773891  \n",
              "1        0.773891  \n",
              "2        0.773891  \n",
              "3        0.773891  \n",
              "4        0.773891  \n",
              "\n",
              "[5 rows x 30 columns]"
            ]
          },
          "execution_count": 6,
          "metadata": {},
          "output_type": "execute_result"
        }
      ],
      "source": [
        "def nonlinear_design_matrix(df):\n",
        "    \"\"\"\n",
        "    Extends the basic design matrix with nonlinear transformations.\n",
        "    \n",
        "    Parameters:\n",
        "    df (pd.DataFrame): The input dataframe.\n",
        "    \n",
        "    Returns:\n",
        "    pd.DataFrame: Enhanced design matrix with nonlinear features.\n",
        "    \"\"\"\n",
        "    X = basic_design_matrix(df).copy()\n",
        "    \n",
        "    # Apply nonlinear transformations to each quantitative feature\n",
        "    for col in X.columns:\n",
        "        X[f'{col}^2'] = X[col] ** 2\n",
        "        X[f'{col}^3'] = X[col] ** 3\n",
        "        X[f'log_{col}'] = np.log(X[col].replace(0, 1))  # Avoid log(0)\n",
        "        X[f'sin_{col}'] = np.sin(X[col])\n",
        "    return X\n",
        "\n",
        "# Display the first few rows of the nonlinear design matrix\n",
        "nonlinear_design_matrix(data).head()"
      ]
    },
    {
      "cell_type": "markdown",
      "metadata": {},
      "source": [
        "### *4.3 ~ Categorical Data Encoding*\n",
        "\n",
        "The `origin` column is categorical and needs to be encoded into numerical format using One-Hot Encoding."
      ]
    },
    {
      "cell_type": "code",
      "execution_count": 7,
      "metadata": {},
      "outputs": [
        {
          "data": {
            "text/html": [
              "<div>\n",
              "<style scoped>\n",
              "    .dataframe tbody tr th:only-of-type {\n",
              "        vertical-align: middle;\n",
              "    }\n",
              "\n",
              "    .dataframe tbody tr th {\n",
              "        vertical-align: top;\n",
              "    }\n",
              "\n",
              "    .dataframe thead th {\n",
              "        text-align: right;\n",
              "    }\n",
              "</style>\n",
              "<table border=\"1\" class=\"dataframe\">\n",
              "  <thead>\n",
              "    <tr style=\"text-align: right;\">\n",
              "      <th></th>\n",
              "      <th>origin_japan</th>\n",
              "      <th>origin_usa</th>\n",
              "    </tr>\n",
              "  </thead>\n",
              "  <tbody>\n",
              "    <tr>\n",
              "      <th>0</th>\n",
              "      <td>0.0</td>\n",
              "      <td>1.0</td>\n",
              "    </tr>\n",
              "    <tr>\n",
              "      <th>1</th>\n",
              "      <td>0.0</td>\n",
              "      <td>1.0</td>\n",
              "    </tr>\n",
              "    <tr>\n",
              "      <th>2</th>\n",
              "      <td>0.0</td>\n",
              "      <td>1.0</td>\n",
              "    </tr>\n",
              "    <tr>\n",
              "      <th>3</th>\n",
              "      <td>0.0</td>\n",
              "      <td>1.0</td>\n",
              "    </tr>\n",
              "    <tr>\n",
              "      <th>4</th>\n",
              "      <td>0.0</td>\n",
              "      <td>1.0</td>\n",
              "    </tr>\n",
              "  </tbody>\n",
              "</table>\n",
              "</div>"
            ],
            "text/plain": [
              "   origin_japan  origin_usa\n",
              "0           0.0         1.0\n",
              "1           0.0         1.0\n",
              "2           0.0         1.0\n",
              "3           0.0         1.0\n",
              "4           0.0         1.0"
            ]
          },
          "execution_count": 7,
          "metadata": {},
          "output_type": "execute_result"
        }
      ],
      "source": [
        "# Initialize OneHotEncoder\n",
        "oh_enc = OneHotEncoder(sparse_output=False, drop='first')  # drop='first' to avoid multicollinearity\n",
        "\n",
        "# Fit and transform the 'origin' column\n",
        "origin_encoded = oh_enc.fit_transform(data[['origin']])\n",
        "\n",
        "# Create a DataFrame with the encoded features\n",
        "origin_encoded_df = pd.DataFrame(origin_encoded, \n",
        "                                 columns=oh_enc.get_feature_names_out(['origin']),\n",
        "                                 index=data.index)\n",
        "\n",
        "# Display the first few rows of the encoded categorical data\n",
        "origin_encoded_df.head()"
      ]
    },
    {
      "cell_type": "code",
      "execution_count": 8,
      "metadata": {},
      "outputs": [
        {
          "data": {
            "text/html": [
              "<div>\n",
              "<style scoped>\n",
              "    .dataframe tbody tr th:only-of-type {\n",
              "        vertical-align: middle;\n",
              "    }\n",
              "\n",
              "    .dataframe tbody tr th {\n",
              "        vertical-align: top;\n",
              "    }\n",
              "\n",
              "    .dataframe thead th {\n",
              "        text-align: right;\n",
              "    }\n",
              "</style>\n",
              "<table border=\"1\" class=\"dataframe\">\n",
              "  <thead>\n",
              "    <tr style=\"text-align: right;\">\n",
              "      <th></th>\n",
              "      <th>cylinders</th>\n",
              "      <th>displacement</th>\n",
              "      <th>horsepower</th>\n",
              "      <th>weight</th>\n",
              "      <th>acceleration</th>\n",
              "      <th>model_year</th>\n",
              "      <th>cylinders^2</th>\n",
              "      <th>cylinders^3</th>\n",
              "      <th>log_cylinders</th>\n",
              "      <th>sin_cylinders</th>\n",
              "      <th>...</th>\n",
              "      <th>acceleration^2</th>\n",
              "      <th>acceleration^3</th>\n",
              "      <th>log_acceleration</th>\n",
              "      <th>sin_acceleration</th>\n",
              "      <th>model_year^2</th>\n",
              "      <th>model_year^3</th>\n",
              "      <th>log_model_year</th>\n",
              "      <th>sin_model_year</th>\n",
              "      <th>origin_japan</th>\n",
              "      <th>origin_usa</th>\n",
              "    </tr>\n",
              "  </thead>\n",
              "  <tbody>\n",
              "    <tr>\n",
              "      <th>0</th>\n",
              "      <td>8</td>\n",
              "      <td>307.0</td>\n",
              "      <td>130.0</td>\n",
              "      <td>3504</td>\n",
              "      <td>12.0</td>\n",
              "      <td>70</td>\n",
              "      <td>64</td>\n",
              "      <td>512</td>\n",
              "      <td>2.079442</td>\n",
              "      <td>0.989358</td>\n",
              "      <td>...</td>\n",
              "      <td>144.00</td>\n",
              "      <td>1728.000</td>\n",
              "      <td>2.484907</td>\n",
              "      <td>-0.536573</td>\n",
              "      <td>4900</td>\n",
              "      <td>343000</td>\n",
              "      <td>4.248495</td>\n",
              "      <td>0.773891</td>\n",
              "      <td>0.0</td>\n",
              "      <td>1.0</td>\n",
              "    </tr>\n",
              "    <tr>\n",
              "      <th>1</th>\n",
              "      <td>8</td>\n",
              "      <td>350.0</td>\n",
              "      <td>165.0</td>\n",
              "      <td>3693</td>\n",
              "      <td>11.5</td>\n",
              "      <td>70</td>\n",
              "      <td>64</td>\n",
              "      <td>512</td>\n",
              "      <td>2.079442</td>\n",
              "      <td>0.989358</td>\n",
              "      <td>...</td>\n",
              "      <td>132.25</td>\n",
              "      <td>1520.875</td>\n",
              "      <td>2.442347</td>\n",
              "      <td>-0.875452</td>\n",
              "      <td>4900</td>\n",
              "      <td>343000</td>\n",
              "      <td>4.248495</td>\n",
              "      <td>0.773891</td>\n",
              "      <td>0.0</td>\n",
              "      <td>1.0</td>\n",
              "    </tr>\n",
              "    <tr>\n",
              "      <th>2</th>\n",
              "      <td>8</td>\n",
              "      <td>318.0</td>\n",
              "      <td>150.0</td>\n",
              "      <td>3436</td>\n",
              "      <td>11.0</td>\n",
              "      <td>70</td>\n",
              "      <td>64</td>\n",
              "      <td>512</td>\n",
              "      <td>2.079442</td>\n",
              "      <td>0.989358</td>\n",
              "      <td>...</td>\n",
              "      <td>121.00</td>\n",
              "      <td>1331.000</td>\n",
              "      <td>2.397895</td>\n",
              "      <td>-0.999990</td>\n",
              "      <td>4900</td>\n",
              "      <td>343000</td>\n",
              "      <td>4.248495</td>\n",
              "      <td>0.773891</td>\n",
              "      <td>0.0</td>\n",
              "      <td>1.0</td>\n",
              "    </tr>\n",
              "    <tr>\n",
              "      <th>3</th>\n",
              "      <td>8</td>\n",
              "      <td>304.0</td>\n",
              "      <td>150.0</td>\n",
              "      <td>3433</td>\n",
              "      <td>12.0</td>\n",
              "      <td>70</td>\n",
              "      <td>64</td>\n",
              "      <td>512</td>\n",
              "      <td>2.079442</td>\n",
              "      <td>0.989358</td>\n",
              "      <td>...</td>\n",
              "      <td>144.00</td>\n",
              "      <td>1728.000</td>\n",
              "      <td>2.484907</td>\n",
              "      <td>-0.536573</td>\n",
              "      <td>4900</td>\n",
              "      <td>343000</td>\n",
              "      <td>4.248495</td>\n",
              "      <td>0.773891</td>\n",
              "      <td>0.0</td>\n",
              "      <td>1.0</td>\n",
              "    </tr>\n",
              "    <tr>\n",
              "      <th>4</th>\n",
              "      <td>8</td>\n",
              "      <td>302.0</td>\n",
              "      <td>140.0</td>\n",
              "      <td>3449</td>\n",
              "      <td>10.5</td>\n",
              "      <td>70</td>\n",
              "      <td>64</td>\n",
              "      <td>512</td>\n",
              "      <td>2.079442</td>\n",
              "      <td>0.989358</td>\n",
              "      <td>...</td>\n",
              "      <td>110.25</td>\n",
              "      <td>1157.625</td>\n",
              "      <td>2.351375</td>\n",
              "      <td>-0.879696</td>\n",
              "      <td>4900</td>\n",
              "      <td>343000</td>\n",
              "      <td>4.248495</td>\n",
              "      <td>0.773891</td>\n",
              "      <td>0.0</td>\n",
              "      <td>1.0</td>\n",
              "    </tr>\n",
              "  </tbody>\n",
              "</table>\n",
              "<p>5 rows × 32 columns</p>\n",
              "</div>"
            ],
            "text/plain": [
              "   cylinders  displacement  horsepower  weight  acceleration  model_year  \\\n",
              "0          8         307.0       130.0    3504          12.0          70   \n",
              "1          8         350.0       165.0    3693          11.5          70   \n",
              "2          8         318.0       150.0    3436          11.0          70   \n",
              "3          8         304.0       150.0    3433          12.0          70   \n",
              "4          8         302.0       140.0    3449          10.5          70   \n",
              "\n",
              "   cylinders^2  cylinders^3  log_cylinders  sin_cylinders  ...  \\\n",
              "0           64          512       2.079442       0.989358  ...   \n",
              "1           64          512       2.079442       0.989358  ...   \n",
              "2           64          512       2.079442       0.989358  ...   \n",
              "3           64          512       2.079442       0.989358  ...   \n",
              "4           64          512       2.079442       0.989358  ...   \n",
              "\n",
              "   acceleration^2  acceleration^3  log_acceleration  sin_acceleration  \\\n",
              "0          144.00        1728.000          2.484907         -0.536573   \n",
              "1          132.25        1520.875          2.442347         -0.875452   \n",
              "2          121.00        1331.000          2.397895         -0.999990   \n",
              "3          144.00        1728.000          2.484907         -0.536573   \n",
              "4          110.25        1157.625          2.351375         -0.879696   \n",
              "\n",
              "   model_year^2  model_year^3  log_model_year  sin_model_year  origin_japan  \\\n",
              "0          4900        343000        4.248495        0.773891           0.0   \n",
              "1          4900        343000        4.248495        0.773891           0.0   \n",
              "2          4900        343000        4.248495        0.773891           0.0   \n",
              "3          4900        343000        4.248495        0.773891           0.0   \n",
              "4          4900        343000        4.248495        0.773891           0.0   \n",
              "\n",
              "   origin_usa  \n",
              "0         1.0  \n",
              "1         1.0  \n",
              "2         1.0  \n",
              "3         1.0  \n",
              "4         1.0  \n",
              "\n",
              "[5 rows x 32 columns]"
            ]
          },
          "execution_count": 8,
          "metadata": {},
          "output_type": "execute_result"
        }
      ],
      "source": [
        "def sklearn_ohe_design_matrix(df):\n",
        "    \"\"\"\n",
        "    Combines nonlinear quantitative features with one-hot encoded categorical features.\n",
        "    \n",
        "    Parameters:\n",
        "    df (pd.DataFrame): The input dataframe.\n",
        "    \n",
        "    Returns:\n",
        "    pd.DataFrame: Combined design matrix.\n",
        "    \"\"\"\n",
        "    # Apply nonlinear transformations\n",
        "    X = nonlinear_design_matrix(df).copy()\n",
        "    \n",
        "    # Apply one-hot encoding to the 'origin' column\n",
        "    ohe_cols = pd.DataFrame(oh_enc.transform(df[['origin']]),\n",
        "                            columns=oh_enc.get_feature_names_out(['origin']),\n",
        "                            index=df.index)\n",
        "    \n",
        "    # Combine quantitative and categorical features\n",
        "    X = X.join(ohe_cols)\n",
        "    return X\n",
        "\n",
        "# Display the first few rows of the combined design matrix\n",
        "sklearn_ohe_design_matrix(data).head()"
      ]
    },
    {
      "cell_type": "markdown",
      "metadata": {},
      "source": [
        "***\n",
        "\n",
        "## **5. Model Evaluation**\n",
        "\n",
        "To systematically evaluate and compare different models, we define a function that trains a model, computes performance metrics, and visualizes the results.\n",
        "\n",
        "### *5.1 ~ Evaluation Function*"
      ]
    },
    {
      "cell_type": "code",
      "execution_count": 9,
      "metadata": {},
      "outputs": [],
      "source": [
        "def evaluate_model(name, model, phi, data, models=dict()):\n",
        "    \"\"\"\n",
        "    Trains the model, evaluates its performance, and updates the models dictionary.\n",
        "    \n",
        "    Parameters:\n",
        "    name (str): Name of the model.\n",
        "    model: The machine learning model to train.\n",
        "    phi (function): Function to generate the design matrix.\n",
        "    data (pd.DataFrame): The dataset to use for training and evaluation.\n",
        "    models (dict): Dictionary to store model performance metrics.\n",
        "    \n",
        "    Returns:\n",
        "    None\n",
        "    \"\"\"\n",
        "    # Generate the design matrix\n",
        "    X = phi(data)\n",
        "    \n",
        "    # Extract target variable\n",
        "    Y = data['mpg'].to_numpy()\n",
        "    \n",
        "    # Train the model\n",
        "    model.fit(X, Y)\n",
        "    \n",
        "    # Make predictions\n",
        "    Yhat = model.predict(X)\n",
        "    \n",
        "    # Compute Root Mean Squared Error (RMSE)\n",
        "    rmse = np.sqrt(mean_squared_error(Y, Yhat))\n",
        "    print(f\"Model: {name}\")\n",
        "    print(f\"Root Mean Squared Error (RMSE): {rmse:.4f}\\n\")\n",
        "    \n",
        "    # Save the model and RMSE to the collection of models\n",
        "    models[name] = {'model': model, 'phi': phi, 'rmse': rmse}\n",
        "    \n",
        "    # Generate diagnostic and comparison plots\n",
        "    fig = make_subplots(rows=1, cols=2, subplot_titles=(\"Actual vs Predicted MPG\", \"Model RMSE Comparison\"))\n",
        "    \n",
        "    # Scatter plot of Actual vs Predicted MPG\n",
        "    fig.add_trace(go.Scatter(x=Yhat, y=Y, mode=\"markers\", name=name), row=1, col=1)\n",
        "    fig.update_xaxes(title_text=\"Predicted MPG (Yhat)\", row=1, col=1)\n",
        "    fig.update_yaxes(title_text=\"Actual MPG (Y)\", row=1, col=1)\n",
        "    \n",
        "    # Plot y = yhat line\n",
        "    ymin, ymax = min(Y.min(), Yhat.min()), max(Y.max(), Yhat.max())\n",
        "    fig.add_trace(go.Scatter(x=[ymin, ymax], y=[ymin, ymax], mode=\"lines\", name=\"y = yhat\"), row=1, col=1)\n",
        "    \n",
        "    # Bar chart of RMSE for all models\n",
        "    model_names = list(models.keys())\n",
        "    rmse_values = [models[k]['rmse'] for k in model_names]\n",
        "    fig.add_trace(go.Bar(x=model_names, y=rmse_values, name=\"RMSE\"), row=1, col=2)\n",
        "    fig.update_yaxes(title_text=\"RMSE\", row=1, col=2)\n",
        "    \n",
        "    fig.update_layout(showlegend=False, height=600, width=1000)\n",
        "    fig.show()"
      ]
    },
    {
      "cell_type": "markdown",
      "metadata": {},
      "source": [
        "### *5.2 ~ Evaluating the Basic Model*\n",
        "\n",
        "We start by evaluating a simple linear regression model using the basic design matrix."
      ]
    },
    {
      "cell_type": "code",
      "execution_count": 10,
      "metadata": {},
      "outputs": [
        {
          "name": "stdout",
          "output_type": "stream",
          "text": [
            "Model: Basic Linear Regression\n",
            "Root Mean Squared Error (RMSE): 3.4044\n",
            "\n"
          ]
        },
        {
          "data": {
            "application/vnd.plotly.v1+json": {
              "config": {
                "plotlyServerURL": "https://plot.ly"
              },
              "data": [
                {
                  "mode": "markers",
                  "name": "Basic Linear Regression",
                  "type": "scatter",
                  "x": [
                    15.082919044604246,
                    14.072574690909633,
                    15.536315436974409,
                    15.534474514246899,
                    15.286407452461816,
                    10.135433667957262,
                    10.145181321611393,
                    10.282377404953472,
                    9.753758349084112,
                    13.047353258080808,
                    15.079396569408065,
                    14.270038706747442,
                    13.829786024708035,
                    18.851751735093277,
                    22.87376459744363,
                    19.77703075543656,
                    20.18480893142208,
                    21.51041380182588,
                    24.355310114120396,
                    26.88779881434736,
                    21.02865789465753,
                    22.392926331399554,
                    22.99745798887631,
                    23.652621793744967,
                    21.00103365405005,
                    8.078336615897083,
                    9.38643707481965,
                    9.298308673864057,
                    7.245713660258016,
                    25.108677293870496,
                    24.612861529766466,
                    24.5202835097725,
                    21.928453633004654,
                    16.616263540529594,
                    17.557589044967624,
                    17.745739995513876,
                    17.69795663502546,
                    11.362555650831837,
                    9.967299415905927,
                    11.876544203617357,
                    11.975781287791445,
                    6.49865192842336,
                    8.095810565676594,
                    5.4167743299380255,
                    19.93818121149555,
                    23.939937314883455,
                    17.834299463422642,
                    18.76798946844679,
                    24.647268525438623,
                    25.25871045927744,
                    25.784374787692794,
                    25.485917852929735,
                    27.72744749206252,
                    28.735426119204167,
                    27.51457176355734,
                    26.770348729258682,
                    25.0618296642747,
                    26.109376122354217,
                    25.800277164395037,
                    24.72889671777948,
                    25.573051115076556,
                    11.674272666212559,
                    11.300078034286273,
                    12.506794992393544,
                    12.75714020772822,
                    15.374658568976855,
                    9.739499287961586,
                    10.25692320812151,
                    10.56751885426796,
                    11.085443461358604,
                    24.536866916322662,
                    13.965115874981581,
                    12.724196857454139,
                    11.520692533369896,
                    12.94351945484291,
                    20.580856081264248,
                    23.760730005679203,
                    20.696775351085247,
                    25.759375706704315,
                    24.382124064242564,
                    25.000112538380375,
                    23.480349833637877,
                    25.684473362873472,
                    26.236429504916313,
                    13.691263054099537,
                    16.128025748726955,
                    14.464000927610368,
                    13.859567623590934,
                    15.607362138184673,
                    8.371933532556273,
                    11.526454288223768,
                    11.918610017879761,
                    12.652384391926617,
                    9.881538684214217,
                    8.525164112846387,
                    15.493199260475905,
                    20.36895964343029,
                    19.624032035418036,
                    21.577881562286922,
                    21.247035235619702,
                    21.597351046310852,
                    28.409155917033157,
                    8.075469434289335,
                    8.559216749231691,
                    10.005785810397768,
                    10.935617105320489,
                    22.552568709826193,
                    25.98674319554036,
                    25.536870623250902,
                    25.176212886075323,
                    26.692664875244343,
                    25.92660823957137,
                    24.027210723620758,
                    25.7903072011087,
                    13.825306843753115,
                    12.545761656842586,
                    28.621350789627503,
                    26.661413395836778,
                    23.630966980476916,
                    21.86114667233095,
                    18.04781783901959,
                    23.14730003903964,
                    21.71018519580402,
                    16.481213192567793,
                    21.048020502686317,
                    22.630211930225524,
                    19.898038129245155,
                    28.84554639144928,
                    25.553344577509936,
                    29.730034596664662,
                    25.11783949312576,
                    16.874433157793266,
                    18.029618360047113,
                    17.77937480979988,
                    13.896456939722011,
                    10.51234786350286,
                    11.825662383786987,
                    10.690078330669085,
                    13.247634436941581,
                    26.944239540837604,
                    28.458759994260095,
                    26.21760734358465,
                    30.660378308881736,
                    28.518493496458635,
                    27.35409053343913,
                    27.55487228491374,
                    26.68894432878903,
                    25.145229321139073,
                    25.763162759491454,
                    28.24999575493884,
                    20.865340573581857,
                    19.72843728083409,
                    20.351172933165476,
                    22.084988371009384,
                    11.596622858446633,
                    12.984841237212283,
                    12.385723476035935,
                    11.474276890058928,
                    16.962967737874965,
                    16.965577752143908,
                    18.202386231233692,
                    17.58116438155516,
                    22.349056605001113,
                    20.56283943375959,
                    21.087951148689545,
                    27.97656417130226,
                    25.208997890688398,
                    23.295249077101747,
                    25.658211580906684,
                    24.431322393908072,
                    27.613697073867986,
                    25.6809659613907,
                    22.22450577458687,
                    29.34416603529893,
                    21.366434359514198,
                    24.468090388575217,
                    22.892784011487965,
                    22.764901183586698,
                    24.534700200150294,
                    30.621789618311343,
                    26.768951070087684,
                    28.617283036741387,
                    26.2350084518816,
                    28.310260974088028,
                    28.48718979926026,
                    14.838151617416983,
                    15.1039231026847,
                    16.63408455298467,
                    15.169608492362684,
                    21.776220182609446,
                    21.074124088981097,
                    23.28090688455271,
                    23.0270873445179,
                    30.099553533613662,
                    29.31120924667442,
                    30.114587864438473,
                    31.366629473366718,
                    19.132198362797308,
                    20.137356235773762,
                    19.23310340021708,
                    22.508005667735926,
                    30.758396232975688,
                    29.95484605526224,
                    28.872754536445246,
                    26.179542667719037,
                    22.295240037331826,
                    16.819632230417906,
                    21.937274694393114,
                    23.310574203636296,
                    17.453137053111096,
                    13.970168877483523,
                    16.18358981971731,
                    17.333719556431685,
                    18.144855141950064,
                    30.56302142451604,
                    29.595225766625855,
                    31.924388071256413,
                    28.747898485552472,
                    30.996916391724785,
                    17.823122396805314,
                    16.822535361660073,
                    16.258669228835426,
                    15.19084679830268,
                    20.852852468528507,
                    21.397044397007097,
                    20.02825251872829,
                    21.045286087909563,
                    16.10932318862235,
                    16.128601191483806,
                    15.485775323622317,
                    15.253760109039366,
                    30.923771331649977,
                    26.02670854880481,
                    29.032205590229122,
                    25.82288054245787,
                    30.396300624483747,
                    30.131602111445577,
                    30.7843376060592,
                    29.19100755452732,
                    24.687569805349487,
                    26.46611793650587,
                    25.72549850883721,
                    31.9262850894342,
                    32.63223239170691,
                    31.653504685622945,
                    31.054448176808013,
                    32.751378007336484,
                    21.999705626890506,
                    19.7231768178976,
                    20.687715946496642,
                    21.59913207426457,
                    23.86169585257598,
                    24.951931019181483,
                    26.78034140597097,
                    22.097906657679783,
                    23.650385166067327,
                    22.362368811217113,
                    24.31524206052961,
                    20.93092556882176,
                    22.300286283932213,
                    21.727732000004114,
                    21.692581519748746,
                    23.031314289762964,
                    17.421670261256832,
                    30.398434139900427,
                    27.71634230529445,
                    29.409620421439268,
                    29.769300825193955,
                    28.073264059564668,
                    26.83753301831675,
                    26.136305930353632,
                    28.71324018992434,
                    25.67073476409769,
                    23.275515599081512,
                    26.139870261426,
                    21.625439061164077,
                    31.312828961575182,
                    30.542853822862657,
                    23.994986554756355,
                    25.740088543770565,
                    26.54064270964705,
                    24.115321607529037,
                    23.27181958746019,
                    19.854804222593888,
                    20.442994853579567,
                    19.23589896590204,
                    20.003558567640336,
                    16.61471175579759,
                    18.655466941824823,
                    21.127606562058016,
                    19.385173190523364,
                    32.43110038344216,
                    32.17301022682088,
                    32.59873953338622,
                    27.696570852566555,
                    22.43547065926521,
                    19.965159780531007,
                    25.156138162736614,
                    22.958526687426644,
                    30.617608099182707,
                    31.102303514661745,
                    32.20066697826401,
                    31.114034555698698,
                    28.008283451093742,
                    27.616518931819176,
                    27.039521246030365,
                    28.544104801766256,
                    31.823286607352653,
                    33.3059154895752,
                    32.056924168273994,
                    32.72974211471916,
                    28.749930311010456,
                    27.498120845222434,
                    26.8486631781736,
                    24.069400721093817,
                    31.609662849414665,
                    28.309901358775225,
                    29.527110590221614,
                    30.033414732500187,
                    31.120950121320835,
                    32.23934175502288,
                    27.774434924602705,
                    32.34251854581035,
                    32.77061230698634,
                    31.24250432253704,
                    26.640512459998003,
                    25.28596610035716,
                    33.69393154008881,
                    32.093737474285064,
                    33.842414417457505,
                    26.193063597577325,
                    29.8658414284512,
                    29.618097987938963,
                    31.09807215446884,
                    30.591960310457143,
                    29.78928686978352,
                    29.7559209512192,
                    28.352764961480826,
                    31.06663009990928,
                    35.26851552438278,
                    34.46192562956902,
                    35.18089798659844,
                    33.37361943771572,
                    34.03021379325554,
                    33.37343141886018,
                    33.71723508924343,
                    32.1701271988089,
                    33.38153574225909,
                    31.489068352541,
                    32.27599646246884,
                    32.172124258504866,
                    31.43321197354963,
                    29.536770575949877,
                    29.717188257159382,
                    26.012363318970163,
                    25.79232894047143,
                    27.122966541978034,
                    26.850965013252196,
                    24.38270194563049,
                    22.80521658146262,
                    26.67622501097127,
                    24.07490295540003,
                    30.718342775358135,
                    30.39525790144278,
                    32.00877534205132,
                    30.633426339860083,
                    31.133097837323294,
                    29.997281319869128,
                    28.892298352184174,
                    34.55003397566966,
                    34.38641869574245,
                    34.708958732809734,
                    33.51795534137331,
                    33.68317728271235,
                    33.36848162933049,
                    32.96799185251656,
                    32.91049813676764,
                    34.52161273588757,
                    34.581304008750635,
                    34.420102094822994,
                    27.996781980639245,
                    28.20405941397279,
                    30.75562708263215,
                    28.99004266259256,
                    30.06718711617174,
                    31.930443873054724,
                    28.47674719563044,
                    29.336024231572086,
                    34.27106486594403,
                    32.320657670831736,
                    30.5621268122586,
                    29.976004211080554
                  ],
                  "xaxis": "x",
                  "y": [
                    18,
                    15,
                    18,
                    16,
                    17,
                    15,
                    14,
                    14,
                    14,
                    15,
                    15,
                    14,
                    15,
                    14,
                    24,
                    22,
                    18,
                    21,
                    27,
                    26,
                    25,
                    24,
                    25,
                    26,
                    21,
                    10,
                    10,
                    11,
                    9,
                    27,
                    28,
                    25,
                    19,
                    16,
                    17,
                    19,
                    18,
                    14,
                    14,
                    14,
                    14,
                    12,
                    13,
                    13,
                    18,
                    22,
                    19,
                    18,
                    23,
                    28,
                    30,
                    30,
                    31,
                    35,
                    27,
                    26,
                    24,
                    25,
                    23,
                    20,
                    21,
                    13,
                    14,
                    15,
                    14,
                    17,
                    11,
                    13,
                    12,
                    13,
                    19,
                    15,
                    13,
                    13,
                    14,
                    18,
                    22,
                    21,
                    26,
                    22,
                    28,
                    23,
                    28,
                    27,
                    13,
                    14,
                    13,
                    14,
                    15,
                    12,
                    13,
                    13,
                    14,
                    13,
                    12,
                    13,
                    18,
                    16,
                    18,
                    18,
                    23,
                    26,
                    11,
                    12,
                    13,
                    12,
                    18,
                    20,
                    21,
                    22,
                    18,
                    19,
                    21,
                    26,
                    15,
                    16,
                    29,
                    24,
                    20,
                    19,
                    15,
                    24,
                    20,
                    11,
                    20,
                    19,
                    15,
                    31,
                    26,
                    32,
                    25,
                    16,
                    16,
                    18,
                    16,
                    13,
                    14,
                    14,
                    14,
                    29,
                    26,
                    26,
                    31,
                    32,
                    28,
                    24,
                    26,
                    24,
                    26,
                    31,
                    19,
                    18,
                    15,
                    15,
                    16,
                    15,
                    16,
                    14,
                    17,
                    16,
                    15,
                    18,
                    21,
                    20,
                    13,
                    29,
                    23,
                    20,
                    23,
                    24,
                    25,
                    24,
                    18,
                    29,
                    19,
                    23,
                    23,
                    22,
                    25,
                    33,
                    28,
                    25,
                    25,
                    26,
                    27,
                    17.5,
                    16,
                    15.5,
                    14.5,
                    22,
                    22,
                    24,
                    22.5,
                    29,
                    24.5,
                    29,
                    33,
                    20,
                    18,
                    18.5,
                    17.5,
                    29.5,
                    32,
                    28,
                    26.5,
                    20,
                    13,
                    19,
                    19,
                    16.5,
                    16.5,
                    13,
                    13,
                    13,
                    31.5,
                    30,
                    36,
                    25.5,
                    33.5,
                    17.5,
                    17,
                    15.5,
                    15,
                    17.5,
                    20.5,
                    19,
                    18.5,
                    16,
                    15.5,
                    15.5,
                    16,
                    29,
                    24.5,
                    26,
                    25.5,
                    30.5,
                    33.5,
                    30,
                    30.5,
                    22,
                    21.5,
                    21.5,
                    43.1,
                    36.1,
                    32.8,
                    39.4,
                    36.1,
                    19.9,
                    19.4,
                    20.2,
                    19.2,
                    20.5,
                    20.2,
                    25.1,
                    20.5,
                    19.4,
                    20.6,
                    20.8,
                    18.6,
                    18.1,
                    19.2,
                    17.7,
                    18.1,
                    17.5,
                    30,
                    27.5,
                    27.2,
                    30.9,
                    21.1,
                    23.2,
                    23.8,
                    23.9,
                    20.3,
                    17,
                    21.6,
                    16.2,
                    31.5,
                    29.5,
                    21.5,
                    19.8,
                    22.3,
                    20.2,
                    20.6,
                    17,
                    17.6,
                    16.5,
                    18.2,
                    16.9,
                    15.5,
                    19.2,
                    18.5,
                    31.9,
                    34.1,
                    35.7,
                    27.4,
                    25.4,
                    23,
                    27.2,
                    23.9,
                    34.2,
                    34.5,
                    31.8,
                    37.3,
                    28.4,
                    28.8,
                    26.8,
                    33.5,
                    41.5,
                    38.1,
                    32.1,
                    37.2,
                    28,
                    26.4,
                    24.3,
                    19.1,
                    34.3,
                    29.8,
                    31.3,
                    37,
                    32.2,
                    46.6,
                    27.9,
                    40.8,
                    44.3,
                    43.4,
                    36.4,
                    30,
                    44.6,
                    33.8,
                    29.8,
                    32.7,
                    23.7,
                    35,
                    32.4,
                    27.2,
                    26.6,
                    25.8,
                    23.5,
                    30,
                    39.1,
                    39,
                    35.1,
                    32.3,
                    37,
                    37.7,
                    34.1,
                    34.7,
                    34.4,
                    29.9,
                    33,
                    33.7,
                    32.4,
                    32.9,
                    31.6,
                    28.1,
                    30.7,
                    25.4,
                    24.2,
                    22.4,
                    26.6,
                    20.2,
                    17.6,
                    28,
                    27,
                    34,
                    31,
                    29,
                    27,
                    24,
                    36,
                    37,
                    31,
                    38,
                    36,
                    36,
                    36,
                    34,
                    38,
                    32,
                    38,
                    25,
                    38,
                    26,
                    22,
                    32,
                    36,
                    27,
                    27,
                    44,
                    32,
                    28,
                    31
                  ],
                  "yaxis": "y"
                },
                {
                  "mode": "lines",
                  "name": "y = yhat",
                  "type": "scatter",
                  "x": [
                    5.4167743299380255,
                    46.6
                  ],
                  "xaxis": "x",
                  "y": [
                    5.4167743299380255,
                    46.6
                  ],
                  "yaxis": "y"
                },
                {
                  "name": "RMSE",
                  "type": "bar",
                  "x": [
                    "Basic Linear Regression"
                  ],
                  "xaxis": "x2",
                  "y": [
                    3.4044340177796406
                  ],
                  "yaxis": "y2"
                }
              ],
              "layout": {
                "annotations": [
                  {
                    "font": {
                      "size": 16
                    },
                    "showarrow": false,
                    "text": "Actual vs Predicted MPG",
                    "x": 0.225,
                    "xanchor": "center",
                    "xref": "paper",
                    "y": 1,
                    "yanchor": "bottom",
                    "yref": "paper"
                  },
                  {
                    "font": {
                      "size": 16
                    },
                    "showarrow": false,
                    "text": "Model RMSE Comparison",
                    "x": 0.775,
                    "xanchor": "center",
                    "xref": "paper",
                    "y": 1,
                    "yanchor": "bottom",
                    "yref": "paper"
                  }
                ],
                "height": 600,
                "showlegend": false,
                "template": {
                  "data": {
                    "bar": [
                      {
                        "error_x": {
                          "color": "#2a3f5f"
                        },
                        "error_y": {
                          "color": "#2a3f5f"
                        },
                        "marker": {
                          "line": {
                            "color": "#E5ECF6",
                            "width": 0.5
                          },
                          "pattern": {
                            "fillmode": "overlay",
                            "size": 10,
                            "solidity": 0.2
                          }
                        },
                        "type": "bar"
                      }
                    ],
                    "barpolar": [
                      {
                        "marker": {
                          "line": {
                            "color": "#E5ECF6",
                            "width": 0.5
                          },
                          "pattern": {
                            "fillmode": "overlay",
                            "size": 10,
                            "solidity": 0.2
                          }
                        },
                        "type": "barpolar"
                      }
                    ],
                    "carpet": [
                      {
                        "aaxis": {
                          "endlinecolor": "#2a3f5f",
                          "gridcolor": "white",
                          "linecolor": "white",
                          "minorgridcolor": "white",
                          "startlinecolor": "#2a3f5f"
                        },
                        "baxis": {
                          "endlinecolor": "#2a3f5f",
                          "gridcolor": "white",
                          "linecolor": "white",
                          "minorgridcolor": "white",
                          "startlinecolor": "#2a3f5f"
                        },
                        "type": "carpet"
                      }
                    ],
                    "choropleth": [
                      {
                        "colorbar": {
                          "outlinewidth": 0,
                          "ticks": ""
                        },
                        "type": "choropleth"
                      }
                    ],
                    "contour": [
                      {
                        "colorbar": {
                          "outlinewidth": 0,
                          "ticks": ""
                        },
                        "colorscale": [
                          [
                            0,
                            "#0d0887"
                          ],
                          [
                            0.1111111111111111,
                            "#46039f"
                          ],
                          [
                            0.2222222222222222,
                            "#7201a8"
                          ],
                          [
                            0.3333333333333333,
                            "#9c179e"
                          ],
                          [
                            0.4444444444444444,
                            "#bd3786"
                          ],
                          [
                            0.5555555555555556,
                            "#d8576b"
                          ],
                          [
                            0.6666666666666666,
                            "#ed7953"
                          ],
                          [
                            0.7777777777777778,
                            "#fb9f3a"
                          ],
                          [
                            0.8888888888888888,
                            "#fdca26"
                          ],
                          [
                            1,
                            "#f0f921"
                          ]
                        ],
                        "type": "contour"
                      }
                    ],
                    "contourcarpet": [
                      {
                        "colorbar": {
                          "outlinewidth": 0,
                          "ticks": ""
                        },
                        "type": "contourcarpet"
                      }
                    ],
                    "heatmap": [
                      {
                        "colorbar": {
                          "outlinewidth": 0,
                          "ticks": ""
                        },
                        "colorscale": [
                          [
                            0,
                            "#0d0887"
                          ],
                          [
                            0.1111111111111111,
                            "#46039f"
                          ],
                          [
                            0.2222222222222222,
                            "#7201a8"
                          ],
                          [
                            0.3333333333333333,
                            "#9c179e"
                          ],
                          [
                            0.4444444444444444,
                            "#bd3786"
                          ],
                          [
                            0.5555555555555556,
                            "#d8576b"
                          ],
                          [
                            0.6666666666666666,
                            "#ed7953"
                          ],
                          [
                            0.7777777777777778,
                            "#fb9f3a"
                          ],
                          [
                            0.8888888888888888,
                            "#fdca26"
                          ],
                          [
                            1,
                            "#f0f921"
                          ]
                        ],
                        "type": "heatmap"
                      }
                    ],
                    "heatmapgl": [
                      {
                        "colorbar": {
                          "outlinewidth": 0,
                          "ticks": ""
                        },
                        "colorscale": [
                          [
                            0,
                            "#0d0887"
                          ],
                          [
                            0.1111111111111111,
                            "#46039f"
                          ],
                          [
                            0.2222222222222222,
                            "#7201a8"
                          ],
                          [
                            0.3333333333333333,
                            "#9c179e"
                          ],
                          [
                            0.4444444444444444,
                            "#bd3786"
                          ],
                          [
                            0.5555555555555556,
                            "#d8576b"
                          ],
                          [
                            0.6666666666666666,
                            "#ed7953"
                          ],
                          [
                            0.7777777777777778,
                            "#fb9f3a"
                          ],
                          [
                            0.8888888888888888,
                            "#fdca26"
                          ],
                          [
                            1,
                            "#f0f921"
                          ]
                        ],
                        "type": "heatmapgl"
                      }
                    ],
                    "histogram": [
                      {
                        "marker": {
                          "pattern": {
                            "fillmode": "overlay",
                            "size": 10,
                            "solidity": 0.2
                          }
                        },
                        "type": "histogram"
                      }
                    ],
                    "histogram2d": [
                      {
                        "colorbar": {
                          "outlinewidth": 0,
                          "ticks": ""
                        },
                        "colorscale": [
                          [
                            0,
                            "#0d0887"
                          ],
                          [
                            0.1111111111111111,
                            "#46039f"
                          ],
                          [
                            0.2222222222222222,
                            "#7201a8"
                          ],
                          [
                            0.3333333333333333,
                            "#9c179e"
                          ],
                          [
                            0.4444444444444444,
                            "#bd3786"
                          ],
                          [
                            0.5555555555555556,
                            "#d8576b"
                          ],
                          [
                            0.6666666666666666,
                            "#ed7953"
                          ],
                          [
                            0.7777777777777778,
                            "#fb9f3a"
                          ],
                          [
                            0.8888888888888888,
                            "#fdca26"
                          ],
                          [
                            1,
                            "#f0f921"
                          ]
                        ],
                        "type": "histogram2d"
                      }
                    ],
                    "histogram2dcontour": [
                      {
                        "colorbar": {
                          "outlinewidth": 0,
                          "ticks": ""
                        },
                        "colorscale": [
                          [
                            0,
                            "#0d0887"
                          ],
                          [
                            0.1111111111111111,
                            "#46039f"
                          ],
                          [
                            0.2222222222222222,
                            "#7201a8"
                          ],
                          [
                            0.3333333333333333,
                            "#9c179e"
                          ],
                          [
                            0.4444444444444444,
                            "#bd3786"
                          ],
                          [
                            0.5555555555555556,
                            "#d8576b"
                          ],
                          [
                            0.6666666666666666,
                            "#ed7953"
                          ],
                          [
                            0.7777777777777778,
                            "#fb9f3a"
                          ],
                          [
                            0.8888888888888888,
                            "#fdca26"
                          ],
                          [
                            1,
                            "#f0f921"
                          ]
                        ],
                        "type": "histogram2dcontour"
                      }
                    ],
                    "mesh3d": [
                      {
                        "colorbar": {
                          "outlinewidth": 0,
                          "ticks": ""
                        },
                        "type": "mesh3d"
                      }
                    ],
                    "parcoords": [
                      {
                        "line": {
                          "colorbar": {
                            "outlinewidth": 0,
                            "ticks": ""
                          }
                        },
                        "type": "parcoords"
                      }
                    ],
                    "pie": [
                      {
                        "automargin": true,
                        "type": "pie"
                      }
                    ],
                    "scatter": [
                      {
                        "fillpattern": {
                          "fillmode": "overlay",
                          "size": 10,
                          "solidity": 0.2
                        },
                        "type": "scatter"
                      }
                    ],
                    "scatter3d": [
                      {
                        "line": {
                          "colorbar": {
                            "outlinewidth": 0,
                            "ticks": ""
                          }
                        },
                        "marker": {
                          "colorbar": {
                            "outlinewidth": 0,
                            "ticks": ""
                          }
                        },
                        "type": "scatter3d"
                      }
                    ],
                    "scattercarpet": [
                      {
                        "marker": {
                          "colorbar": {
                            "outlinewidth": 0,
                            "ticks": ""
                          }
                        },
                        "type": "scattercarpet"
                      }
                    ],
                    "scattergeo": [
                      {
                        "marker": {
                          "colorbar": {
                            "outlinewidth": 0,
                            "ticks": ""
                          }
                        },
                        "type": "scattergeo"
                      }
                    ],
                    "scattergl": [
                      {
                        "marker": {
                          "colorbar": {
                            "outlinewidth": 0,
                            "ticks": ""
                          }
                        },
                        "type": "scattergl"
                      }
                    ],
                    "scattermapbox": [
                      {
                        "marker": {
                          "colorbar": {
                            "outlinewidth": 0,
                            "ticks": ""
                          }
                        },
                        "type": "scattermapbox"
                      }
                    ],
                    "scatterpolar": [
                      {
                        "marker": {
                          "colorbar": {
                            "outlinewidth": 0,
                            "ticks": ""
                          }
                        },
                        "type": "scatterpolar"
                      }
                    ],
                    "scatterpolargl": [
                      {
                        "marker": {
                          "colorbar": {
                            "outlinewidth": 0,
                            "ticks": ""
                          }
                        },
                        "type": "scatterpolargl"
                      }
                    ],
                    "scatterternary": [
                      {
                        "marker": {
                          "colorbar": {
                            "outlinewidth": 0,
                            "ticks": ""
                          }
                        },
                        "type": "scatterternary"
                      }
                    ],
                    "surface": [
                      {
                        "colorbar": {
                          "outlinewidth": 0,
                          "ticks": ""
                        },
                        "colorscale": [
                          [
                            0,
                            "#0d0887"
                          ],
                          [
                            0.1111111111111111,
                            "#46039f"
                          ],
                          [
                            0.2222222222222222,
                            "#7201a8"
                          ],
                          [
                            0.3333333333333333,
                            "#9c179e"
                          ],
                          [
                            0.4444444444444444,
                            "#bd3786"
                          ],
                          [
                            0.5555555555555556,
                            "#d8576b"
                          ],
                          [
                            0.6666666666666666,
                            "#ed7953"
                          ],
                          [
                            0.7777777777777778,
                            "#fb9f3a"
                          ],
                          [
                            0.8888888888888888,
                            "#fdca26"
                          ],
                          [
                            1,
                            "#f0f921"
                          ]
                        ],
                        "type": "surface"
                      }
                    ],
                    "table": [
                      {
                        "cells": {
                          "fill": {
                            "color": "#EBF0F8"
                          },
                          "line": {
                            "color": "white"
                          }
                        },
                        "header": {
                          "fill": {
                            "color": "#C8D4E3"
                          },
                          "line": {
                            "color": "white"
                          }
                        },
                        "type": "table"
                      }
                    ]
                  },
                  "layout": {
                    "annotationdefaults": {
                      "arrowcolor": "#2a3f5f",
                      "arrowhead": 0,
                      "arrowwidth": 1
                    },
                    "autotypenumbers": "strict",
                    "coloraxis": {
                      "colorbar": {
                        "outlinewidth": 0,
                        "ticks": ""
                      }
                    },
                    "colorscale": {
                      "diverging": [
                        [
                          0,
                          "#8e0152"
                        ],
                        [
                          0.1,
                          "#c51b7d"
                        ],
                        [
                          0.2,
                          "#de77ae"
                        ],
                        [
                          0.3,
                          "#f1b6da"
                        ],
                        [
                          0.4,
                          "#fde0ef"
                        ],
                        [
                          0.5,
                          "#f7f7f7"
                        ],
                        [
                          0.6,
                          "#e6f5d0"
                        ],
                        [
                          0.7,
                          "#b8e186"
                        ],
                        [
                          0.8,
                          "#7fbc41"
                        ],
                        [
                          0.9,
                          "#4d9221"
                        ],
                        [
                          1,
                          "#276419"
                        ]
                      ],
                      "sequential": [
                        [
                          0,
                          "#0d0887"
                        ],
                        [
                          0.1111111111111111,
                          "#46039f"
                        ],
                        [
                          0.2222222222222222,
                          "#7201a8"
                        ],
                        [
                          0.3333333333333333,
                          "#9c179e"
                        ],
                        [
                          0.4444444444444444,
                          "#bd3786"
                        ],
                        [
                          0.5555555555555556,
                          "#d8576b"
                        ],
                        [
                          0.6666666666666666,
                          "#ed7953"
                        ],
                        [
                          0.7777777777777778,
                          "#fb9f3a"
                        ],
                        [
                          0.8888888888888888,
                          "#fdca26"
                        ],
                        [
                          1,
                          "#f0f921"
                        ]
                      ],
                      "sequentialminus": [
                        [
                          0,
                          "#0d0887"
                        ],
                        [
                          0.1111111111111111,
                          "#46039f"
                        ],
                        [
                          0.2222222222222222,
                          "#7201a8"
                        ],
                        [
                          0.3333333333333333,
                          "#9c179e"
                        ],
                        [
                          0.4444444444444444,
                          "#bd3786"
                        ],
                        [
                          0.5555555555555556,
                          "#d8576b"
                        ],
                        [
                          0.6666666666666666,
                          "#ed7953"
                        ],
                        [
                          0.7777777777777778,
                          "#fb9f3a"
                        ],
                        [
                          0.8888888888888888,
                          "#fdca26"
                        ],
                        [
                          1,
                          "#f0f921"
                        ]
                      ]
                    },
                    "colorway": [
                      "#636efa",
                      "#EF553B",
                      "#00cc96",
                      "#ab63fa",
                      "#FFA15A",
                      "#19d3f3",
                      "#FF6692",
                      "#B6E880",
                      "#FF97FF",
                      "#FECB52"
                    ],
                    "font": {
                      "color": "#2a3f5f"
                    },
                    "geo": {
                      "bgcolor": "white",
                      "lakecolor": "white",
                      "landcolor": "#E5ECF6",
                      "showlakes": true,
                      "showland": true,
                      "subunitcolor": "white"
                    },
                    "hoverlabel": {
                      "align": "left"
                    },
                    "hovermode": "closest",
                    "mapbox": {
                      "style": "light"
                    },
                    "paper_bgcolor": "white",
                    "plot_bgcolor": "#E5ECF6",
                    "polar": {
                      "angularaxis": {
                        "gridcolor": "white",
                        "linecolor": "white",
                        "ticks": ""
                      },
                      "bgcolor": "#E5ECF6",
                      "radialaxis": {
                        "gridcolor": "white",
                        "linecolor": "white",
                        "ticks": ""
                      }
                    },
                    "scene": {
                      "xaxis": {
                        "backgroundcolor": "#E5ECF6",
                        "gridcolor": "white",
                        "gridwidth": 2,
                        "linecolor": "white",
                        "showbackground": true,
                        "ticks": "",
                        "zerolinecolor": "white"
                      },
                      "yaxis": {
                        "backgroundcolor": "#E5ECF6",
                        "gridcolor": "white",
                        "gridwidth": 2,
                        "linecolor": "white",
                        "showbackground": true,
                        "ticks": "",
                        "zerolinecolor": "white"
                      },
                      "zaxis": {
                        "backgroundcolor": "#E5ECF6",
                        "gridcolor": "white",
                        "gridwidth": 2,
                        "linecolor": "white",
                        "showbackground": true,
                        "ticks": "",
                        "zerolinecolor": "white"
                      }
                    },
                    "shapedefaults": {
                      "line": {
                        "color": "#2a3f5f"
                      }
                    },
                    "ternary": {
                      "aaxis": {
                        "gridcolor": "white",
                        "linecolor": "white",
                        "ticks": ""
                      },
                      "baxis": {
                        "gridcolor": "white",
                        "linecolor": "white",
                        "ticks": ""
                      },
                      "bgcolor": "#E5ECF6",
                      "caxis": {
                        "gridcolor": "white",
                        "linecolor": "white",
                        "ticks": ""
                      }
                    },
                    "title": {
                      "x": 0.05
                    },
                    "xaxis": {
                      "automargin": true,
                      "gridcolor": "white",
                      "linecolor": "white",
                      "ticks": "",
                      "title": {
                        "standoff": 15
                      },
                      "zerolinecolor": "white",
                      "zerolinewidth": 2
                    },
                    "yaxis": {
                      "automargin": true,
                      "gridcolor": "white",
                      "linecolor": "white",
                      "ticks": "",
                      "title": {
                        "standoff": 15
                      },
                      "zerolinecolor": "white",
                      "zerolinewidth": 2
                    }
                  }
                },
                "width": 1000,
                "xaxis": {
                  "anchor": "y",
                  "domain": [
                    0,
                    0.45
                  ],
                  "title": {
                    "text": "Predicted MPG (Yhat)"
                  }
                },
                "xaxis2": {
                  "anchor": "y2",
                  "domain": [
                    0.55,
                    1
                  ]
                },
                "yaxis": {
                  "anchor": "x",
                  "domain": [
                    0,
                    1
                  ],
                  "title": {
                    "text": "Actual MPG (Y)"
                  }
                },
                "yaxis2": {
                  "anchor": "x2",
                  "domain": [
                    0,
                    1
                  ],
                  "title": {
                    "text": "RMSE"
                  }
                }
              }
            }
          },
          "metadata": {},
          "output_type": "display_data"
        }
      ],
      "source": [
        "# Initialize the models dictionary\n",
        "models = {}\n",
        "\n",
        "# Initialize the Linear Regression model\n",
        "basic_model = LinearRegression()\n",
        "\n",
        "# Evaluate the basic model\n",
        "evaluate_model(\"Basic Linear Regression\", basic_model, basic_design_matrix, data, models)"
      ]
    },
    {
      "cell_type": "markdown",
      "metadata": {},
      "source": [
        "### *5.3 ~ Evaluating the Nonlinear Model*\n",
        "\n",
        "Next, we evaluate a model that includes nonlinear transformations of the features."
      ]
    },
    {
      "cell_type": "code",
      "execution_count": 11,
      "metadata": {},
      "outputs": [
        {
          "name": "stdout",
          "output_type": "stream",
          "text": [
            "Model: Nonlinear Linear Regression\n",
            "Root Mean Squared Error (RMSE): 2.4964\n",
            "\n"
          ]
        },
        {
          "data": {
            "application/vnd.plotly.v1+json": {
              "config": {
                "plotlyServerURL": "https://plot.ly"
              },
              "data": [
                {
                  "mode": "markers",
                  "name": "Nonlinear Linear Regression",
                  "type": "scatter",
                  "x": [
                    17.418062709044534,
                    15.18301310937386,
                    16.619099536048452,
                    15.490173336473163,
                    17.299961502136284,
                    13.705064639252669,
                    13.732000193296699,
                    13.762970700061487,
                    14.302259241831052,
                    13.795541110937847,
                    15.200283455869794,
                    15.288312211996526,
                    16.60939791232704,
                    14.744541832449613,
                    25.08656100355256,
                    19.69995324363117,
                    20.023052199696394,
                    21.5535992376972,
                    27.986024880196055,
                    30.949029194991454,
                    23.722825370896317,
                    25.705284044135624,
                    25.226846439072688,
                    25.520715324542834,
                    21.18527456691845,
                    11.617557793601009,
                    11.254168479232249,
                    12.247649882974656,
                    9.889717398127686,
                    26.569806681554837,
                    22.692206410438303,
                    24.840880953521264,
                    20.358768895837784,
                    16.17743557560061,
                    16.740899382881253,
                    17.574361658136695,
                    16.625318153748594,
                    13.61320926496046,
                    13.300929480556078,
                    12.936519373633928,
                    13.524780404239209,
                    12.558464547724725,
                    13.113680661044782,
                    11.825225449141726,
                    17.6749272455163,
                    22.081649339768774,
                    16.94947579635118,
                    18.270562200103086,
                    24.70198080729824,
                    25.28865290574322,
                    28.821744056960597,
                    28.660849914404025,
                    30.501692081346846,
                    29.767706469512632,
                    27.668912841527344,
                    27.395664439762186,
                    23.726747966107723,
                    26.273149326505518,
                    29.739520144599737,
                    20.498372753196236,
                    23.602913769771476,
                    13.399861051630069,
                    12.600091529284327,
                    12.833095763673555,
                    13.125280002806903,
                    14.090925881011572,
                    11.840428595261983,
                    12.763403277202087,
                    12.396504935057237,
                    11.523797097217539,
                    18.342160418955245,
                    13.238345384726927,
                    14.012083794461432,
                    12.325032760965769,
                    12.402578409071793,
                    19.082044259697795,
                    22.360973670087333,
                    19.1763465171407,
                    26.298422424008095,
                    22.908500602976346,
                    24.752500781618437,
                    22.200696502242863,
                    26.64250422967416,
                    25.89478523913749,
                    12.110839546191528,
                    14.544139931283098,
                    14.158668608520202,
                    13.233174659343604,
                    14.040715702604757,
                    11.510872719692088,
                    14.796999122328089,
                    13.369109860307617,
                    12.67194091413603,
                    12.52087318746544,
                    12.3959144206774,
                    13.112815307248638,
                    16.802526741048496,
                    16.360302194443648,
                    17.670382116818473,
                    18.29392707286661,
                    18.10658567682094,
                    29.94265182647996,
                    12.418090033525914,
                    12.77377018507741,
                    12.10205866465094,
                    12.585849863705334,
                    18.50534404451446,
                    24.711387491845926,
                    22.16663876653456,
                    23.66078676836969,
                    20.124060686265693,
                    23.043764122691755,
                    20.763063657449493,
                    25.926648981340804,
                    14.224842514779994,
                    14.405902113227967,
                    33.630969660603114,
                    25.67658816992025,
                    23.287190124919107,
                    19.437303954501658,
                    15.444243653927515,
                    21.13024728849905,
                    18.468845481634162,
                    13.382264081649737,
                    17.963363658828712,
                    18.421340660114765,
                    17.217231096964497,
                    30.24022459113894,
                    23.97416343101486,
                    31.5302061853572,
                    22.804809845801174,
                    16.944933245448738,
                    15.540421507980682,
                    16.661862202657176,
                    13.985496108635743,
                    13.456528085390346,
                    14.076332318217283,
                    13.44904914718336,
                    12.549803805716692,
                    26.98189860455659,
                    31.332822385004874,
                    27.300770099439433,
                    32.31160283479312,
                    29.725552590901316,
                    28.829825011850517,
                    28.553028352028377,
                    26.541757635092836,
                    23.114885666206646,
                    24.425433694436833,
                    31.17372733422144,
                    18.30690350967143,
                    17.38020058940765,
                    18.71483390431149,
                    18.944141001388743,
                    14.84923776882988,
                    14.661597361427084,
                    13.867711864591001,
                    14.737578639454114,
                    16.047821458952058,
                    16.497894858203836,
                    15.560356247339769,
                    16.885986099975526,
                    18.09237980809212,
                    17.675777265979377,
                    17.547618026143937,
                    28.083621761475115,
                    22.291960955012655,
                    18.83877898614537,
                    22.237652165688814,
                    22.75135875711112,
                    28.7042916809487,
                    23.19549862801523,
                    19.151383528723272,
                    30.424833612984912,
                    18.415006076754253,
                    22.950071443829984,
                    21.674701813700267,
                    21.525965057019675,
                    22.175501174263445,
                    31.05574037688075,
                    25.79649912968125,
                    26.341601021356837,
                    23.011334851384163,
                    27.71405333997609,
                    27.723821793591924,
                    16.09200625401536,
                    15.388923252199675,
                    16.44260469042092,
                    15.518128323965357,
                    18.67463573484929,
                    18.484792735931478,
                    20.00077317981777,
                    19.07357574803973,
                    32.94907202381546,
                    30.07625242271024,
                    30.83100161708353,
                    31.62977311956638,
                    17.641833596946526,
                    18.731797110562184,
                    17.42686497213799,
                    18.216919439977573,
                    31.911139226582236,
                    30.866748981599812,
                    28.612746619593963,
                    25.155166902544806,
                    20.86666885404884,
                    15.01451107032699,
                    21.396914644619756,
                    19.589402719755526,
                    16.936088251823094,
                    14.521543589879002,
                    16.766493298389832,
                    15.08220758680909,
                    14.286128349396677,
                    29.8848461534717,
                    28.767077229676033,
                    33.27167002196711,
                    25.867723512487828,
                    31.968158274142297,
                    16.93097045014565,
                    16.251342321374068,
                    16.11332069175387,
                    16.389246952868234,
                    18.43254803922082,
                    18.71967051034062,
                    18.634779819293726,
                    18.30569748139078,
                    15.946533049150275,
                    16.511356952597453,
                    14.786898787638165,
                    15.435651421771581,
                    30.468308751030236,
                    23.084369559207516,
                    28.53752906684258,
                    23.1378010297949,
                    30.907113199581545,
                    29.603396129946304,
                    30.677320222180242,
                    30.000796032342805,
                    21.86647765113503,
                    25.047101097979066,
                    17.400223681869647,
                    34.59536761599793,
                    33.0428858644691,
                    35.10261184418323,
                    32.54314629399505,
                    33.58940592678391,
                    18.989383589118916,
                    18.281574575149534,
                    18.457952354950066,
                    19.255522114547603,
                    20.96906875327386,
                    22.87766717185059,
                    24.966732082363706,
                    20.496512361735768,
                    21.420119407996935,
                    20.53424840333082,
                    22.374254741253935,
                    19.036196491450937,
                    19.273037478752485,
                    17.898723814242658,
                    17.08389920847094,
                    20.357809130316127,
                    18.0087435233645,
                    31.784144150616157,
                    26.020006897461826,
                    27.989951803053373,
                    30.97459281849933,
                    25.936353837622846,
                    23.504620915754458,
                    23.918901254349294,
                    27.41409847020168,
                    26.460552963376358,
                    20.81433709531757,
                    23.619949408060165,
                    18.68400272260169,
                    32.99734202442323,
                    31.840744286381778,
                    21.90093890814387,
                    23.83835167815778,
                    25.591002384950116,
                    22.651592920534313,
                    21.806888647155574,
                    19.412934192281682,
                    20.39203091809759,
                    20.29763686714432,
                    19.21280093076348,
                    18.164073669213394,
                    19.18201703203158,
                    19.718455099628045,
                    19.035405175844062,
                    35.29975136884241,
                    36.00453747531901,
                    33.83781839054245,
                    28.42330203561869,
                    25.321548294279637,
                    19.630819474306918,
                    29.288688017171808,
                    22.075766866844788,
                    34.18320334474265,
                    33.245798778334574,
                    34.5916759139036,
                    34.53628237258454,
                    26.57772743253736,
                    27.317848099388357,
                    25.3933769847863,
                    28.51698961128932,
                    34.80717400445519,
                    35.87632753514936,
                    35.08035854219361,
                    37.05476913489201,
                    27.819018296803733,
                    26.71967499317998,
                    25.40386287290403,
                    23.72075869498167,
                    34.03604057819484,
                    28.24813709670798,
                    30.3297991302652,
                    30.660525308922843,
                    32.91423607057823,
                    36.33585754358592,
                    27.00270385319982,
                    35.70815739894988,
                    37.642890027044814,
                    38.78899015337538,
                    30.31863740258723,
                    27.160612833086816,
                    37.08004398566936,
                    34.36904629625951,
                    36.808936195514434,
                    26.211398574542727,
                    26.333700694333857,
                    30.16530324202631,
                    32.931668416707,
                    30.43563456305128,
                    29.037376245167252,
                    29.29803446220103,
                    27.917227245354297,
                    32.586627797536494,
                    39.05938436416909,
                    37.92765912631512,
                    38.763646934177814,
                    35.342713679823646,
                    36.609990398716036,
                    36.750540113440366,
                    36.65635803217447,
                    35.54864049201569,
                    36.205151721387665,
                    33.83850756808897,
                    35.105774100524286,
                    34.37203552818028,
                    32.8157487552744,
                    29.940203035130253,
                    30.209233429886808,
                    26.335333105311292,
                    25.914578157251526,
                    27.04609867061663,
                    25.501323957065324,
                    23.884024045895785,
                    22.36233041124433,
                    25.844832624654373,
                    25.328276547537826,
                    29.836396226969555,
                    29.998206215544087,
                    31.466868568496466,
                    31.321881925659,
                    30.153891579623632,
                    27.624145099621273,
                    27.5729495947171,
                    35.217602478563094,
                    35.83462236874493,
                    36.208895587170446,
                    35.90978602037012,
                    35.22258154673273,
                    32.61713380972742,
                    34.27517275282389,
                    33.58485607129933,
                    36.93375976770858,
                    36.761613633218985,
                    36.619489585385054,
                    25.011537984250936,
                    26.20346052397599,
                    29.348493506587147,
                    25.362953861186725,
                    29.334852758715897,
                    32.492733318006685,
                    27.04258359533651,
                    28.401725841694315,
                    39.99169881688522,
                    34.16311491541728,
                    29.732227998482813,
                    29.13308616478298
                  ],
                  "xaxis": "x",
                  "y": [
                    18,
                    15,
                    18,
                    16,
                    17,
                    15,
                    14,
                    14,
                    14,
                    15,
                    15,
                    14,
                    15,
                    14,
                    24,
                    22,
                    18,
                    21,
                    27,
                    26,
                    25,
                    24,
                    25,
                    26,
                    21,
                    10,
                    10,
                    11,
                    9,
                    27,
                    28,
                    25,
                    19,
                    16,
                    17,
                    19,
                    18,
                    14,
                    14,
                    14,
                    14,
                    12,
                    13,
                    13,
                    18,
                    22,
                    19,
                    18,
                    23,
                    28,
                    30,
                    30,
                    31,
                    35,
                    27,
                    26,
                    24,
                    25,
                    23,
                    20,
                    21,
                    13,
                    14,
                    15,
                    14,
                    17,
                    11,
                    13,
                    12,
                    13,
                    19,
                    15,
                    13,
                    13,
                    14,
                    18,
                    22,
                    21,
                    26,
                    22,
                    28,
                    23,
                    28,
                    27,
                    13,
                    14,
                    13,
                    14,
                    15,
                    12,
                    13,
                    13,
                    14,
                    13,
                    12,
                    13,
                    18,
                    16,
                    18,
                    18,
                    23,
                    26,
                    11,
                    12,
                    13,
                    12,
                    18,
                    20,
                    21,
                    22,
                    18,
                    19,
                    21,
                    26,
                    15,
                    16,
                    29,
                    24,
                    20,
                    19,
                    15,
                    24,
                    20,
                    11,
                    20,
                    19,
                    15,
                    31,
                    26,
                    32,
                    25,
                    16,
                    16,
                    18,
                    16,
                    13,
                    14,
                    14,
                    14,
                    29,
                    26,
                    26,
                    31,
                    32,
                    28,
                    24,
                    26,
                    24,
                    26,
                    31,
                    19,
                    18,
                    15,
                    15,
                    16,
                    15,
                    16,
                    14,
                    17,
                    16,
                    15,
                    18,
                    21,
                    20,
                    13,
                    29,
                    23,
                    20,
                    23,
                    24,
                    25,
                    24,
                    18,
                    29,
                    19,
                    23,
                    23,
                    22,
                    25,
                    33,
                    28,
                    25,
                    25,
                    26,
                    27,
                    17.5,
                    16,
                    15.5,
                    14.5,
                    22,
                    22,
                    24,
                    22.5,
                    29,
                    24.5,
                    29,
                    33,
                    20,
                    18,
                    18.5,
                    17.5,
                    29.5,
                    32,
                    28,
                    26.5,
                    20,
                    13,
                    19,
                    19,
                    16.5,
                    16.5,
                    13,
                    13,
                    13,
                    31.5,
                    30,
                    36,
                    25.5,
                    33.5,
                    17.5,
                    17,
                    15.5,
                    15,
                    17.5,
                    20.5,
                    19,
                    18.5,
                    16,
                    15.5,
                    15.5,
                    16,
                    29,
                    24.5,
                    26,
                    25.5,
                    30.5,
                    33.5,
                    30,
                    30.5,
                    22,
                    21.5,
                    21.5,
                    43.1,
                    36.1,
                    32.8,
                    39.4,
                    36.1,
                    19.9,
                    19.4,
                    20.2,
                    19.2,
                    20.5,
                    20.2,
                    25.1,
                    20.5,
                    19.4,
                    20.6,
                    20.8,
                    18.6,
                    18.1,
                    19.2,
                    17.7,
                    18.1,
                    17.5,
                    30,
                    27.5,
                    27.2,
                    30.9,
                    21.1,
                    23.2,
                    23.8,
                    23.9,
                    20.3,
                    17,
                    21.6,
                    16.2,
                    31.5,
                    29.5,
                    21.5,
                    19.8,
                    22.3,
                    20.2,
                    20.6,
                    17,
                    17.6,
                    16.5,
                    18.2,
                    16.9,
                    15.5,
                    19.2,
                    18.5,
                    31.9,
                    34.1,
                    35.7,
                    27.4,
                    25.4,
                    23,
                    27.2,
                    23.9,
                    34.2,
                    34.5,
                    31.8,
                    37.3,
                    28.4,
                    28.8,
                    26.8,
                    33.5,
                    41.5,
                    38.1,
                    32.1,
                    37.2,
                    28,
                    26.4,
                    24.3,
                    19.1,
                    34.3,
                    29.8,
                    31.3,
                    37,
                    32.2,
                    46.6,
                    27.9,
                    40.8,
                    44.3,
                    43.4,
                    36.4,
                    30,
                    44.6,
                    33.8,
                    29.8,
                    32.7,
                    23.7,
                    35,
                    32.4,
                    27.2,
                    26.6,
                    25.8,
                    23.5,
                    30,
                    39.1,
                    39,
                    35.1,
                    32.3,
                    37,
                    37.7,
                    34.1,
                    34.7,
                    34.4,
                    29.9,
                    33,
                    33.7,
                    32.4,
                    32.9,
                    31.6,
                    28.1,
                    30.7,
                    25.4,
                    24.2,
                    22.4,
                    26.6,
                    20.2,
                    17.6,
                    28,
                    27,
                    34,
                    31,
                    29,
                    27,
                    24,
                    36,
                    37,
                    31,
                    38,
                    36,
                    36,
                    36,
                    34,
                    38,
                    32,
                    38,
                    25,
                    38,
                    26,
                    22,
                    32,
                    36,
                    27,
                    27,
                    44,
                    32,
                    28,
                    31
                  ],
                  "yaxis": "y"
                },
                {
                  "mode": "lines",
                  "name": "y = yhat",
                  "type": "scatter",
                  "x": [
                    9,
                    46.6
                  ],
                  "xaxis": "x",
                  "y": [
                    9,
                    46.6
                  ],
                  "yaxis": "y"
                },
                {
                  "name": "RMSE",
                  "type": "bar",
                  "x": [
                    "Basic Linear Regression",
                    "Nonlinear Linear Regression"
                  ],
                  "xaxis": "x2",
                  "y": [
                    3.4044340177796406,
                    2.4964145832575175
                  ],
                  "yaxis": "y2"
                }
              ],
              "layout": {
                "annotations": [
                  {
                    "font": {
                      "size": 16
                    },
                    "showarrow": false,
                    "text": "Actual vs Predicted MPG",
                    "x": 0.225,
                    "xanchor": "center",
                    "xref": "paper",
                    "y": 1,
                    "yanchor": "bottom",
                    "yref": "paper"
                  },
                  {
                    "font": {
                      "size": 16
                    },
                    "showarrow": false,
                    "text": "Model RMSE Comparison",
                    "x": 0.775,
                    "xanchor": "center",
                    "xref": "paper",
                    "y": 1,
                    "yanchor": "bottom",
                    "yref": "paper"
                  }
                ],
                "height": 600,
                "showlegend": false,
                "template": {
                  "data": {
                    "bar": [
                      {
                        "error_x": {
                          "color": "#2a3f5f"
                        },
                        "error_y": {
                          "color": "#2a3f5f"
                        },
                        "marker": {
                          "line": {
                            "color": "#E5ECF6",
                            "width": 0.5
                          },
                          "pattern": {
                            "fillmode": "overlay",
                            "size": 10,
                            "solidity": 0.2
                          }
                        },
                        "type": "bar"
                      }
                    ],
                    "barpolar": [
                      {
                        "marker": {
                          "line": {
                            "color": "#E5ECF6",
                            "width": 0.5
                          },
                          "pattern": {
                            "fillmode": "overlay",
                            "size": 10,
                            "solidity": 0.2
                          }
                        },
                        "type": "barpolar"
                      }
                    ],
                    "carpet": [
                      {
                        "aaxis": {
                          "endlinecolor": "#2a3f5f",
                          "gridcolor": "white",
                          "linecolor": "white",
                          "minorgridcolor": "white",
                          "startlinecolor": "#2a3f5f"
                        },
                        "baxis": {
                          "endlinecolor": "#2a3f5f",
                          "gridcolor": "white",
                          "linecolor": "white",
                          "minorgridcolor": "white",
                          "startlinecolor": "#2a3f5f"
                        },
                        "type": "carpet"
                      }
                    ],
                    "choropleth": [
                      {
                        "colorbar": {
                          "outlinewidth": 0,
                          "ticks": ""
                        },
                        "type": "choropleth"
                      }
                    ],
                    "contour": [
                      {
                        "colorbar": {
                          "outlinewidth": 0,
                          "ticks": ""
                        },
                        "colorscale": [
                          [
                            0,
                            "#0d0887"
                          ],
                          [
                            0.1111111111111111,
                            "#46039f"
                          ],
                          [
                            0.2222222222222222,
                            "#7201a8"
                          ],
                          [
                            0.3333333333333333,
                            "#9c179e"
                          ],
                          [
                            0.4444444444444444,
                            "#bd3786"
                          ],
                          [
                            0.5555555555555556,
                            "#d8576b"
                          ],
                          [
                            0.6666666666666666,
                            "#ed7953"
                          ],
                          [
                            0.7777777777777778,
                            "#fb9f3a"
                          ],
                          [
                            0.8888888888888888,
                            "#fdca26"
                          ],
                          [
                            1,
                            "#f0f921"
                          ]
                        ],
                        "type": "contour"
                      }
                    ],
                    "contourcarpet": [
                      {
                        "colorbar": {
                          "outlinewidth": 0,
                          "ticks": ""
                        },
                        "type": "contourcarpet"
                      }
                    ],
                    "heatmap": [
                      {
                        "colorbar": {
                          "outlinewidth": 0,
                          "ticks": ""
                        },
                        "colorscale": [
                          [
                            0,
                            "#0d0887"
                          ],
                          [
                            0.1111111111111111,
                            "#46039f"
                          ],
                          [
                            0.2222222222222222,
                            "#7201a8"
                          ],
                          [
                            0.3333333333333333,
                            "#9c179e"
                          ],
                          [
                            0.4444444444444444,
                            "#bd3786"
                          ],
                          [
                            0.5555555555555556,
                            "#d8576b"
                          ],
                          [
                            0.6666666666666666,
                            "#ed7953"
                          ],
                          [
                            0.7777777777777778,
                            "#fb9f3a"
                          ],
                          [
                            0.8888888888888888,
                            "#fdca26"
                          ],
                          [
                            1,
                            "#f0f921"
                          ]
                        ],
                        "type": "heatmap"
                      }
                    ],
                    "heatmapgl": [
                      {
                        "colorbar": {
                          "outlinewidth": 0,
                          "ticks": ""
                        },
                        "colorscale": [
                          [
                            0,
                            "#0d0887"
                          ],
                          [
                            0.1111111111111111,
                            "#46039f"
                          ],
                          [
                            0.2222222222222222,
                            "#7201a8"
                          ],
                          [
                            0.3333333333333333,
                            "#9c179e"
                          ],
                          [
                            0.4444444444444444,
                            "#bd3786"
                          ],
                          [
                            0.5555555555555556,
                            "#d8576b"
                          ],
                          [
                            0.6666666666666666,
                            "#ed7953"
                          ],
                          [
                            0.7777777777777778,
                            "#fb9f3a"
                          ],
                          [
                            0.8888888888888888,
                            "#fdca26"
                          ],
                          [
                            1,
                            "#f0f921"
                          ]
                        ],
                        "type": "heatmapgl"
                      }
                    ],
                    "histogram": [
                      {
                        "marker": {
                          "pattern": {
                            "fillmode": "overlay",
                            "size": 10,
                            "solidity": 0.2
                          }
                        },
                        "type": "histogram"
                      }
                    ],
                    "histogram2d": [
                      {
                        "colorbar": {
                          "outlinewidth": 0,
                          "ticks": ""
                        },
                        "colorscale": [
                          [
                            0,
                            "#0d0887"
                          ],
                          [
                            0.1111111111111111,
                            "#46039f"
                          ],
                          [
                            0.2222222222222222,
                            "#7201a8"
                          ],
                          [
                            0.3333333333333333,
                            "#9c179e"
                          ],
                          [
                            0.4444444444444444,
                            "#bd3786"
                          ],
                          [
                            0.5555555555555556,
                            "#d8576b"
                          ],
                          [
                            0.6666666666666666,
                            "#ed7953"
                          ],
                          [
                            0.7777777777777778,
                            "#fb9f3a"
                          ],
                          [
                            0.8888888888888888,
                            "#fdca26"
                          ],
                          [
                            1,
                            "#f0f921"
                          ]
                        ],
                        "type": "histogram2d"
                      }
                    ],
                    "histogram2dcontour": [
                      {
                        "colorbar": {
                          "outlinewidth": 0,
                          "ticks": ""
                        },
                        "colorscale": [
                          [
                            0,
                            "#0d0887"
                          ],
                          [
                            0.1111111111111111,
                            "#46039f"
                          ],
                          [
                            0.2222222222222222,
                            "#7201a8"
                          ],
                          [
                            0.3333333333333333,
                            "#9c179e"
                          ],
                          [
                            0.4444444444444444,
                            "#bd3786"
                          ],
                          [
                            0.5555555555555556,
                            "#d8576b"
                          ],
                          [
                            0.6666666666666666,
                            "#ed7953"
                          ],
                          [
                            0.7777777777777778,
                            "#fb9f3a"
                          ],
                          [
                            0.8888888888888888,
                            "#fdca26"
                          ],
                          [
                            1,
                            "#f0f921"
                          ]
                        ],
                        "type": "histogram2dcontour"
                      }
                    ],
                    "mesh3d": [
                      {
                        "colorbar": {
                          "outlinewidth": 0,
                          "ticks": ""
                        },
                        "type": "mesh3d"
                      }
                    ],
                    "parcoords": [
                      {
                        "line": {
                          "colorbar": {
                            "outlinewidth": 0,
                            "ticks": ""
                          }
                        },
                        "type": "parcoords"
                      }
                    ],
                    "pie": [
                      {
                        "automargin": true,
                        "type": "pie"
                      }
                    ],
                    "scatter": [
                      {
                        "fillpattern": {
                          "fillmode": "overlay",
                          "size": 10,
                          "solidity": 0.2
                        },
                        "type": "scatter"
                      }
                    ],
                    "scatter3d": [
                      {
                        "line": {
                          "colorbar": {
                            "outlinewidth": 0,
                            "ticks": ""
                          }
                        },
                        "marker": {
                          "colorbar": {
                            "outlinewidth": 0,
                            "ticks": ""
                          }
                        },
                        "type": "scatter3d"
                      }
                    ],
                    "scattercarpet": [
                      {
                        "marker": {
                          "colorbar": {
                            "outlinewidth": 0,
                            "ticks": ""
                          }
                        },
                        "type": "scattercarpet"
                      }
                    ],
                    "scattergeo": [
                      {
                        "marker": {
                          "colorbar": {
                            "outlinewidth": 0,
                            "ticks": ""
                          }
                        },
                        "type": "scattergeo"
                      }
                    ],
                    "scattergl": [
                      {
                        "marker": {
                          "colorbar": {
                            "outlinewidth": 0,
                            "ticks": ""
                          }
                        },
                        "type": "scattergl"
                      }
                    ],
                    "scattermapbox": [
                      {
                        "marker": {
                          "colorbar": {
                            "outlinewidth": 0,
                            "ticks": ""
                          }
                        },
                        "type": "scattermapbox"
                      }
                    ],
                    "scatterpolar": [
                      {
                        "marker": {
                          "colorbar": {
                            "outlinewidth": 0,
                            "ticks": ""
                          }
                        },
                        "type": "scatterpolar"
                      }
                    ],
                    "scatterpolargl": [
                      {
                        "marker": {
                          "colorbar": {
                            "outlinewidth": 0,
                            "ticks": ""
                          }
                        },
                        "type": "scatterpolargl"
                      }
                    ],
                    "scatterternary": [
                      {
                        "marker": {
                          "colorbar": {
                            "outlinewidth": 0,
                            "ticks": ""
                          }
                        },
                        "type": "scatterternary"
                      }
                    ],
                    "surface": [
                      {
                        "colorbar": {
                          "outlinewidth": 0,
                          "ticks": ""
                        },
                        "colorscale": [
                          [
                            0,
                            "#0d0887"
                          ],
                          [
                            0.1111111111111111,
                            "#46039f"
                          ],
                          [
                            0.2222222222222222,
                            "#7201a8"
                          ],
                          [
                            0.3333333333333333,
                            "#9c179e"
                          ],
                          [
                            0.4444444444444444,
                            "#bd3786"
                          ],
                          [
                            0.5555555555555556,
                            "#d8576b"
                          ],
                          [
                            0.6666666666666666,
                            "#ed7953"
                          ],
                          [
                            0.7777777777777778,
                            "#fb9f3a"
                          ],
                          [
                            0.8888888888888888,
                            "#fdca26"
                          ],
                          [
                            1,
                            "#f0f921"
                          ]
                        ],
                        "type": "surface"
                      }
                    ],
                    "table": [
                      {
                        "cells": {
                          "fill": {
                            "color": "#EBF0F8"
                          },
                          "line": {
                            "color": "white"
                          }
                        },
                        "header": {
                          "fill": {
                            "color": "#C8D4E3"
                          },
                          "line": {
                            "color": "white"
                          }
                        },
                        "type": "table"
                      }
                    ]
                  },
                  "layout": {
                    "annotationdefaults": {
                      "arrowcolor": "#2a3f5f",
                      "arrowhead": 0,
                      "arrowwidth": 1
                    },
                    "autotypenumbers": "strict",
                    "coloraxis": {
                      "colorbar": {
                        "outlinewidth": 0,
                        "ticks": ""
                      }
                    },
                    "colorscale": {
                      "diverging": [
                        [
                          0,
                          "#8e0152"
                        ],
                        [
                          0.1,
                          "#c51b7d"
                        ],
                        [
                          0.2,
                          "#de77ae"
                        ],
                        [
                          0.3,
                          "#f1b6da"
                        ],
                        [
                          0.4,
                          "#fde0ef"
                        ],
                        [
                          0.5,
                          "#f7f7f7"
                        ],
                        [
                          0.6,
                          "#e6f5d0"
                        ],
                        [
                          0.7,
                          "#b8e186"
                        ],
                        [
                          0.8,
                          "#7fbc41"
                        ],
                        [
                          0.9,
                          "#4d9221"
                        ],
                        [
                          1,
                          "#276419"
                        ]
                      ],
                      "sequential": [
                        [
                          0,
                          "#0d0887"
                        ],
                        [
                          0.1111111111111111,
                          "#46039f"
                        ],
                        [
                          0.2222222222222222,
                          "#7201a8"
                        ],
                        [
                          0.3333333333333333,
                          "#9c179e"
                        ],
                        [
                          0.4444444444444444,
                          "#bd3786"
                        ],
                        [
                          0.5555555555555556,
                          "#d8576b"
                        ],
                        [
                          0.6666666666666666,
                          "#ed7953"
                        ],
                        [
                          0.7777777777777778,
                          "#fb9f3a"
                        ],
                        [
                          0.8888888888888888,
                          "#fdca26"
                        ],
                        [
                          1,
                          "#f0f921"
                        ]
                      ],
                      "sequentialminus": [
                        [
                          0,
                          "#0d0887"
                        ],
                        [
                          0.1111111111111111,
                          "#46039f"
                        ],
                        [
                          0.2222222222222222,
                          "#7201a8"
                        ],
                        [
                          0.3333333333333333,
                          "#9c179e"
                        ],
                        [
                          0.4444444444444444,
                          "#bd3786"
                        ],
                        [
                          0.5555555555555556,
                          "#d8576b"
                        ],
                        [
                          0.6666666666666666,
                          "#ed7953"
                        ],
                        [
                          0.7777777777777778,
                          "#fb9f3a"
                        ],
                        [
                          0.8888888888888888,
                          "#fdca26"
                        ],
                        [
                          1,
                          "#f0f921"
                        ]
                      ]
                    },
                    "colorway": [
                      "#636efa",
                      "#EF553B",
                      "#00cc96",
                      "#ab63fa",
                      "#FFA15A",
                      "#19d3f3",
                      "#FF6692",
                      "#B6E880",
                      "#FF97FF",
                      "#FECB52"
                    ],
                    "font": {
                      "color": "#2a3f5f"
                    },
                    "geo": {
                      "bgcolor": "white",
                      "lakecolor": "white",
                      "landcolor": "#E5ECF6",
                      "showlakes": true,
                      "showland": true,
                      "subunitcolor": "white"
                    },
                    "hoverlabel": {
                      "align": "left"
                    },
                    "hovermode": "closest",
                    "mapbox": {
                      "style": "light"
                    },
                    "paper_bgcolor": "white",
                    "plot_bgcolor": "#E5ECF6",
                    "polar": {
                      "angularaxis": {
                        "gridcolor": "white",
                        "linecolor": "white",
                        "ticks": ""
                      },
                      "bgcolor": "#E5ECF6",
                      "radialaxis": {
                        "gridcolor": "white",
                        "linecolor": "white",
                        "ticks": ""
                      }
                    },
                    "scene": {
                      "xaxis": {
                        "backgroundcolor": "#E5ECF6",
                        "gridcolor": "white",
                        "gridwidth": 2,
                        "linecolor": "white",
                        "showbackground": true,
                        "ticks": "",
                        "zerolinecolor": "white"
                      },
                      "yaxis": {
                        "backgroundcolor": "#E5ECF6",
                        "gridcolor": "white",
                        "gridwidth": 2,
                        "linecolor": "white",
                        "showbackground": true,
                        "ticks": "",
                        "zerolinecolor": "white"
                      },
                      "zaxis": {
                        "backgroundcolor": "#E5ECF6",
                        "gridcolor": "white",
                        "gridwidth": 2,
                        "linecolor": "white",
                        "showbackground": true,
                        "ticks": "",
                        "zerolinecolor": "white"
                      }
                    },
                    "shapedefaults": {
                      "line": {
                        "color": "#2a3f5f"
                      }
                    },
                    "ternary": {
                      "aaxis": {
                        "gridcolor": "white",
                        "linecolor": "white",
                        "ticks": ""
                      },
                      "baxis": {
                        "gridcolor": "white",
                        "linecolor": "white",
                        "ticks": ""
                      },
                      "bgcolor": "#E5ECF6",
                      "caxis": {
                        "gridcolor": "white",
                        "linecolor": "white",
                        "ticks": ""
                      }
                    },
                    "title": {
                      "x": 0.05
                    },
                    "xaxis": {
                      "automargin": true,
                      "gridcolor": "white",
                      "linecolor": "white",
                      "ticks": "",
                      "title": {
                        "standoff": 15
                      },
                      "zerolinecolor": "white",
                      "zerolinewidth": 2
                    },
                    "yaxis": {
                      "automargin": true,
                      "gridcolor": "white",
                      "linecolor": "white",
                      "ticks": "",
                      "title": {
                        "standoff": 15
                      },
                      "zerolinecolor": "white",
                      "zerolinewidth": 2
                    }
                  }
                },
                "width": 1000,
                "xaxis": {
                  "anchor": "y",
                  "domain": [
                    0,
                    0.45
                  ],
                  "title": {
                    "text": "Predicted MPG (Yhat)"
                  }
                },
                "xaxis2": {
                  "anchor": "y2",
                  "domain": [
                    0.55,
                    1
                  ]
                },
                "yaxis": {
                  "anchor": "x",
                  "domain": [
                    0,
                    1
                  ],
                  "title": {
                    "text": "Actual MPG (Y)"
                  }
                },
                "yaxis2": {
                  "anchor": "x2",
                  "domain": [
                    0,
                    1
                  ],
                  "title": {
                    "text": "RMSE"
                  }
                }
              }
            }
          },
          "metadata": {},
          "output_type": "display_data"
        }
      ],
      "source": [
        "# Initialize the Linear Regression model\n",
        "nonlinear_model = LinearRegression()\n",
        "\n",
        "# Evaluate the nonlinear model\n",
        "evaluate_model(\"Nonlinear Linear Regression\", nonlinear_model, nonlinear_design_matrix, data, models)"
      ]
    },
    {
      "cell_type": "markdown",
      "metadata": {},
      "source": [
        "### *5.4 ~ Evaluating the One-Hot Encoded Model*\n",
        "\n",
        "We then incorporate categorical data encoding into our model."
      ]
    },
    {
      "cell_type": "code",
      "execution_count": 12,
      "metadata": {},
      "outputs": [
        {
          "name": "stdout",
          "output_type": "stream",
          "text": [
            "Model: One-Hot Encoded Linear Regression\n",
            "Root Mean Squared Error (RMSE): 2.4729\n",
            "\n"
          ]
        },
        {
          "data": {
            "application/vnd.plotly.v1+json": {
              "config": {
                "plotlyServerURL": "https://plot.ly"
              },
              "data": [
                {
                  "mode": "markers",
                  "name": "One-Hot Encoded Linear Regression",
                  "type": "scatter",
                  "x": [
                    17.48786365476826,
                    15.18479316585126,
                    16.645691389950116,
                    15.403647784666646,
                    17.30413511014831,
                    13.594844832466151,
                    13.770094718528526,
                    13.878477717654278,
                    14.34320480632141,
                    13.745628736304752,
                    15.153860855944913,
                    15.289059837369678,
                    16.622539899631192,
                    14.751143850890912,
                    25.801894800528316,
                    19.548806179270287,
                    19.95619241580698,
                    21.562885251686566,
                    28.442474360892447,
                    30.85087025375924,
                    23.537291495899808,
                    25.481872544459293,
                    24.893969734216626,
                    25.226996648837485,
                    21.215163059146107,
                    11.420775234832945,
                    11.309453931086864,
                    12.319525795189293,
                    9.768512330766498,
                    27.087579710728278,
                    22.494128273409842,
                    25.61539872249614,
                    20.480043281874714,
                    16.20948741009397,
                    16.842627658445963,
                    17.806003610944572,
                    16.672847719105448,
                    13.69573592616598,
                    13.343453424834479,
                    12.998481384683146,
                    13.604035883920915,
                    12.543228291281594,
                    13.183339833261016,
                    11.872430222695584,
                    17.656300953728532,
                    22.081895359883674,
                    17.09978823547226,
                    18.535615412210063,
                    24.374809201265634,
                    25.21279658696949,
                    28.4674742471434,
                    28.311195363272418,
                    30.652118226283164,
                    29.72014566096459,
                    27.420679274287977,
                    26.74883566333756,
                    24.463871532108897,
                    25.6007462319576,
                    29.78931022713823,
                    20.321275501559285,
                    23.19345946885187,
                    13.511601311709455,
                    12.613311528735721,
                    12.927470974947937,
                    13.189492193903789,
                    14.070219325245489,
                    11.787127538606,
                    12.828923150293122,
                    12.492425382537476,
                    11.562645768974107,
                    18.336669539092327,
                    13.20999470173956,
                    14.169614460983212,
                    12.303959998960636,
                    12.463104047861634,
                    18.83693452922762,
                    22.38891334203163,
                    19.161492290971182,
                    26.018666319982913,
                    22.539455703219573,
                    25.188019830411577,
                    22.99384731615646,
                    26.097789393197672,
                    26.347317296862457,
                    12.13226198538814,
                    14.49041774399393,
                    14.177363381101713,
                    13.205264964682101,
                    14.096250159843294,
                    11.414703651223135,
                    14.79051304991026,
                    13.409848351416258,
                    12.721887373757454,
                    12.54120204577066,
                    12.417123063955842,
                    12.939488600227378,
                    16.738737413190393,
                    16.385361919652496,
                    17.639418245861634,
                    18.449706166095893,
                    17.9876319053119,
                    29.955385042117996,
                    12.418228506753621,
                    12.763560464844886,
                    11.924970178114563,
                    12.644645537125143,
                    18.52035662920116,
                    25.162328336098653,
                    22.141669221434313,
                    24.15021970831731,
                    20.13181917499969,
                    22.612457598236688,
                    20.32692025524284,
                    25.640209577151836,
                    14.249789905737089,
                    14.41254506009409,
                    33.27187601269179,
                    25.688294226896687,
                    23.136470353843833,
                    19.14553000791784,
                    15.50654984639641,
                    20.921930351583796,
                    19.208239269210026,
                    13.437720698068915,
                    17.77245797116757,
                    18.371699634754805,
                    17.22881601808058,
                    30.656423886446646,
                    23.600243834403045,
                    31.720018856178285,
                    22.660749939704147,
                    16.949803049265938,
                    15.357935035041919,
                    16.59368132169311,
                    13.967314318359968,
                    13.45035749932049,
                    14.13935497102375,
                    13.398885175990472,
                    12.412702565931795,
                    26.719071808051012,
                    30.886331580242768,
                    27.0450238131034,
                    32.504618256471076,
                    30.1066670683922,
                    28.033725051743204,
                    28.074149288089757,
                    26.602522642178883,
                    23.86436017723645,
                    24.937928924848165,
                    30.734117853640782,
                    18.36871993974455,
                    17.385417050440083,
                    19.132517356894823,
                    19.309376992705438,
                    14.858918676342,
                    14.685502991120302,
                    13.897051181378629,
                    14.771518534680581,
                    16.047327915959613,
                    16.520123745889578,
                    15.397533533145179,
                    16.963127385188272,
                    18.078747875388217,
                    17.92769439201038,
                    17.56058148440752,
                    28.64844451166573,
                    22.097227462612864,
                    18.798787953563078,
                    22.10177651842605,
                    23.718668383917247,
                    28.282993701209307,
                    23.978385365106078,
                    18.71464010859563,
                    30.02346995017706,
                    18.473811982590632,
                    22.71884690756542,
                    21.551259107815895,
                    21.343448132577578,
                    21.946915939902283,
                    31.604265627267523,
                    25.621199336264908,
                    26.274035427804847,
                    22.79615767004634,
                    27.10271760329033,
                    27.449087360362682,
                    16.166053255436964,
                    15.443776653627538,
                    16.454515187640027,
                    15.538649949784485,
                    18.71173460499722,
                    18.55203160018482,
                    20.080244902493178,
                    19.14674446364461,
                    32.452140168995356,
                    29.768655753727217,
                    30.443706063687387,
                    32.19675626406479,
                    17.64252757547274,
                    19.0697555191864,
                    17.43781810182827,
                    18.198051085967563,
                    31.612318830424556,
                    31.310566363116777,
                    29.179657716355905,
                    25.20859070917777,
                    21.008217382446674,
                    15.075201151424153,
                    21.379063926524395,
                    20.39302844258509,
                    16.860402114270983,
                    14.59208815931288,
                    16.83412835240324,
                    15.033556732995748,
                    14.309204415264503,
                    30.607949920571627,
                    28.404428287792143,
                    32.86116501737615,
                    25.391177786455046,
                    32.39304477496444,
                    16.979787538878554,
                    16.303066915224008,
                    16.17151005391588,
                    16.35598635289989,
                    18.431248215852065,
                    18.692836906840057,
                    18.600623350829665,
                    18.388762423545813,
                    15.936486914505622,
                    16.558919531128595,
                    14.819170877263787,
                    15.408679352774016,
                    30.09099109651197,
                    23.079928139261938,
                    29.118374321335068,
                    22.921484179113577,
                    30.4453197607736,
                    28.964522401235627,
                    31.25468458162686,
                    29.741125216133696,
                    22.444718267097414,
                    24.82186999368878,
                    17.599704866839602,
                    34.35509250238283,
                    32.421777536553236,
                    35.57139198328241,
                    32.995687895418996,
                    34.04205357107185,
                    18.965166134111314,
                    18.304634458737382,
                    18.406262130784853,
                    19.1881008542814,
                    20.866846286308828,
                    22.868951671897776,
                    24.698261613832983,
                    20.41382747533953,
                    21.41642215874981,
                    20.468603206040825,
                    22.335588943648872,
                    18.933187039400764,
                    19.0426315882205,
                    17.893471845733984,
                    16.97615066565868,
                    20.32511511795292,
                    18.047550227332067,
                    31.228181869038053,
                    26.934621123579745,
                    28.77826374225424,
                    30.570273986585562,
                    26.841279231856788,
                    23.417418266765708,
                    23.863552604651886,
                    28.18653679205545,
                    26.302356911177412,
                    20.597954424078125,
                    23.256788756674723,
                    18.39179702630463,
                    32.49879197044538,
                    32.51519377977911,
                    21.753518355959386,
                    23.729853831999208,
                    25.203560480595115,
                    22.581056167800853,
                    21.58805469408071,
                    19.29997891941457,
                    20.248920555317454,
                    20.18379347467817,
                    19.10296653905789,
                    18.02065555795889,
                    19.054686362116627,
                    19.617495238013362,
                    18.69953894225364,
                    34.74983425409391,
                    36.548627941119776,
                    33.02476722104075,
                    27.920178656524513,
                    25.723515250917444,
                    19.443533954468876,
                    29.70004187601353,
                    22.20955254425644,
                    33.82148193233843,
                    32.835914571393005,
                    35.027096218865154,
                    34.16304377034339,
                    26.424945425544138,
                    26.85216888123614,
                    24.891088828455395,
                    28.430277707948335,
                    34.51086715799465,
                    36.23080966594716,
                    34.439542006603915,
                    37.52959294690663,
                    27.626827429395235,
                    26.28093010811881,
                    25.235153083952355,
                    23.67080616295152,
                    33.567637461801496,
                    29.049057374479162,
                    31.061568147604703,
                    31.370650789456704,
                    33.4723351391076,
                    36.80417215494526,
                    26.87212500739861,
                    36.1146444864753,
                    37.31866762472782,
                    38.55291196015605,
                    30.07479847905779,
                    27.48952547576482,
                    37.44746581893196,
                    34.8441974895286,
                    36.18076393555748,
                    26.91987828694255,
                    26.131819620724855,
                    29.973356035508914,
                    33.552768918503716,
                    30.149969704310024,
                    28.909151400667724,
                    29.29701305739127,
                    27.393234827030938,
                    32.337340024018886,
                    39.29958687076305,
                    37.08675377414602,
                    39.029550695963735,
                    35.77005046079739,
                    37.00497906626788,
                    37.09351311457158,
                    37.010424558088744,
                    35.17285436672228,
                    35.57384261649986,
                    33.320382484601396,
                    34.969411084419335,
                    35.00079113807897,
                    33.34183128740642,
                    30.61048292689975,
                    30.98446813681312,
                    26.5060426742657,
                    25.66507466740768,
                    27.793199606222515,
                    25.791097237114627,
                    23.68900140328242,
                    22.26814293194093,
                    25.671795941138953,
                    25.30066307879224,
                    29.328847414009942,
                    29.48515127418068,
                    30.926900095495512,
                    30.806755699097266,
                    29.878203796328307,
                    27.479715751287586,
                    27.15967807927882,
                    35.03519318263261,
                    36.2609737428229,
                    36.58120180602964,
                    35.58392133640518,
                    34.59908500347228,
                    33.284230312021464,
                    34.95794210002896,
                    34.23013077316682,
                    37.367216756631024,
                    37.16838146636837,
                    37.03850281670566,
                    24.580792106753506,
                    26.2649303628059,
                    29.401619331460097,
                    25.206089242150483,
                    30.471246846953363,
                    32.31338448230599,
                    26.871847264836106,
                    28.08191596913821,
                    39.967099865923046,
                    33.98842071359468,
                    29.231125138778225,
                    28.73132985313896
                  ],
                  "xaxis": "x",
                  "y": [
                    18,
                    15,
                    18,
                    16,
                    17,
                    15,
                    14,
                    14,
                    14,
                    15,
                    15,
                    14,
                    15,
                    14,
                    24,
                    22,
                    18,
                    21,
                    27,
                    26,
                    25,
                    24,
                    25,
                    26,
                    21,
                    10,
                    10,
                    11,
                    9,
                    27,
                    28,
                    25,
                    19,
                    16,
                    17,
                    19,
                    18,
                    14,
                    14,
                    14,
                    14,
                    12,
                    13,
                    13,
                    18,
                    22,
                    19,
                    18,
                    23,
                    28,
                    30,
                    30,
                    31,
                    35,
                    27,
                    26,
                    24,
                    25,
                    23,
                    20,
                    21,
                    13,
                    14,
                    15,
                    14,
                    17,
                    11,
                    13,
                    12,
                    13,
                    19,
                    15,
                    13,
                    13,
                    14,
                    18,
                    22,
                    21,
                    26,
                    22,
                    28,
                    23,
                    28,
                    27,
                    13,
                    14,
                    13,
                    14,
                    15,
                    12,
                    13,
                    13,
                    14,
                    13,
                    12,
                    13,
                    18,
                    16,
                    18,
                    18,
                    23,
                    26,
                    11,
                    12,
                    13,
                    12,
                    18,
                    20,
                    21,
                    22,
                    18,
                    19,
                    21,
                    26,
                    15,
                    16,
                    29,
                    24,
                    20,
                    19,
                    15,
                    24,
                    20,
                    11,
                    20,
                    19,
                    15,
                    31,
                    26,
                    32,
                    25,
                    16,
                    16,
                    18,
                    16,
                    13,
                    14,
                    14,
                    14,
                    29,
                    26,
                    26,
                    31,
                    32,
                    28,
                    24,
                    26,
                    24,
                    26,
                    31,
                    19,
                    18,
                    15,
                    15,
                    16,
                    15,
                    16,
                    14,
                    17,
                    16,
                    15,
                    18,
                    21,
                    20,
                    13,
                    29,
                    23,
                    20,
                    23,
                    24,
                    25,
                    24,
                    18,
                    29,
                    19,
                    23,
                    23,
                    22,
                    25,
                    33,
                    28,
                    25,
                    25,
                    26,
                    27,
                    17.5,
                    16,
                    15.5,
                    14.5,
                    22,
                    22,
                    24,
                    22.5,
                    29,
                    24.5,
                    29,
                    33,
                    20,
                    18,
                    18.5,
                    17.5,
                    29.5,
                    32,
                    28,
                    26.5,
                    20,
                    13,
                    19,
                    19,
                    16.5,
                    16.5,
                    13,
                    13,
                    13,
                    31.5,
                    30,
                    36,
                    25.5,
                    33.5,
                    17.5,
                    17,
                    15.5,
                    15,
                    17.5,
                    20.5,
                    19,
                    18.5,
                    16,
                    15.5,
                    15.5,
                    16,
                    29,
                    24.5,
                    26,
                    25.5,
                    30.5,
                    33.5,
                    30,
                    30.5,
                    22,
                    21.5,
                    21.5,
                    43.1,
                    36.1,
                    32.8,
                    39.4,
                    36.1,
                    19.9,
                    19.4,
                    20.2,
                    19.2,
                    20.5,
                    20.2,
                    25.1,
                    20.5,
                    19.4,
                    20.6,
                    20.8,
                    18.6,
                    18.1,
                    19.2,
                    17.7,
                    18.1,
                    17.5,
                    30,
                    27.5,
                    27.2,
                    30.9,
                    21.1,
                    23.2,
                    23.8,
                    23.9,
                    20.3,
                    17,
                    21.6,
                    16.2,
                    31.5,
                    29.5,
                    21.5,
                    19.8,
                    22.3,
                    20.2,
                    20.6,
                    17,
                    17.6,
                    16.5,
                    18.2,
                    16.9,
                    15.5,
                    19.2,
                    18.5,
                    31.9,
                    34.1,
                    35.7,
                    27.4,
                    25.4,
                    23,
                    27.2,
                    23.9,
                    34.2,
                    34.5,
                    31.8,
                    37.3,
                    28.4,
                    28.8,
                    26.8,
                    33.5,
                    41.5,
                    38.1,
                    32.1,
                    37.2,
                    28,
                    26.4,
                    24.3,
                    19.1,
                    34.3,
                    29.8,
                    31.3,
                    37,
                    32.2,
                    46.6,
                    27.9,
                    40.8,
                    44.3,
                    43.4,
                    36.4,
                    30,
                    44.6,
                    33.8,
                    29.8,
                    32.7,
                    23.7,
                    35,
                    32.4,
                    27.2,
                    26.6,
                    25.8,
                    23.5,
                    30,
                    39.1,
                    39,
                    35.1,
                    32.3,
                    37,
                    37.7,
                    34.1,
                    34.7,
                    34.4,
                    29.9,
                    33,
                    33.7,
                    32.4,
                    32.9,
                    31.6,
                    28.1,
                    30.7,
                    25.4,
                    24.2,
                    22.4,
                    26.6,
                    20.2,
                    17.6,
                    28,
                    27,
                    34,
                    31,
                    29,
                    27,
                    24,
                    36,
                    37,
                    31,
                    38,
                    36,
                    36,
                    36,
                    34,
                    38,
                    32,
                    38,
                    25,
                    38,
                    26,
                    22,
                    32,
                    36,
                    27,
                    27,
                    44,
                    32,
                    28,
                    31
                  ],
                  "yaxis": "y"
                },
                {
                  "mode": "lines",
                  "name": "y = yhat",
                  "type": "scatter",
                  "x": [
                    9,
                    46.6
                  ],
                  "xaxis": "x",
                  "y": [
                    9,
                    46.6
                  ],
                  "yaxis": "y"
                },
                {
                  "name": "RMSE",
                  "type": "bar",
                  "x": [
                    "Basic Linear Regression",
                    "Nonlinear Linear Regression",
                    "One-Hot Encoded Linear Regression"
                  ],
                  "xaxis": "x2",
                  "y": [
                    3.4044340177796406,
                    2.4964145832575175,
                    2.4729465198048013
                  ],
                  "yaxis": "y2"
                }
              ],
              "layout": {
                "annotations": [
                  {
                    "font": {
                      "size": 16
                    },
                    "showarrow": false,
                    "text": "Actual vs Predicted MPG",
                    "x": 0.225,
                    "xanchor": "center",
                    "xref": "paper",
                    "y": 1,
                    "yanchor": "bottom",
                    "yref": "paper"
                  },
                  {
                    "font": {
                      "size": 16
                    },
                    "showarrow": false,
                    "text": "Model RMSE Comparison",
                    "x": 0.775,
                    "xanchor": "center",
                    "xref": "paper",
                    "y": 1,
                    "yanchor": "bottom",
                    "yref": "paper"
                  }
                ],
                "height": 600,
                "showlegend": false,
                "template": {
                  "data": {
                    "bar": [
                      {
                        "error_x": {
                          "color": "#2a3f5f"
                        },
                        "error_y": {
                          "color": "#2a3f5f"
                        },
                        "marker": {
                          "line": {
                            "color": "#E5ECF6",
                            "width": 0.5
                          },
                          "pattern": {
                            "fillmode": "overlay",
                            "size": 10,
                            "solidity": 0.2
                          }
                        },
                        "type": "bar"
                      }
                    ],
                    "barpolar": [
                      {
                        "marker": {
                          "line": {
                            "color": "#E5ECF6",
                            "width": 0.5
                          },
                          "pattern": {
                            "fillmode": "overlay",
                            "size": 10,
                            "solidity": 0.2
                          }
                        },
                        "type": "barpolar"
                      }
                    ],
                    "carpet": [
                      {
                        "aaxis": {
                          "endlinecolor": "#2a3f5f",
                          "gridcolor": "white",
                          "linecolor": "white",
                          "minorgridcolor": "white",
                          "startlinecolor": "#2a3f5f"
                        },
                        "baxis": {
                          "endlinecolor": "#2a3f5f",
                          "gridcolor": "white",
                          "linecolor": "white",
                          "minorgridcolor": "white",
                          "startlinecolor": "#2a3f5f"
                        },
                        "type": "carpet"
                      }
                    ],
                    "choropleth": [
                      {
                        "colorbar": {
                          "outlinewidth": 0,
                          "ticks": ""
                        },
                        "type": "choropleth"
                      }
                    ],
                    "contour": [
                      {
                        "colorbar": {
                          "outlinewidth": 0,
                          "ticks": ""
                        },
                        "colorscale": [
                          [
                            0,
                            "#0d0887"
                          ],
                          [
                            0.1111111111111111,
                            "#46039f"
                          ],
                          [
                            0.2222222222222222,
                            "#7201a8"
                          ],
                          [
                            0.3333333333333333,
                            "#9c179e"
                          ],
                          [
                            0.4444444444444444,
                            "#bd3786"
                          ],
                          [
                            0.5555555555555556,
                            "#d8576b"
                          ],
                          [
                            0.6666666666666666,
                            "#ed7953"
                          ],
                          [
                            0.7777777777777778,
                            "#fb9f3a"
                          ],
                          [
                            0.8888888888888888,
                            "#fdca26"
                          ],
                          [
                            1,
                            "#f0f921"
                          ]
                        ],
                        "type": "contour"
                      }
                    ],
                    "contourcarpet": [
                      {
                        "colorbar": {
                          "outlinewidth": 0,
                          "ticks": ""
                        },
                        "type": "contourcarpet"
                      }
                    ],
                    "heatmap": [
                      {
                        "colorbar": {
                          "outlinewidth": 0,
                          "ticks": ""
                        },
                        "colorscale": [
                          [
                            0,
                            "#0d0887"
                          ],
                          [
                            0.1111111111111111,
                            "#46039f"
                          ],
                          [
                            0.2222222222222222,
                            "#7201a8"
                          ],
                          [
                            0.3333333333333333,
                            "#9c179e"
                          ],
                          [
                            0.4444444444444444,
                            "#bd3786"
                          ],
                          [
                            0.5555555555555556,
                            "#d8576b"
                          ],
                          [
                            0.6666666666666666,
                            "#ed7953"
                          ],
                          [
                            0.7777777777777778,
                            "#fb9f3a"
                          ],
                          [
                            0.8888888888888888,
                            "#fdca26"
                          ],
                          [
                            1,
                            "#f0f921"
                          ]
                        ],
                        "type": "heatmap"
                      }
                    ],
                    "heatmapgl": [
                      {
                        "colorbar": {
                          "outlinewidth": 0,
                          "ticks": ""
                        },
                        "colorscale": [
                          [
                            0,
                            "#0d0887"
                          ],
                          [
                            0.1111111111111111,
                            "#46039f"
                          ],
                          [
                            0.2222222222222222,
                            "#7201a8"
                          ],
                          [
                            0.3333333333333333,
                            "#9c179e"
                          ],
                          [
                            0.4444444444444444,
                            "#bd3786"
                          ],
                          [
                            0.5555555555555556,
                            "#d8576b"
                          ],
                          [
                            0.6666666666666666,
                            "#ed7953"
                          ],
                          [
                            0.7777777777777778,
                            "#fb9f3a"
                          ],
                          [
                            0.8888888888888888,
                            "#fdca26"
                          ],
                          [
                            1,
                            "#f0f921"
                          ]
                        ],
                        "type": "heatmapgl"
                      }
                    ],
                    "histogram": [
                      {
                        "marker": {
                          "pattern": {
                            "fillmode": "overlay",
                            "size": 10,
                            "solidity": 0.2
                          }
                        },
                        "type": "histogram"
                      }
                    ],
                    "histogram2d": [
                      {
                        "colorbar": {
                          "outlinewidth": 0,
                          "ticks": ""
                        },
                        "colorscale": [
                          [
                            0,
                            "#0d0887"
                          ],
                          [
                            0.1111111111111111,
                            "#46039f"
                          ],
                          [
                            0.2222222222222222,
                            "#7201a8"
                          ],
                          [
                            0.3333333333333333,
                            "#9c179e"
                          ],
                          [
                            0.4444444444444444,
                            "#bd3786"
                          ],
                          [
                            0.5555555555555556,
                            "#d8576b"
                          ],
                          [
                            0.6666666666666666,
                            "#ed7953"
                          ],
                          [
                            0.7777777777777778,
                            "#fb9f3a"
                          ],
                          [
                            0.8888888888888888,
                            "#fdca26"
                          ],
                          [
                            1,
                            "#f0f921"
                          ]
                        ],
                        "type": "histogram2d"
                      }
                    ],
                    "histogram2dcontour": [
                      {
                        "colorbar": {
                          "outlinewidth": 0,
                          "ticks": ""
                        },
                        "colorscale": [
                          [
                            0,
                            "#0d0887"
                          ],
                          [
                            0.1111111111111111,
                            "#46039f"
                          ],
                          [
                            0.2222222222222222,
                            "#7201a8"
                          ],
                          [
                            0.3333333333333333,
                            "#9c179e"
                          ],
                          [
                            0.4444444444444444,
                            "#bd3786"
                          ],
                          [
                            0.5555555555555556,
                            "#d8576b"
                          ],
                          [
                            0.6666666666666666,
                            "#ed7953"
                          ],
                          [
                            0.7777777777777778,
                            "#fb9f3a"
                          ],
                          [
                            0.8888888888888888,
                            "#fdca26"
                          ],
                          [
                            1,
                            "#f0f921"
                          ]
                        ],
                        "type": "histogram2dcontour"
                      }
                    ],
                    "mesh3d": [
                      {
                        "colorbar": {
                          "outlinewidth": 0,
                          "ticks": ""
                        },
                        "type": "mesh3d"
                      }
                    ],
                    "parcoords": [
                      {
                        "line": {
                          "colorbar": {
                            "outlinewidth": 0,
                            "ticks": ""
                          }
                        },
                        "type": "parcoords"
                      }
                    ],
                    "pie": [
                      {
                        "automargin": true,
                        "type": "pie"
                      }
                    ],
                    "scatter": [
                      {
                        "fillpattern": {
                          "fillmode": "overlay",
                          "size": 10,
                          "solidity": 0.2
                        },
                        "type": "scatter"
                      }
                    ],
                    "scatter3d": [
                      {
                        "line": {
                          "colorbar": {
                            "outlinewidth": 0,
                            "ticks": ""
                          }
                        },
                        "marker": {
                          "colorbar": {
                            "outlinewidth": 0,
                            "ticks": ""
                          }
                        },
                        "type": "scatter3d"
                      }
                    ],
                    "scattercarpet": [
                      {
                        "marker": {
                          "colorbar": {
                            "outlinewidth": 0,
                            "ticks": ""
                          }
                        },
                        "type": "scattercarpet"
                      }
                    ],
                    "scattergeo": [
                      {
                        "marker": {
                          "colorbar": {
                            "outlinewidth": 0,
                            "ticks": ""
                          }
                        },
                        "type": "scattergeo"
                      }
                    ],
                    "scattergl": [
                      {
                        "marker": {
                          "colorbar": {
                            "outlinewidth": 0,
                            "ticks": ""
                          }
                        },
                        "type": "scattergl"
                      }
                    ],
                    "scattermapbox": [
                      {
                        "marker": {
                          "colorbar": {
                            "outlinewidth": 0,
                            "ticks": ""
                          }
                        },
                        "type": "scattermapbox"
                      }
                    ],
                    "scatterpolar": [
                      {
                        "marker": {
                          "colorbar": {
                            "outlinewidth": 0,
                            "ticks": ""
                          }
                        },
                        "type": "scatterpolar"
                      }
                    ],
                    "scatterpolargl": [
                      {
                        "marker": {
                          "colorbar": {
                            "outlinewidth": 0,
                            "ticks": ""
                          }
                        },
                        "type": "scatterpolargl"
                      }
                    ],
                    "scatterternary": [
                      {
                        "marker": {
                          "colorbar": {
                            "outlinewidth": 0,
                            "ticks": ""
                          }
                        },
                        "type": "scatterternary"
                      }
                    ],
                    "surface": [
                      {
                        "colorbar": {
                          "outlinewidth": 0,
                          "ticks": ""
                        },
                        "colorscale": [
                          [
                            0,
                            "#0d0887"
                          ],
                          [
                            0.1111111111111111,
                            "#46039f"
                          ],
                          [
                            0.2222222222222222,
                            "#7201a8"
                          ],
                          [
                            0.3333333333333333,
                            "#9c179e"
                          ],
                          [
                            0.4444444444444444,
                            "#bd3786"
                          ],
                          [
                            0.5555555555555556,
                            "#d8576b"
                          ],
                          [
                            0.6666666666666666,
                            "#ed7953"
                          ],
                          [
                            0.7777777777777778,
                            "#fb9f3a"
                          ],
                          [
                            0.8888888888888888,
                            "#fdca26"
                          ],
                          [
                            1,
                            "#f0f921"
                          ]
                        ],
                        "type": "surface"
                      }
                    ],
                    "table": [
                      {
                        "cells": {
                          "fill": {
                            "color": "#EBF0F8"
                          },
                          "line": {
                            "color": "white"
                          }
                        },
                        "header": {
                          "fill": {
                            "color": "#C8D4E3"
                          },
                          "line": {
                            "color": "white"
                          }
                        },
                        "type": "table"
                      }
                    ]
                  },
                  "layout": {
                    "annotationdefaults": {
                      "arrowcolor": "#2a3f5f",
                      "arrowhead": 0,
                      "arrowwidth": 1
                    },
                    "autotypenumbers": "strict",
                    "coloraxis": {
                      "colorbar": {
                        "outlinewidth": 0,
                        "ticks": ""
                      }
                    },
                    "colorscale": {
                      "diverging": [
                        [
                          0,
                          "#8e0152"
                        ],
                        [
                          0.1,
                          "#c51b7d"
                        ],
                        [
                          0.2,
                          "#de77ae"
                        ],
                        [
                          0.3,
                          "#f1b6da"
                        ],
                        [
                          0.4,
                          "#fde0ef"
                        ],
                        [
                          0.5,
                          "#f7f7f7"
                        ],
                        [
                          0.6,
                          "#e6f5d0"
                        ],
                        [
                          0.7,
                          "#b8e186"
                        ],
                        [
                          0.8,
                          "#7fbc41"
                        ],
                        [
                          0.9,
                          "#4d9221"
                        ],
                        [
                          1,
                          "#276419"
                        ]
                      ],
                      "sequential": [
                        [
                          0,
                          "#0d0887"
                        ],
                        [
                          0.1111111111111111,
                          "#46039f"
                        ],
                        [
                          0.2222222222222222,
                          "#7201a8"
                        ],
                        [
                          0.3333333333333333,
                          "#9c179e"
                        ],
                        [
                          0.4444444444444444,
                          "#bd3786"
                        ],
                        [
                          0.5555555555555556,
                          "#d8576b"
                        ],
                        [
                          0.6666666666666666,
                          "#ed7953"
                        ],
                        [
                          0.7777777777777778,
                          "#fb9f3a"
                        ],
                        [
                          0.8888888888888888,
                          "#fdca26"
                        ],
                        [
                          1,
                          "#f0f921"
                        ]
                      ],
                      "sequentialminus": [
                        [
                          0,
                          "#0d0887"
                        ],
                        [
                          0.1111111111111111,
                          "#46039f"
                        ],
                        [
                          0.2222222222222222,
                          "#7201a8"
                        ],
                        [
                          0.3333333333333333,
                          "#9c179e"
                        ],
                        [
                          0.4444444444444444,
                          "#bd3786"
                        ],
                        [
                          0.5555555555555556,
                          "#d8576b"
                        ],
                        [
                          0.6666666666666666,
                          "#ed7953"
                        ],
                        [
                          0.7777777777777778,
                          "#fb9f3a"
                        ],
                        [
                          0.8888888888888888,
                          "#fdca26"
                        ],
                        [
                          1,
                          "#f0f921"
                        ]
                      ]
                    },
                    "colorway": [
                      "#636efa",
                      "#EF553B",
                      "#00cc96",
                      "#ab63fa",
                      "#FFA15A",
                      "#19d3f3",
                      "#FF6692",
                      "#B6E880",
                      "#FF97FF",
                      "#FECB52"
                    ],
                    "font": {
                      "color": "#2a3f5f"
                    },
                    "geo": {
                      "bgcolor": "white",
                      "lakecolor": "white",
                      "landcolor": "#E5ECF6",
                      "showlakes": true,
                      "showland": true,
                      "subunitcolor": "white"
                    },
                    "hoverlabel": {
                      "align": "left"
                    },
                    "hovermode": "closest",
                    "mapbox": {
                      "style": "light"
                    },
                    "paper_bgcolor": "white",
                    "plot_bgcolor": "#E5ECF6",
                    "polar": {
                      "angularaxis": {
                        "gridcolor": "white",
                        "linecolor": "white",
                        "ticks": ""
                      },
                      "bgcolor": "#E5ECF6",
                      "radialaxis": {
                        "gridcolor": "white",
                        "linecolor": "white",
                        "ticks": ""
                      }
                    },
                    "scene": {
                      "xaxis": {
                        "backgroundcolor": "#E5ECF6",
                        "gridcolor": "white",
                        "gridwidth": 2,
                        "linecolor": "white",
                        "showbackground": true,
                        "ticks": "",
                        "zerolinecolor": "white"
                      },
                      "yaxis": {
                        "backgroundcolor": "#E5ECF6",
                        "gridcolor": "white",
                        "gridwidth": 2,
                        "linecolor": "white",
                        "showbackground": true,
                        "ticks": "",
                        "zerolinecolor": "white"
                      },
                      "zaxis": {
                        "backgroundcolor": "#E5ECF6",
                        "gridcolor": "white",
                        "gridwidth": 2,
                        "linecolor": "white",
                        "showbackground": true,
                        "ticks": "",
                        "zerolinecolor": "white"
                      }
                    },
                    "shapedefaults": {
                      "line": {
                        "color": "#2a3f5f"
                      }
                    },
                    "ternary": {
                      "aaxis": {
                        "gridcolor": "white",
                        "linecolor": "white",
                        "ticks": ""
                      },
                      "baxis": {
                        "gridcolor": "white",
                        "linecolor": "white",
                        "ticks": ""
                      },
                      "bgcolor": "#E5ECF6",
                      "caxis": {
                        "gridcolor": "white",
                        "linecolor": "white",
                        "ticks": ""
                      }
                    },
                    "title": {
                      "x": 0.05
                    },
                    "xaxis": {
                      "automargin": true,
                      "gridcolor": "white",
                      "linecolor": "white",
                      "ticks": "",
                      "title": {
                        "standoff": 15
                      },
                      "zerolinecolor": "white",
                      "zerolinewidth": 2
                    },
                    "yaxis": {
                      "automargin": true,
                      "gridcolor": "white",
                      "linecolor": "white",
                      "ticks": "",
                      "title": {
                        "standoff": 15
                      },
                      "zerolinecolor": "white",
                      "zerolinewidth": 2
                    }
                  }
                },
                "width": 1000,
                "xaxis": {
                  "anchor": "y",
                  "domain": [
                    0,
                    0.45
                  ],
                  "title": {
                    "text": "Predicted MPG (Yhat)"
                  }
                },
                "xaxis2": {
                  "anchor": "y2",
                  "domain": [
                    0.55,
                    1
                  ]
                },
                "yaxis": {
                  "anchor": "x",
                  "domain": [
                    0,
                    1
                  ],
                  "title": {
                    "text": "Actual MPG (Y)"
                  }
                },
                "yaxis2": {
                  "anchor": "x2",
                  "domain": [
                    0,
                    1
                  ],
                  "title": {
                    "text": "RMSE"
                  }
                }
              }
            }
          },
          "metadata": {},
          "output_type": "display_data"
        }
      ],
      "source": [
        "# Initialize the Linear Regression model\n",
        "ohe_model = LinearRegression()\n",
        "\n",
        "# Evaluate the one-hot encoded model\n",
        "evaluate_model(\"One-Hot Encoded Linear Regression\", ohe_model, sklearn_ohe_design_matrix, data, models)"
      ]
    },
    {
      "cell_type": "markdown",
      "metadata": {},
      "source": [
        "### *5.5 ~ Evaluating the Imputed Model*\n",
        "\n",
        "Finally, we handle missing values by imputing them and evaluate the corresponding model."
      ]
    },
    {
      "cell_type": "code",
      "execution_count": 13,
      "metadata": {},
      "outputs": [
        {
          "name": "stdout",
          "output_type": "stream",
          "text": [
            "Model: Imputed Linear Regression\n",
            "Root Mean Squared Error (RMSE): 2.4913\n",
            "\n"
          ]
        },
        {
          "data": {
            "application/vnd.plotly.v1+json": {
              "config": {
                "plotlyServerURL": "https://plot.ly"
              },
              "data": [
                {
                  "mode": "markers",
                  "name": "Imputed Linear Regression",
                  "type": "scatter",
                  "x": [
                    17.375302970333905,
                    15.245264350442994,
                    16.689084707751135,
                    15.397612734214817,
                    17.18309623081859,
                    13.495682033149023,
                    13.640634744703675,
                    13.81760913571543,
                    14.247549588729271,
                    13.732430664115782,
                    15.178734562544378,
                    15.317820363948158,
                    16.507408422986373,
                    15.01917920888718,
                    25.69047140586281,
                    19.495494818688712,
                    20.0161230742915,
                    21.677463091061327,
                    28.354311881254944,
                    30.80264133726905,
                    23.63344597829655,
                    25.460098484513765,
                    25.388723301702157,
                    25.675579777701387,
                    21.19103051075672,
                    11.3995066327725,
                    11.491170674214118,
                    12.350162445592105,
                    10.167272935605979,
                    26.953007248112044,
                    22.567404410953714,
                    25.507764041087285,
                    24.259797625672036,
                    20.474953340380125,
                    16.001303446136262,
                    16.65207646957333,
                    17.4353924240595,
                    16.448224574330197,
                    13.623019337896949,
                    13.294542358328727,
                    12.866744949092208,
                    13.454497115307277,
                    12.465320059635815,
                    13.098346708145073,
                    11.793436696788376,
                    17.53135065679362,
                    21.876107360133574,
                    16.849176097200143,
                    18.10985004925078,
                    24.217710030293347,
                    25.47200487486498,
                    28.676048508260465,
                    28.342347520979274,
                    30.73689791241668,
                    30.190205303728362,
                    27.761354222734553,
                    26.88109143906422,
                    24.53079654215071,
                    25.816628438350563,
                    29.77538123241993,
                    20.47536633481195,
                    23.408862113975374,
                    13.472328159220524,
                    12.62066775920266,
                    12.824410210642782,
                    13.094964777591485,
                    13.979302245380495,
                    11.716156532637797,
                    12.752568904149484,
                    12.432663282058456,
                    11.588874021544143,
                    18.253241528944272,
                    13.070132998526788,
                    13.948069204469903,
                    12.344517674598137,
                    12.398944918014422,
                    18.717925316906076,
                    22.425818918361074,
                    18.993602924453626,
                    26.16375506444183,
                    22.499133221287593,
                    25.323831317977238,
                    22.71001344573415,
                    26.015202660471004,
                    26.57869201856738,
                    12.244313301219336,
                    14.47948595571961,
                    14.148740261432067,
                    13.124048609633064,
                    14.123016478165482,
                    11.427812852548414,
                    14.753270341462667,
                    13.403015174909342,
                    12.761691595585035,
                    12.580480364259529,
                    12.43383306638043,
                    12.995507630314933,
                    16.962940554717534,
                    16.582163466239763,
                    17.823360290897654,
                    18.509309606940406,
                    18.032906786384956,
                    29.864600896048614,
                    12.390781570212312,
                    12.79563970219806,
                    11.8924810175331,
                    12.737921918708707,
                    18.66457853859265,
                    25.33286805161424,
                    22.05200404957668,
                    24.264108268275777,
                    20.248848660415206,
                    22.877269118223012,
                    20.576524250763214,
                    26.0116870900265,
                    14.2075060649031,
                    14.430808848043853,
                    33.31365766986619,
                    25.949813712118157,
                    23.017183366299832,
                    19.289196474211167,
                    15.641482099551467,
                    21.013554725609538,
                    19.236535648363315,
                    13.630150505497113,
                    17.80593698177563,
                    18.365128463497058,
                    18.627238212716293,
                    17.398930798043693,
                    30.822279816794435,
                    23.5854607097981,
                    31.906145928357546,
                    22.54929665941654,
                    16.972978867396705,
                    15.532778472504106,
                    16.640479173079257,
                    13.878335607913868,
                    13.532252971802336,
                    14.131014425845024,
                    13.540702894081733,
                    12.572099060917935,
                    27.207477099752396,
                    31.15327357823935,
                    27.019438227366663,
                    32.55119746256696,
                    30.019518212978255,
                    27.85555961195405,
                    28.312550580690186,
                    26.614809142681224,
                    23.77687854351916,
                    24.920504976503253,
                    31.029936931464363,
                    18.303702817831436,
                    17.42786030284151,
                    18.766632596745694,
                    19.041539571828253,
                    14.917415592468387,
                    14.664673172601397,
                    13.940241389080256,
                    14.72522356839363,
                    16.15274555744145,
                    16.586970719852616,
                    15.495511081129735,
                    16.8446334223172,
                    18.212569805400562,
                    17.797205636097715,
                    17.61861748377123,
                    28.58591595972848,
                    22.012276811665288,
                    19.01947234135332,
                    21.99845321862631,
                    23.288511873132848,
                    28.41564515032951,
                    24.12640977835781,
                    18.428307779324314,
                    30.14660496691795,
                    18.46664683115341,
                    22.683411251216967,
                    21.51568205190415,
                    21.123644144430727,
                    22.06922434835724,
                    31.624069067355776,
                    25.687978793381262,
                    26.73448512646246,
                    22.595064806344453,
                    27.251002483466436,
                    27.67055108004024,
                    15.990060108830221,
                    15.373622004957724,
                    16.121113583451006,
                    15.477575128576063,
                    18.601850507136987,
                    18.371236335020512,
                    19.985265940435056,
                    19.193953858331952,
                    32.27155916364245,
                    29.710555756530084,
                    30.53230607761361,
                    32.16145606603368,
                    17.616879442939535,
                    18.72881118964142,
                    17.450086439781444,
                    18.26205968940485,
                    31.867898164005965,
                    31.410122166998008,
                    29.141948545263404,
                    24.515923303299132,
                    20.936170174583822,
                    15.036725050202222,
                    21.233731499602072,
                    20.339497488973393,
                    17.099469422779293,
                    14.656535780162812,
                    16.75571978230255,
                    14.95530125127516,
                    14.348081450876634,
                    30.688662127902717,
                    28.404406776296128,
                    33.213833940960285,
                    25.56088768300924,
                    32.52173703590233,
                    16.87999419843527,
                    16.203700778035454,
                    16.075190648364696,
                    16.199985835331063,
                    18.501942438130754,
                    18.7756549755004,
                    18.578260086277623,
                    18.379075141955582,
                    15.993238943920915,
                    16.591278495340703,
                    14.88273464464055,
                    15.409384654333735,
                    30.42147462173216,
                    22.889100532161137,
                    29.04522045981139,
                    22.630710179032576,
                    30.437535945068703,
                    29.20368100296855,
                    31.251056220409737,
                    29.720019271883757,
                    22.070557034046942,
                    24.89130375501827,
                    17.467054732745964,
                    34.322073740419,
                    32.5274215319896,
                    35.21006222017695,
                    33.07100613859893,
                    34.15782293423126,
                    18.910643832814458,
                    18.28369359863609,
                    18.36977516126899,
                    19.309481504713403,
                    20.97071713098012,
                    22.748027527448357,
                    24.429399570124588,
                    20.501992555264223,
                    21.43279581347997,
                    20.49319663374081,
                    22.271076990529764,
                    19.085701261845315,
                    19.08902875356398,
                    17.989711453285054,
                    17.19563409413422,
                    20.435750207603633,
                    17.977274767699782,
                    31.232533022315693,
                    26.66648493037519,
                    28.867503421945912,
                    30.390061268610225,
                    26.681465177379323,
                    23.707848424865006,
                    23.751267572681172,
                    28.193892685315404,
                    26.656919895460305,
                    20.789333457145403,
                    23.53241794560745,
                    18.771803097184602,
                    32.68084092433128,
                    32.48391944084233,
                    21.978754612385274,
                    23.876312081586548,
                    25.132467995722436,
                    22.68610546034415,
                    21.87513903830859,
                    19.464451217959322,
                    20.198852270107636,
                    20.21842163169731,
                    19.300543526839647,
                    18.27276396439356,
                    19.165525475372306,
                    19.699948305821636,
                    18.747219551075432,
                    35.00733386533739,
                    36.48679909473594,
                    33.378680540151436,
                    27.527295364284328,
                    25.575170191737016,
                    19.838055412145877,
                    29.701224574720072,
                    22.294365012488015,
                    33.56992346256902,
                    32.77536695411345,
                    35.12322797986508,
                    34.24043650766089,
                    26.481584789541557,
                    27.168002602408706,
                    25.1235222758487,
                    28.29230766625642,
                    34.81661173143766,
                    36.30953422229777,
                    34.512721679562674,
                    37.642556868423526,
                    27.79110727619991,
                    26.293302315971232,
                    25.198537432701414,
                    23.763034194984357,
                    33.979190111456774,
                    28.881691292356663,
                    30.97893726818711,
                    31.432710096060873,
                    33.341943869093484,
                    36.91394835810115,
                    26.941079088854167,
                    36.15212841354787,
                    37.32905158087124,
                    38.47461143946384,
                    29.868567548046485,
                    27.201151220926477,
                    37.47973987903151,
                    34.54375118479038,
                    34.94973536393718,
                    36.55854712503242,
                    27.15228399951866,
                    26.230904439732512,
                    30.21586062960523,
                    25.967636136414512,
                    33.60156917707263,
                    30.18448618769071,
                    28.957164586807266,
                    29.28419420073078,
                    27.561922953309477,
                    32.22763888597365,
                    39.550648243385695,
                    37.3966133959093,
                    39.254283346484044,
                    35.93709129919898,
                    37.15773181102577,
                    37.08442664677659,
                    37.130166538719095,
                    34.89051512421611,
                    35.69265096434356,
                    33.15604007265392,
                    35.1444699003805,
                    32.39085948462889,
                    34.820491366638635,
                    33.30450387136898,
                    30.5466273126558,
                    30.758922494326725,
                    26.353314026764565,
                    25.545455645675247,
                    27.83898116405635,
                    25.72557807861176,
                    23.858609301592878,
                    22.467738480359913,
                    25.801710389370783,
                    25.180964327142647,
                    29.3478609017111,
                    29.5022779197825,
                    31.194680974949733,
                    30.721310873334005,
                    29.823237906752183,
                    27.53813871606326,
                    26.993190294131637,
                    24.709361422381335,
                    35.49717314400368,
                    36.37522281369729,
                    36.76720915845635,
                    35.27013876479032,
                    34.73711563147663,
                    33.33374036296573,
                    34.68452884862836,
                    34.09386774178256,
                    37.22984038274717,
                    37.13843394199921,
                    37.04262985382502,
                    24.886776634393755,
                    26.35855760893901,
                    29.321906495231815,
                    25.443612493585533,
                    30.184810846693836,
                    32.107338856410934,
                    26.754364867101685,
                    27.753800733007665,
                    40.15467702852584,
                    33.863394849067845,
                    29.074263814211008,
                    28.54977923950719
                  ],
                  "xaxis": "x",
                  "y": [
                    18,
                    15,
                    18,
                    16,
                    17,
                    15,
                    14,
                    14,
                    14,
                    15,
                    15,
                    14,
                    15,
                    14,
                    24,
                    22,
                    18,
                    21,
                    27,
                    26,
                    25,
                    24,
                    25,
                    26,
                    21,
                    10,
                    10,
                    11,
                    9,
                    27,
                    28,
                    25,
                    25,
                    19,
                    16,
                    17,
                    19,
                    18,
                    14,
                    14,
                    14,
                    14,
                    12,
                    13,
                    13,
                    18,
                    22,
                    19,
                    18,
                    23,
                    28,
                    30,
                    30,
                    31,
                    35,
                    27,
                    26,
                    24,
                    25,
                    23,
                    20,
                    21,
                    13,
                    14,
                    15,
                    14,
                    17,
                    11,
                    13,
                    12,
                    13,
                    19,
                    15,
                    13,
                    13,
                    14,
                    18,
                    22,
                    21,
                    26,
                    22,
                    28,
                    23,
                    28,
                    27,
                    13,
                    14,
                    13,
                    14,
                    15,
                    12,
                    13,
                    13,
                    14,
                    13,
                    12,
                    13,
                    18,
                    16,
                    18,
                    18,
                    23,
                    26,
                    11,
                    12,
                    13,
                    12,
                    18,
                    20,
                    21,
                    22,
                    18,
                    19,
                    21,
                    26,
                    15,
                    16,
                    29,
                    24,
                    20,
                    19,
                    15,
                    24,
                    20,
                    11,
                    20,
                    21,
                    19,
                    15,
                    31,
                    26,
                    32,
                    25,
                    16,
                    16,
                    18,
                    16,
                    13,
                    14,
                    14,
                    14,
                    29,
                    26,
                    26,
                    31,
                    32,
                    28,
                    24,
                    26,
                    24,
                    26,
                    31,
                    19,
                    18,
                    15,
                    15,
                    16,
                    15,
                    16,
                    14,
                    17,
                    16,
                    15,
                    18,
                    21,
                    20,
                    13,
                    29,
                    23,
                    20,
                    23,
                    24,
                    25,
                    24,
                    18,
                    29,
                    19,
                    23,
                    23,
                    22,
                    25,
                    33,
                    28,
                    25,
                    25,
                    26,
                    27,
                    17.5,
                    16,
                    15.5,
                    14.5,
                    22,
                    22,
                    24,
                    22.5,
                    29,
                    24.5,
                    29,
                    33,
                    20,
                    18,
                    18.5,
                    17.5,
                    29.5,
                    32,
                    28,
                    26.5,
                    20,
                    13,
                    19,
                    19,
                    16.5,
                    16.5,
                    13,
                    13,
                    13,
                    31.5,
                    30,
                    36,
                    25.5,
                    33.5,
                    17.5,
                    17,
                    15.5,
                    15,
                    17.5,
                    20.5,
                    19,
                    18.5,
                    16,
                    15.5,
                    15.5,
                    16,
                    29,
                    24.5,
                    26,
                    25.5,
                    30.5,
                    33.5,
                    30,
                    30.5,
                    22,
                    21.5,
                    21.5,
                    43.1,
                    36.1,
                    32.8,
                    39.4,
                    36.1,
                    19.9,
                    19.4,
                    20.2,
                    19.2,
                    20.5,
                    20.2,
                    25.1,
                    20.5,
                    19.4,
                    20.6,
                    20.8,
                    18.6,
                    18.1,
                    19.2,
                    17.7,
                    18.1,
                    17.5,
                    30,
                    27.5,
                    27.2,
                    30.9,
                    21.1,
                    23.2,
                    23.8,
                    23.9,
                    20.3,
                    17,
                    21.6,
                    16.2,
                    31.5,
                    29.5,
                    21.5,
                    19.8,
                    22.3,
                    20.2,
                    20.6,
                    17,
                    17.6,
                    16.5,
                    18.2,
                    16.9,
                    15.5,
                    19.2,
                    18.5,
                    31.9,
                    34.1,
                    35.7,
                    27.4,
                    25.4,
                    23,
                    27.2,
                    23.9,
                    34.2,
                    34.5,
                    31.8,
                    37.3,
                    28.4,
                    28.8,
                    26.8,
                    33.5,
                    41.5,
                    38.1,
                    32.1,
                    37.2,
                    28,
                    26.4,
                    24.3,
                    19.1,
                    34.3,
                    29.8,
                    31.3,
                    37,
                    32.2,
                    46.6,
                    27.9,
                    40.8,
                    44.3,
                    43.4,
                    36.4,
                    30,
                    44.6,
                    40.9,
                    33.8,
                    29.8,
                    32.7,
                    23.7,
                    35,
                    23.6,
                    32.4,
                    27.2,
                    26.6,
                    25.8,
                    23.5,
                    30,
                    39.1,
                    39,
                    35.1,
                    32.3,
                    37,
                    37.7,
                    34.1,
                    34.7,
                    34.4,
                    29.9,
                    33,
                    34.5,
                    33.7,
                    32.4,
                    32.9,
                    31.6,
                    28.1,
                    30.7,
                    25.4,
                    24.2,
                    22.4,
                    26.6,
                    20.2,
                    17.6,
                    28,
                    27,
                    34,
                    31,
                    29,
                    27,
                    24,
                    23,
                    36,
                    37,
                    31,
                    38,
                    36,
                    36,
                    36,
                    34,
                    38,
                    32,
                    38,
                    25,
                    38,
                    26,
                    22,
                    32,
                    36,
                    27,
                    27,
                    44,
                    32,
                    28,
                    31
                  ],
                  "yaxis": "y"
                },
                {
                  "mode": "lines",
                  "name": "y = yhat",
                  "type": "scatter",
                  "x": [
                    9,
                    46.6
                  ],
                  "xaxis": "x",
                  "y": [
                    9,
                    46.6
                  ],
                  "yaxis": "y"
                },
                {
                  "name": "RMSE",
                  "type": "bar",
                  "x": [
                    "Basic Linear Regression",
                    "Nonlinear Linear Regression",
                    "One-Hot Encoded Linear Regression",
                    "Imputed Linear Regression"
                  ],
                  "xaxis": "x2",
                  "y": [
                    3.4044340177796406,
                    2.4964145832575175,
                    2.4729465198048013,
                    2.49129135266219
                  ],
                  "yaxis": "y2"
                }
              ],
              "layout": {
                "annotations": [
                  {
                    "font": {
                      "size": 16
                    },
                    "showarrow": false,
                    "text": "Actual vs Predicted MPG",
                    "x": 0.225,
                    "xanchor": "center",
                    "xref": "paper",
                    "y": 1,
                    "yanchor": "bottom",
                    "yref": "paper"
                  },
                  {
                    "font": {
                      "size": 16
                    },
                    "showarrow": false,
                    "text": "Model RMSE Comparison",
                    "x": 0.775,
                    "xanchor": "center",
                    "xref": "paper",
                    "y": 1,
                    "yanchor": "bottom",
                    "yref": "paper"
                  }
                ],
                "height": 600,
                "showlegend": false,
                "template": {
                  "data": {
                    "bar": [
                      {
                        "error_x": {
                          "color": "#2a3f5f"
                        },
                        "error_y": {
                          "color": "#2a3f5f"
                        },
                        "marker": {
                          "line": {
                            "color": "#E5ECF6",
                            "width": 0.5
                          },
                          "pattern": {
                            "fillmode": "overlay",
                            "size": 10,
                            "solidity": 0.2
                          }
                        },
                        "type": "bar"
                      }
                    ],
                    "barpolar": [
                      {
                        "marker": {
                          "line": {
                            "color": "#E5ECF6",
                            "width": 0.5
                          },
                          "pattern": {
                            "fillmode": "overlay",
                            "size": 10,
                            "solidity": 0.2
                          }
                        },
                        "type": "barpolar"
                      }
                    ],
                    "carpet": [
                      {
                        "aaxis": {
                          "endlinecolor": "#2a3f5f",
                          "gridcolor": "white",
                          "linecolor": "white",
                          "minorgridcolor": "white",
                          "startlinecolor": "#2a3f5f"
                        },
                        "baxis": {
                          "endlinecolor": "#2a3f5f",
                          "gridcolor": "white",
                          "linecolor": "white",
                          "minorgridcolor": "white",
                          "startlinecolor": "#2a3f5f"
                        },
                        "type": "carpet"
                      }
                    ],
                    "choropleth": [
                      {
                        "colorbar": {
                          "outlinewidth": 0,
                          "ticks": ""
                        },
                        "type": "choropleth"
                      }
                    ],
                    "contour": [
                      {
                        "colorbar": {
                          "outlinewidth": 0,
                          "ticks": ""
                        },
                        "colorscale": [
                          [
                            0,
                            "#0d0887"
                          ],
                          [
                            0.1111111111111111,
                            "#46039f"
                          ],
                          [
                            0.2222222222222222,
                            "#7201a8"
                          ],
                          [
                            0.3333333333333333,
                            "#9c179e"
                          ],
                          [
                            0.4444444444444444,
                            "#bd3786"
                          ],
                          [
                            0.5555555555555556,
                            "#d8576b"
                          ],
                          [
                            0.6666666666666666,
                            "#ed7953"
                          ],
                          [
                            0.7777777777777778,
                            "#fb9f3a"
                          ],
                          [
                            0.8888888888888888,
                            "#fdca26"
                          ],
                          [
                            1,
                            "#f0f921"
                          ]
                        ],
                        "type": "contour"
                      }
                    ],
                    "contourcarpet": [
                      {
                        "colorbar": {
                          "outlinewidth": 0,
                          "ticks": ""
                        },
                        "type": "contourcarpet"
                      }
                    ],
                    "heatmap": [
                      {
                        "colorbar": {
                          "outlinewidth": 0,
                          "ticks": ""
                        },
                        "colorscale": [
                          [
                            0,
                            "#0d0887"
                          ],
                          [
                            0.1111111111111111,
                            "#46039f"
                          ],
                          [
                            0.2222222222222222,
                            "#7201a8"
                          ],
                          [
                            0.3333333333333333,
                            "#9c179e"
                          ],
                          [
                            0.4444444444444444,
                            "#bd3786"
                          ],
                          [
                            0.5555555555555556,
                            "#d8576b"
                          ],
                          [
                            0.6666666666666666,
                            "#ed7953"
                          ],
                          [
                            0.7777777777777778,
                            "#fb9f3a"
                          ],
                          [
                            0.8888888888888888,
                            "#fdca26"
                          ],
                          [
                            1,
                            "#f0f921"
                          ]
                        ],
                        "type": "heatmap"
                      }
                    ],
                    "heatmapgl": [
                      {
                        "colorbar": {
                          "outlinewidth": 0,
                          "ticks": ""
                        },
                        "colorscale": [
                          [
                            0,
                            "#0d0887"
                          ],
                          [
                            0.1111111111111111,
                            "#46039f"
                          ],
                          [
                            0.2222222222222222,
                            "#7201a8"
                          ],
                          [
                            0.3333333333333333,
                            "#9c179e"
                          ],
                          [
                            0.4444444444444444,
                            "#bd3786"
                          ],
                          [
                            0.5555555555555556,
                            "#d8576b"
                          ],
                          [
                            0.6666666666666666,
                            "#ed7953"
                          ],
                          [
                            0.7777777777777778,
                            "#fb9f3a"
                          ],
                          [
                            0.8888888888888888,
                            "#fdca26"
                          ],
                          [
                            1,
                            "#f0f921"
                          ]
                        ],
                        "type": "heatmapgl"
                      }
                    ],
                    "histogram": [
                      {
                        "marker": {
                          "pattern": {
                            "fillmode": "overlay",
                            "size": 10,
                            "solidity": 0.2
                          }
                        },
                        "type": "histogram"
                      }
                    ],
                    "histogram2d": [
                      {
                        "colorbar": {
                          "outlinewidth": 0,
                          "ticks": ""
                        },
                        "colorscale": [
                          [
                            0,
                            "#0d0887"
                          ],
                          [
                            0.1111111111111111,
                            "#46039f"
                          ],
                          [
                            0.2222222222222222,
                            "#7201a8"
                          ],
                          [
                            0.3333333333333333,
                            "#9c179e"
                          ],
                          [
                            0.4444444444444444,
                            "#bd3786"
                          ],
                          [
                            0.5555555555555556,
                            "#d8576b"
                          ],
                          [
                            0.6666666666666666,
                            "#ed7953"
                          ],
                          [
                            0.7777777777777778,
                            "#fb9f3a"
                          ],
                          [
                            0.8888888888888888,
                            "#fdca26"
                          ],
                          [
                            1,
                            "#f0f921"
                          ]
                        ],
                        "type": "histogram2d"
                      }
                    ],
                    "histogram2dcontour": [
                      {
                        "colorbar": {
                          "outlinewidth": 0,
                          "ticks": ""
                        },
                        "colorscale": [
                          [
                            0,
                            "#0d0887"
                          ],
                          [
                            0.1111111111111111,
                            "#46039f"
                          ],
                          [
                            0.2222222222222222,
                            "#7201a8"
                          ],
                          [
                            0.3333333333333333,
                            "#9c179e"
                          ],
                          [
                            0.4444444444444444,
                            "#bd3786"
                          ],
                          [
                            0.5555555555555556,
                            "#d8576b"
                          ],
                          [
                            0.6666666666666666,
                            "#ed7953"
                          ],
                          [
                            0.7777777777777778,
                            "#fb9f3a"
                          ],
                          [
                            0.8888888888888888,
                            "#fdca26"
                          ],
                          [
                            1,
                            "#f0f921"
                          ]
                        ],
                        "type": "histogram2dcontour"
                      }
                    ],
                    "mesh3d": [
                      {
                        "colorbar": {
                          "outlinewidth": 0,
                          "ticks": ""
                        },
                        "type": "mesh3d"
                      }
                    ],
                    "parcoords": [
                      {
                        "line": {
                          "colorbar": {
                            "outlinewidth": 0,
                            "ticks": ""
                          }
                        },
                        "type": "parcoords"
                      }
                    ],
                    "pie": [
                      {
                        "automargin": true,
                        "type": "pie"
                      }
                    ],
                    "scatter": [
                      {
                        "fillpattern": {
                          "fillmode": "overlay",
                          "size": 10,
                          "solidity": 0.2
                        },
                        "type": "scatter"
                      }
                    ],
                    "scatter3d": [
                      {
                        "line": {
                          "colorbar": {
                            "outlinewidth": 0,
                            "ticks": ""
                          }
                        },
                        "marker": {
                          "colorbar": {
                            "outlinewidth": 0,
                            "ticks": ""
                          }
                        },
                        "type": "scatter3d"
                      }
                    ],
                    "scattercarpet": [
                      {
                        "marker": {
                          "colorbar": {
                            "outlinewidth": 0,
                            "ticks": ""
                          }
                        },
                        "type": "scattercarpet"
                      }
                    ],
                    "scattergeo": [
                      {
                        "marker": {
                          "colorbar": {
                            "outlinewidth": 0,
                            "ticks": ""
                          }
                        },
                        "type": "scattergeo"
                      }
                    ],
                    "scattergl": [
                      {
                        "marker": {
                          "colorbar": {
                            "outlinewidth": 0,
                            "ticks": ""
                          }
                        },
                        "type": "scattergl"
                      }
                    ],
                    "scattermapbox": [
                      {
                        "marker": {
                          "colorbar": {
                            "outlinewidth": 0,
                            "ticks": ""
                          }
                        },
                        "type": "scattermapbox"
                      }
                    ],
                    "scatterpolar": [
                      {
                        "marker": {
                          "colorbar": {
                            "outlinewidth": 0,
                            "ticks": ""
                          }
                        },
                        "type": "scatterpolar"
                      }
                    ],
                    "scatterpolargl": [
                      {
                        "marker": {
                          "colorbar": {
                            "outlinewidth": 0,
                            "ticks": ""
                          }
                        },
                        "type": "scatterpolargl"
                      }
                    ],
                    "scatterternary": [
                      {
                        "marker": {
                          "colorbar": {
                            "outlinewidth": 0,
                            "ticks": ""
                          }
                        },
                        "type": "scatterternary"
                      }
                    ],
                    "surface": [
                      {
                        "colorbar": {
                          "outlinewidth": 0,
                          "ticks": ""
                        },
                        "colorscale": [
                          [
                            0,
                            "#0d0887"
                          ],
                          [
                            0.1111111111111111,
                            "#46039f"
                          ],
                          [
                            0.2222222222222222,
                            "#7201a8"
                          ],
                          [
                            0.3333333333333333,
                            "#9c179e"
                          ],
                          [
                            0.4444444444444444,
                            "#bd3786"
                          ],
                          [
                            0.5555555555555556,
                            "#d8576b"
                          ],
                          [
                            0.6666666666666666,
                            "#ed7953"
                          ],
                          [
                            0.7777777777777778,
                            "#fb9f3a"
                          ],
                          [
                            0.8888888888888888,
                            "#fdca26"
                          ],
                          [
                            1,
                            "#f0f921"
                          ]
                        ],
                        "type": "surface"
                      }
                    ],
                    "table": [
                      {
                        "cells": {
                          "fill": {
                            "color": "#EBF0F8"
                          },
                          "line": {
                            "color": "white"
                          }
                        },
                        "header": {
                          "fill": {
                            "color": "#C8D4E3"
                          },
                          "line": {
                            "color": "white"
                          }
                        },
                        "type": "table"
                      }
                    ]
                  },
                  "layout": {
                    "annotationdefaults": {
                      "arrowcolor": "#2a3f5f",
                      "arrowhead": 0,
                      "arrowwidth": 1
                    },
                    "autotypenumbers": "strict",
                    "coloraxis": {
                      "colorbar": {
                        "outlinewidth": 0,
                        "ticks": ""
                      }
                    },
                    "colorscale": {
                      "diverging": [
                        [
                          0,
                          "#8e0152"
                        ],
                        [
                          0.1,
                          "#c51b7d"
                        ],
                        [
                          0.2,
                          "#de77ae"
                        ],
                        [
                          0.3,
                          "#f1b6da"
                        ],
                        [
                          0.4,
                          "#fde0ef"
                        ],
                        [
                          0.5,
                          "#f7f7f7"
                        ],
                        [
                          0.6,
                          "#e6f5d0"
                        ],
                        [
                          0.7,
                          "#b8e186"
                        ],
                        [
                          0.8,
                          "#7fbc41"
                        ],
                        [
                          0.9,
                          "#4d9221"
                        ],
                        [
                          1,
                          "#276419"
                        ]
                      ],
                      "sequential": [
                        [
                          0,
                          "#0d0887"
                        ],
                        [
                          0.1111111111111111,
                          "#46039f"
                        ],
                        [
                          0.2222222222222222,
                          "#7201a8"
                        ],
                        [
                          0.3333333333333333,
                          "#9c179e"
                        ],
                        [
                          0.4444444444444444,
                          "#bd3786"
                        ],
                        [
                          0.5555555555555556,
                          "#d8576b"
                        ],
                        [
                          0.6666666666666666,
                          "#ed7953"
                        ],
                        [
                          0.7777777777777778,
                          "#fb9f3a"
                        ],
                        [
                          0.8888888888888888,
                          "#fdca26"
                        ],
                        [
                          1,
                          "#f0f921"
                        ]
                      ],
                      "sequentialminus": [
                        [
                          0,
                          "#0d0887"
                        ],
                        [
                          0.1111111111111111,
                          "#46039f"
                        ],
                        [
                          0.2222222222222222,
                          "#7201a8"
                        ],
                        [
                          0.3333333333333333,
                          "#9c179e"
                        ],
                        [
                          0.4444444444444444,
                          "#bd3786"
                        ],
                        [
                          0.5555555555555556,
                          "#d8576b"
                        ],
                        [
                          0.6666666666666666,
                          "#ed7953"
                        ],
                        [
                          0.7777777777777778,
                          "#fb9f3a"
                        ],
                        [
                          0.8888888888888888,
                          "#fdca26"
                        ],
                        [
                          1,
                          "#f0f921"
                        ]
                      ]
                    },
                    "colorway": [
                      "#636efa",
                      "#EF553B",
                      "#00cc96",
                      "#ab63fa",
                      "#FFA15A",
                      "#19d3f3",
                      "#FF6692",
                      "#B6E880",
                      "#FF97FF",
                      "#FECB52"
                    ],
                    "font": {
                      "color": "#2a3f5f"
                    },
                    "geo": {
                      "bgcolor": "white",
                      "lakecolor": "white",
                      "landcolor": "#E5ECF6",
                      "showlakes": true,
                      "showland": true,
                      "subunitcolor": "white"
                    },
                    "hoverlabel": {
                      "align": "left"
                    },
                    "hovermode": "closest",
                    "mapbox": {
                      "style": "light"
                    },
                    "paper_bgcolor": "white",
                    "plot_bgcolor": "#E5ECF6",
                    "polar": {
                      "angularaxis": {
                        "gridcolor": "white",
                        "linecolor": "white",
                        "ticks": ""
                      },
                      "bgcolor": "#E5ECF6",
                      "radialaxis": {
                        "gridcolor": "white",
                        "linecolor": "white",
                        "ticks": ""
                      }
                    },
                    "scene": {
                      "xaxis": {
                        "backgroundcolor": "#E5ECF6",
                        "gridcolor": "white",
                        "gridwidth": 2,
                        "linecolor": "white",
                        "showbackground": true,
                        "ticks": "",
                        "zerolinecolor": "white"
                      },
                      "yaxis": {
                        "backgroundcolor": "#E5ECF6",
                        "gridcolor": "white",
                        "gridwidth": 2,
                        "linecolor": "white",
                        "showbackground": true,
                        "ticks": "",
                        "zerolinecolor": "white"
                      },
                      "zaxis": {
                        "backgroundcolor": "#E5ECF6",
                        "gridcolor": "white",
                        "gridwidth": 2,
                        "linecolor": "white",
                        "showbackground": true,
                        "ticks": "",
                        "zerolinecolor": "white"
                      }
                    },
                    "shapedefaults": {
                      "line": {
                        "color": "#2a3f5f"
                      }
                    },
                    "ternary": {
                      "aaxis": {
                        "gridcolor": "white",
                        "linecolor": "white",
                        "ticks": ""
                      },
                      "baxis": {
                        "gridcolor": "white",
                        "linecolor": "white",
                        "ticks": ""
                      },
                      "bgcolor": "#E5ECF6",
                      "caxis": {
                        "gridcolor": "white",
                        "linecolor": "white",
                        "ticks": ""
                      }
                    },
                    "title": {
                      "x": 0.05
                    },
                    "xaxis": {
                      "automargin": true,
                      "gridcolor": "white",
                      "linecolor": "white",
                      "ticks": "",
                      "title": {
                        "standoff": 15
                      },
                      "zerolinecolor": "white",
                      "zerolinewidth": 2
                    },
                    "yaxis": {
                      "automargin": true,
                      "gridcolor": "white",
                      "linecolor": "white",
                      "ticks": "",
                      "title": {
                        "standoff": 15
                      },
                      "zerolinecolor": "white",
                      "zerolinewidth": 2
                    }
                  }
                },
                "width": 1000,
                "xaxis": {
                  "anchor": "y",
                  "domain": [
                    0,
                    0.45
                  ],
                  "title": {
                    "text": "Predicted MPG (Yhat)"
                  }
                },
                "xaxis2": {
                  "anchor": "y2",
                  "domain": [
                    0.55,
                    1
                  ]
                },
                "yaxis": {
                  "anchor": "x",
                  "domain": [
                    0,
                    1
                  ],
                  "title": {
                    "text": "Actual MPG (Y)"
                  }
                },
                "yaxis2": {
                  "anchor": "x2",
                  "domain": [
                    0,
                    1
                  ],
                  "title": {
                    "text": "RMSE"
                  }
                }
              }
            }
          },
          "metadata": {},
          "output_type": "display_data"
        }
      ],
      "source": [
        "def imputed_design_matrix(df):\n",
        "    \"\"\"\n",
        "    Creates a design matrix with imputed missing values.\n",
        "    \n",
        "    Parameters:\n",
        "    df (pd.DataFrame): The input dataframe.\n",
        "    \n",
        "    Returns:\n",
        "    pd.DataFrame: Design matrix with imputed values.\n",
        "    \"\"\"\n",
        "    X = sklearn_ohe_design_matrix(df).copy()\n",
        "    \n",
        "    # Impute missing values with the mean of each column\n",
        "    X = X.fillna(X.mean())\n",
        "    return X\n",
        "\n",
        "# Use the original dataframe with missing values\n",
        "original_df = df.copy()\n",
        "\n",
        "# Initialize the Linear Regression model\n",
        "imputed_model = LinearRegression()\n",
        "\n",
        "# Evaluate the imputed model\n",
        "evaluate_model(\"Imputed Linear Regression\", imputed_model, imputed_design_matrix, original_df, models)"
      ]
    },
    {
      "cell_type": "markdown",
      "metadata": {},
      "source": [
        "***\n",
        "\n",
        "## **6. Summary**\n",
        "\n",
        "Through this notebook, we demonstrated the importance of feature engineering in building predictive models. By progressively enhancing our design matrix with nonlinear transformations and categorical data encoding, we improved the model's performance as evidenced by decreasing RMSE values. Additionally, handling missing data through imputation further refined our model. However, it's essential to balance model complexity to avoid overfitting.\n",
        "\n",
        "For convenience, we define a comprehensive function that incorporates all feature engineering steps."
      ]
    },
    {
      "cell_type": "code",
      "execution_count": 14,
      "metadata": {},
      "outputs": [
        {
          "data": {
            "text/html": [
              "<div>\n",
              "<style scoped>\n",
              "    .dataframe tbody tr th:only-of-type {\n",
              "        vertical-align: middle;\n",
              "    }\n",
              "\n",
              "    .dataframe tbody tr th {\n",
              "        vertical-align: top;\n",
              "    }\n",
              "\n",
              "    .dataframe thead th {\n",
              "        text-align: right;\n",
              "    }\n",
              "</style>\n",
              "<table border=\"1\" class=\"dataframe\">\n",
              "  <thead>\n",
              "    <tr style=\"text-align: right;\">\n",
              "      <th></th>\n",
              "      <th>cylinders</th>\n",
              "      <th>displacement</th>\n",
              "      <th>horsepower</th>\n",
              "      <th>weight</th>\n",
              "      <th>acceleration</th>\n",
              "      <th>model_year</th>\n",
              "      <th>cylinders^2</th>\n",
              "      <th>cylinders^3</th>\n",
              "      <th>log_cylinders</th>\n",
              "      <th>sin_cylinders</th>\n",
              "      <th>...</th>\n",
              "      <th>acceleration^2</th>\n",
              "      <th>acceleration^3</th>\n",
              "      <th>log_acceleration</th>\n",
              "      <th>sin_acceleration</th>\n",
              "      <th>model_year^2</th>\n",
              "      <th>model_year^3</th>\n",
              "      <th>log_model_year</th>\n",
              "      <th>sin_model_year</th>\n",
              "      <th>origin_japan</th>\n",
              "      <th>origin_usa</th>\n",
              "    </tr>\n",
              "  </thead>\n",
              "  <tbody>\n",
              "    <tr>\n",
              "      <th>0</th>\n",
              "      <td>8</td>\n",
              "      <td>307.0</td>\n",
              "      <td>130.0</td>\n",
              "      <td>3504</td>\n",
              "      <td>12.0</td>\n",
              "      <td>70</td>\n",
              "      <td>64</td>\n",
              "      <td>512</td>\n",
              "      <td>2.079442</td>\n",
              "      <td>0.989358</td>\n",
              "      <td>...</td>\n",
              "      <td>144.00</td>\n",
              "      <td>1728.000</td>\n",
              "      <td>2.484907</td>\n",
              "      <td>-0.536573</td>\n",
              "      <td>4900</td>\n",
              "      <td>343000</td>\n",
              "      <td>4.248495</td>\n",
              "      <td>0.773891</td>\n",
              "      <td>0.0</td>\n",
              "      <td>1.0</td>\n",
              "    </tr>\n",
              "    <tr>\n",
              "      <th>1</th>\n",
              "      <td>8</td>\n",
              "      <td>350.0</td>\n",
              "      <td>165.0</td>\n",
              "      <td>3693</td>\n",
              "      <td>11.5</td>\n",
              "      <td>70</td>\n",
              "      <td>64</td>\n",
              "      <td>512</td>\n",
              "      <td>2.079442</td>\n",
              "      <td>0.989358</td>\n",
              "      <td>...</td>\n",
              "      <td>132.25</td>\n",
              "      <td>1520.875</td>\n",
              "      <td>2.442347</td>\n",
              "      <td>-0.875452</td>\n",
              "      <td>4900</td>\n",
              "      <td>343000</td>\n",
              "      <td>4.248495</td>\n",
              "      <td>0.773891</td>\n",
              "      <td>0.0</td>\n",
              "      <td>1.0</td>\n",
              "    </tr>\n",
              "    <tr>\n",
              "      <th>2</th>\n",
              "      <td>8</td>\n",
              "      <td>318.0</td>\n",
              "      <td>150.0</td>\n",
              "      <td>3436</td>\n",
              "      <td>11.0</td>\n",
              "      <td>70</td>\n",
              "      <td>64</td>\n",
              "      <td>512</td>\n",
              "      <td>2.079442</td>\n",
              "      <td>0.989358</td>\n",
              "      <td>...</td>\n",
              "      <td>121.00</td>\n",
              "      <td>1331.000</td>\n",
              "      <td>2.397895</td>\n",
              "      <td>-0.999990</td>\n",
              "      <td>4900</td>\n",
              "      <td>343000</td>\n",
              "      <td>4.248495</td>\n",
              "      <td>0.773891</td>\n",
              "      <td>0.0</td>\n",
              "      <td>1.0</td>\n",
              "    </tr>\n",
              "    <tr>\n",
              "      <th>3</th>\n",
              "      <td>8</td>\n",
              "      <td>304.0</td>\n",
              "      <td>150.0</td>\n",
              "      <td>3433</td>\n",
              "      <td>12.0</td>\n",
              "      <td>70</td>\n",
              "      <td>64</td>\n",
              "      <td>512</td>\n",
              "      <td>2.079442</td>\n",
              "      <td>0.989358</td>\n",
              "      <td>...</td>\n",
              "      <td>144.00</td>\n",
              "      <td>1728.000</td>\n",
              "      <td>2.484907</td>\n",
              "      <td>-0.536573</td>\n",
              "      <td>4900</td>\n",
              "      <td>343000</td>\n",
              "      <td>4.248495</td>\n",
              "      <td>0.773891</td>\n",
              "      <td>0.0</td>\n",
              "      <td>1.0</td>\n",
              "    </tr>\n",
              "    <tr>\n",
              "      <th>4</th>\n",
              "      <td>8</td>\n",
              "      <td>302.0</td>\n",
              "      <td>140.0</td>\n",
              "      <td>3449</td>\n",
              "      <td>10.5</td>\n",
              "      <td>70</td>\n",
              "      <td>64</td>\n",
              "      <td>512</td>\n",
              "      <td>2.079442</td>\n",
              "      <td>0.989358</td>\n",
              "      <td>...</td>\n",
              "      <td>110.25</td>\n",
              "      <td>1157.625</td>\n",
              "      <td>2.351375</td>\n",
              "      <td>-0.879696</td>\n",
              "      <td>4900</td>\n",
              "      <td>343000</td>\n",
              "      <td>4.248495</td>\n",
              "      <td>0.773891</td>\n",
              "      <td>0.0</td>\n",
              "      <td>1.0</td>\n",
              "    </tr>\n",
              "  </tbody>\n",
              "</table>\n",
              "<p>5 rows × 32 columns</p>\n",
              "</div>"
            ],
            "text/plain": [
              "   cylinders  displacement  horsepower  weight  acceleration  model_year  \\\n",
              "0          8         307.0       130.0    3504          12.0          70   \n",
              "1          8         350.0       165.0    3693          11.5          70   \n",
              "2          8         318.0       150.0    3436          11.0          70   \n",
              "3          8         304.0       150.0    3433          12.0          70   \n",
              "4          8         302.0       140.0    3449          10.5          70   \n",
              "\n",
              "   cylinders^2  cylinders^3  log_cylinders  sin_cylinders  ...  \\\n",
              "0           64          512       2.079442       0.989358  ...   \n",
              "1           64          512       2.079442       0.989358  ...   \n",
              "2           64          512       2.079442       0.989358  ...   \n",
              "3           64          512       2.079442       0.989358  ...   \n",
              "4           64          512       2.079442       0.989358  ...   \n",
              "\n",
              "   acceleration^2  acceleration^3  log_acceleration  sin_acceleration  \\\n",
              "0          144.00        1728.000          2.484907         -0.536573   \n",
              "1          132.25        1520.875          2.442347         -0.875452   \n",
              "2          121.00        1331.000          2.397895         -0.999990   \n",
              "3          144.00        1728.000          2.484907         -0.536573   \n",
              "4          110.25        1157.625          2.351375         -0.879696   \n",
              "\n",
              "   model_year^2  model_year^3  log_model_year  sin_model_year  origin_japan  \\\n",
              "0          4900        343000        4.248495        0.773891           0.0   \n",
              "1          4900        343000        4.248495        0.773891           0.0   \n",
              "2          4900        343000        4.248495        0.773891           0.0   \n",
              "3          4900        343000        4.248495        0.773891           0.0   \n",
              "4          4900        343000        4.248495        0.773891           0.0   \n",
              "\n",
              "   origin_usa  \n",
              "0         1.0  \n",
              "1         1.0  \n",
              "2         1.0  \n",
              "3         1.0  \n",
              "4         1.0  \n",
              "\n",
              "[5 rows x 32 columns]"
            ]
          },
          "execution_count": 14,
          "metadata": {},
          "output_type": "execute_result"
        }
      ],
      "source": [
        "# Define the final design matrix function without passing data_mean directly\n",
        "def get_design_matrix(df, data_mean=None):\n",
        "    \"\"\"\n",
        "    Creates a comprehensive design matrix with nonlinear features, one-hot encoding, and imputed missing values.\n",
        "    \n",
        "    Parameters:\n",
        "    df (pd.DataFrame): The input dataframe.\n",
        "    data_mean (pd.Series): Mean values for imputing missing data. If None, uses the mean of the design matrix.\n",
        "    \n",
        "    Returns:\n",
        "    pd.DataFrame: Final design matrix.\n",
        "    \"\"\"\n",
        "    # Generate the design matrix with nonlinear transformations and one-hot encoding\n",
        "    X = sklearn_ohe_design_matrix(df).copy()\n",
        "    \n",
        "    # Compute data_mean from the design matrix if not provided\n",
        "    if data_mean is None:\n",
        "        data_mean = X.mean()\n",
        "    \n",
        "    # Impute missing values with provided means\n",
        "    X = X.fillna(data_mean)\n",
        "    return X\n",
        "\n",
        "# Generate the final design matrix without passing data_mean directly from original_df\n",
        "final_design_matrix = get_design_matrix(original_df)\n",
        "final_design_matrix.head()"
      ]
    },
    {
      "cell_type": "code",
      "execution_count": 15,
      "metadata": {},
      "outputs": [
        {
          "name": "stdout",
          "output_type": "stream",
          "text": [
            "Model: Final Linear Regression\n",
            "Root Mean Squared Error (RMSE): 2.4913\n",
            "\n"
          ]
        },
        {
          "data": {
            "application/vnd.plotly.v1+json": {
              "config": {
                "plotlyServerURL": "https://plot.ly"
              },
              "data": [
                {
                  "mode": "markers",
                  "name": "Final Linear Regression",
                  "type": "scatter",
                  "x": [
                    17.375302970333905,
                    15.245264350442994,
                    16.689084707751135,
                    15.397612734214817,
                    17.18309623081859,
                    13.495682033149023,
                    13.640634744703675,
                    13.81760913571543,
                    14.247549588729271,
                    13.732430664115782,
                    15.178734562544378,
                    15.317820363948158,
                    16.507408422986373,
                    15.01917920888718,
                    25.69047140586281,
                    19.495494818688712,
                    20.0161230742915,
                    21.677463091061327,
                    28.354311881254944,
                    30.80264133726905,
                    23.63344597829655,
                    25.460098484513765,
                    25.388723301702157,
                    25.675579777701387,
                    21.19103051075672,
                    11.3995066327725,
                    11.491170674214118,
                    12.350162445592105,
                    10.167272935605979,
                    26.953007248112044,
                    22.567404410953714,
                    25.507764041087285,
                    24.259797625672036,
                    20.474953340380125,
                    16.001303446136262,
                    16.65207646957333,
                    17.4353924240595,
                    16.448224574330197,
                    13.623019337896949,
                    13.294542358328727,
                    12.866744949092208,
                    13.454497115307277,
                    12.465320059635815,
                    13.098346708145073,
                    11.793436696788376,
                    17.53135065679362,
                    21.876107360133574,
                    16.849176097200143,
                    18.10985004925078,
                    24.217710030293347,
                    25.47200487486498,
                    28.676048508260465,
                    28.342347520979274,
                    30.73689791241668,
                    30.190205303728362,
                    27.761354222734553,
                    26.88109143906422,
                    24.53079654215071,
                    25.816628438350563,
                    29.77538123241993,
                    20.47536633481195,
                    23.408862113975374,
                    13.472328159220524,
                    12.62066775920266,
                    12.824410210642782,
                    13.094964777591485,
                    13.979302245380495,
                    11.716156532637797,
                    12.752568904149484,
                    12.432663282058456,
                    11.588874021544143,
                    18.253241528944272,
                    13.070132998526788,
                    13.948069204469903,
                    12.344517674598137,
                    12.398944918014422,
                    18.717925316906076,
                    22.425818918361074,
                    18.993602924453626,
                    26.16375506444183,
                    22.499133221287593,
                    25.323831317977238,
                    22.71001344573415,
                    26.015202660471004,
                    26.57869201856738,
                    12.244313301219336,
                    14.47948595571961,
                    14.148740261432067,
                    13.124048609633064,
                    14.123016478165482,
                    11.427812852548414,
                    14.753270341462667,
                    13.403015174909342,
                    12.761691595585035,
                    12.580480364259529,
                    12.43383306638043,
                    12.995507630314933,
                    16.962940554717534,
                    16.582163466239763,
                    17.823360290897654,
                    18.509309606940406,
                    18.032906786384956,
                    29.864600896048614,
                    12.390781570212312,
                    12.79563970219806,
                    11.8924810175331,
                    12.737921918708707,
                    18.66457853859265,
                    25.33286805161424,
                    22.05200404957668,
                    24.264108268275777,
                    20.248848660415206,
                    22.877269118223012,
                    20.576524250763214,
                    26.0116870900265,
                    14.2075060649031,
                    14.430808848043853,
                    33.31365766986619,
                    25.949813712118157,
                    23.017183366299832,
                    19.289196474211167,
                    15.641482099551467,
                    21.013554725609538,
                    19.236535648363315,
                    13.630150505497113,
                    17.80593698177563,
                    18.365128463497058,
                    18.627238212716293,
                    17.398930798043693,
                    30.822279816794435,
                    23.5854607097981,
                    31.906145928357546,
                    22.54929665941654,
                    16.972978867396705,
                    15.532778472504106,
                    16.640479173079257,
                    13.878335607913868,
                    13.532252971802336,
                    14.131014425845024,
                    13.540702894081733,
                    12.572099060917935,
                    27.207477099752396,
                    31.15327357823935,
                    27.019438227366663,
                    32.55119746256696,
                    30.019518212978255,
                    27.85555961195405,
                    28.312550580690186,
                    26.614809142681224,
                    23.77687854351916,
                    24.920504976503253,
                    31.029936931464363,
                    18.303702817831436,
                    17.42786030284151,
                    18.766632596745694,
                    19.041539571828253,
                    14.917415592468387,
                    14.664673172601397,
                    13.940241389080256,
                    14.72522356839363,
                    16.15274555744145,
                    16.586970719852616,
                    15.495511081129735,
                    16.8446334223172,
                    18.212569805400562,
                    17.797205636097715,
                    17.61861748377123,
                    28.58591595972848,
                    22.012276811665288,
                    19.01947234135332,
                    21.99845321862631,
                    23.288511873132848,
                    28.41564515032951,
                    24.12640977835781,
                    18.428307779324314,
                    30.14660496691795,
                    18.46664683115341,
                    22.683411251216967,
                    21.51568205190415,
                    21.123644144430727,
                    22.06922434835724,
                    31.624069067355776,
                    25.687978793381262,
                    26.73448512646246,
                    22.595064806344453,
                    27.251002483466436,
                    27.67055108004024,
                    15.990060108830221,
                    15.373622004957724,
                    16.121113583451006,
                    15.477575128576063,
                    18.601850507136987,
                    18.371236335020512,
                    19.985265940435056,
                    19.193953858331952,
                    32.27155916364245,
                    29.710555756530084,
                    30.53230607761361,
                    32.16145606603368,
                    17.616879442939535,
                    18.72881118964142,
                    17.450086439781444,
                    18.26205968940485,
                    31.867898164005965,
                    31.410122166998008,
                    29.141948545263404,
                    24.515923303299132,
                    20.936170174583822,
                    15.036725050202222,
                    21.233731499602072,
                    20.339497488973393,
                    17.099469422779293,
                    14.656535780162812,
                    16.75571978230255,
                    14.95530125127516,
                    14.348081450876634,
                    30.688662127902717,
                    28.404406776296128,
                    33.213833940960285,
                    25.56088768300924,
                    32.52173703590233,
                    16.87999419843527,
                    16.203700778035454,
                    16.075190648364696,
                    16.199985835331063,
                    18.501942438130754,
                    18.7756549755004,
                    18.578260086277623,
                    18.379075141955582,
                    15.993238943920915,
                    16.591278495340703,
                    14.88273464464055,
                    15.409384654333735,
                    30.42147462173216,
                    22.889100532161137,
                    29.04522045981139,
                    22.630710179032576,
                    30.437535945068703,
                    29.20368100296855,
                    31.251056220409737,
                    29.720019271883757,
                    22.070557034046942,
                    24.89130375501827,
                    17.467054732745964,
                    34.322073740419,
                    32.5274215319896,
                    35.21006222017695,
                    33.07100613859893,
                    34.15782293423126,
                    18.910643832814458,
                    18.28369359863609,
                    18.36977516126899,
                    19.309481504713403,
                    20.97071713098012,
                    22.748027527448357,
                    24.429399570124588,
                    20.501992555264223,
                    21.43279581347997,
                    20.49319663374081,
                    22.271076990529764,
                    19.085701261845315,
                    19.08902875356398,
                    17.989711453285054,
                    17.19563409413422,
                    20.435750207603633,
                    17.977274767699782,
                    31.232533022315693,
                    26.66648493037519,
                    28.867503421945912,
                    30.390061268610225,
                    26.681465177379323,
                    23.707848424865006,
                    23.751267572681172,
                    28.193892685315404,
                    26.656919895460305,
                    20.789333457145403,
                    23.53241794560745,
                    18.771803097184602,
                    32.68084092433128,
                    32.48391944084233,
                    21.978754612385274,
                    23.876312081586548,
                    25.132467995722436,
                    22.68610546034415,
                    21.87513903830859,
                    19.464451217959322,
                    20.198852270107636,
                    20.21842163169731,
                    19.300543526839647,
                    18.27276396439356,
                    19.165525475372306,
                    19.699948305821636,
                    18.747219551075432,
                    35.00733386533739,
                    36.48679909473594,
                    33.378680540151436,
                    27.527295364284328,
                    25.575170191737016,
                    19.838055412145877,
                    29.701224574720072,
                    22.294365012488015,
                    33.56992346256902,
                    32.77536695411345,
                    35.12322797986508,
                    34.24043650766089,
                    26.481584789541557,
                    27.168002602408706,
                    25.1235222758487,
                    28.29230766625642,
                    34.81661173143766,
                    36.30953422229777,
                    34.512721679562674,
                    37.642556868423526,
                    27.79110727619991,
                    26.293302315971232,
                    25.198537432701414,
                    23.763034194984357,
                    33.979190111456774,
                    28.881691292356663,
                    30.97893726818711,
                    31.432710096060873,
                    33.341943869093484,
                    36.91394835810115,
                    26.941079088854167,
                    36.15212841354787,
                    37.32905158087124,
                    38.47461143946384,
                    29.868567548046485,
                    27.201151220926477,
                    37.47973987903151,
                    34.54375118479038,
                    34.94973536393718,
                    36.55854712503242,
                    27.15228399951866,
                    26.230904439732512,
                    30.21586062960523,
                    25.967636136414512,
                    33.60156917707263,
                    30.18448618769071,
                    28.957164586807266,
                    29.28419420073078,
                    27.561922953309477,
                    32.22763888597365,
                    39.550648243385695,
                    37.3966133959093,
                    39.254283346484044,
                    35.93709129919898,
                    37.15773181102577,
                    37.08442664677659,
                    37.130166538719095,
                    34.89051512421611,
                    35.69265096434356,
                    33.15604007265392,
                    35.1444699003805,
                    32.39085948462889,
                    34.820491366638635,
                    33.30450387136898,
                    30.5466273126558,
                    30.758922494326725,
                    26.353314026764565,
                    25.545455645675247,
                    27.83898116405635,
                    25.72557807861176,
                    23.858609301592878,
                    22.467738480359913,
                    25.801710389370783,
                    25.180964327142647,
                    29.3478609017111,
                    29.5022779197825,
                    31.194680974949733,
                    30.721310873334005,
                    29.823237906752183,
                    27.53813871606326,
                    26.993190294131637,
                    24.709361422381335,
                    35.49717314400368,
                    36.37522281369729,
                    36.76720915845635,
                    35.27013876479032,
                    34.73711563147663,
                    33.33374036296573,
                    34.68452884862836,
                    34.09386774178256,
                    37.22984038274717,
                    37.13843394199921,
                    37.04262985382502,
                    24.886776634393755,
                    26.35855760893901,
                    29.321906495231815,
                    25.443612493585533,
                    30.184810846693836,
                    32.107338856410934,
                    26.754364867101685,
                    27.753800733007665,
                    40.15467702852584,
                    33.863394849067845,
                    29.074263814211008,
                    28.54977923950719
                  ],
                  "xaxis": "x",
                  "y": [
                    18,
                    15,
                    18,
                    16,
                    17,
                    15,
                    14,
                    14,
                    14,
                    15,
                    15,
                    14,
                    15,
                    14,
                    24,
                    22,
                    18,
                    21,
                    27,
                    26,
                    25,
                    24,
                    25,
                    26,
                    21,
                    10,
                    10,
                    11,
                    9,
                    27,
                    28,
                    25,
                    25,
                    19,
                    16,
                    17,
                    19,
                    18,
                    14,
                    14,
                    14,
                    14,
                    12,
                    13,
                    13,
                    18,
                    22,
                    19,
                    18,
                    23,
                    28,
                    30,
                    30,
                    31,
                    35,
                    27,
                    26,
                    24,
                    25,
                    23,
                    20,
                    21,
                    13,
                    14,
                    15,
                    14,
                    17,
                    11,
                    13,
                    12,
                    13,
                    19,
                    15,
                    13,
                    13,
                    14,
                    18,
                    22,
                    21,
                    26,
                    22,
                    28,
                    23,
                    28,
                    27,
                    13,
                    14,
                    13,
                    14,
                    15,
                    12,
                    13,
                    13,
                    14,
                    13,
                    12,
                    13,
                    18,
                    16,
                    18,
                    18,
                    23,
                    26,
                    11,
                    12,
                    13,
                    12,
                    18,
                    20,
                    21,
                    22,
                    18,
                    19,
                    21,
                    26,
                    15,
                    16,
                    29,
                    24,
                    20,
                    19,
                    15,
                    24,
                    20,
                    11,
                    20,
                    21,
                    19,
                    15,
                    31,
                    26,
                    32,
                    25,
                    16,
                    16,
                    18,
                    16,
                    13,
                    14,
                    14,
                    14,
                    29,
                    26,
                    26,
                    31,
                    32,
                    28,
                    24,
                    26,
                    24,
                    26,
                    31,
                    19,
                    18,
                    15,
                    15,
                    16,
                    15,
                    16,
                    14,
                    17,
                    16,
                    15,
                    18,
                    21,
                    20,
                    13,
                    29,
                    23,
                    20,
                    23,
                    24,
                    25,
                    24,
                    18,
                    29,
                    19,
                    23,
                    23,
                    22,
                    25,
                    33,
                    28,
                    25,
                    25,
                    26,
                    27,
                    17.5,
                    16,
                    15.5,
                    14.5,
                    22,
                    22,
                    24,
                    22.5,
                    29,
                    24.5,
                    29,
                    33,
                    20,
                    18,
                    18.5,
                    17.5,
                    29.5,
                    32,
                    28,
                    26.5,
                    20,
                    13,
                    19,
                    19,
                    16.5,
                    16.5,
                    13,
                    13,
                    13,
                    31.5,
                    30,
                    36,
                    25.5,
                    33.5,
                    17.5,
                    17,
                    15.5,
                    15,
                    17.5,
                    20.5,
                    19,
                    18.5,
                    16,
                    15.5,
                    15.5,
                    16,
                    29,
                    24.5,
                    26,
                    25.5,
                    30.5,
                    33.5,
                    30,
                    30.5,
                    22,
                    21.5,
                    21.5,
                    43.1,
                    36.1,
                    32.8,
                    39.4,
                    36.1,
                    19.9,
                    19.4,
                    20.2,
                    19.2,
                    20.5,
                    20.2,
                    25.1,
                    20.5,
                    19.4,
                    20.6,
                    20.8,
                    18.6,
                    18.1,
                    19.2,
                    17.7,
                    18.1,
                    17.5,
                    30,
                    27.5,
                    27.2,
                    30.9,
                    21.1,
                    23.2,
                    23.8,
                    23.9,
                    20.3,
                    17,
                    21.6,
                    16.2,
                    31.5,
                    29.5,
                    21.5,
                    19.8,
                    22.3,
                    20.2,
                    20.6,
                    17,
                    17.6,
                    16.5,
                    18.2,
                    16.9,
                    15.5,
                    19.2,
                    18.5,
                    31.9,
                    34.1,
                    35.7,
                    27.4,
                    25.4,
                    23,
                    27.2,
                    23.9,
                    34.2,
                    34.5,
                    31.8,
                    37.3,
                    28.4,
                    28.8,
                    26.8,
                    33.5,
                    41.5,
                    38.1,
                    32.1,
                    37.2,
                    28,
                    26.4,
                    24.3,
                    19.1,
                    34.3,
                    29.8,
                    31.3,
                    37,
                    32.2,
                    46.6,
                    27.9,
                    40.8,
                    44.3,
                    43.4,
                    36.4,
                    30,
                    44.6,
                    40.9,
                    33.8,
                    29.8,
                    32.7,
                    23.7,
                    35,
                    23.6,
                    32.4,
                    27.2,
                    26.6,
                    25.8,
                    23.5,
                    30,
                    39.1,
                    39,
                    35.1,
                    32.3,
                    37,
                    37.7,
                    34.1,
                    34.7,
                    34.4,
                    29.9,
                    33,
                    34.5,
                    33.7,
                    32.4,
                    32.9,
                    31.6,
                    28.1,
                    30.7,
                    25.4,
                    24.2,
                    22.4,
                    26.6,
                    20.2,
                    17.6,
                    28,
                    27,
                    34,
                    31,
                    29,
                    27,
                    24,
                    23,
                    36,
                    37,
                    31,
                    38,
                    36,
                    36,
                    36,
                    34,
                    38,
                    32,
                    38,
                    25,
                    38,
                    26,
                    22,
                    32,
                    36,
                    27,
                    27,
                    44,
                    32,
                    28,
                    31
                  ],
                  "yaxis": "y"
                },
                {
                  "mode": "lines",
                  "name": "y = yhat",
                  "type": "scatter",
                  "x": [
                    9,
                    46.6
                  ],
                  "xaxis": "x",
                  "y": [
                    9,
                    46.6
                  ],
                  "yaxis": "y"
                },
                {
                  "name": "RMSE",
                  "type": "bar",
                  "x": [
                    "Basic Linear Regression",
                    "Nonlinear Linear Regression",
                    "One-Hot Encoded Linear Regression",
                    "Imputed Linear Regression",
                    "Final Linear Regression"
                  ],
                  "xaxis": "x2",
                  "y": [
                    3.4044340177796406,
                    2.4964145832575175,
                    2.4729465198048013,
                    2.49129135266219,
                    2.49129135266219
                  ],
                  "yaxis": "y2"
                }
              ],
              "layout": {
                "annotations": [
                  {
                    "font": {
                      "size": 16
                    },
                    "showarrow": false,
                    "text": "Actual vs Predicted MPG",
                    "x": 0.225,
                    "xanchor": "center",
                    "xref": "paper",
                    "y": 1,
                    "yanchor": "bottom",
                    "yref": "paper"
                  },
                  {
                    "font": {
                      "size": 16
                    },
                    "showarrow": false,
                    "text": "Model RMSE Comparison",
                    "x": 0.775,
                    "xanchor": "center",
                    "xref": "paper",
                    "y": 1,
                    "yanchor": "bottom",
                    "yref": "paper"
                  }
                ],
                "height": 600,
                "showlegend": false,
                "template": {
                  "data": {
                    "bar": [
                      {
                        "error_x": {
                          "color": "#2a3f5f"
                        },
                        "error_y": {
                          "color": "#2a3f5f"
                        },
                        "marker": {
                          "line": {
                            "color": "#E5ECF6",
                            "width": 0.5
                          },
                          "pattern": {
                            "fillmode": "overlay",
                            "size": 10,
                            "solidity": 0.2
                          }
                        },
                        "type": "bar"
                      }
                    ],
                    "barpolar": [
                      {
                        "marker": {
                          "line": {
                            "color": "#E5ECF6",
                            "width": 0.5
                          },
                          "pattern": {
                            "fillmode": "overlay",
                            "size": 10,
                            "solidity": 0.2
                          }
                        },
                        "type": "barpolar"
                      }
                    ],
                    "carpet": [
                      {
                        "aaxis": {
                          "endlinecolor": "#2a3f5f",
                          "gridcolor": "white",
                          "linecolor": "white",
                          "minorgridcolor": "white",
                          "startlinecolor": "#2a3f5f"
                        },
                        "baxis": {
                          "endlinecolor": "#2a3f5f",
                          "gridcolor": "white",
                          "linecolor": "white",
                          "minorgridcolor": "white",
                          "startlinecolor": "#2a3f5f"
                        },
                        "type": "carpet"
                      }
                    ],
                    "choropleth": [
                      {
                        "colorbar": {
                          "outlinewidth": 0,
                          "ticks": ""
                        },
                        "type": "choropleth"
                      }
                    ],
                    "contour": [
                      {
                        "colorbar": {
                          "outlinewidth": 0,
                          "ticks": ""
                        },
                        "colorscale": [
                          [
                            0,
                            "#0d0887"
                          ],
                          [
                            0.1111111111111111,
                            "#46039f"
                          ],
                          [
                            0.2222222222222222,
                            "#7201a8"
                          ],
                          [
                            0.3333333333333333,
                            "#9c179e"
                          ],
                          [
                            0.4444444444444444,
                            "#bd3786"
                          ],
                          [
                            0.5555555555555556,
                            "#d8576b"
                          ],
                          [
                            0.6666666666666666,
                            "#ed7953"
                          ],
                          [
                            0.7777777777777778,
                            "#fb9f3a"
                          ],
                          [
                            0.8888888888888888,
                            "#fdca26"
                          ],
                          [
                            1,
                            "#f0f921"
                          ]
                        ],
                        "type": "contour"
                      }
                    ],
                    "contourcarpet": [
                      {
                        "colorbar": {
                          "outlinewidth": 0,
                          "ticks": ""
                        },
                        "type": "contourcarpet"
                      }
                    ],
                    "heatmap": [
                      {
                        "colorbar": {
                          "outlinewidth": 0,
                          "ticks": ""
                        },
                        "colorscale": [
                          [
                            0,
                            "#0d0887"
                          ],
                          [
                            0.1111111111111111,
                            "#46039f"
                          ],
                          [
                            0.2222222222222222,
                            "#7201a8"
                          ],
                          [
                            0.3333333333333333,
                            "#9c179e"
                          ],
                          [
                            0.4444444444444444,
                            "#bd3786"
                          ],
                          [
                            0.5555555555555556,
                            "#d8576b"
                          ],
                          [
                            0.6666666666666666,
                            "#ed7953"
                          ],
                          [
                            0.7777777777777778,
                            "#fb9f3a"
                          ],
                          [
                            0.8888888888888888,
                            "#fdca26"
                          ],
                          [
                            1,
                            "#f0f921"
                          ]
                        ],
                        "type": "heatmap"
                      }
                    ],
                    "heatmapgl": [
                      {
                        "colorbar": {
                          "outlinewidth": 0,
                          "ticks": ""
                        },
                        "colorscale": [
                          [
                            0,
                            "#0d0887"
                          ],
                          [
                            0.1111111111111111,
                            "#46039f"
                          ],
                          [
                            0.2222222222222222,
                            "#7201a8"
                          ],
                          [
                            0.3333333333333333,
                            "#9c179e"
                          ],
                          [
                            0.4444444444444444,
                            "#bd3786"
                          ],
                          [
                            0.5555555555555556,
                            "#d8576b"
                          ],
                          [
                            0.6666666666666666,
                            "#ed7953"
                          ],
                          [
                            0.7777777777777778,
                            "#fb9f3a"
                          ],
                          [
                            0.8888888888888888,
                            "#fdca26"
                          ],
                          [
                            1,
                            "#f0f921"
                          ]
                        ],
                        "type": "heatmapgl"
                      }
                    ],
                    "histogram": [
                      {
                        "marker": {
                          "pattern": {
                            "fillmode": "overlay",
                            "size": 10,
                            "solidity": 0.2
                          }
                        },
                        "type": "histogram"
                      }
                    ],
                    "histogram2d": [
                      {
                        "colorbar": {
                          "outlinewidth": 0,
                          "ticks": ""
                        },
                        "colorscale": [
                          [
                            0,
                            "#0d0887"
                          ],
                          [
                            0.1111111111111111,
                            "#46039f"
                          ],
                          [
                            0.2222222222222222,
                            "#7201a8"
                          ],
                          [
                            0.3333333333333333,
                            "#9c179e"
                          ],
                          [
                            0.4444444444444444,
                            "#bd3786"
                          ],
                          [
                            0.5555555555555556,
                            "#d8576b"
                          ],
                          [
                            0.6666666666666666,
                            "#ed7953"
                          ],
                          [
                            0.7777777777777778,
                            "#fb9f3a"
                          ],
                          [
                            0.8888888888888888,
                            "#fdca26"
                          ],
                          [
                            1,
                            "#f0f921"
                          ]
                        ],
                        "type": "histogram2d"
                      }
                    ],
                    "histogram2dcontour": [
                      {
                        "colorbar": {
                          "outlinewidth": 0,
                          "ticks": ""
                        },
                        "colorscale": [
                          [
                            0,
                            "#0d0887"
                          ],
                          [
                            0.1111111111111111,
                            "#46039f"
                          ],
                          [
                            0.2222222222222222,
                            "#7201a8"
                          ],
                          [
                            0.3333333333333333,
                            "#9c179e"
                          ],
                          [
                            0.4444444444444444,
                            "#bd3786"
                          ],
                          [
                            0.5555555555555556,
                            "#d8576b"
                          ],
                          [
                            0.6666666666666666,
                            "#ed7953"
                          ],
                          [
                            0.7777777777777778,
                            "#fb9f3a"
                          ],
                          [
                            0.8888888888888888,
                            "#fdca26"
                          ],
                          [
                            1,
                            "#f0f921"
                          ]
                        ],
                        "type": "histogram2dcontour"
                      }
                    ],
                    "mesh3d": [
                      {
                        "colorbar": {
                          "outlinewidth": 0,
                          "ticks": ""
                        },
                        "type": "mesh3d"
                      }
                    ],
                    "parcoords": [
                      {
                        "line": {
                          "colorbar": {
                            "outlinewidth": 0,
                            "ticks": ""
                          }
                        },
                        "type": "parcoords"
                      }
                    ],
                    "pie": [
                      {
                        "automargin": true,
                        "type": "pie"
                      }
                    ],
                    "scatter": [
                      {
                        "fillpattern": {
                          "fillmode": "overlay",
                          "size": 10,
                          "solidity": 0.2
                        },
                        "type": "scatter"
                      }
                    ],
                    "scatter3d": [
                      {
                        "line": {
                          "colorbar": {
                            "outlinewidth": 0,
                            "ticks": ""
                          }
                        },
                        "marker": {
                          "colorbar": {
                            "outlinewidth": 0,
                            "ticks": ""
                          }
                        },
                        "type": "scatter3d"
                      }
                    ],
                    "scattercarpet": [
                      {
                        "marker": {
                          "colorbar": {
                            "outlinewidth": 0,
                            "ticks": ""
                          }
                        },
                        "type": "scattercarpet"
                      }
                    ],
                    "scattergeo": [
                      {
                        "marker": {
                          "colorbar": {
                            "outlinewidth": 0,
                            "ticks": ""
                          }
                        },
                        "type": "scattergeo"
                      }
                    ],
                    "scattergl": [
                      {
                        "marker": {
                          "colorbar": {
                            "outlinewidth": 0,
                            "ticks": ""
                          }
                        },
                        "type": "scattergl"
                      }
                    ],
                    "scattermapbox": [
                      {
                        "marker": {
                          "colorbar": {
                            "outlinewidth": 0,
                            "ticks": ""
                          }
                        },
                        "type": "scattermapbox"
                      }
                    ],
                    "scatterpolar": [
                      {
                        "marker": {
                          "colorbar": {
                            "outlinewidth": 0,
                            "ticks": ""
                          }
                        },
                        "type": "scatterpolar"
                      }
                    ],
                    "scatterpolargl": [
                      {
                        "marker": {
                          "colorbar": {
                            "outlinewidth": 0,
                            "ticks": ""
                          }
                        },
                        "type": "scatterpolargl"
                      }
                    ],
                    "scatterternary": [
                      {
                        "marker": {
                          "colorbar": {
                            "outlinewidth": 0,
                            "ticks": ""
                          }
                        },
                        "type": "scatterternary"
                      }
                    ],
                    "surface": [
                      {
                        "colorbar": {
                          "outlinewidth": 0,
                          "ticks": ""
                        },
                        "colorscale": [
                          [
                            0,
                            "#0d0887"
                          ],
                          [
                            0.1111111111111111,
                            "#46039f"
                          ],
                          [
                            0.2222222222222222,
                            "#7201a8"
                          ],
                          [
                            0.3333333333333333,
                            "#9c179e"
                          ],
                          [
                            0.4444444444444444,
                            "#bd3786"
                          ],
                          [
                            0.5555555555555556,
                            "#d8576b"
                          ],
                          [
                            0.6666666666666666,
                            "#ed7953"
                          ],
                          [
                            0.7777777777777778,
                            "#fb9f3a"
                          ],
                          [
                            0.8888888888888888,
                            "#fdca26"
                          ],
                          [
                            1,
                            "#f0f921"
                          ]
                        ],
                        "type": "surface"
                      }
                    ],
                    "table": [
                      {
                        "cells": {
                          "fill": {
                            "color": "#EBF0F8"
                          },
                          "line": {
                            "color": "white"
                          }
                        },
                        "header": {
                          "fill": {
                            "color": "#C8D4E3"
                          },
                          "line": {
                            "color": "white"
                          }
                        },
                        "type": "table"
                      }
                    ]
                  },
                  "layout": {
                    "annotationdefaults": {
                      "arrowcolor": "#2a3f5f",
                      "arrowhead": 0,
                      "arrowwidth": 1
                    },
                    "autotypenumbers": "strict",
                    "coloraxis": {
                      "colorbar": {
                        "outlinewidth": 0,
                        "ticks": ""
                      }
                    },
                    "colorscale": {
                      "diverging": [
                        [
                          0,
                          "#8e0152"
                        ],
                        [
                          0.1,
                          "#c51b7d"
                        ],
                        [
                          0.2,
                          "#de77ae"
                        ],
                        [
                          0.3,
                          "#f1b6da"
                        ],
                        [
                          0.4,
                          "#fde0ef"
                        ],
                        [
                          0.5,
                          "#f7f7f7"
                        ],
                        [
                          0.6,
                          "#e6f5d0"
                        ],
                        [
                          0.7,
                          "#b8e186"
                        ],
                        [
                          0.8,
                          "#7fbc41"
                        ],
                        [
                          0.9,
                          "#4d9221"
                        ],
                        [
                          1,
                          "#276419"
                        ]
                      ],
                      "sequential": [
                        [
                          0,
                          "#0d0887"
                        ],
                        [
                          0.1111111111111111,
                          "#46039f"
                        ],
                        [
                          0.2222222222222222,
                          "#7201a8"
                        ],
                        [
                          0.3333333333333333,
                          "#9c179e"
                        ],
                        [
                          0.4444444444444444,
                          "#bd3786"
                        ],
                        [
                          0.5555555555555556,
                          "#d8576b"
                        ],
                        [
                          0.6666666666666666,
                          "#ed7953"
                        ],
                        [
                          0.7777777777777778,
                          "#fb9f3a"
                        ],
                        [
                          0.8888888888888888,
                          "#fdca26"
                        ],
                        [
                          1,
                          "#f0f921"
                        ]
                      ],
                      "sequentialminus": [
                        [
                          0,
                          "#0d0887"
                        ],
                        [
                          0.1111111111111111,
                          "#46039f"
                        ],
                        [
                          0.2222222222222222,
                          "#7201a8"
                        ],
                        [
                          0.3333333333333333,
                          "#9c179e"
                        ],
                        [
                          0.4444444444444444,
                          "#bd3786"
                        ],
                        [
                          0.5555555555555556,
                          "#d8576b"
                        ],
                        [
                          0.6666666666666666,
                          "#ed7953"
                        ],
                        [
                          0.7777777777777778,
                          "#fb9f3a"
                        ],
                        [
                          0.8888888888888888,
                          "#fdca26"
                        ],
                        [
                          1,
                          "#f0f921"
                        ]
                      ]
                    },
                    "colorway": [
                      "#636efa",
                      "#EF553B",
                      "#00cc96",
                      "#ab63fa",
                      "#FFA15A",
                      "#19d3f3",
                      "#FF6692",
                      "#B6E880",
                      "#FF97FF",
                      "#FECB52"
                    ],
                    "font": {
                      "color": "#2a3f5f"
                    },
                    "geo": {
                      "bgcolor": "white",
                      "lakecolor": "white",
                      "landcolor": "#E5ECF6",
                      "showlakes": true,
                      "showland": true,
                      "subunitcolor": "white"
                    },
                    "hoverlabel": {
                      "align": "left"
                    },
                    "hovermode": "closest",
                    "mapbox": {
                      "style": "light"
                    },
                    "paper_bgcolor": "white",
                    "plot_bgcolor": "#E5ECF6",
                    "polar": {
                      "angularaxis": {
                        "gridcolor": "white",
                        "linecolor": "white",
                        "ticks": ""
                      },
                      "bgcolor": "#E5ECF6",
                      "radialaxis": {
                        "gridcolor": "white",
                        "linecolor": "white",
                        "ticks": ""
                      }
                    },
                    "scene": {
                      "xaxis": {
                        "backgroundcolor": "#E5ECF6",
                        "gridcolor": "white",
                        "gridwidth": 2,
                        "linecolor": "white",
                        "showbackground": true,
                        "ticks": "",
                        "zerolinecolor": "white"
                      },
                      "yaxis": {
                        "backgroundcolor": "#E5ECF6",
                        "gridcolor": "white",
                        "gridwidth": 2,
                        "linecolor": "white",
                        "showbackground": true,
                        "ticks": "",
                        "zerolinecolor": "white"
                      },
                      "zaxis": {
                        "backgroundcolor": "#E5ECF6",
                        "gridcolor": "white",
                        "gridwidth": 2,
                        "linecolor": "white",
                        "showbackground": true,
                        "ticks": "",
                        "zerolinecolor": "white"
                      }
                    },
                    "shapedefaults": {
                      "line": {
                        "color": "#2a3f5f"
                      }
                    },
                    "ternary": {
                      "aaxis": {
                        "gridcolor": "white",
                        "linecolor": "white",
                        "ticks": ""
                      },
                      "baxis": {
                        "gridcolor": "white",
                        "linecolor": "white",
                        "ticks": ""
                      },
                      "bgcolor": "#E5ECF6",
                      "caxis": {
                        "gridcolor": "white",
                        "linecolor": "white",
                        "ticks": ""
                      }
                    },
                    "title": {
                      "x": 0.05
                    },
                    "xaxis": {
                      "automargin": true,
                      "gridcolor": "white",
                      "linecolor": "white",
                      "ticks": "",
                      "title": {
                        "standoff": 15
                      },
                      "zerolinecolor": "white",
                      "zerolinewidth": 2
                    },
                    "yaxis": {
                      "automargin": true,
                      "gridcolor": "white",
                      "linecolor": "white",
                      "ticks": "",
                      "title": {
                        "standoff": 15
                      },
                      "zerolinecolor": "white",
                      "zerolinewidth": 2
                    }
                  }
                },
                "width": 1000,
                "xaxis": {
                  "anchor": "y",
                  "domain": [
                    0,
                    0.45
                  ],
                  "title": {
                    "text": "Predicted MPG (Yhat)"
                  }
                },
                "xaxis2": {
                  "anchor": "y2",
                  "domain": [
                    0.55,
                    1
                  ]
                },
                "yaxis": {
                  "anchor": "x",
                  "domain": [
                    0,
                    1
                  ],
                  "title": {
                    "text": "Actual MPG (Y)"
                  }
                },
                "yaxis2": {
                  "anchor": "x2",
                  "domain": [
                    0,
                    1
                  ],
                  "title": {
                    "text": "RMSE"
                  }
                }
              }
            }
          },
          "metadata": {},
          "output_type": "display_data"
        }
      ],
      "source": [
        "# Example: Using the final design matrix for modeling\n",
        "final_model = LinearRegression()\n",
        "final_model.fit(final_design_matrix, original_df['mpg'])\n",
        "evaluate_model(\"Final Linear Regression\", final_model, lambda df: get_design_matrix(df), original_df, models)"
      ]
    }
  ],
  "metadata": {
    "colab": {
      "provenance": []
    },
    "kernelspec": {
      "display_name": "Python 3",
      "language": "python",
      "name": "python3"
    },
    "language_info": {
      "codemirror_mode": {
        "name": "ipython",
        "version": 3
      },
      "file_extension": ".py",
      "mimetype": "text/x-python",
      "name": "python",
      "nbconvert_exporter": "python",
      "pygments_lexer": "ipython3",
      "version": "3.12.2"
    }
  },
  "nbformat": 4,
  "nbformat_minor": 0
}
